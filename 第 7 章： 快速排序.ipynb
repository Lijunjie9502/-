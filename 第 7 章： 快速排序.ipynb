{
 "cells": [
  {
   "cell_type": "code",
   "execution_count": 10,
   "metadata": {
    "colab": {},
    "colab_type": "code",
    "id": "hh6133a07KEL"
   },
   "outputs": [],
   "source": [
    "import random\n",
    "import time\n",
    "from functools import wraps\n",
    "  \n",
    "def fn_timer(function):\n",
    "  @wraps(function)\n",
    "  def function_timer(*args, **kwargs):\n",
    "    t0 = time.process_time()\n",
    "    result = function(*args, **kwargs)\n",
    "    t1 = time.process_time()\n",
    "    print (\"Total time running %s: %s s\" %\n",
    "        (function.__name__, str(t1-t0))\n",
    "        )\n",
    "    return result\n",
    "  return function_timer"
   ]
  },
  {
   "cell_type": "markdown",
   "metadata": {
    "colab_type": "text",
    "id": "L7s97FXAhm7m"
   },
   "source": [
    "- 概况  \n",
    "  1. 通常是实际应用排序中最好的选择，因为其平均性能非常好\n",
    "    - 期望的时间复杂度为 $\\Theta(nlg(n))$，而且 $\\Theta(nlg(n))$ 中隐含的常数因子非常小\n",
    "  2. 能够进行原址排序，可以在虚拟环境中很好的工作\n",
    "    - 如果输入数组中仅有**常数个元素**需要在排序过程中存储在数组之外，则称排序算法是**原址**的  "
   ]
  },
  {
   "cell_type": "markdown",
   "metadata": {
    "colab_type": "text",
    "id": "0IAQoJ0Bit8P"
   },
   "source": [
    "## 7.1 快速排序的描述"
   ]
  },
  {
   "cell_type": "markdown",
   "metadata": {
    "colab_type": "text",
    "id": "1cq7adrkiw6i"
   },
   "source": [
    "- 采用分治思想，包括分解，解决和合并"
   ]
  },
  {
   "cell_type": "markdown",
   "metadata": {
    "colab_type": "text",
    "id": "9SCZWcs8kKWi"
   },
   "source": [
    "### 数组划分 -- PARTITION  \n",
    "- 实现对子数组组 $A[p \\cdots r]$ 的原址重排"
   ]
  },
  {
   "cell_type": "markdown",
   "metadata": {
    "colab_type": "text",
    "id": "dIAxsirklAUc"
   },
   "source": [
    "#### 代码实现"
   ]
  },
  {
   "cell_type": "code",
   "execution_count": 0,
   "metadata": {
    "colab": {},
    "colab_type": "code",
    "id": "T-OAIqVKkSJe"
   },
   "outputs": [],
   "source": [
    "def partition(A, p, r):\n",
    "  x = A[r]  # 主元\n",
    "  i = p - 1\n",
    "  for j in range(p, r):\n",
    "    if A[j] <= x:\n",
    "      i += 1\n",
    "      A[i], A[j] = A[j], A[i]\n",
    "  A[i+1], A[r] = A[r], A[i+1]\n",
    "  return i + 1"
   ]
  },
  {
   "cell_type": "code",
   "execution_count": 7,
   "metadata": {
    "colab": {
     "base_uri": "https://localhost:8080/",
     "height": 53
    },
    "colab_type": "code",
    "id": "BMnaF4d0lGsT",
    "outputId": "9e2115fb-3df5-47f2-e674-2d796612df7d"
   },
   "outputs": [
    {
     "name": "stdout",
     "output_type": "stream",
     "text": [
      "3\n",
      "[2, 1, 3, 4, 7, 5, 6, 8]\n"
     ]
    }
   ],
   "source": [
    "A = [2, 8, 7, 1, 3, 5, 6, 4]\n",
    "print(partition(A, 0, len(A)-1))\n",
    "print(A)"
   ]
  },
  {
   "cell_type": "markdown",
   "metadata": {
    "colab_type": "text",
    "id": "GTkYJbpilYGS"
   },
   "source": [
    "#### 执行过程分析"
   ]
  },
  {
   "cell_type": "markdown",
   "metadata": {
    "colab_type": "text",
    "id": "V62VLZjllldu"
   },
   "source": [
    "<img src=https://raw.githubusercontent.com/Lijunjie9502/PicBed/master/20191215160554.png width=600>"
   ]
  },
  {
   "cell_type": "markdown",
   "metadata": {
    "colab_type": "text",
    "id": "2JW1f2j0mJmG"
   },
   "source": [
    "#### 快速排序"
   ]
  },
  {
   "cell_type": "code",
   "execution_count": 0,
   "metadata": {
    "colab": {},
    "colab_type": "code",
    "id": "mp6f11bWmeiK"
   },
   "outputs": [],
   "source": [
    "def quicksort(A, p, r):\n",
    "  if p < r:\n",
    "    q = partition(A, p, r)\n",
    "    quicksort(A, p, q-1)\n",
    "    quicksort(A, q+1, r)"
   ]
  },
  {
   "cell_type": "code",
   "execution_count": 10,
   "metadata": {
    "colab": {
     "base_uri": "https://localhost:8080/",
     "height": 35
    },
    "colab_type": "code",
    "id": "vG8rD6M6mr2X",
    "outputId": "1235f66e-2d3c-463b-8d72-3aa2797eeb23"
   },
   "outputs": [
    {
     "name": "stdout",
     "output_type": "stream",
     "text": [
      "[1, 2, 3, 4, 5, 6, 7, 8]\n"
     ]
    }
   ],
   "source": [
    "A = [2, 8, 7, 1, 3, 5, 6, 4]\n",
    "quicksort(A, 0, len(A)-1)\n",
    "print(A)"
   ]
  },
  {
   "cell_type": "markdown",
   "metadata": {
    "colab_type": "text",
    "id": "r82f5THim42_"
   },
   "source": [
    "### 练习"
   ]
  },
  {
   "cell_type": "markdown",
   "metadata": {
    "colab_type": "text",
    "id": "g-oBgWTPpFjZ"
   },
   "source": [
    "#### 7.1-2"
   ]
  },
  {
   "cell_type": "markdown",
   "metadata": {
    "colab_type": "text",
    "id": "nphtUE33pKJt"
   },
   "source": [
    "当 $A[p \\cdots r]$ 中的元素均相同时，返回的 $q$ 值为 $r$"
   ]
  },
  {
   "cell_type": "code",
   "execution_count": 14,
   "metadata": {
    "colab": {
     "base_uri": "https://localhost:8080/",
     "height": 0
    },
    "colab_type": "code",
    "id": "cBWBTmx6qW3-",
    "outputId": "5852dc15-114a-484e-bb8b-4e4ed358c7fb"
   },
   "outputs": [
    {
     "name": "stdout",
     "output_type": "stream",
     "text": [
      "9\n"
     ]
    }
   ],
   "source": [
    "A = [1 for i in range(10)]\n",
    "print(partition(A, 0, 9))"
   ]
  },
  {
   "cell_type": "markdown",
   "metadata": {
    "colab_type": "text",
    "id": "aORfv8uAqXXU"
   },
   "source": [
    "可按如下方法修改 PARTITION, 使其返回值为 \n",
    "$ \\lfloor (p+r)/2 \\rfloor$"
   ]
  },
  {
   "cell_type": "code",
   "execution_count": 0,
   "metadata": {
    "colab": {},
    "colab_type": "code",
    "id": "YZEw1SC5p8yK"
   },
   "outputs": [],
   "source": [
    "def partition_handle_same_value(A, p, r):\n",
    "  x = A[r]\n",
    "  i = p - 1\n",
    "  for j in range(p, r):\n",
    "    if A[j] <= x:\n",
    "      if A[j] == x and (j%2) == (p)%2:\n",
    "        continue\n",
    "      i += 1\n",
    "      A[i], A[j] = A[j], A[i]\n",
    "  A[i], A[r] = A[r], A[i]\n",
    "  return i + 1"
   ]
  },
  {
   "cell_type": "code",
   "execution_count": 26,
   "metadata": {
    "colab": {
     "base_uri": "https://localhost:8080/",
     "height": 0
    },
    "colab_type": "code",
    "id": "3BAa7EBeqqpq",
    "outputId": "b88bc6ed-6cb2-4aba-f619-7ccd169b2fa6"
   },
   "outputs": [
    {
     "name": "stdout",
     "output_type": "stream",
     "text": [
      "4\n",
      "5\n"
     ]
    }
   ],
   "source": [
    "A = [1 for i in range(11)]\n",
    "print(partition_handle_same_value(A, 0, 9))\n",
    "print(partition_handle_same_value(A, 0, 10))"
   ]
  },
  {
   "cell_type": "markdown",
   "metadata": {
    "colab_type": "text",
    "id": "h-iR8cGaq4l1"
   },
   "source": [
    "#### 7.1-4  \n",
    "以非递增序排序"
   ]
  },
  {
   "cell_type": "code",
   "execution_count": 0,
   "metadata": {
    "colab": {},
    "colab_type": "code",
    "id": "HlmjpuhqtG92"
   },
   "outputs": [],
   "source": [
    "def partition_reverse(A, p, r):\n",
    "  x = A[r]\n",
    "  i = p - 1\n",
    "  for j in range(p, r):\n",
    "    if A[j] >= x:\n",
    "      i += 1\n",
    "      A[i], A[j] = A[j], A[i]\n",
    "  A[i+1], A[r] = A[r], A[i+1]\n",
    "  return i + 1"
   ]
  },
  {
   "cell_type": "code",
   "execution_count": 0,
   "metadata": {
    "colab": {},
    "colab_type": "code",
    "id": "-R2a17kttmxX"
   },
   "outputs": [],
   "source": [
    "def quicksort_reverse(A, p, r):\n",
    "  if p < r:\n",
    "    q = partition_reverse(A, p, r)\n",
    "    quicksort_reverse(A, p, q-1)\n",
    "    quicksort_reverse(A, q+1, r)"
   ]
  },
  {
   "cell_type": "code",
   "execution_count": 33,
   "metadata": {
    "colab": {
     "base_uri": "https://localhost:8080/",
     "height": 35
    },
    "colab_type": "code",
    "id": "J-k_RGH6t7nR",
    "outputId": "2b03beb3-3d21-4486-f7a6-2b65adccf686"
   },
   "outputs": [
    {
     "name": "stdout",
     "output_type": "stream",
     "text": [
      "[8, 7, 6, 5, 4, 3, 2, 1]\n"
     ]
    }
   ],
   "source": [
    "A = [2, 8, 7, 1, 3, 5, 6, 4]\n",
    "quicksort_reverse(A, 0, len(A)-1)\n",
    "print(A)"
   ]
  },
  {
   "cell_type": "markdown",
   "metadata": {
    "colab_type": "text",
    "id": "85gXmx7-t_KM"
   },
   "source": [
    "## 7.2 快速排序的性能"
   ]
  },
  {
   "cell_type": "markdown",
   "metadata": {
    "colab_type": "text",
    "id": "5qfSR-rcud25"
   },
   "source": [
    "### 最坏情况划分"
   ]
  },
  {
   "cell_type": "markdown",
   "metadata": {
    "colab_type": "text",
    "id": "BdqJU97xuh09"
   },
   "source": [
    "- 当划分产生的两个子问题分别包括 $n-1$ 个元素 和 $0$ 个元素时，即为快速排序的是坏情况（证明在 7.4.1 节）\n",
    "- 假设算法的每一次递归调用都出现了这种最坏情况，则可得递推式：\n",
    "$$T\\left( n \\right) = T\\left( {n - 1} \\right) + T\\left( 0 \\right) + \\Theta \\left( 1 \\right) = T\\left( {n - 1} \\right) + \\Theta \\left( n \\right)$$\n",
    "结果为 $\\Theta(n^2)$\n",
    "- 当数组已经完全有序时，并且主元选为最后一个元素时，即会出现此种情况"
   ]
  },
  {
   "cell_type": "markdown",
   "metadata": {
    "colab_type": "text",
    "id": "rkL-ovaIvi6n"
   },
   "source": [
    "### 最好情况划分"
   ]
  },
  {
   "cell_type": "markdown",
   "metadata": {
    "colab_type": "text",
    "id": "vOZTis7TwxyE"
   },
   "source": [
    "- 最好情况划分，即为最平衡的划分，此时一个子问题的规模为 $T( \\lfloor n/2 \\rfloor)$, 另一个问题的规模为\n",
    "$T(\\lceil n/2 \\rceil - 1)$\n",
    "- 此时，算法运行时间递推式为\n",
    "$$ T(n) = 2T(n/2) + \\Theta(n) $$\n",
    "由主定理可得， $T(n) = \\Theta(nlg(n))$"
   ]
  },
  {
   "cell_type": "markdown",
   "metadata": {
    "colab_type": "text",
    "id": "LzBRmbCdxwXT"
   },
   "source": [
    "### 平衡的划分"
   ]
  },
  {
   "cell_type": "markdown",
   "metadata": {
    "colab_type": "text",
    "id": "jO7Rg1iHx1C0"
   },
   "source": [
    "- 快速排序的平均运行时间更加接近于其最好情况，而非最坏情况\n",
    "- 考虑 $9:1$ 的不平衡划分，可得递推式\n",
    "$$ T(n) = T(9n/10) + T(n/10) + \\Theta(n) $$\n",
    "- 通过递推树法进行分析  \n",
    "<img src=https://raw.githubusercontent.com/Lijunjie9502/PicBed/master/20191215170107.png width=600>  \n",
    "可得其运行时间为 $O(nlg(n))$\n",
    "- 任何一种常数比例的划分都会产生深度为 $\\Theta(lg(n))$ 的递推树，其中每一层的时间代价都是 $O(n)$\n",
    "  - 因此，只要划分是常数比例的，算法的运行时间总是 $O(nlg(n))$"
   ]
  },
  {
   "cell_type": "markdown",
   "metadata": {
    "colab_type": "text",
    "id": "q2u4ObYv0Tcf"
   },
   "source": [
    "### 对于平均情况的直接观察"
   ]
  },
  {
   "cell_type": "markdown",
   "metadata": {
    "colab_type": "text",
    "id": "H8SiPISE0WhU"
   },
   "source": [
    "- 快速排序的行为依赖于输入数组中元素的值的相对顺序，而不是某些特定值本身，因此需要假设输入数据的所有排列都是等概率的\n",
    "- 当好和差的划分交替出现时，快速排序的时间复杂度与全是好的划分时是一样的，仍然是 $O(nlg(n))$。区别是 $O$ 符号\n",
    "中隐含的**常数因子项**略大一些    \n",
    "  - 将差的划分产生的代价归并入划分步骤中\n",
    "  - 示意图  \n",
    "  <img src=https://raw.githubusercontent.com/Lijunjie9502/PicBed/master/20191215171848.png width=600>"
   ]
  },
  {
   "cell_type": "markdown",
   "metadata": {
    "colab_type": "text",
    "id": "_0GLV8Cw2wiz"
   },
   "source": [
    "## 7.3 快速排序的随机化版本"
   ]
  },
  {
   "cell_type": "markdown",
   "metadata": {
    "colab_type": "text",
    "id": "9_Au0qg36TLf"
   },
   "source": [
    "- 随机化版本的快速排序常作为大数据输入情况下的排序算法\n",
    "- 可以采用**随机抽样**的随机化技术来实现随机化版本的快速排序\n",
    "  - PARTITION 时随机的选择主元"
   ]
  },
  {
   "cell_type": "markdown",
   "metadata": {
    "colab_type": "text",
    "id": "9yx7inJd6rLX"
   },
   "source": [
    "### RANDOMIZED-PARTITION"
   ]
  },
  {
   "cell_type": "code",
   "execution_count": 0,
   "metadata": {
    "colab": {},
    "colab_type": "code",
    "id": "jKxuVAcc7CvL"
   },
   "outputs": [],
   "source": [
    "def randomized_partition(A, p, r):\n",
    "  i = random.randint(p, r)\n",
    "  A[i], A[r] = A[r], A[i]\n",
    "  return partition(A, p, r)"
   ]
  },
  {
   "cell_type": "markdown",
   "metadata": {
    "colab_type": "text",
    "id": "8srMmTtx7eit"
   },
   "source": [
    "### RANDOMIZED-QUICKSORT"
   ]
  },
  {
   "cell_type": "code",
   "execution_count": 0,
   "metadata": {
    "colab": {},
    "colab_type": "code",
    "id": "FRN4va517jGr"
   },
   "outputs": [],
   "source": [
    "def randomized_quicksort(A, p, r):\n",
    "  if p < r:\n",
    "    q = randomized_partition(A, p, r)\n",
    "    randomized_quicksort(A, p, q-1)\n",
    "    randomized_quicksort(A, q+1, r)"
   ]
  },
  {
   "cell_type": "code",
   "execution_count": 40,
   "metadata": {
    "colab": {
     "base_uri": "https://localhost:8080/",
     "height": 0
    },
    "colab_type": "code",
    "id": "L6XdCRQ073-3",
    "outputId": "8b3bf71d-bb29-48f6-feaf-d7d98fc5a6b7"
   },
   "outputs": [
    {
     "name": "stdout",
     "output_type": "stream",
     "text": [
      "[1, 2, 3, 4, 5, 6, 7, 8]\n"
     ]
    }
   ],
   "source": [
    "A = [2, 8, 7, 1, 3, 5, 6, 4]\n",
    "randomized_quicksort(A, 0, len(A)-1)\n",
    "print(A)"
   ]
  },
  {
   "cell_type": "markdown",
   "metadata": {
    "colab_type": "text",
    "id": "a9BdFWhv8CLm"
   },
   "source": [
    "## 7.4 快速排序分析"
   ]
  },
  {
   "cell_type": "markdown",
   "metadata": {
    "colab_type": "text",
    "id": "FtfKdu34GPBx"
   },
   "source": [
    "### 7.4.1 最坏情况分析"
   ]
  },
  {
   "cell_type": "markdown",
   "metadata": {
    "colab_type": "text",
    "id": "ZLOfGuRBGf5B"
   },
   "source": [
    "- 设 $T(n)$ 为最坏情况下 QUICKSORT 所花费的时间，则可得递归式\n",
    "$$T\\left( n \\right) = \\mathop {\\max }\\limits_{0 \\le q \\le n - 1} \\left( {T\\left( q \\right) + T\\left( {n - q - 1} \\right)} \\right) + \\Theta \\left( n \\right)$$\n",
    "- 通过代入法，可证明 $T(n) = O(n^2) $ 且 $T(n)=\\Omega(n^2)$，由此可得 $T(n) = \\Theta(n^2)$"
   ]
  },
  {
   "cell_type": "markdown",
   "metadata": {
    "colab_type": "text",
    "id": "dqVm5h4cIsoN"
   },
   "source": [
    "### 7.4.2 期望运行时间"
   ]
  },
  {
   "cell_type": "markdown",
   "metadata": {
    "colab_type": "text",
    "id": "7CXcmcnyOMJz"
   },
   "source": [
    "#### 运行时间和比较操作"
   ]
  },
  {
   "cell_type": "markdown",
   "metadata": {
    "colab_type": "text",
    "id": "3SidmR-IOqmI"
   },
   "source": [
    "**引理7.1**: 当在一个包含 $n$ 个元素的数组中运行 QUICKSORT 时，假设在 PARTITION 的第 4 行中所做的比较次数为 $X$\n",
    ",则 QUICKSORT 的运行时间为 $O(n+x)$"
   ]
  },
  {
   "cell_type": "markdown",
   "metadata": {
    "colab_type": "text",
    "id": "i6MHufU6PG_z"
   },
   "source": [
    "#### 期望运行时间求解"
   ]
  },
  {
   "cell_type": "markdown",
   "metadata": {
    "colab_type": "text",
    "id": "IFeOmc2hPUMU"
   },
   "source": [
    "- 将数组 $A$ 中的各个元素复命名为 $z_1, z_2, \\cdots, z_n$，其中 $z_i$ 是数组 $A$ 中第 $i$ 小的元素\n",
    "- 定义 $Z_{ij} = \\{ z_i, z_{i+1}, \\cdots, z_j \\}$\n",
    "- 定义指示随机变量$$ X_{ij} = I\\{ z_i 与 z_j 进行比较 \\} $$\n",
    "- 总的比较次数  $$X = \\sum\\limits_{i = 1}^{n - 1} {\\sum\\limits_{j = i + 1}^n {{X_{ij}}} } $$  \n",
    "  - 在 QUICKSORT 中，两个元素最多只会比较一次\n",
    "  -因为一个元素一旦被选为主元，其会与 $[p, r]$ 除自身外的所有的其它元素进行一次比较，之后就不会再参与比较\n",
    "- 由期望的线性特性和指示器随机变量的特性，可得：\n",
    "$$E\\left( X \\right) = \\sum\\limits_{i = 1}^{n - 1} {\\sum\\limits_{j = i + 1}^n {E\\left( {{X_{ij}}} \\right)} }  = \\sum\\limits_{i = 1}^{n - 1} {\\sum\\limits_{j = i + 1}^n {\\Pr \\left\\{ {{z_i}与{z_j}} 进行比较 \\right\\}} } $$\n",
    "- $z_i$ 会与 $z_j$ 进行比较，当且仅当 $Z_{i,j}$ 中被选为主元的第一个元素是 $z_i$ 或 $z_j$\n",
    "  - 因为一旦一个满足 $z_i < x < z_j$ 的主元 $x$ 被选中后，$z_i$ 与 $z_j$ 以后就再也不可能会被比较了\n",
    "  - 由此可得：$$\\begin{aligned}\n",
    "    Pr\\{z_i 与 z_j 进行比较\\} &= Pr\\{ z_i 或 z_j 是集合 Z_{ij} 中选出的第一个主元 \\} \\\\\n",
    "      &= Pr\\{ z_i 是集合 Z_{ij} 中选出的第一个主元\\} \\\\\n",
    "      &+ Pr\\{ z_j 是集合 Z_{ij} 中选出的第一个主元\\} \\\\\n",
    "      &= {1 \\over j - i + 1} + {1 \\over j - i + 1} =  {2 \\over j - i + 1}\n",
    "  \\end{aligned}$$\n",
    "    - 主元的选择是随机且独立的\n",
    "- 由上述分析可得： \n",
    "  - $$E(X) = \\sum\\limits_{i = 1}^{n - 1} {\\sum\\limits_{j = i + 1}^n {2 \\over j - i + 1} }\n",
    "= \\sum\\limits_{i = 1}^{n - 1} {\\sum\\limits_{k = 1}^{n-i} {2 \\over k + 1} } < \n",
    "\\sum\\limits_{i = 1}^{n - 1} {\\sum\\limits_{k = 1}^{n} {2 \\over k} } = \\sum\\limits_{i=1}^{n-1}O(lg(n)) = O(nlg(n))\n",
    "$$  \n",
    "    - 调和级数的性质\n",
    "  - $$ \\begin{aligned}\n",
    "  E(X) &= \\sum\\limits_{i = 1}^{n - 1} {\\sum\\limits_{j = i + 1}^n {2 \\over j - i + 1} } = \n",
    "  \\sum\\limits_{i = 1}^{n - 1} {\\sum\\limits_{k = 1}^{n-i} {2 \\over k + 1} } \\ge \n",
    "  \\sum\\limits_{i = 1}^{n - 1} {\\int_1^{n - i + 1} {{2 \\over {k + 1}}dk} } = \n",
    "  \\sum\\limits_{i = 1}^{n - 1}{2\\ln \\left( {k + 1} \\right)|_{k = 1}^{n - i + 1}} \\\\\n",
    "  &= \\sum\\limits_{i = 1}^{n - 1}{2ln(n-i+2) + 2ln2} = \n",
    "  2\\ln \\prod\\limits_{i = 1}^{n - 1} {(n - i + 2)} + \\Theta(n) \n",
    "  = 2ln({(n+1)! \\over 2}) + \\Theta(n) \\\\\n",
    "  &= 2ln(n!) + \\Theta(n) = {2 \\over lg(e)}lg(n!) + \\Theta(n) \\ge cnlg(n)\n",
    "  \\end{aligned}$$\n",
    "    - 由第 3 章的斯特林公式可推得 $lg(n!) = \\Theta(nlg(n))$\n",
    "- 综上可得： $E(X) = \\Theta(nlg(n))$"
   ]
  },
  {
   "cell_type": "markdown",
   "metadata": {
    "colab_type": "text",
    "id": "-7yjUIbKQmr9"
   },
   "source": [
    "### 练习"
   ]
  },
  {
   "cell_type": "markdown",
   "metadata": {
    "colab_type": "text",
    "id": "bu8r3ZVejo_G"
   },
   "source": [
    "#### 7.4-5 快速排序中加入插入排序来提升运行速度"
   ]
  },
  {
   "cell_type": "markdown",
   "metadata": {
    "colab_type": "text",
    "id": "VeLFwRY3jtQk"
   },
   "source": [
    "- 对于快速排序，当长度小于 $k$ 时直接返回，则其递归树的深度为 $O(lg(n/k))$，运行时间为 $O(nlg(n/k))$\n",
    "- 对于插入排序，对于特定的元素，其最多向前比较 $k$ 个数，就会得出相应的结果，运行时间为 $O(k)$ ，总的运行时间为 $O(nk)$\n",
    "- 总的运行时间为 $O(nk + nlg(n/k)) $\n",
    "- 理论上，应选取 $k$ ，使得运行时间最短。但是由于常数项难以确定，因此实际中，可以给定一个较大规模的输入，然后尝试不同的 $k$ 值"
   ]
  },
  {
   "cell_type": "markdown",
   "metadata": {
    "colab_type": "text",
    "id": "EtL7__KypiJd"
   },
   "source": [
    "##### 代码实现"
   ]
  },
  {
   "cell_type": "code",
   "execution_count": 0,
   "metadata": {
    "colab": {},
    "colab_type": "code",
    "id": "U3z8ikwXqBWE"
   },
   "outputs": [],
   "source": [
    "def insertion_sort(A):\n",
    "  for j in range(1, len(A)):\n",
    "    key = A[j]\n",
    "    i = j - 1\n",
    "    while i >= 0 and A[i] > key:\n",
    "      A[i+1] = A[i]\n",
    "      i -= 1\n",
    "    A[i+1] = key"
   ]
  },
  {
   "cell_type": "code",
   "execution_count": 0,
   "metadata": {
    "colab": {},
    "colab_type": "code",
    "id": "KZ6ZzUxNsZqj"
   },
   "outputs": [],
   "source": [
    "def quicksort_with_insertion_sort(A,k):\n",
    "  def helper(A, p, r):\n",
    "    if r - p > k:\n",
    "      q = partition(A, p, r)\n",
    "      helper(A, p, q-1)\n",
    "      helper(A, q+1, r)\n",
    "  helper(A, 0, len(A)-1)\n",
    "  insertion_sort(A)"
   ]
  },
  {
   "cell_type": "code",
   "execution_count": 64,
   "metadata": {
    "colab": {
     "base_uri": "https://localhost:8080/",
     "height": 53
    },
    "colab_type": "code",
    "id": "nxRAZIGbuKgm",
    "outputId": "da005cc8-c7d9-42f8-9d32-3cdd0d3192b5"
   },
   "outputs": [
    {
     "name": "stdout",
     "output_type": "stream",
     "text": [
      "[79, 29, 18, 70, 45, 5, 89, 30, 15, 82, 95, 38, 20, 66, 34, 51, 92, 96, 82, 98]\n",
      "[5, 15, 18, 20, 29, 30, 34, 38, 45, 51, 66, 70, 79, 82, 82, 89, 92, 95, 96, 98]\n"
     ]
    }
   ],
   "source": [
    "A = [random.randint(1, 100) for i in range(20)]\n",
    "print(A)\n",
    "quicksort_with_insertion_sort(A, 5)\n",
    "print(A)"
   ]
  },
  {
   "cell_type": "code",
   "execution_count": 74,
   "metadata": {
    "colab": {
     "base_uri": "https://localhost:8080/",
     "height": 215
    },
    "colab_type": "code",
    "id": "bvenbMxSuSTH",
    "outputId": "64445ead-7e88-4d78-aae7-7ad422a9f253"
   },
   "outputs": [
    {
     "name": "stdout",
     "output_type": "stream",
     "text": [
      "Total time running quicksort: 0.3656391800000165 s\n",
      "k = 0: Total time running quicksort_with_insertion_sort: 0.3988518229999727 s\n",
      "k = 10: Total time running quicksort_with_insertion_sort: 0.30307424600005106 s\n",
      "k = 20: Total time running quicksort_with_insertion_sort: 0.27776757300000554 s\n",
      "k = 30: Total time running quicksort_with_insertion_sort: 0.2900784370000338 s\n",
      "k = 40: Total time running quicksort_with_insertion_sort: 0.3194445929999574 s\n",
      "k = 50: Total time running quicksort_with_insertion_sort: 0.31763966200003324 s\n",
      "k = 60: Total time running quicksort_with_insertion_sort: 0.34293110500004786 s\n",
      "k = 70: Total time running quicksort_with_insertion_sort: 0.37327840599994033 s\n",
      "k = 80: Total time running quicksort_with_insertion_sort: 0.389584928999966 s\n",
      "k = 90: Total time running quicksort_with_insertion_sort: 0.4244428770000468 s\n"
     ]
    }
   ],
   "source": [
    "A = [random.randint(1, 10000) for i in range(100000)]\n",
    "B = A.copy()\n",
    "fn_timer(quicksort)(A, 0, len(A)-1)\n",
    "for k in range(0, 100, 10):\n",
    "  A =  B.copy()\n",
    "  print('k = {}'.format(k), end=': ')\n",
    "  fn_timer(quicksort_with_insertion_sort)(A, k)\n"
   ]
  },
  {
   "cell_type": "markdown",
   "metadata": {},
   "source": [
    "## 思考题"
   ]
  },
  {
   "cell_type": "markdown",
   "metadata": {},
   "source": [
    "### Hoare 划分的正确性"
   ]
  },
  {
   "cell_type": "markdown",
   "metadata": {},
   "source": [
    "#### HOARE-PARTITION"
   ]
  },
  {
   "cell_type": "code",
   "execution_count": 18,
   "metadata": {},
   "outputs": [],
   "source": [
    "def hoare_partition(A, p, r):\n",
    "    i, j = p - 1, r + 1\n",
    "    x = A[p]\n",
    "    while True:\n",
    "        while True:\n",
    "            j -= 1\n",
    "            if A[j] <= x:\n",
    "                break\n",
    "        while True:\n",
    "            i += 1\n",
    "            if A[i] >= x:\n",
    "                break\n",
    "        if i < j:\n",
    "            A[i], A[j] = A[j], A[i]\n",
    "        else:\n",
    "            return j"
   ]
  },
  {
   "cell_type": "code",
   "execution_count": 25,
   "metadata": {},
   "outputs": [
    {
     "name": "stdout",
     "output_type": "stream",
     "text": [
      "[2, 3, 1, 8, 5, 5, 8, 6, 6, 5]\n",
      "0\n",
      "[1, 3, 2, 8, 5, 5, 8, 6, 6, 5]\n"
     ]
    }
   ],
   "source": [
    "A = [random.randint(1, 9) for i in range(10)]\n",
    "print(A)\n",
    "print(hoare_partition(A, 0, len(A)-1))\n",
    "print(A)"
   ]
  },
  {
   "cell_type": "markdown",
   "metadata": {},
   "source": [
    "#### QUICKSORT-WITH-HOARE-PARTITION"
   ]
  },
  {
   "cell_type": "code",
   "execution_count": 26,
   "metadata": {},
   "outputs": [],
   "source": [
    "def quicksort_with_hoare_partition(A, p, r):\n",
    "    if p < r:\n",
    "        x = A[p]\n",
    "        q = hoare_partition(A, p, r)\n",
    "        # hoare_partiton 无法保证 q 位置是主元的位置，需要找到主元所在的位置并与 q  交换\n",
    "        for i in range(p, r+1):\n",
    "            if A[i] == x:\n",
    "                A[i], A[q] = A[q], A[i]\n",
    "                break\n",
    "        quicksort_with_hoare_partition(A, p, q-1)\n",
    "        quicksort_with_hoare_partition(A, q+1, r)"
   ]
  },
  {
   "cell_type": "code",
   "execution_count": 31,
   "metadata": {},
   "outputs": [
    {
     "name": "stdout",
     "output_type": "stream",
     "text": [
      "[9, 2, 2, 6, 4, 2]\n",
      "[2, 2, 2, 6, 9, 4]\n"
     ]
    }
   ],
   "source": [
    "A = [random.randint(1, 9) for i in range(6)]\n",
    "print(A)\n",
    "quicksort_with_hoare_partition(A, 0, len(A)-1)\n",
    "print(A)"
   ]
  },
  {
   "cell_type": "code",
   "execution_count": null,
   "metadata": {},
   "outputs": [],
   "source": []
  }
 ],
 "metadata": {
  "colab": {
   "name": "第 7 章： 快速排序.ipynb",
   "provenance": []
  },
  "kernelspec": {
   "display_name": "Python 3",
   "language": "python",
   "name": "python3"
  },
  "language_info": {
   "codemirror_mode": {
    "name": "ipython",
    "version": 3
   },
   "file_extension": ".py",
   "mimetype": "text/x-python",
   "name": "python",
   "nbconvert_exporter": "python",
   "pygments_lexer": "ipython3",
   "version": "3.7.3"
  }
 },
 "nbformat": 4,
 "nbformat_minor": 1
}
