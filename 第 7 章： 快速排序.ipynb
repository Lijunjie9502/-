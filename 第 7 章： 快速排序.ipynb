{
 "cells": [
  {
   "cell_type": "code",
   "execution_count": 1,
   "metadata": {
    "colab": {},
    "colab_type": "code",
    "id": "hh6133a07KEL"
   },
   "outputs": [],
   "source": [
    "import random\n",
    "import time\n",
    "from functools import wraps\n",
    "  \n",
    "def fn_timer(function):\n",
    "  @wraps(function)\n",
    "  def function_timer(*args, **kwargs):\n",
    "    t0 = time.process_time()\n",
    "    result = function(*args, **kwargs)\n",
    "    t1 = time.process_time()\n",
    "    print (\"Total time running %s: %s s\" %\n",
    "        (function.__name__, str(t1-t0))\n",
    "        )\n",
    "    return result\n",
    "  return function_timer"
   ]
  },
  {
   "cell_type": "markdown",
   "metadata": {
    "colab_type": "text",
    "id": "L7s97FXAhm7m"
   },
   "source": [
    "- 概况  \n",
    "  1. 通常是实际应用排序中最好的选择，因为其平均性能非常好\n",
    "    - 期望的时间复杂度为 $\\Theta(nlg(n))$，而且 $\\Theta(nlg(n))$ 中隐含的常数因子非常小\n",
    "  2. 能够进行原址排序，可以在虚拟环境中很好的工作\n",
    "    - 如果输入数组中仅有**常数个元素**需要在排序过程中存储在数组之外，则称排序算法是**原址**的  "
   ]
  },
  {
   "cell_type": "markdown",
   "metadata": {
    "colab_type": "text",
    "id": "0IAQoJ0Bit8P"
   },
   "source": [
    "## 7.1 快速排序的描述"
   ]
  },
  {
   "cell_type": "markdown",
   "metadata": {
    "colab_type": "text",
    "id": "1cq7adrkiw6i"
   },
   "source": [
    "- 采用分治思想，包括分解，解决和合并"
   ]
  },
  {
   "cell_type": "markdown",
   "metadata": {
    "colab_type": "text",
    "id": "9SCZWcs8kKWi"
   },
   "source": [
    "### 数组划分 -- PARTITION  \n",
    "- 实现对子数组组 $A[p \\cdots r]$ 的原址重排"
   ]
  },
  {
   "cell_type": "markdown",
   "metadata": {
    "colab_type": "text",
    "id": "dIAxsirklAUc"
   },
   "source": [
    "#### 代码实现"
   ]
  },
  {
   "cell_type": "code",
   "execution_count": 2,
   "metadata": {
    "colab": {},
    "colab_type": "code",
    "id": "T-OAIqVKkSJe"
   },
   "outputs": [],
   "source": [
    "def partition(A, p, r):\n",
    "  x = A[r]  # 主元\n",
    "  i = p - 1\n",
    "  for j in range(p, r):\n",
    "    if A[j] <= x:\n",
    "      i += 1\n",
    "      A[i], A[j] = A[j], A[i]\n",
    "  A[i+1], A[r] = A[r], A[i+1]\n",
    "  return i + 1"
   ]
  },
  {
   "cell_type": "code",
   "execution_count": 3,
   "metadata": {
    "colab": {
     "base_uri": "https://localhost:8080/",
     "height": 53
    },
    "colab_type": "code",
    "id": "BMnaF4d0lGsT",
    "outputId": "4da38287-f458-4726-88f1-a3cdf8af921a"
   },
   "outputs": [
    {
     "name": "stdout",
     "output_type": "stream",
     "text": [
      "3\n",
      "[2, 1, 3, 4, 7, 5, 6, 8]\n"
     ]
    }
   ],
   "source": [
    "A = [2, 8, 7, 1, 3, 5, 6, 4]\n",
    "print(partition(A, 0, len(A)-1))\n",
    "print(A)"
   ]
  },
  {
   "cell_type": "markdown",
   "metadata": {
    "colab_type": "text",
    "id": "GTkYJbpilYGS"
   },
   "source": [
    "#### 执行过程分析"
   ]
  },
  {
   "cell_type": "markdown",
   "metadata": {
    "colab_type": "text",
    "id": "V62VLZjllldu"
   },
   "source": [
    "<img src=https://raw.githubusercontent.com/Lijunjie9502/PicBed/master/20191215160554.png width=600>"
   ]
  },
  {
   "cell_type": "markdown",
   "metadata": {
    "colab_type": "text",
    "id": "2JW1f2j0mJmG"
   },
   "source": [
    "#### 快速排序"
   ]
  },
  {
   "cell_type": "code",
   "execution_count": 4,
   "metadata": {
    "colab": {},
    "colab_type": "code",
    "id": "mp6f11bWmeiK"
   },
   "outputs": [],
   "source": [
    "def quicksort(A, p, r):\n",
    "  if p < r:\n",
    "    q = partition(A, p, r)\n",
    "    quicksort(A, p, q-1)\n",
    "    quicksort(A, q+1, r)"
   ]
  },
  {
   "cell_type": "code",
   "execution_count": 5,
   "metadata": {
    "colab": {
     "base_uri": "https://localhost:8080/",
     "height": 35
    },
    "colab_type": "code",
    "id": "vG8rD6M6mr2X",
    "outputId": "71f06c0f-73c8-4724-97bb-af7df926de03"
   },
   "outputs": [
    {
     "name": "stdout",
     "output_type": "stream",
     "text": [
      "[1, 2, 3, 4, 5, 6, 7, 8]\n"
     ]
    }
   ],
   "source": [
    "A = [2, 8, 7, 1, 3, 5, 6, 4]\n",
    "quicksort(A, 0, len(A)-1)\n",
    "print(A)"
   ]
  },
  {
   "cell_type": "markdown",
   "metadata": {
    "colab_type": "text",
    "id": "r82f5THim42_"
   },
   "source": [
    "### 练习"
   ]
  },
  {
   "cell_type": "markdown",
   "metadata": {
    "colab_type": "text",
    "id": "g-oBgWTPpFjZ"
   },
   "source": [
    "#### 7.1-2"
   ]
  },
  {
   "cell_type": "markdown",
   "metadata": {
    "colab_type": "text",
    "id": "nphtUE33pKJt"
   },
   "source": [
    "当 $A[p \\cdots r]$ 中的元素均相同时，返回的 $q$ 值为 $r$"
   ]
  },
  {
   "cell_type": "code",
   "execution_count": 6,
   "metadata": {
    "colab": {
     "base_uri": "https://localhost:8080/",
     "height": 35
    },
    "colab_type": "code",
    "id": "cBWBTmx6qW3-",
    "outputId": "532af806-2b1a-4465-a6d1-5b748d82096f"
   },
   "outputs": [
    {
     "name": "stdout",
     "output_type": "stream",
     "text": [
      "9\n"
     ]
    }
   ],
   "source": [
    "A = [1 for i in range(10)]\n",
    "print(partition(A, 0, 9))"
   ]
  },
  {
   "cell_type": "markdown",
   "metadata": {
    "colab_type": "text",
    "id": "aORfv8uAqXXU"
   },
   "source": [
    "可按如下方法修改 PARTITION, 使其返回值为 \n",
    "$ \\lfloor (p+r)/2 \\rfloor$"
   ]
  },
  {
   "cell_type": "code",
   "execution_count": 7,
   "metadata": {
    "colab": {},
    "colab_type": "code",
    "id": "YZEw1SC5p8yK"
   },
   "outputs": [],
   "source": [
    "def partition_handle_same_value(A, p, r):\n",
    "  x = A[r]\n",
    "  i = p - 1\n",
    "  for j in range(p, r):\n",
    "    if A[j] <= x:\n",
    "      if A[j] == x and (j%2) == (p)%2:\n",
    "        continue\n",
    "      i += 1\n",
    "      A[i], A[j] = A[j], A[i]\n",
    "  A[i], A[r] = A[r], A[i]\n",
    "  return i + 1"
   ]
  },
  {
   "cell_type": "code",
   "execution_count": 8,
   "metadata": {
    "colab": {
     "base_uri": "https://localhost:8080/",
     "height": 53
    },
    "colab_type": "code",
    "id": "3BAa7EBeqqpq",
    "outputId": "e6127d35-5c74-4670-9695-8bd1f3c0838f"
   },
   "outputs": [
    {
     "name": "stdout",
     "output_type": "stream",
     "text": [
      "4\n",
      "5\n"
     ]
    }
   ],
   "source": [
    "A = [1 for i in range(11)]\n",
    "print(partition_handle_same_value(A, 0, 9))\n",
    "print(partition_handle_same_value(A, 0, 10))"
   ]
  },
  {
   "cell_type": "markdown",
   "metadata": {
    "colab_type": "text",
    "id": "h-iR8cGaq4l1"
   },
   "source": [
    "#### 7.1-4  \n",
    "以非递增序排序"
   ]
  },
  {
   "cell_type": "code",
   "execution_count": 9,
   "metadata": {
    "colab": {},
    "colab_type": "code",
    "id": "HlmjpuhqtG92"
   },
   "outputs": [],
   "source": [
    "def partition_reverse(A, p, r):\n",
    "  x = A[r]\n",
    "  i = p - 1\n",
    "  for j in range(p, r):\n",
    "    if A[j] >= x:\n",
    "      i += 1\n",
    "      A[i], A[j] = A[j], A[i]\n",
    "  A[i+1], A[r] = A[r], A[i+1]\n",
    "  return i + 1"
   ]
  },
  {
   "cell_type": "code",
   "execution_count": 10,
   "metadata": {
    "colab": {},
    "colab_type": "code",
    "id": "-R2a17kttmxX"
   },
   "outputs": [],
   "source": [
    "def quicksort_reverse(A, p, r):\n",
    "  if p < r:\n",
    "    q = partition_reverse(A, p, r)\n",
    "    quicksort_reverse(A, p, q-1)\n",
    "    quicksort_reverse(A, q+1, r)"
   ]
  },
  {
   "cell_type": "code",
   "execution_count": 11,
   "metadata": {
    "colab": {
     "base_uri": "https://localhost:8080/",
     "height": 35
    },
    "colab_type": "code",
    "id": "J-k_RGH6t7nR",
    "outputId": "66056850-4555-469a-e461-8e3d9b1494ed"
   },
   "outputs": [
    {
     "name": "stdout",
     "output_type": "stream",
     "text": [
      "[8, 7, 6, 5, 4, 3, 2, 1]\n"
     ]
    }
   ],
   "source": [
    "A = [2, 8, 7, 1, 3, 5, 6, 4]\n",
    "quicksort_reverse(A, 0, len(A)-1)\n",
    "print(A)"
   ]
  },
  {
   "cell_type": "markdown",
   "metadata": {
    "colab_type": "text",
    "id": "85gXmx7-t_KM"
   },
   "source": [
    "## 7.2 快速排序的性能"
   ]
  },
  {
   "cell_type": "markdown",
   "metadata": {
    "colab_type": "text",
    "id": "5qfSR-rcud25"
   },
   "source": [
    "### 最坏情况划分"
   ]
  },
  {
   "cell_type": "markdown",
   "metadata": {
    "colab_type": "text",
    "id": "BdqJU97xuh09"
   },
   "source": [
    "- 当划分产生的两个子问题分别包括 $n-1$ 个元素 和 $0$ 个元素时，即为快速排序的是坏情况（证明在 7.4.1 节）\n",
    "- 假设算法的每一次递归调用都出现了这种最坏情况，则可得递推式：\n",
    "$$T\\left( n \\right) = T\\left( {n - 1} \\right) + T\\left( 0 \\right) + \\Theta \\left( 1 \\right) = T\\left( {n - 1} \\right) + \\Theta \\left( n \\right)$$\n",
    "结果为 $\\Theta(n^2)$\n",
    "- 当数组已经完全有序时，并且主元选为最后一个元素时，即会出现此种情况"
   ]
  },
  {
   "cell_type": "markdown",
   "metadata": {
    "colab_type": "text",
    "id": "rkL-ovaIvi6n"
   },
   "source": [
    "### 最好情况划分"
   ]
  },
  {
   "cell_type": "markdown",
   "metadata": {
    "colab_type": "text",
    "id": "vOZTis7TwxyE"
   },
   "source": [
    "- 最好情况划分，即为最平衡的划分，此时一个子问题的规模为 $T( \\lfloor n/2 \\rfloor)$, 另一个问题的规模为\n",
    "$T(\\lceil n/2 \\rceil - 1)$\n",
    "- 此时，算法运行时间递推式为\n",
    "$$ T(n) = 2T(n/2) + \\Theta(n) $$\n",
    "由主定理可得， $T(n) = \\Theta(nlg(n))$"
   ]
  },
  {
   "cell_type": "markdown",
   "metadata": {
    "colab_type": "text",
    "id": "LzBRmbCdxwXT"
   },
   "source": [
    "### 平衡的划分"
   ]
  },
  {
   "cell_type": "markdown",
   "metadata": {
    "colab_type": "text",
    "id": "jO7Rg1iHx1C0"
   },
   "source": [
    "- 快速排序的平均运行时间更加接近于其最好情况，而非最坏情况\n",
    "- 考虑 $9:1$ 的不平衡划分，可得递推式\n",
    "$$ T(n) = T(9n/10) + T(n/10) + \\Theta(n) $$\n",
    "- 通过递推树法进行分析  \n",
    "<img src=https://raw.githubusercontent.com/Lijunjie9502/PicBed/master/20191215170107.png width=600>  \n",
    "可得其运行时间为 $O(nlg(n))$\n",
    "- 任何一种常数比例的划分都会产生深度为 $\\Theta(lg(n))$ 的递推树，其中每一层的时间代价都是 $O(n)$\n",
    "  - 因此，只要划分是常数比例的，算法的运行时间总是 $O(nlg(n))$"
   ]
  },
  {
   "cell_type": "markdown",
   "metadata": {
    "colab_type": "text",
    "id": "q2u4ObYv0Tcf"
   },
   "source": [
    "### 对于平均情况的直接观察"
   ]
  },
  {
   "cell_type": "markdown",
   "metadata": {
    "colab_type": "text",
    "id": "H8SiPISE0WhU"
   },
   "source": [
    "- 快速排序的行为依赖于输入数组中元素的值的相对顺序，而不是某些特定值本身，因此需要假设输入数据的所有排列都是等概率的\n",
    "- 当好和差的划分交替出现时，快速排序的时间复杂度与全是好的划分时是一样的，仍然是 $O(nlg(n))$。区别是 $O$ 符号\n",
    "中隐含的**常数因子项**略大一些    \n",
    "  - 将差的划分产生的代价归并入划分步骤中\n",
    "  - 示意图  \n",
    "  <img src=https://raw.githubusercontent.com/Lijunjie9502/PicBed/master/20191215171848.png width=600>"
   ]
  },
  {
   "cell_type": "markdown",
   "metadata": {
    "colab_type": "text",
    "id": "_0GLV8Cw2wiz"
   },
   "source": [
    "## 7.3 快速排序的随机化版本"
   ]
  },
  {
   "cell_type": "markdown",
   "metadata": {
    "colab_type": "text",
    "id": "9_Au0qg36TLf"
   },
   "source": [
    "- 随机化版本的快速排序常作为大数据输入情况下的排序算法\n",
    "- 可以采用**随机抽样**的随机化技术来实现随机化版本的快速排序\n",
    "  - PARTITION 时随机的选择主元"
   ]
  },
  {
   "cell_type": "markdown",
   "metadata": {
    "colab_type": "text",
    "id": "9yx7inJd6rLX"
   },
   "source": [
    "### RANDOMIZED-PARTITION"
   ]
  },
  {
   "cell_type": "code",
   "execution_count": 12,
   "metadata": {
    "colab": {},
    "colab_type": "code",
    "id": "jKxuVAcc7CvL"
   },
   "outputs": [],
   "source": [
    "def randomized_partition(A, p, r):\n",
    "  i = random.randint(p, r)\n",
    "  A[i], A[r] = A[r], A[i]\n",
    "  return partition(A, p, r)"
   ]
  },
  {
   "cell_type": "markdown",
   "metadata": {
    "colab_type": "text",
    "id": "8srMmTtx7eit"
   },
   "source": [
    "### RANDOMIZED-QUICKSORT"
   ]
  },
  {
   "cell_type": "code",
   "execution_count": 13,
   "metadata": {
    "colab": {},
    "colab_type": "code",
    "id": "FRN4va517jGr"
   },
   "outputs": [],
   "source": [
    "def randomized_quicksort(A, p, r):\n",
    "  if p < r:\n",
    "    q = randomized_partition(A, p, r)\n",
    "    randomized_quicksort(A, p, q-1)\n",
    "    randomized_quicksort(A, q+1, r)"
   ]
  },
  {
   "cell_type": "code",
   "execution_count": 14,
   "metadata": {
    "colab": {
     "base_uri": "https://localhost:8080/",
     "height": 35
    },
    "colab_type": "code",
    "id": "L6XdCRQ073-3",
    "outputId": "ebb40c50-519f-4bb7-eb87-de2f0cd88cbd"
   },
   "outputs": [
    {
     "name": "stdout",
     "output_type": "stream",
     "text": [
      "[1, 2, 3, 4, 5, 6, 7, 8]\n"
     ]
    }
   ],
   "source": [
    "A = [2, 8, 7, 1, 3, 5, 6, 4]\n",
    "randomized_quicksort(A, 0, len(A)-1)\n",
    "print(A)"
   ]
  },
  {
   "cell_type": "markdown",
   "metadata": {
    "colab_type": "text",
    "id": "a9BdFWhv8CLm"
   },
   "source": [
    "## 7.4 快速排序分析"
   ]
  },
  {
   "cell_type": "markdown",
   "metadata": {
    "colab_type": "text",
    "id": "FtfKdu34GPBx"
   },
   "source": [
    "### 7.4.1 最坏情况分析"
   ]
  },
  {
   "cell_type": "markdown",
   "metadata": {
    "colab_type": "text",
    "id": "ZLOfGuRBGf5B"
   },
   "source": [
    "- 设 $T(n)$ 为最坏情况下 QUICKSORT 所花费的时间，则可得递归式\n",
    "$$T\\left( n \\right) = \\mathop {\\max }\\limits_{0 \\le q \\le n - 1} \\left( {T\\left( q \\right) + T\\left( {n - q - 1} \\right)} \\right) + \\Theta \\left( n \\right)$$\n",
    "- 通过代入法，可证明 $T(n) = O(n^2) $ 且 $T(n)=\\Omega(n^2)$，由此可得 $T(n) = \\Theta(n^2)$"
   ]
  },
  {
   "cell_type": "markdown",
   "metadata": {
    "colab_type": "text",
    "id": "dqVm5h4cIsoN"
   },
   "source": [
    "### 7.4.2 期望运行时间\n",
    "- 前提假设：数组中各个元素互异"
   ]
  },
  {
   "cell_type": "markdown",
   "metadata": {
    "colab_type": "text",
    "id": "7CXcmcnyOMJz"
   },
   "source": [
    "#### 运行时间和比较操作"
   ]
  },
  {
   "cell_type": "markdown",
   "metadata": {
    "colab_type": "text",
    "id": "3SidmR-IOqmI"
   },
   "source": [
    "**引理7.1**: 当在一个包含 $n$ 个元素的数组中运行 QUICKSORT 时，假设在 PARTITION 的第 4 行中所做的比较次数为 $X$\n",
    ",则 QUICKSORT 的运行时间为 $O(n+x)$"
   ]
  },
  {
   "cell_type": "markdown",
   "metadata": {
    "colab_type": "text",
    "id": "i6MHufU6PG_z"
   },
   "source": [
    "#### 期望运行时间求解"
   ]
  },
  {
   "cell_type": "markdown",
   "metadata": {
    "colab_type": "text",
    "id": "IFeOmc2hPUMU"
   },
   "source": [
    "- 将数组 $A$ 中的各个元素复命名为 $z_1, z_2, \\cdots, z_n$，其中 $z_i$ 是数组 $A$ 中第 $i$ 小的元素\n",
    "- 定义 $Z_{ij} = \\{ z_i, z_{i+1}, \\cdots, z_j \\}$\n",
    "- 定义指示随机变量$$ X_{ij} = I\\{ z_i 与 z_j 进行比较 \\} $$\n",
    "- 总的比较次数  $$X = \\sum\\limits_{i = 1}^{n - 1} {\\sum\\limits_{j = i + 1}^n {{X_{ij}}} } $$  \n",
    "  - 在 QUICKSORT 中，两个元素最多只会比较一次\n",
    "  -因为一个元素一旦被选为主元，其会与 $[p, r]$ 除自身外的所有的其它元素进行一次比较，之后就不会再参与比较\n",
    "- 由期望的线性特性和指示器随机变量的特性，可得：\n",
    "$$E\\left( X \\right) = \\sum\\limits_{i = 1}^{n - 1} {\\sum\\limits_{j = i + 1}^n {E\\left( {{X_{ij}}} \\right)} }  = \\sum\\limits_{i = 1}^{n - 1} {\\sum\\limits_{j = i + 1}^n {\\Pr \\left\\{ {{z_i}与{z_j}} 进行比较 \\right\\}} } $$\n",
    "- $z_i$ 会与 $z_j$ 进行比较，当且仅当 $Z_{i,j}$ 中被选为主元的第一个元素是 $z_i$ 或 $z_j$\n",
    "  - 因为一旦一个满足 $z_i < x < z_j$ 的主元 $x$ 被选中后，$z_i$ 与 $z_j$ 以后就再也不可能会被比较了\n",
    "  - 由此可得：$$\\begin{aligned}\n",
    "    Pr\\{z_i 与 z_j 进行比较\\} &= Pr\\{ z_i 或 z_j 是集合 Z_{ij} 中选出的第一个主元 \\} \\\\\n",
    "      &= Pr\\{ z_i 是集合 Z_{ij} 中选出的第一个主元\\} \\\\\n",
    "      &+ Pr\\{ z_j 是集合 Z_{ij} 中选出的第一个主元\\} \\\\\n",
    "      &= {1 \\over j - i + 1} + {1 \\over j - i + 1} =  {2 \\over j - i + 1}\n",
    "  \\end{aligned}$$\n",
    "    - 主元的选择是随机且独立的\n",
    "- 由上述分析可得： \n",
    "  - $$E(X) = \\sum\\limits_{i = 1}^{n - 1} {\\sum\\limits_{j = i + 1}^n {2 \\over j - i + 1} }\n",
    "= \\sum\\limits_{i = 1}^{n - 1} {\\sum\\limits_{k = 1}^{n-i} {2 \\over k + 1} } < \n",
    "\\sum\\limits_{i = 1}^{n - 1} {\\sum\\limits_{k = 1}^{n} {2 \\over k} } = \\sum\\limits_{i=1}^{n-1}O(lg(n)) = O(nlg(n))\n",
    "$$  \n",
    "    - 调和级数的性质\n",
    "  - $$ \\begin{aligned}\n",
    "  E(X) &= \\sum\\limits_{i = 1}^{n - 1} {\\sum\\limits_{j = i + 1}^n {2 \\over j - i + 1} } = \n",
    "  \\sum\\limits_{i = 1}^{n - 1} {\\sum\\limits_{k = 1}^{n-i} {2 \\over k + 1} } \\ge \n",
    "  \\sum\\limits_{i = 1}^{n - 1} {\\int_1^{n - i + 1} {{2 \\over {k + 1}}dk} } = \n",
    "  \\sum\\limits_{i = 1}^{n - 1}{2\\ln \\left( {k + 1} \\right)|_{k = 1}^{n - i + 1}} \\\\\n",
    "  &= \\sum\\limits_{i = 1}^{n - 1}{2ln(n-i+2) + 2ln2} = \n",
    "  2\\ln \\prod\\limits_{i = 1}^{n - 1} {(n - i + 2)} + \\Theta(n) \n",
    "  = 2ln({(n+1)! \\over 2}) + \\Theta(n) \\\\\n",
    "  &= 2ln(n!) + \\Theta(n) = {2 \\over lg(e)}lg(n!) + \\Theta(n) \\ge cnlg(n)\n",
    "  \\end{aligned}$$\n",
    "    - 由第 3 章的斯特林公式可推得 $lg(n!) = \\Theta(nlg(n))$\n",
    "- 综上可得： $E(X) = \\Theta(nlg(n))$"
   ]
  },
  {
   "cell_type": "markdown",
   "metadata": {
    "colab_type": "text",
    "id": "-7yjUIbKQmr9"
   },
   "source": [
    "### 练习"
   ]
  },
  {
   "cell_type": "markdown",
   "metadata": {
    "colab_type": "text",
    "id": "bu8r3ZVejo_G"
   },
   "source": [
    "#### 7.4-5 快速排序中加入插入排序来提升运行速度"
   ]
  },
  {
   "cell_type": "markdown",
   "metadata": {
    "colab_type": "text",
    "id": "VeLFwRY3jtQk"
   },
   "source": [
    "- 对于快速排序，当长度小于 $k$ 时直接返回，则其递归树的深度为 $O(lg(n/k))$，运行时间为 $O(nlg(n/k))$\n",
    "- 对于插入排序，对于特定的元素，其最多向前比较 $k$ 个数，就会得出相应的结果，运行时间为 $O(k)$ ，总的运行时间为 $O(nk)$\n",
    "- 总的运行时间为 $O(nk + nlg(n/k)) $\n",
    "- 理论上，应选取 $k$ ，使得运行时间最短。但是由于常数项难以确定，因此实际中，可以给定一个较大规模的输入，然后尝试不同的 $k$ 值"
   ]
  },
  {
   "cell_type": "markdown",
   "metadata": {
    "colab_type": "text",
    "id": "EtL7__KypiJd"
   },
   "source": [
    "##### 代码实现"
   ]
  },
  {
   "cell_type": "code",
   "execution_count": 15,
   "metadata": {
    "colab": {},
    "colab_type": "code",
    "id": "U3z8ikwXqBWE"
   },
   "outputs": [],
   "source": [
    "def insertion_sort(A):\n",
    "  for j in range(1, len(A)):\n",
    "    key = A[j]\n",
    "    i = j - 1\n",
    "    while i >= 0 and A[i] > key:\n",
    "      A[i+1] = A[i]\n",
    "      i -= 1\n",
    "    A[i+1] = key"
   ]
  },
  {
   "cell_type": "code",
   "execution_count": 16,
   "metadata": {
    "colab": {},
    "colab_type": "code",
    "id": "KZ6ZzUxNsZqj"
   },
   "outputs": [],
   "source": [
    "def quicksort_with_insertion_sort(A,k):\n",
    "  def helper(A, p, r):\n",
    "    if r - p > k:\n",
    "      q = partition(A, p, r)\n",
    "      helper(A, p, q-1)\n",
    "      helper(A, q+1, r)\n",
    "  helper(A, 0, len(A)-1)\n",
    "  insertion_sort(A)"
   ]
  },
  {
   "cell_type": "code",
   "execution_count": 17,
   "metadata": {
    "colab": {
     "base_uri": "https://localhost:8080/",
     "height": 0
    },
    "colab_type": "code",
    "id": "nxRAZIGbuKgm",
    "outputId": "58612bb1-4891-4e36-c675-e00fbb6f360c"
   },
   "outputs": [
    {
     "name": "stdout",
     "output_type": "stream",
     "text": [
      "[55, 66, 90, 60, 4, 73, 5, 25, 24, 46, 56, 79, 78, 44, 8, 83, 33, 39, 60, 45]\n",
      "[4, 5, 8, 24, 25, 33, 39, 44, 45, 46, 55, 56, 60, 60, 66, 73, 78, 79, 83, 90]\n"
     ]
    }
   ],
   "source": [
    "A = [random.randint(1, 100) for i in range(20)]\n",
    "print(A)\n",
    "quicksort_with_insertion_sort(A, 5)\n",
    "print(A)"
   ]
  },
  {
   "cell_type": "code",
   "execution_count": 18,
   "metadata": {
    "colab": {
     "base_uri": "https://localhost:8080/",
     "height": 0
    },
    "colab_type": "code",
    "id": "bvenbMxSuSTH",
    "outputId": "d5ac1e08-cbaa-4933-d406-a02d3a478bb5"
   },
   "outputs": [
    {
     "name": "stdout",
     "output_type": "stream",
     "text": [
      "Total time running quicksort: 1.203125 s\n",
      "k = 0: Total time running quicksort_with_insertion_sort: 1.015625 s\n",
      "k = 10: Total time running quicksort_with_insertion_sort: 1.03125 s\n",
      "k = 20: Total time running quicksort_with_insertion_sort: 0.71875 s\n",
      "k = 30: Total time running quicksort_with_insertion_sort: 0.9375 s\n",
      "k = 40: Total time running quicksort_with_insertion_sort: 0.921875 s\n",
      "k = 50: Total time running quicksort_with_insertion_sort: 0.96875 s\n",
      "k = 60: Total time running quicksort_with_insertion_sort: 1.1875 s\n",
      "k = 70: Total time running quicksort_with_insertion_sort: 1.1875 s\n",
      "k = 80: Total time running quicksort_with_insertion_sort: 1.28125 s\n",
      "k = 90: Total time running quicksort_with_insertion_sort: 1.09375 s\n"
     ]
    }
   ],
   "source": [
    "A = [random.randint(1, 10000) for i in range(100000)]\n",
    "B = A.copy()\n",
    "fn_timer(quicksort)(A, 0, len(A)-1)\n",
    "for k in range(0, 100, 10):\n",
    "  A =  B.copy()\n",
    "  print('k = {}'.format(k), end=': ')\n",
    "  fn_timer(quicksort_with_insertion_sort)(A, k)\n"
   ]
  },
  {
   "cell_type": "markdown",
   "metadata": {
    "colab_type": "text",
    "id": "jN_wg2s8eN_J"
   },
   "source": [
    "## 思考题"
   ]
  },
  {
   "cell_type": "markdown",
   "metadata": {
    "colab_type": "text",
    "id": "cV_1bRlieN_N"
   },
   "source": [
    "### 7-1 Hoare 划分的正确性"
   ]
  },
  {
   "cell_type": "markdown",
   "metadata": {
    "colab_type": "text",
    "id": "1-C8mx3UeN_P"
   },
   "source": [
    "#### HOARE-PARTITION"
   ]
  },
  {
   "cell_type": "code",
   "execution_count": 19,
   "metadata": {
    "colab": {},
    "colab_type": "code",
    "id": "JIsPSNx3eN_R"
   },
   "outputs": [],
   "source": [
    "def hoare_partition(A, p, r):\n",
    "    i, j = p - 1, r + 1\n",
    "    x = A[p]\n",
    "    while True:\n",
    "      while True:\n",
    "        j -= 1\n",
    "        if A[j] <= x:\n",
    "          break\n",
    "      while True:\n",
    "        i += 1\n",
    "        if A[i] >= x:\n",
    "          break\n",
    "      if i < j:\n",
    "        A[i], A[j] = A[j], A[i]\n",
    "      else:\n",
    "        return j"
   ]
  },
  {
   "cell_type": "code",
   "execution_count": 20,
   "metadata": {
    "colab": {
     "base_uri": "https://localhost:8080/",
     "height": 0
    },
    "colab_type": "code",
    "id": "g9bthOY2eN_V",
    "outputId": "72cb56c0-4358-47a1-93b0-48805f07eb5a"
   },
   "outputs": [
    {
     "name": "stdout",
     "output_type": "stream",
     "text": [
      "[7, 2, 5, 6, 4, 1, 3, 7, 9, 7]\n",
      "7\n",
      "[7, 2, 5, 6, 4, 1, 3, 7, 9, 7]\n"
     ]
    }
   ],
   "source": [
    "A = [random.randint(1, 9) for i in range(10)]\n",
    "print(A)\n",
    "print(hoare_partition(A, 0, len(A)-1))\n",
    "print(A)"
   ]
  },
  {
   "cell_type": "markdown",
   "metadata": {
    "colab_type": "text",
    "id": "a3y7aT7peN_a"
   },
   "source": [
    "#### QUICKSORT-WITH-HOARE-PARTITION  "
   ]
  },
  {
   "cell_type": "code",
   "execution_count": 21,
   "metadata": {
    "colab": {},
    "colab_type": "code",
    "id": "zNY2wXaNeN_b"
   },
   "outputs": [],
   "source": [
    "def quicksort_with_hoare_partition(A, p, r):\n",
    "  if p < r:\n",
    "    x = A[p]\n",
    "    j = hoare_partition(A, p, r)\n",
    "    # print(A[p:r+1])\n",
    "    # hoare_partiton 无法保证 j 位置是主元的位置，需要找到主元所在的位置并与j交换\n",
    "    # 交换的过程中，不能破坏 A[p, j] 中的元素，总是小于 A[j+1, q] 中元素的这一性质\n",
    "    for i in range(p, r+1):\n",
    "      if A[i] == x:\n",
    "        if i > j: # 主元在第二个数组中，则与第二个数组的第一个元素交换\n",
    "          j = j + 1\n",
    "        A[i], A[j] = A[j], A[i]\n",
    "        break\n",
    "    quicksort_with_hoare_partition(A, p, j-1)\n",
    "    quicksort_with_hoare_partition(A, j+1, r)"
   ]
  },
  {
   "cell_type": "code",
   "execution_count": 22,
   "metadata": {
    "colab": {
     "base_uri": "https://localhost:8080/",
     "height": 0
    },
    "colab_type": "code",
    "id": "Aqq9MGdgeN_f",
    "outputId": "18cccc6c-0069-4bec-ac9c-65d72701ce8b"
   },
   "outputs": [
    {
     "name": "stdout",
     "output_type": "stream",
     "text": [
      "[3, 7, 1, 2, 2, 4, 6, 9, 2, 8]\n",
      "[1, 2, 2, 2, 3, 4, 6, 7, 8, 9]\n"
     ]
    }
   ],
   "source": [
    "A = [random.randint(1, 10) for i in range(10)]\n",
    "print(A)\n",
    "quicksort_with_hoare_partition(A, 0, len(A)-1)\n",
    "print(A)"
   ]
  },
  {
   "cell_type": "markdown",
   "metadata": {
    "colab_type": "text",
    "heading_collapsed": true,
    "id": "YK40niqQeN_i"
   },
   "source": [
    "### 7-2 针对相同元素值的快速排序"
   ]
  },
  {
   "cell_type": "markdown",
   "metadata": {
    "colab_type": "text",
    "hidden": true,
    "id": "vB0dAn-Rvu7J"
   },
   "source": [
    "#### PARTITION '"
   ]
  },
  {
   "cell_type": "markdown",
   "metadata": {
    "colab_type": "text",
    "hidden": true,
    "id": "rNTBwN_fxYny"
   },
   "source": [
    "1. 实际运行时，借助 $q, t, j$ 三个变量将区间 $[p ,r]$ 划分为三个区间，满足下述关系式：\n",
    "$$\\left\\{ \\matrix{\n",
    "  当p \\le k \\le q \\quad A[k] < key\\hfill \\cr \n",
    "  当 q < k \\le t \\quad A[k]=key \\hfill \\cr \n",
    "  当 t < k \\le j \\quad A[k]>key\\hfill \\cr}  \\right.$$  \n",
    "  - 其中左右区间可能为空区间\n",
    "2. 每次循环当 $j$ 增长时，如果 $A[j] < key$, 则 $q, t$均需要增加 $1$, 且为维持 1 中的循环不变式，需要将 \n",
    "  - $A[j]$ 的值赋给 $A[q]$\n",
    "  - $A[t]$ 的值赋给 $A[j]$\n",
    "  - $A[q]$ 的值赋给 $A[t]$\n",
    "  - 相当于三个数，两两交换位置。但是由于 $t, j$的值可能相同，必须先运行 $ A[t]\\leftrightarrow A[j]$，再运行 $ A[t] \\leftrightarrow A[q]$，如果不按此顺序两两交换元素，则当 $t=j$ 时，相当于没有进行交换操作\n"
   ]
  },
  {
   "cell_type": "code",
   "execution_count": 23,
   "metadata": {
    "colab": {},
    "colab_type": "code",
    "hidden": true,
    "id": "wZkrjMYXoblN"
   },
   "outputs": [],
   "source": [
    "def partition_handle_same_values(A, p, r):\n",
    "  q = p - 1\n",
    "  t = p\n",
    "  key = A[r]\n",
    "  A[p], A[r] = A[r], A[p]\n",
    "  for j in range(p+1, r+1):\n",
    "    if A[j] < key: \n",
    "      q += 1\n",
    "      t += 1\n",
    "      A[t], A[j] = A[j], A[t]\n",
    "      A[t], A[q] = A[q], A[t]\n",
    "    elif A[j] == key:\n",
    "      t += 1\n",
    "      A[j], A[t] = A[t], A[j]\n",
    "  return (q, t)"
   ]
  },
  {
   "cell_type": "code",
   "execution_count": 24,
   "metadata": {
    "colab": {
     "base_uri": "https://localhost:8080/",
     "height": 53
    },
    "colab_type": "code",
    "hidden": true,
    "id": "lYXhmR3XvhVW",
    "outputId": "ca008610-4b02-4c9c-9168-49d0c31b4820"
   },
   "outputs": [
    {
     "name": "stdout",
     "output_type": "stream",
     "text": [
      "A is [5, 2, 2, 5, 1, 1, 1, 3, 1, 2, 2, 3, 4, 3, 4, 5, 1, 2, 1, 4], the key value is 4\n",
      "[2, 2, 1, 1, 1, 3, 1, 2, 2, 3, 3, 1, 2, 1], [4, 4, 4], [5, 5, 5]\n"
     ]
    }
   ],
   "source": [
    "A = [random.randint(1,5) for i in range(20)]\n",
    "print(\"A is {}, the key value is {}\".format(A, A[-1]))\n",
    "q, t = partition_handle_same_values(A, 0, len(A)-1)\n",
    "print(\"{}, {}, {}\".format(A[0:(q+1)], A[(q+1):(t+1)], A[(t+1):len(A)]))"
   ]
  },
  {
   "cell_type": "markdown",
   "metadata": {
    "colab_type": "text",
    "hidden": true,
    "id": "d2xMN-4hxYn2"
   },
   "source": [
    "#### RANDOMIZED-PARTITION'"
   ]
  },
  {
   "cell_type": "code",
   "execution_count": 25,
   "metadata": {
    "colab": {},
    "colab_type": "code",
    "hidden": true,
    "id": "BJTtRjkPAIQG"
   },
   "outputs": [],
   "source": [
    "def randomized_partition_handle_same_values(A, p, r):\n",
    "  i = random.randint(p, r)\n",
    "  A[i], A[r] = A[r], A[i]\n",
    "  return partition_handle_same_values(A, p, r)"
   ]
  },
  {
   "cell_type": "code",
   "execution_count": 26,
   "metadata": {
    "colab": {
     "base_uri": "https://localhost:8080/",
     "height": 53
    },
    "colab_type": "code",
    "hidden": true,
    "id": "gwb3BQ2cA8AS",
    "outputId": "223b8480-153d-4e0e-8a88-d6a17345407b"
   },
   "outputs": [
    {
     "name": "stdout",
     "output_type": "stream",
     "text": [
      "A is [2, 5, 3, 2, 4, 1, 1, 5, 1, 2, 1, 2, 2, 2, 2, 2, 3, 4, 1, 2].\n",
      "[], [1, 1, 1, 1, 1], [5, 3, 5, 2, 2, 2, 2, 2, 2, 2, 2, 3, 4, 4, 2]\n"
     ]
    }
   ],
   "source": [
    "A = [random.randint(1,5) for i in range(20)]\n",
    "print(\"A is {}.\".format(A))\n",
    "q, t = randomized_partition_handle_same_values(A, 0, len(A)-1)\n",
    "print(\"{}, {}, {}\".format(A[0:(q+1)], A[(q+1):(t+1)], A[(t+1):len(A)]))"
   ]
  },
  {
   "cell_type": "markdown",
   "metadata": {
    "colab_type": "text",
    "hidden": true,
    "id": "MZh5PqwHBMMF"
   },
   "source": [
    "#### RANDOMIZED-QUICKSORT'"
   ]
  },
  {
   "cell_type": "code",
   "execution_count": 27,
   "metadata": {
    "colab": {},
    "colab_type": "code",
    "hidden": true,
    "id": "fi3g5W4CBZ-F"
   },
   "outputs": [],
   "source": [
    "def randomized_quicksort_handle_same_values(A, p, r):\n",
    "  if p < r:\n",
    "    q, t = randomized_partition_handle_same_values(A, p, r)\n",
    "    randomized_quicksort_handle_same_values(A, p, q)\n",
    "    randomized_quicksort_handle_same_values(A, t+1, r)"
   ]
  },
  {
   "cell_type": "code",
   "execution_count": 28,
   "metadata": {
    "colab": {
     "base_uri": "https://localhost:8080/",
     "height": 53
    },
    "colab_type": "code",
    "hidden": true,
    "id": "4zwbBlRVCBDU",
    "outputId": "8001128a-4e86-4c12-f1bf-30d6249d0b61"
   },
   "outputs": [
    {
     "name": "stdout",
     "output_type": "stream",
     "text": [
      "A is [4, 5, 4, 1, 3, 4, 3, 2, 2, 5, 3, 2, 5, 2, 4, 1, 5, 3, 1, 5].\n",
      "After sorted A is [1, 1, 1, 2, 2, 2, 2, 3, 3, 3, 3, 4, 4, 4, 4, 5, 5, 5, 5, 5]\n"
     ]
    }
   ],
   "source": [
    "A = [random.randint(1,5) for i in range(20)]\n",
    "print(\"A is {}.\".format(A))\n",
    "randomized_quicksort_handle_same_values(A, 0, len(A)-1)\n",
    "print(\"After sorted A is {}\".format(A))"
   ]
  },
  {
   "cell_type": "code",
   "execution_count": 29,
   "metadata": {
    "colab": {
     "base_uri": "https://localhost:8080/",
     "height": 53
    },
    "colab_type": "code",
    "hidden": true,
    "id": "4ijZfx47CYVG",
    "outputId": "bf1315ca-9783-4d3a-9cce-5ca18793adc6"
   },
   "outputs": [
    {
     "name": "stdout",
     "output_type": "stream",
     "text": [
      "Total time running randomized_quicksort: 0.078125 s\n",
      "Total time running randomized_quicksort_handle_same_values: 0.0 s\n"
     ]
    }
   ],
   "source": [
    "A = [random.randint(1, 5) for i in range(1000)]\n",
    "B = A.copy()\n",
    "fn_timer(randomized_quicksort)(A, 0, len(A) - 1)\n",
    "fn_timer(randomized_quicksort_handle_same_values)(A, 0,len(A) - 1)"
   ]
  },
  {
   "cell_type": "markdown",
   "metadata": {},
   "source": [
    "### 7-4 快速排序的栈深度"
   ]
  },
  {
   "cell_type": "markdown",
   "metadata": {},
   "source": [
    "#### a.  采用尾递归进行优化"
   ]
  },
  {
   "cell_type": "code",
   "execution_count": 31,
   "metadata": {},
   "outputs": [],
   "source": [
    "def tail_recursive_quicksort(A, p, r):\n",
    "  while p < r:\n",
    "    q = partition(A, p, r)\n",
    "    tail_recursive_quicksort(A, p, q-1)\n",
    "    p = q + 1"
   ]
  },
  {
   "cell_type": "code",
   "execution_count": 33,
   "metadata": {},
   "outputs": [
    {
     "name": "stdout",
     "output_type": "stream",
     "text": [
      "排序前： A = [50, 38, 31, 55, 19, 77, 26, 29, 64, 43]\n",
      "排序后： A=[19, 26, 29, 31, 38, 43, 50, 55, 64, 77]\n"
     ]
    }
   ],
   "source": [
    "A = [random.randint(1, 100) for i in range(10)]\n",
    "print(\"排序前： A = {}\".format(A))\n",
    "tail_recursive_quicksort(A, 0, len(A) - 1)\n",
    "print(\"排序后： A={}\".format(A))"
   ]
  },
  {
   "cell_type": "markdown",
   "metadata": {},
   "source": [
    "#### b  \n",
    "- 当数组已经有序时，栈尝试会为 $\\Theta(n)$"
   ]
  },
  {
   "cell_type": "markdown",
   "metadata": {},
   "source": [
    "#### c  \n",
    "- 目标是为了避免栈深度过深，所以，可以在递归时，对左右两个子数组中元素较小的数组进行递归"
   ]
  },
  {
   "cell_type": "code",
   "execution_count": 35,
   "metadata": {},
   "outputs": [],
   "source": [
    "def tail_recursive_quicksort_optimize(A, p, r):\n",
    "  while p < r:\n",
    "    q = partition(A, p, r)\n",
    "    if q < (p + r) // 2:\n",
    "      tail_recursive_quicksort_optimize(A, p, q-1)\n",
    "      p = q + 1\n",
    "    else:\n",
    "      tail_recursive_quicksort_optimize(A, q+1, r)\n",
    "      r = q - 1"
   ]
  },
  {
   "cell_type": "code",
   "execution_count": 38,
   "metadata": {},
   "outputs": [
    {
     "name": "stdout",
     "output_type": "stream",
     "text": [
      "排序前： A = [90, 60, 44, 56, 62, 83, 70, 25, 71, 69]\n",
      "排序后： A=[25, 44, 56, 60, 62, 69, 70, 71, 83, 90]\n"
     ]
    }
   ],
   "source": [
    "A = [random.randint(1, 100) for i in range(10)]\n",
    "print(\"排序前： A = {}\".format(A))\n",
    "tail_recursive_quicksort_optimize(A, 0, len(A) - 1)\n",
    "print(\"排序后： A={}\".format(A))"
   ]
  },
  {
   "cell_type": "code",
   "execution_count": null,
   "metadata": {},
   "outputs": [],
   "source": []
  }
 ],
 "metadata": {
  "colab": {
   "name": "第 7 章： 快速排序.ipynb",
   "provenance": []
  },
  "kernelspec": {
   "display_name": "Python 3",
   "language": "python",
   "name": "python3"
  },
  "language_info": {
   "codemirror_mode": {
    "name": "ipython",
    "version": 3
   },
   "file_extension": ".py",
   "mimetype": "text/x-python",
   "name": "python",
   "nbconvert_exporter": "python",
   "pygments_lexer": "ipython3",
   "version": "3.7.3"
  }
 },
 "nbformat": 4,
 "nbformat_minor": 1
}
