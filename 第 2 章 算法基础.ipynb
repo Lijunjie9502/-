{
 "cells": [
  {
   "cell_type": "code",
   "execution_count": 1,
   "metadata": {},
   "outputs": [],
   "source": [
    "import random\n",
    "import numpy as np\n",
    "import matplotlib.pyplot as plt\n",
    "from scipy.optimize import fsolve\n",
    "\n",
    "import time\n",
    "from functools import wraps\n",
    "  \n",
    "def fn_timer(function):\n",
    "  @wraps(function)\n",
    "  def function_timer(*args, **kwargs):\n",
    "    t0 = time.process_time()\n",
    "    result = function(*args, **kwargs)\n",
    "    t1 = time.process_time()\n",
    "    print (\"Total time running %s: %s s\" %\n",
    "        (function.__name__, str(t1-t0))\n",
    "        )\n",
    "    return result\n",
    "  return function_timer"
   ]
  },
  {
   "cell_type": "markdown",
   "metadata": {
    "heading_collapsed": true
   },
   "source": [
    "# 2.1 插入排序"
   ]
  },
  {
   "cell_type": "markdown",
   "metadata": {
    "hidden": true
   },
   "source": [
    "## insertion sort"
   ]
  },
  {
   "cell_type": "code",
   "execution_count": 2,
   "metadata": {
    "hidden": true
   },
   "outputs": [],
   "source": [
    "def insertion_sort(A):\n",
    "    for i in range(1, len(A)):\n",
    "        key = A[i]\n",
    "        j = i - 1\n",
    "        while j >= 0 and A[j] > key:\n",
    "            A[j+1] = A[j]\n",
    "            j -= 1\n",
    "        A[j+1] = key"
   ]
  },
  {
   "cell_type": "markdown",
   "metadata": {
    "hidden": true
   },
   "source": [
    "## *test insertion sort*"
   ]
  },
  {
   "cell_type": "code",
   "execution_count": 3,
   "metadata": {
    "hidden": true
   },
   "outputs": [
    {
     "name": "stdout",
     "output_type": "stream",
     "text": [
      "排序前：\t[78, 57, 21, 21, 54, 69, 59, 70, 40, 59]\n",
      "Total time running insertion_sort: 0.0 s\n",
      "插入排序后:\t[21, 21, 40, 54, 57, 59, 59, 69, 70, 78]\n"
     ]
    }
   ],
   "source": [
    "A = [random.randint(0,100) for i in range(10)]\n",
    "print(\"排序前：\\t\" + str(A))\n",
    "fn_timer(insertion_sort)(A)\n",
    "print(\"插入排序后:\\t\" + str(A))"
   ]
  },
  {
   "cell_type": "code",
   "execution_count": 4,
   "metadata": {
    "hidden": true
   },
   "outputs": [
    {
     "name": "stdout",
     "output_type": "stream",
     "text": [
      "Total time running insertion_sort: 7.8125 s\n"
     ]
    }
   ],
   "source": [
    "A = [random.random() for i in range(2**14)]\n",
    "fn_timer(insertion_sort)(A)"
   ]
  },
  {
   "cell_type": "markdown",
   "metadata": {
    "hidden": true
   },
   "source": [
    "## 2.1-1 反向插入排序"
   ]
  },
  {
   "cell_type": "markdown",
   "metadata": {
    "hidden": true
   },
   "source": [
    "- 反向插入排序"
   ]
  },
  {
   "cell_type": "code",
   "execution_count": 5,
   "metadata": {
    "hidden": true
   },
   "outputs": [],
   "source": [
    "def insertion_sort_reverse(A):\n",
    "    for i in range(1, len(A)):\n",
    "        key = A[i]\n",
    "        j = i - 1\n",
    "        while j >=0 and A[j] < key:\n",
    "            A[j+1] = A[j]\n",
    "            j -= 1\n",
    "        A[j+1] = key\n",
    "    return A"
   ]
  },
  {
   "cell_type": "code",
   "execution_count": 6,
   "metadata": {
    "hidden": true
   },
   "outputs": [
    {
     "name": "stdout",
     "output_type": "stream",
     "text": [
      "排序前: \t\t[72, 28, 62, 33, 11, 79, 8, 6, 24, 21]\n",
      "非升序插入排序后:\t[79, 72, 62, 33, 28, 24, 21, 11, 8, 6]\n"
     ]
    }
   ],
   "source": [
    "A = [random.randint(0,100) for i in range(10)]\n",
    "print(\"排序前: \\t\\t\" + str(A))\n",
    "print(\"非升序插入排序后:\\t\" + str(insertion_sort_reverse(A)))"
   ]
  },
  {
   "cell_type": "markdown",
   "metadata": {
    "heading_collapsed": true,
    "hidden": true
   },
   "source": [
    "## 2.1-4 二进制数组相加"
   ]
  },
  {
   "cell_type": "code",
   "execution_count": 7,
   "metadata": {
    "hidden": true
   },
   "outputs": [],
   "source": [
    "def add_binarys(A, B):\n",
    "    carry = 0  # 进位标志\n",
    "    C = [0 for i in range(len(A) + 1)]\n",
    "    for i in reversed(range(len(A))):\n",
    "        res = A[i] + B[i] + carry\n",
    "        C[i+1] = res % 2\n",
    "        carry = 1 if res > 1 else 0\n",
    "    C[0] = carry\n",
    "    return C\n",
    "        "
   ]
  },
  {
   "cell_type": "code",
   "execution_count": 8,
   "metadata": {
    "hidden": true
   },
   "outputs": [
    {
     "name": "stdout",
     "output_type": "stream",
     "text": [
      "A: [1, 0, 0]\n",
      "B: [0, 0, 1]\n",
      "C: [0, 1, 0, 1]\n"
     ]
    }
   ],
   "source": [
    "A = [random.randint(0,1) for i in range(3)]\n",
    "B = [random.randint(0,1) for i in range(3)]\n",
    "print(\"A: \" + str(A) + \"\\n\" + \"B: \" + str(B))\n",
    "C = add_binarys(A, B)\n",
    "print(\"C: \" + str(C))"
   ]
  },
  {
   "cell_type": "markdown",
   "metadata": {
    "heading_collapsed": true
   },
   "source": [
    "# 2.2 分析算法"
   ]
  },
  {
   "cell_type": "markdown",
   "metadata": {
    "heading_collapsed": true,
    "hidden": true
   },
   "source": [
    "## 2.2-2 选择排序"
   ]
  },
  {
   "cell_type": "markdown",
   "metadata": {
    "hidden": true
   },
   "source": [
    "- 维持的循环不变式是 A[0:i-1] 均是已排好序的数组，且 A[i:len(A)-1] 中的元素均比 A[0:i-1] 中大\n",
    "- 只对前 n-1 个元素运行的原因时，当前 n-1 个元素排好序后，第 n 个即为最大值\n",
    "- 最好和最坏的运行时间均为 $ \\Theta(n^2) $"
   ]
  },
  {
   "cell_type": "markdown",
   "metadata": {
    "hidden": true
   },
   "source": [
    "### selection sort"
   ]
  },
  {
   "cell_type": "code",
   "execution_count": 9,
   "metadata": {
    "hidden": true
   },
   "outputs": [],
   "source": [
    "@fn_timer\n",
    "def selection_sort(A):\n",
    "    for i in range(len(A) - 1):\n",
    "        min = A[i]\n",
    "        for j in range(i + 1, len(A)):\n",
    "            if A[j] < min:\n",
    "                min = A[j]\n",
    "                A[i], A[j] = A[j], A[i]"
   ]
  },
  {
   "cell_type": "markdown",
   "metadata": {
    "hidden": true
   },
   "source": [
    "### *test selection sort*"
   ]
  },
  {
   "cell_type": "code",
   "execution_count": 10,
   "metadata": {
    "hidden": true
   },
   "outputs": [
    {
     "name": "stdout",
     "output_type": "stream",
     "text": [
      "排序前：\t[83, 16, 58, 72, 54, 13, 70, 3, 87, 52]\n",
      "Total time running selection_sort: 0.0 s\n",
      "插入排序后:\t[3, 13, 16, 52, 54, 58, 70, 72, 83, 87]\n"
     ]
    }
   ],
   "source": [
    "A = [random.randint(0,100) for i in range(10)]\n",
    "print(\"排序前：\\t\" + str(A))\n",
    "selection_sort(A)\n",
    "print(\"插入排序后:\\t\" + str(A))"
   ]
  },
  {
   "cell_type": "code",
   "execution_count": 11,
   "metadata": {
    "hidden": true
   },
   "outputs": [
    {
     "name": "stdout",
     "output_type": "stream",
     "text": [
      "Total time running selection_sort: 10.109375 s\n"
     ]
    }
   ],
   "source": [
    "A = [random.random() for i in range(2**14)]\n",
    "selection_sort(A)"
   ]
  },
  {
   "cell_type": "markdown",
   "metadata": {
    "hidden": true
   },
   "source": [
    "## 2.2-3 线性查找"
   ]
  },
  {
   "cell_type": "markdown",
   "metadata": {
    "hidden": true
   },
   "source": [
    "- 平均情况需要查找 $ \\frac{n}{2} $ 个元素\n",
    "- 最坏情况需要查找 $ n $ 个元素\n",
    "- 平均情况和最环情况的运行时间均为 $ \\Theta(n) $"
   ]
  },
  {
   "cell_type": "markdown",
   "metadata": {},
   "source": [
    "# 2.3 设计算法"
   ]
  },
  {
   "cell_type": "markdown",
   "metadata": {},
   "source": [
    "## 2.3.1 分治法"
   ]
  },
  {
   "cell_type": "markdown",
   "metadata": {},
   "source": [
    "### 合并排序"
   ]
  },
  {
   "cell_type": "markdown",
   "metadata": {
    "heading_collapsed": true
   },
   "source": [
    "#### merge"
   ]
  },
  {
   "cell_type": "code",
   "execution_count": 12,
   "metadata": {
    "hidden": true
   },
   "outputs": [],
   "source": [
    "def merge(A, p, q, r):\n",
    "    L = A[p:q+1]\n",
    "    L.append(float('inf'))\n",
    "    R = A[q+1:r+1]\n",
    "    R.append(float('inf'))\n",
    "    i = j = 0\n",
    "    for k in range(p,r+1):\n",
    "        if L[i] < R[j]:\n",
    "            A[k] = L[i]\n",
    "            i += 1\n",
    "        else:\n",
    "            A[k] = R[j]\n",
    "            j += 1"
   ]
  },
  {
   "cell_type": "markdown",
   "metadata": {},
   "source": [
    "#### *test merge*"
   ]
  },
  {
   "cell_type": "code",
   "execution_count": 13,
   "metadata": {},
   "outputs": [
    {
     "name": "stdout",
     "output_type": "stream",
     "text": [
      "合并前：[2, 8, 34, 45, 50, 64, 97, 7, 54, 55, 71]\n",
      "合并后：[2, 7, 8, 34, 45, 50, 54, 55, 64, 71, 97]\n"
     ]
    }
   ],
   "source": [
    "left = sorted([random.randint(0,100) for i in range(7)])\n",
    "right = sorted([random.randint(0,100) for i in range(4)])\n",
    "A = np.concatenate([left, right])\n",
    "A = list(A)\n",
    "print(\"合并前：\" + str(A))\n",
    "merge(A, 0,6,10)\n",
    "print(\"合并后：\" + str(A))"
   ]
  },
  {
   "cell_type": "markdown",
   "metadata": {},
   "source": [
    "#### merge sort"
   ]
  },
  {
   "cell_type": "code",
   "execution_count": 14,
   "metadata": {},
   "outputs": [],
   "source": [
    "def merge_sort(A):\n",
    "    _helper_function(A, 0, len(A)-1)\n",
    "\n",
    "def _helper_function(A, p, r):\n",
    "    if p < r:\n",
    "        q = (p + r) // 2\n",
    "        _helper_function(A, p, q)\n",
    "        _helper_function(A, q+1, r)\n",
    "        merge(A, p, q, r)"
   ]
  },
  {
   "cell_type": "markdown",
   "metadata": {},
   "source": [
    "#### *test merge sort*"
   ]
  },
  {
   "cell_type": "code",
   "execution_count": 15,
   "metadata": {},
   "outputs": [
    {
     "name": "stdout",
     "output_type": "stream",
     "text": [
      "排序前：[56, 69, 64, 30, 47, 73, 86, 8, 7, 73]\n",
      "排序后：[7, 8, 30, 47, 56, 64, 69, 73, 73, 86]\n"
     ]
    }
   ],
   "source": [
    "A = [random.randint(0,100) for i in range(10)]\n",
    "print(\"排序前：\" + str(A))\n",
    "merge_sort(A)\n",
    "print(\"排序后：\" + str(A))"
   ]
  },
  {
   "cell_type": "code",
   "execution_count": 16,
   "metadata": {},
   "outputs": [
    {
     "name": "stdout",
     "output_type": "stream",
     "text": [
      "Total time running merge_sort: 0.046875 s\n"
     ]
    }
   ],
   "source": [
    "A = [random.random() for i in range(2**14)]\n",
    "fn_timer(merge_sort)(A)"
   ]
  },
  {
   "cell_type": "markdown",
   "metadata": {
    "heading_collapsed": true
   },
   "source": [
    "## 练习"
   ]
  },
  {
   "cell_type": "markdown",
   "metadata": {
    "hidden": true
   },
   "source": [
    "### 2.3-2 无 guard 的 merge sort"
   ]
  },
  {
   "cell_type": "code",
   "execution_count": 17,
   "metadata": {
    "hidden": true
   },
   "outputs": [],
   "source": [
    "def merge_no_guard(A, p, q, r):\n",
    "    L = A[p: q+1]\n",
    "    R = A[q+1:r+1]\n",
    "    i = j = 0\n",
    "    for k in range(p, r+1):\n",
    "        if L[i] < R[j]:\n",
    "            A[k] = L[i]\n",
    "            i += 1\n",
    "            if i > len(L) - 1:\n",
    "                A[k+1:r+1] = R[j:]  # [j:] 表示从第 j 个元素一直取到最后一个元素\n",
    "                break\n",
    "        else:\n",
    "            A[k] = R[j]\n",
    "            j += 1\n",
    "            if j > len(R) - 1:\n",
    "                A[k+1:r+1] = L[i:]\n",
    "                break"
   ]
  },
  {
   "cell_type": "code",
   "execution_count": 18,
   "metadata": {
    "hidden": true
   },
   "outputs": [],
   "source": [
    "def merge_sort_no_guard(A):\n",
    "    _helper_function_no_guard(A, 0, len(A)-1)\n",
    "\n",
    "def _helper_function_no_guard(A, p, r):\n",
    "    if p < r:\n",
    "        q = (p + r) // 2\n",
    "        _helper_function_no_guard(A, p, q)\n",
    "        _helper_function_no_guard(A, q+1, r)\n",
    "        merge_no_guard(A, p, q, r)"
   ]
  },
  {
   "cell_type": "code",
   "execution_count": 19,
   "metadata": {
    "hidden": true,
    "scrolled": true
   },
   "outputs": [
    {
     "name": "stdout",
     "output_type": "stream",
     "text": [
      "排序前：[19, 23, 17, 26, 50, 21, 46, 77, 60, 38]\n",
      "排序后：[17, 19, 21, 23, 26, 38, 46, 50, 60, 77]\n"
     ]
    }
   ],
   "source": [
    "A = [random.randint(0,100) for i in range(10)]\n",
    "print(\"排序前：\" + str(A))\n",
    "merge_sort_no_guard(A)\n",
    "print(\"排序后：\" + str(A))"
   ]
  },
  {
   "cell_type": "markdown",
   "metadata": {
    "heading_collapsed": true,
    "hidden": true
   },
   "source": [
    "### 2.3-4 递归形式的插入排序的最坏运行时间"
   ]
  },
  {
   "cell_type": "markdown",
   "metadata": {
    "hidden": true
   },
   "source": [
    "$$ T(n) = \\left\\{  \n",
    "             \\begin{array}{**lr**}  \n",
    "             T(n) = 1, &n = 1\\\\  \n",
    "             T(n-1) + \\Theta(n), & n > 1\\\\  \n",
    "             \\end{array}  \n",
    "\\right. $$"
   ]
  },
  {
   "cell_type": "markdown",
   "metadata": {
    "heading_collapsed": true,
    "hidden": true
   },
   "source": [
    "### 2.3-5 二分查找"
   ]
  },
  {
   "cell_type": "markdown",
   "metadata": {
    "hidden": true
   },
   "source": [
    "**最坏运行时间为 $ \\Theta(lg(n)) $**"
   ]
  },
  {
   "cell_type": "markdown",
   "metadata": {
    "hidden": true
   },
   "source": [
    "- **递归形式**"
   ]
  },
  {
   "cell_type": "code",
   "execution_count": 20,
   "metadata": {
    "hidden": true
   },
   "outputs": [],
   "source": [
    "def binary_search_recursive(A, v):\n",
    "    def _helper(p, q):\n",
    "        if p > q:\n",
    "            return None\n",
    "        mid = (p+q) // 2\n",
    "        if A[mid] == v:\n",
    "            return mid\n",
    "        elif v > A[mid]:\n",
    "            return _helper(mid+1, q)\n",
    "        else:\n",
    "            return _helper(p, mid-1)\n",
    "    return _helper(0, len(A)-1)"
   ]
  },
  {
   "cell_type": "code",
   "execution_count": 21,
   "metadata": {
    "hidden": true
   },
   "outputs": [
    {
     "name": "stdout",
     "output_type": "stream",
     "text": [
      "A = [42, 47, 51, 52, 54, 57, 62, 64, 66, 67]\n",
      "find the index of 66 in A:8\n"
     ]
    }
   ],
   "source": [
    "A = random.sample(range(40,70), 10)\n",
    "A = sorted(A)\n",
    "print(\"A = \" + str(A))\n",
    "print(\"find the index of 66 in A:\" + str(binary_search_recursive(A, 66)))"
   ]
  },
  {
   "cell_type": "markdown",
   "metadata": {
    "hidden": true
   },
   "source": [
    "- **迭代形式**"
   ]
  },
  {
   "cell_type": "code",
   "execution_count": 38,
   "metadata": {
    "hidden": true
   },
   "outputs": [],
   "source": [
    "def binary_search_iteration(A, v):\n",
    "    p, q = 0, len(A) - 1\n",
    "    while p <= q:\n",
    "        mid = (p+q) // 2\n",
    "        if A[mid] == v:\n",
    "            return mid\n",
    "        elif v > A[mid]:\n",
    "            p = mid + 1\n",
    "        else:\n",
    "            q = mid - 1  \n",
    "    return None"
   ]
  },
  {
   "cell_type": "code",
   "execution_count": 42,
   "metadata": {
    "hidden": true
   },
   "outputs": [
    {
     "name": "stdout",
     "output_type": "stream",
     "text": [
      "A = [58, 59, 51, 56, 66, 57, 65, 60, 53, 69]\n",
      "find the index of 66 in A:4\n"
     ]
    }
   ],
   "source": [
    "A = random.sample(range(40,70), 10)\n",
    "print(\"A = \" + str(A))\n",
    "print(\"find the index of 66 in A:\" + str(binary_search_iteration(A, 66)))"
   ]
  },
  {
   "cell_type": "markdown",
   "metadata": {
    "heading_collapsed": true,
    "hidden": true
   },
   "source": [
    "### 2.3-6 插入排序与二分查找相结合"
   ]
  },
  {
   "cell_type": "markdown",
   "metadata": {
    "heading_collapsed": true,
    "hidden": true
   },
   "source": [
    "#### insertion_sort_binary_search"
   ]
  },
  {
   "cell_type": "code",
   "execution_count": 24,
   "metadata": {
    "hidden": true
   },
   "outputs": [],
   "source": [
    "def insertion_sort_binary_search(A):\n",
    "    for j in range(1, len(A)):\n",
    "        # A[0:j] is a sorted array, use binary search, to find the insert index for A[j]\n",
    "        p,q = 0, j-1\n",
    "        while p<=q:\n",
    "            mid = (p+q) // 2\n",
    "            if A[j] == A[mid]:\n",
    "                p = mid\n",
    "                break\n",
    "            elif A[j] > A[mid]:\n",
    "                p = mid + 1\n",
    "            else:\n",
    "                q = mid - 1\n",
    "        A.insert(p, A.pop(j))"
   ]
  },
  {
   "cell_type": "markdown",
   "metadata": {
    "hidden": true
   },
   "source": [
    "- 程序中第 5 行的 while 循环，采取二分法后，其运行时间最差为 $ lg(n) $\n",
    "- 但是整体的运行时间却不能改善为 $ \\Theta(nlg(n)) $，因为第 14 行，将值插入到数组中时，最差的时间复杂度也为 $ n $\n",
    "- 虽然链表的插入为常数时间，但是使用链表这种数据结构时，就无法使用索引来查找元素，也就无法使用二分查找"
   ]
  },
  {
   "cell_type": "markdown",
   "metadata": {
    "hidden": true
   },
   "source": [
    "#### test"
   ]
  },
  {
   "cell_type": "code",
   "execution_count": 25,
   "metadata": {
    "hidden": true
   },
   "outputs": [
    {
     "name": "stdout",
     "output_type": "stream",
     "text": [
      "排序前:[71, 64, 16, 79, 32, 64, 2, 16, 86, 69]\n",
      "排序后:[2, 16, 16, 32, 64, 64, 69, 71, 79, 86]\n"
     ]
    }
   ],
   "source": [
    "A = [random.randint(0,100) for i in range(10)]\n",
    "print(\"排序前:\" + str(A))\n",
    "insertion_sort_binary_search(A)\n",
    "print(\"排序后:\" + str(A))"
   ]
  },
  {
   "cell_type": "markdown",
   "metadata": {
    "heading_collapsed": true,
    "hidden": true
   },
   "source": [
    "### 2.3-7\n",
    "描述一个运行时间为 $ \\Theta(nlg(n)) $ 的算法，给定 $ n $ 个整数的集合 $ S $ 和另一个整数 $ x $, 该算法能确定$ S $ 中是否存在两个其和刚好为 $ x $ 的元素"
   ]
  },
  {
   "cell_type": "markdown",
   "metadata": {
    "hidden": true
   },
   "source": [
    "- 可借助合并排序和左右夹逼查找，来实现运行时间为 $ \\Theta(nlg(n)) $ 的算法\n",
    "- [参考资料](http://www.voidcn.com/article/p-rchapdhl-bek.html)"
   ]
  },
  {
   "cell_type": "code",
   "execution_count": 57,
   "metadata": {
    "hidden": true
   },
   "outputs": [],
   "source": [
    "def check_sum(A, x):\n",
    "    merge_sort(A)\n",
    "    left, right = 0, len(A) - 1\n",
    "    while left < right:\n",
    "        if A[left] + A[right] == x:\n",
    "            return True\n",
    "        if A[left] + A[right] >= x:\n",
    "            right -= 1\n",
    "        else:\n",
    "            left += 1\n",
    "    return False"
   ]
  },
  {
   "cell_type": "code",
   "execution_count": 99,
   "metadata": {
    "hidden": true
   },
   "outputs": [
    {
     "name": "stdout",
     "output_type": "stream",
     "text": [
      "A = [-10, -10, 6, -10, -9, -5, 2, 6, 1, 9]\n",
      "15: True\n"
     ]
    }
   ],
   "source": [
    "A = [random.randint(-10, 10) for i in range(10)]\n",
    "print(\"A = \"+ str(A))\n",
    "num = 15\n",
    "print(str(num)+ \": \" + str(check_sum(A, num)))"
   ]
  },
  {
   "cell_type": "markdown",
   "metadata": {
    "hidden": true
   },
   "source": [
    "- 输出所有满足条件的结果\n",
    "    - 利用 set　集合去掉重复值"
   ]
  },
  {
   "cell_type": "code",
   "execution_count": 100,
   "metadata": {
    "hidden": true
   },
   "outputs": [],
   "source": [
    "def get_sum(A, x):\n",
    "    merge_sort(A)\n",
    "    res = set()\n",
    "    left, right = 0, len(A) - 1\n",
    "    while left < right:\n",
    "        if A[left] + A[right] == x:\n",
    "            res.add((A[left], A[right]))\n",
    "        if A[left] + A[right] >= x:\n",
    "            right -= 1\n",
    "        else:\n",
    "            left += 1\n",
    "    return res"
   ]
  },
  {
   "cell_type": "code",
   "execution_count": 105,
   "metadata": {
    "hidden": true
   },
   "outputs": [
    {
     "name": "stdout",
     "output_type": "stream",
     "text": [
      "A = [2, 8, 2, 8, 7, 0, 4, 8, 4, 3]\n",
      "8: {(0, 8), (4, 4)}\n"
     ]
    }
   ],
   "source": [
    "A = [random.randint(0, 10) for i in range(10)]\n",
    "print(\"A = \"+ str(A))\n",
    "num = 8\n",
    "print(str(num)+ \": \" + str(get_sum(A, num)))"
   ]
  },
  {
   "cell_type": "markdown",
   "metadata": {},
   "source": [
    "# 思考题"
   ]
  },
  {
   "cell_type": "markdown",
   "metadata": {
    "heading_collapsed": true
   },
   "source": [
    "## 2-1 在归并排序中对小数组使用插入排序"
   ]
  },
  {
   "cell_type": "markdown",
   "metadata": {
    "hidden": true
   },
   "source": [
    "### a\n",
    "用插入排序来排序 k 个元素的表需要的时间为 $ \\Theta(k^2) $, 则 $ n/k $ 张表需要用时 $ n /k * \\Theta(k^2) = \\Theta(nk) $"
   ]
  },
  {
   "cell_type": "markdown",
   "metadata": {
    "hidden": true
   },
   "source": [
    "### b\n",
    "先两两合并 $ n/k $ 张表，得到 $ n/2k $ 张表，再依次类推，直至最后只剩一张表。具体过程如下：\n",
    "$$ \\underbrace {\\frac{n}{k} \\to \\frac{n}{{2k}} \\to  \\cdots  \\to 1}_{\\lg \\left( {\\frac{n}{k}} \\right)} $$\n",
    "每一层的运行时间为 $ \\Theta(n) $，则总的运行时间为 $ \\Theta(nlg(n/k)) $"
   ]
  },
  {
   "cell_type": "markdown",
   "metadata": {
    "hidden": true
   },
   "source": [
    "### c\n",
    "要满足\n",
    "$$\\Theta \\left( {nk + n\\lg \\left( {{n \\over k}} \\right)} \\right) = \\Theta \\left( {n\\lg n} \\right)$$\n",
    "则 k 的最大值不能超过 $\\Theta \\left( {\\lg \\left( k \\right)} \\right)$，如此 $\\Theta \\left( {nk + n\\lg \\left( {{n \\over k}} \\right)} \\right)$ 的左半部分才不会超过 $\\Theta \\left( {n\\lg n} \\right)$ \n",
    "\n",
    "当 $k = \\Theta \\left( {\\lg \\left( n \\right)} \\right)$ 时，\n",
    "$$\\Theta \\left( {nk + n\\lg \\left( {{n \\over k}} \\right)} \\right) = \\Theta \\left( {nk + n\\lg \\left( n \\right) - n\\lg \\left( k \\right)} \\right)\\buildrel {k = \\Theta \\left( {\\lg \\left( n \\right)} \\right)} \\over\n",
    " \\longrightarrow \\Theta \\left( {2n\\lg \\left( n \\right) - n\\lg \\lg \\left( k \\right)} \\right) = \\Theta \\left( {n\\lg \\left( n \\right)} \\right)$$\n",
    " \n",
    " 满足要求，所以 $k$ 的最大值为 $\\Theta \\left( {\\lg \\left( n \\right)} \\right)$"
   ]
  },
  {
   "cell_type": "markdown",
   "metadata": {
    "heading_collapsed": true,
    "hidden": true
   },
   "source": [
    "### d\n",
    " 应选择 $ k $，使得对于长度为 $ k $ 的表，插入排序的运行时间要快于归并排序"
   ]
  },
  {
   "cell_type": "code",
   "execution_count": 28,
   "metadata": {
    "hidden": true
   },
   "outputs": [
    {
     "data": {
      "text/plain": [
       "<matplotlib.legend.Legend at 0x1f62c6f0550>"
      ]
     },
     "execution_count": 28,
     "metadata": {},
     "output_type": "execute_result"
    },
    {
     "data": {
      "image/png": "[encoded data removed]",
      "text/plain": [
       "<Figure size 432x288 with 1 Axes>"
      ]
     },
     "metadata": {
      "needs_background": "light"
     },
     "output_type": "display_data"
    }
   ],
   "source": [
    "n = np.arange(1,50,1)\n",
    "insert_sort_time = 8 * n ** 2\n",
    "merge_sort_time = 64 * n * np.log2(n)\n",
    "\n",
    "fig = plt.figure()\n",
    "ax = fig.add_subplot(1,1,1)\n",
    "l1 = ax.plot(n, insert_sort_time, label='$8{n^2}$')\n",
    "l2 = ax.plot(n, merge_sort_time, label='$64n\\lg n$')\n",
    "ax.legend()"
   ]
  },
  {
   "cell_type": "code",
   "execution_count": 29,
   "metadata": {
    "hidden": true
   },
   "outputs": [
    {
     "data": {
      "text/plain": [
       "array([43.55926044])"
      ]
     },
     "execution_count": 29,
     "metadata": {},
     "output_type": "execute_result"
    }
   ],
   "source": [
    "def f(n):\n",
    "    return 8 * n ** 2 - 64 * n * np.log2(n)\n",
    "\n",
    "fsolve(f, 43)"
   ]
  },
  {
   "cell_type": "markdown",
   "metadata": {
    "hidden": true
   },
   "source": [
    "- 从图中和计算结果可看出，k 的值不应过大，最大为 43"
   ]
  },
  {
   "cell_type": "markdown",
   "metadata": {
    "hidden": true
   },
   "source": [
    "### 代码实现"
   ]
  },
  {
   "cell_type": "code",
   "execution_count": 30,
   "metadata": {
    "hidden": true
   },
   "outputs": [],
   "source": [
    "def merge_sort_with_insertion_sort(A, k):\n",
    "    _helper_function_with_insertion_sort(A, 0, len(A)-1, k)\n",
    "\n",
    "def _helper_function_with_insertion_sort(A, p, r, k):\n",
    "    if r - p > k:\n",
    "        q = (p + r) // 2\n",
    "        _helper_function_with_insertion_sort(A, p, q, k)\n",
    "        _helper_function_with_insertion_sort(A, q+1, r, k)\n",
    "        merge(A, p, q, r)\n",
    "    else:\n",
    "        for i in range(p+1, r+1):\n",
    "            key = A[i]\n",
    "            j = i - 1\n",
    "            while j >= p and A[j] > key:\n",
    "                A[j+1] = A[j]\n",
    "                j -= 1\n",
    "            A[j+1] = key"
   ]
  },
  {
   "cell_type": "code",
   "execution_count": 31,
   "metadata": {
    "hidden": true
   },
   "outputs": [
    {
     "name": "stdout",
     "output_type": "stream",
     "text": [
      "排序前：[5, 45, 23, 90, 20, 69, 47, 22, 46, 99]\n",
      "排序后：[5, 20, 22, 23, 45, 46, 47, 69, 90, 99]\n"
     ]
    }
   ],
   "source": [
    "A = [random.randint(0,100) for i in range(10)]\n",
    "print(\"排序前：\" + str(A))\n",
    "merge_sort_with_insertion_sort(A, 3)\n",
    "print(\"排序后：\" + str(A))"
   ]
  },
  {
   "cell_type": "code",
   "execution_count": 32,
   "metadata": {
    "hidden": true
   },
   "outputs": [
    {
     "name": "stdout",
     "output_type": "stream",
     "text": [
      "Total time running merge_sort: 3.8125 s\n",
      "k = 0 Total time running merge_sort_with_insertion_sort: 4.078125 s\n",
      "k = 10 Total time running merge_sort_with_insertion_sort: 2.6875 s\n",
      "k = 20 Total time running merge_sort_with_insertion_sort: 2.703125 s\n",
      "k = 30 Total time running merge_sort_with_insertion_sort: 2.796875 s\n",
      "k = 40 Total time running merge_sort_with_insertion_sort: 3.09375 s\n",
      "k = 50 Total time running merge_sort_with_insertion_sort: 3.046875 s\n",
      "k = 60 Total time running merge_sort_with_insertion_sort: 2.984375 s\n",
      "k = 70 Total time running merge_sort_with_insertion_sort: 3.84375 s\n",
      "k = 80 Total time running merge_sort_with_insertion_sort: 5.1875 s\n",
      "k = 90 Total time running merge_sort_with_insertion_sort: 3.9375 s\n"
     ]
    }
   ],
   "source": [
    "A = [random.random() for i in range(2 ** 20)]\n",
    "B = A.copy()\n",
    "fn_timer(merge_sort)(A)\n",
    "for k in range(0,100,10):\n",
    "    A = B.copy()\n",
    "    print(\"k = \" + str(k), end=\" \")\n",
    "    fn_timer(merge_sort_with_insertion_sort)(A, k)"
   ]
  },
  {
   "cell_type": "markdown",
   "metadata": {
    "heading_collapsed": true
   },
   "source": [
    "## 2-2 冒泡排序的正确性"
   ]
  },
  {
   "cell_type": "markdown",
   "metadata": {
    "hidden": true
   },
   "source": [
    "### a"
   ]
  },
  {
   "cell_type": "markdown",
   "metadata": {
    "hidden": true
   },
   "source": [
    "需要证明 $A'$ 中元素构成 $ A $ 中元素的排列,在伪代码中，对于 $ A $ 中元素的操作只包括交换两个元素，因此可认为此条件成立"
   ]
  },
  {
   "cell_type": "markdown",
   "metadata": {
    "hidden": true
   },
   "source": [
    "### b"
   ]
  },
  {
   "cell_type": "markdown",
   "metadata": {
    "hidden": true
   },
   "source": [
    "循环不变式：\n",
    "$$ A\\left[ j - 1 \\right] = \\min \\left\\{ {A\\left[ k \\right],j - 1 \\le k \\le n} \\right\\} \\tag{2-2 (1)} $$\n",
    "\n",
    "初始化： $ j = n $，执行完一次循环后，满足式 （2-2 (1))\n",
    "\n",
    "保持： 如果 $ A\\left[ j \\right] < A\\left[ {j - 1} \\right] $ ，则会交换 $A\\left[ j \\right]$ 和 $A\\left[ j-1\\right]$，如此，每次循环后，仍满足式 （2-2 (1))\n",
    "\n",
    "终止： 当 $j = i + 1$，其仍满足式 （2-2 (1))，即是说 2 ~ 4 行执行完毕后，满足下式：\n",
    "$$A\\left[ {i} \\right] = \\min \\left\\{ {A\\left[ k \\right],i \\le k \\le n} \\right\\}{\\rm{ }}\\tag{2-2 (2)}$$"
   ]
  },
  {
   "cell_type": "markdown",
   "metadata": {
    "hidden": true
   },
   "source": [
    "### c"
   ]
  },
  {
   "cell_type": "markdown",
   "metadata": {
    "hidden": true
   },
   "source": [
    "循环不变式：\n",
    "$A[0 \\cdots i]$ 已按非降序排序，并且满足式 (2-2 (2))"
   ]
  },
  {
   "cell_type": "markdown",
   "metadata": {
    "hidden": true
   },
   "source": [
    "### d"
   ]
  },
  {
   "cell_type": "markdown",
   "metadata": {
    "hidden": true
   },
   "source": [
    "内层循环执行的次数为：\n",
    "$$\\sum\\limits_{i = 1}^n {\\left( {n - i} \\right)}  = {n^2} - {{n\\left( {n + 1} \\right)} \\over 2} = {{{n^2} - n} \\over 2}$$\n",
    "其运行时间为 $ \\Theta(n^2) $，与插入排序的最差运行时间相同"
   ]
  },
  {
   "cell_type": "markdown",
   "metadata": {
    "hidden": true
   },
   "source": [
    "### 代码实现"
   ]
  },
  {
   "cell_type": "code",
   "execution_count": 113,
   "metadata": {
    "hidden": true
   },
   "outputs": [],
   "source": [
    "def bubble_sort(A):\n",
    "    for i in range(len(A)-1):\n",
    "        for j in reversed(range(i+1, len(A))):\n",
    "            if A[j] < A[j-1]:\n",
    "                A[j], A[j-1] = A[j-1], A[j]"
   ]
  },
  {
   "cell_type": "code",
   "execution_count": 114,
   "metadata": {
    "hidden": true
   },
   "outputs": [
    {
     "name": "stdout",
     "output_type": "stream",
     "text": [
      "A = [14, 44, 69, 27, 82, 36, 45, 55, 7, 54]\n",
      "Bubble sort A: [7, 14, 27, 36, 44, 45, 54, 55, 69, 82]\n"
     ]
    }
   ],
   "source": [
    "A = [random.randint(0, 100) for i in range(10)]\n",
    "print(\"A = \" + str(A))\n",
    "bubble_sort(A)\n",
    "print(\"Bubble sort A: \" + str(A))"
   ]
  },
  {
   "cell_type": "markdown",
   "metadata": {
    "heading_collapsed": true
   },
   "source": [
    "## 2-3 霍纳（Horner) 规则的正确性"
   ]
  },
  {
   "cell_type": "markdown",
   "metadata": {
    "heading_collapsed": true,
    "hidden": true
   },
   "source": [
    "### a"
   ]
  },
  {
   "cell_type": "markdown",
   "metadata": {
    "hidden": true
   },
   "source": [
    "运行时间为 $ \\Theta(n) $"
   ]
  },
  {
   "cell_type": "markdown",
   "metadata": {
    "heading_collapsed": true,
    "hidden": true
   },
   "source": [
    "### b"
   ]
  },
  {
   "cell_type": "markdown",
   "metadata": {
    "hidden": true
   },
   "source": [
    "```python\n",
    "y = a_0\n",
    "for i = 1 to n:\n",
    "    pow_x = 1\n",
    "    for j = 1 to i:\n",
    "        pow_x *= x\n",
    "    y += a_i * pow_x\n",
    "```\n",
    "运行时间为 $$\\sum\\limits_{i = 1}^n i  = {{n\\left( {n + 1} \\right)} \\over 2}$$\n",
    "等于 $\\Theta(n^2)$ 要远大于霍纳规则"
   ]
  },
  {
   "cell_type": "markdown",
   "metadata": {
    "heading_collapsed": true,
    "hidden": true
   },
   "source": [
    "### c"
   ]
  },
  {
   "cell_type": "markdown",
   "metadata": {
    "hidden": true
   },
   "source": [
    "最后一次循环开始时， $i=0$，代入：\n",
    "$$y = \\sum\\limits_{k = 0}^{n - \\left( {i + 1} \\right)} {{a_{k + i + 1}}{x^k}} $$\n",
    "可得\n",
    "$$y = \\sum\\limits_{k = 0}^{n - 1} {{a_{k + 1}}{x^k}} $$\n",
    "则循环终止时，可得\n",
    "$$y = {a_0} + x\\sum\\limits_{k = 0}^{n - 1} {{a_{k + 1}}{x^k}}  = {a_0}{x^0} + \\sum\\limits_{k = 0}^{n - 1} {{a_{k + 1}}{x^{k + 1}}}  = {a_0}{x^0} + \\sum\\limits_{k = 1}^n {{a_k}{x^k}}  = \\sum\\limits_{k = 0}^n {{a_k}{x^k}} \\tag{2-3 (1)} $$"
   ]
  },
  {
   "cell_type": "markdown",
   "metadata": {
    "hidden": true
   },
   "source": [
    "### d"
   ]
  },
  {
   "cell_type": "markdown",
   "metadata": {
    "hidden": true
   },
   "source": [
    "由式 (2-3 (1)) 可证明代码片段能正确的求解多项式的值"
   ]
  },
  {
   "cell_type": "markdown",
   "metadata": {},
   "source": [
    "## 2-4 逆序对"
   ]
  },
  {
   "cell_type": "markdown",
   "metadata": {
    "heading_collapsed": true
   },
   "source": [
    "### a"
   ]
  },
  {
   "cell_type": "markdown",
   "metadata": {
    "hidden": true
   },
   "source": [
    "<2, 3, 8, 6, 1> 的逆序对为 (1, 5), (2, 5), (3, 4), (3, 5), (4, 5)"
   ]
  },
  {
   "cell_type": "markdown",
   "metadata": {},
   "source": [
    "### b"
   ]
  },
  {
   "cell_type": "markdown",
   "metadata": {},
   "source": [
    "构成的降序数组具有最多的逆序对，最多有：\n",
    "$$\\sum\\limits_{i = 1}^n {\\left( {i - 1} \\right) = {{n\\left( {n - 1} \\right)} \\over 2}} $$"
   ]
  },
  {
   "cell_type": "markdown",
   "metadata": {},
   "source": [
    "### c"
   ]
  },
  {
   "cell_type": "markdown",
   "metadata": {},
   "source": [
    "逆序对越多，运行时间越长。\n",
    "\n",
    "因为插入排序移动数组元素时，仅针对逆序对，逆序对越多，其所要进行的操作越多"
   ]
  },
  {
   "cell_type": "markdown",
   "metadata": {},
   "source": [
    "### d"
   ]
  },
  {
   "cell_type": "markdown",
   "metadata": {},
   "source": [
    "#### 代码"
   ]
  },
  {
   "cell_type": "code",
   "execution_count": 189,
   "metadata": {},
   "outputs": [],
   "source": [
    "def get_inversions(A):\n",
    "    B = A.copy()\n",
    "    return get_inversions_helper_function(B, 0, len(B)-1)\n",
    "\n",
    "def get_inversions_helper_function(A, p, r):\n",
    "    reverse_orders = 0\n",
    "    if p < r:\n",
    "        q = (p + r) // 2\n",
    "        reverse_orders += get_inversions_helper_function(A, p, q)\n",
    "        reverse_orders += get_inversions_helper_function(A, q+1, r)\n",
    "        reverse_orders += merge_for_get_inversions(A, p, q, r)\n",
    "    return reverse_orders\n",
    "\n",
    "def merge_for_get_inversions(A, p, q, r):\n",
    "    reverse_orders = 0\n",
    "    L = A[p:q+1]\n",
    "    L.append(float('inf'))\n",
    "    R = A[q+1:r+1]\n",
    "    R.append(float('inf'))\n",
    "    i = j = 0\n",
    "    for k in range(p,r+1):\n",
    "        if L[i] <= R[j]:\n",
    "            A[k] = L[i]\n",
    "            i += 1\n",
    "        else:\n",
    "            reverse_orders += len(L) - 1 - i\n",
    "            A[k] = R[j]\n",
    "            j += 1\n",
    "    return reverse_orders"
   ]
  },
  {
   "cell_type": "code",
   "execution_count": 192,
   "metadata": {},
   "outputs": [
    {
     "name": "stdout",
     "output_type": "stream",
     "text": [
      "A = [2, 14, 5, 4, 8]\n",
      "The reverse orders in A is 4\n"
     ]
    }
   ],
   "source": [
    "A = [random.randint(1,20) for i in range(5)]\n",
    "#A = [5, 4, 3, 2, 1]\n",
    "print(\"A = \" + str(A))\n",
    "print(\"The reverse orders in A is \" + str(get_inversions(A)))"
   ]
  },
  {
   "cell_type": "markdown",
   "metadata": {},
   "source": [
    "#### 主要思路"
   ]
  },
  {
   "cell_type": "markdown",
   "metadata": {},
   "source": [
    "借助合并排序来实现统计，对于合并排序的两个数组，其左右均是排好序的数组，如下式：\n",
    "$$\\underbrace {\\left[ {\\matrix{\n",
    "    \\cdots  & {L\\left[ i \\right]} &  \\cdots   \\cr \n",
    " } } \\right]}_{L:q - p + 1} \\leftrightarrow \\underbrace {\\left[ {\\matrix{\n",
    "    \\cdots  & {R\\left[ j \\right]} &  \\cdots   \\cr \n",
    " } } \\right]}_{R:r - p}$$\n",
    " \n",
    "如果左边数组存在一个元素 $L\\left[ i \\right] > R\\left[ j \\right]$, 由于左边均是排好序的数组,则有下式成立:\n",
    "$$L\\left[ k \\right] > R\\left[ j \\right]{\\kern 1pt} {\\kern 1pt} {\\kern 1pt} {\\kern 1pt} {\\kern 1pt} {\\kern 1pt} {\\kern 1pt} k \\ge i$$\n",
    "\n",
    "因此对于数组 $ A $ 来说,  $\\left( {L(k),R(j)} \\right)$ 为逆序对, 其中 $i \\le k < len\\left( L \\right) - 1$\n",
    "\n",
    "则可由下式计算逆序对,(数组索引从 0 开始, 且 $ L $ 最后一个元素为$+\\infty $), \n",
    "$$ len(L) - 1 - i \\tag{2-4 (1)}$$\n",
    "\n",
    "L, R 末尾添加的 $+\\infty $ 不会影响结果,因为左边数组 $+\\infty $ 的下标为 $ len(L) - 1$ ,此时式 (2-4 (1)) 结果为 0 ,不会影响整体的结果\n",
    "\n",
    "$L\\left[ i \\right] > R\\left[ j \\right]$ 只要出现一次, $j$ 就会加 1,因此不会存在重复统计的情况\n",
    "\n",
    "两个子数组合并后,可以按照相同的方法向上递推,最终得到整个数组的逆序对"
   ]
  }
 ],
 "metadata": {
  "kernelspec": {
   "display_name": "Python 3",
   "language": "python",
   "name": "python3"
  },
  "language_info": {
   "codemirror_mode": {
    "name": "ipython",
    "version": 3
   },
   "file_extension": ".py",
   "mimetype": "text/x-python",
   "name": "python",
   "nbconvert_exporter": "python",
   "pygments_lexer": "ipython3",
   "version": "3.7.3"
  }
 },
 "nbformat": 4,
 "nbformat_minor": 2
}
