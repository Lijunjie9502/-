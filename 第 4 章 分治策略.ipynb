{
 "cells": [
  {
   "cell_type": "code",
   "execution_count": 0,
   "metadata": {
    "colab": {},
    "colab_type": "code",
    "id": "BoocIXzlnT32"
   },
   "outputs": [],
   "source": [
    "import random\n",
    "import numpy as np\n",
    "import matplotlib.pyplot as plt\n",
    "from scipy.optimize import fsolve\n",
    "import numpy as np\n",
    "import matplotlib.pyplot as plt\n",
    "import random\n",
    "import math\n",
    "\n",
    "import timeit\n",
    "from functools import wraps\n",
    "  \n",
    "def wrapper(func, *args, **kwargs):\n",
    "    def wrapped():\n",
    "        return func(*args, **kwargs)\n",
    "    return wrapped\n",
    "\n",
    "%matplotlib inline"
   ]
  },
  {
   "cell_type": "markdown",
   "metadata": {
    "colab_type": "text",
    "heading_collapsed": true,
    "id": "u363SAClnT35"
   },
   "source": [
    "## 4.1 最大子数组问题"
   ]
  },
  {
   "cell_type": "markdown",
   "metadata": {
    "colab_type": "text",
    "heading_collapsed": true,
    "hidden": true,
    "id": "m8dBI-8qnT35"
   },
   "source": [
    "### 分治法的算法实现"
   ]
  },
  {
   "cell_type": "code",
   "execution_count": 0,
   "metadata": {
    "colab": {},
    "colab_type": "code",
    "hidden": true,
    "id": "ryz-LkyjnT36"
   },
   "outputs": [],
   "source": [
    "def find_max_crossing_subarray(A, low, high):\n",
    "    if low == high:\n",
    "        return (low, high, A[low])\n",
    "    mid = (low + high) // 2\n",
    "    left_sum_max, left_sum, left = -float('inf'), 0, 0\n",
    "    for i in reversed(range(low, mid + 1)):\n",
    "        left_sum += A[i]\n",
    "        if left_sum > left_sum_max:\n",
    "            left, left_sum_max = i, left_sum\n",
    "    right_sum_max, right_sum, right = -float('inf'), 0, 0\n",
    "    for i in range(mid+1, high+1):\n",
    "        right_sum += A[i]\n",
    "        if right_sum > right_sum_max:\n",
    "            right, right_sum_max = i, right_sum\n",
    "    return (left, right, left_sum_max + right_sum_max)\n",
    "\n",
    "\n",
    "def find_max_subarray_recursion(A, low, high):\n",
    "    \"\"\"查找最大子数组的递归解法\"\"\"\n",
    "    if low == high:\n",
    "        return (low, high, A[low])\n",
    "    mid = (low + high) // 2\n",
    "    (left_low, left_high, left_max) = find_max_subarray_recursion(A, low, mid)\n",
    "    (right_low, right_high, right_max) = find_max_subarray_recursion(A, mid + 1, high)\n",
    "    (mid_low, mid_high, mid_max) = find_max_crossing_subarray(A, low, high)\n",
    "    if left_max >= right_max and left_max >= mid_max:\n",
    "        return (left_low, left_high, left_max)\n",
    "    if right_max >= left_max and right_max >= mid_max:\n",
    "        return(right_low, right_high, right_max)\n",
    "    else:\n",
    "        return(mid_low, mid_high, mid_max)"
   ]
  },
  {
   "cell_type": "code",
   "execution_count": 0,
   "metadata": {
    "colab": {},
    "colab_type": "code",
    "hidden": true,
    "id": "pjfXnAsTnT37",
    "outputId": "d4abe1c7-74e4-49f7-ae41-7574ef3f7a2c"
   },
   "outputs": [
    {
     "name": "stdout",
     "output_type": "stream",
     "text": [
      "A = [13, -3, -25, 20, -3, -16, -23, 18, 20, -7, 12, -5, -22, 15, -4, 7]\n",
      "The result of is:(7, 10, 43)\n",
      "A = [-2, 4, 5, 5, 3, -2, -3, 0, 0, -5]\n",
      "The result is:(1, 4, 17)\n"
     ]
    }
   ],
   "source": [
    "A = [13, -3, -25, 20, -3, -16, -23, 18, 20, -7, 12, -5, -22, 15, -4, 7]\n",
    "print(\"A = \" + str(A))\n",
    "print(\"The result of is:\" + str(find_max_subarray_recursion(A, 0, len(A) - 1)))\n",
    "A = [random.randint(-5, 5) for i in range(10)]\n",
    "print(\"A = \" + str(A))\n",
    "print(\"The result is:\" + str(find_max_subarray_recursion(A, 0, len(A) - 1)))"
   ]
  },
  {
   "cell_type": "markdown",
   "metadata": {
    "colab_type": "text",
    "heading_collapsed": true,
    "hidden": true,
    "id": "7SL3p4HUnT39"
   },
   "source": [
    "### 练习"
   ]
  },
  {
   "cell_type": "markdown",
   "metadata": {
    "colab_type": "text",
    "heading_collapsed": true,
    "hidden": true,
    "id": "3FppFr6_nT39"
   },
   "source": [
    "#### 4.1-1 A 中所有元素均为负数的情况"
   ]
  },
  {
   "cell_type": "markdown",
   "metadata": {
    "colab_type": "text",
    "hidden": true,
    "id": "wy2HZaP6nT3-"
   },
   "source": [
    " - 当 A 中所有元素均为负数时，返回的数组中最小的负数"
   ]
  },
  {
   "cell_type": "code",
   "execution_count": 0,
   "metadata": {
    "colab": {},
    "colab_type": "code",
    "hidden": true,
    "id": "_lGO3F9DnT3-",
    "outputId": "2cafbe63-ff17-4851-98df-b0236b032539"
   },
   "outputs": [
    {
     "name": "stdout",
     "output_type": "stream",
     "text": [
      "A = [-2, -3, -8, -4, -2, -1, -2, -4, -6, -3]\n",
      "The result of is:(5, 5, -1)\n"
     ]
    }
   ],
   "source": [
    "A = [random.randint(-10,-1) for i in range(10)]\n",
    "print(\"A = \" + str(A))\n",
    "print(\"The result of is:\" + str(find_max_subarray_recursion(A, 0, len(A) - 1)))"
   ]
  },
  {
   "cell_type": "markdown",
   "metadata": {
    "colab_type": "text",
    "heading_collapsed": true,
    "hidden": true,
    "id": "2I6oHw_jnT4A"
   },
   "source": [
    "#### 4.1-2 最大子数组问题的暴力解法"
   ]
  },
  {
   "cell_type": "code",
   "execution_count": 0,
   "metadata": {
    "colab": {},
    "colab_type": "code",
    "hidden": true,
    "id": "mO1yJ8RqnT4A"
   },
   "outputs": [],
   "source": [
    "def find_max_subarray_brute_force(A):\n",
    "    \"\"\"查找最大子数组的暴力解法\"\"\"\n",
    "    max_sum = -float('inf')\n",
    "    left, right = 0, 0\n",
    "    for i in range(len(A)):\n",
    "        temp_sum = 0\n",
    "        for j in range(i, len(A)):\n",
    "            temp_sum += A[j]\n",
    "            if temp_sum > max_sum:\n",
    "                max_sum = temp_sum\n",
    "                left, right = i, j\n",
    "    return (left, right, max_sum)\n"
   ]
  },
  {
   "cell_type": "code",
   "execution_count": 0,
   "metadata": {
    "colab": {},
    "colab_type": "code",
    "hidden": true,
    "id": "JWUr9mNfnT4C",
    "outputId": "82319d5c-77b4-40a8-abc5-0801dc6ad70e"
   },
   "outputs": [
    {
     "name": "stdout",
     "output_type": "stream",
     "text": [
      "A = [13, -3, -25, 20, -3, -16, -23, 18, 20, -7, 12, -5, -22, 15, -4, 7]\n",
      "The result of is:(7, 10, 43)\n",
      "A = [-4, -2, 5, -4, 5, -3, 5, 0, 1, -3]\n",
      "The result is:(2, 8, 9)\n"
     ]
    }
   ],
   "source": [
    " A = [13, -3, -25, 20, -3, -16, -23, 18, 20, -7, 12, -5, -22, 15, -4, 7]\n",
    "print(\"A = \" + str(A))\n",
    "print(\"The result of is:\" + str(find_max_subarray_brute_force(A)))\n",
    "A = [random.randint(-5, 5) for i in range(10)]\n",
    "print(\"A = \" + str(A))\n",
    "print(\"The result is:\" + str(find_max_subarray_brute_force(A)))"
   ]
  },
  {
   "cell_type": "markdown",
   "metadata": {
    "colab_type": "text",
    "heading_collapsed": true,
    "hidden": true,
    "id": "D62AeU7DnT4D"
   },
   "source": [
    "#### 4.1-3 暴力解法加分治法"
   ]
  },
  {
   "cell_type": "markdown",
   "metadata": {
    "colab_type": "text",
    "heading_collapsed": true,
    "hidden": true,
    "id": "ZEq9LxQsnT4E"
   },
   "source": [
    "##### 暴力解法与分治法运行时间分析"
   ]
  },
  {
   "cell_type": "code",
   "execution_count": 0,
   "metadata": {
    "colab": {},
    "colab_type": "code",
    "hidden": true,
    "id": "YsDDUi1CnT4E"
   },
   "outputs": [],
   "source": [
    "recursive_time = list()\n",
    "brute_force_time = list()\n",
    "num = 100\n",
    "B = [random.randint(-10, 10) for i in range(100)]\n",
    "for i in range(1, 100):\n",
    "    A = B[:i]\n",
    "    recursive_time.append(timeit.timeit(wrapper(find_max_subarray_recursion, A, 0, len(A)-1), number=1000))\n",
    "    brute_force_time.append(timeit.timeit(wrapper(find_max_subarray_brute_force, A), number=1000))"
   ]
  },
  {
   "cell_type": "code",
   "execution_count": 0,
   "metadata": {
    "colab": {},
    "colab_type": "code",
    "hidden": true,
    "id": "U5Ly7PfWnT4F",
    "outputId": "4a689e26-018e-4f81-ef3c-525aacea6213",
    "scrolled": true
   },
   "outputs": [
    {
     "data": {
      "text/plain": [
       "<matplotlib.legend.Legend at 0x2bd3e45e6a0>"
      ]
     },
     "execution_count": 17,
     "metadata": {
      "tags": []
     },
     "output_type": "execute_result"
    },
    {
     "data": {
      "image/png": "[encoded data removed]",
      "text/plain": [
       "<Figure size 432x288 with 1 Axes>"
      ]
     },
     "metadata": {
      "needs_background": "light",
      "tags": []
     },
     "output_type": "display_data"
    }
   ],
   "source": [
    "fig = plt.figure()\n",
    "ax = fig.add_subplot(1,1,1)\n",
    "line1, = ax.plot(np.arange(1,len(recursive_time) + 1), recursive_time)\n",
    "line2, =  ax.plot(np.arange(1,len(brute_force_time) + 1), brute_force_time)\n",
    "ax.set_xlabel('Problem Size')\n",
    "ax.set_ylabel('time(s)')\n",
    "ax.legend([line1, line2], ['recursion', 'brute force'])"
   ]
  },
  {
   "cell_type": "markdown",
   "metadata": {
    "colab_type": "text",
    "hidden": true,
    "id": "sK02rDObnT4H"
   },
   "source": [
    "- 从上图中可看邮，输入规模大概在 70 以下时，暴力解法要优于分治算法\n",
    "- 输入规模在 20 左右时，暴力解法的性能与分治法差别最大"
   ]
  },
  {
   "cell_type": "markdown",
   "metadata": {
    "colab_type": "text",
    "heading_collapsed": true,
    "hidden": true,
    "id": "mMheeyP4nT4H"
   },
   "source": [
    "##### 暴力解法与分治法相结合的算法实现"
   ]
  },
  {
   "cell_type": "code",
   "execution_count": 0,
   "metadata": {
    "colab": {},
    "colab_type": "code",
    "hidden": true,
    "id": "dh-NADz3nT4I"
   },
   "outputs": [],
   "source": [
    "def find_max_subarray_recursion_and_brute_force(A, low, high, k):\n",
    "    \"\"\"查找最大子数组的递归解法\"\"\"\n",
    "    if low == high:\n",
    "        return (low, high, A[low])\n",
    "    if high - low > k:\n",
    "        mid = (low + high) // 2\n",
    "        (left_low, left_high, left_max) = find_max_subarray_recursion_and_brute_force(A, low, mid, k)\n",
    "        (right_low, right_high, right_max) = find_max_subarray_recursion_and_brute_force(A, mid + 1, high, k)\n",
    "        (mid_low, mid_high, mid_max) = find_max_crossing_subarray(A, low, high)\n",
    "        if left_max >= right_max and left_max >= mid_max:\n",
    "            return (left_low, left_high, left_max)\n",
    "        if right_max >= left_max and right_max >= mid_max:\n",
    "            return(right_low, right_high, right_max)\n",
    "        else:\n",
    "            return(mid_low, mid_high, mid_max)\n",
    "    max_sum = -float('inf')\n",
    "    left, right = low, low\n",
    "    for i in range(low, high+1):\n",
    "        temp_sum = 0\n",
    "        for j in range(i, high+1):\n",
    "            temp_sum += A[j]\n",
    "            if temp_sum > max_sum:\n",
    "                max_sum = temp_sum\n",
    "                left, right = i, j\n",
    "    return (left, right, max_sum)"
   ]
  },
  {
   "cell_type": "code",
   "execution_count": 0,
   "metadata": {
    "colab": {},
    "colab_type": "code",
    "hidden": true,
    "id": "y-9SRolJnT4J",
    "outputId": "9a213075-b611-4301-e11d-5fce8524cdd6"
   },
   "outputs": [
    {
     "name": "stdout",
     "output_type": "stream",
     "text": [
      "A = [13, -3, -25, 20, -3, -16, -23, 18, 20, -7, 12, -5, -22, 15, -4, 7]\n",
      "The result of is:(7, 10, 43)\n",
      "A = [4, 3, -3, 5, 3, -5, 2, -2, 4, 2]\n",
      "The result is:(0, 9, 13)\n"
     ]
    }
   ],
   "source": [
    "A = [13, -3, -25, 20, -3, -16, -23, 18, 20, -7, 12, -5, -22, 15, -4, 7]\n",
    "print(\"A = \" + str(A))\n",
    "print(\"The result of is:\" + str(find_max_subarray_recursion_and_brute_force(A, 0, len(A) - 1, 4)))\n",
    "A = [random.randint(-5, 5) for i in range(10)]\n",
    "print(\"A = \" + str(A))\n",
    "print(\"The result is:\" + str(find_max_subarray_recursion_and_brute_force(A, 0, len(A) - 1, 4)))"
   ]
  },
  {
   "cell_type": "markdown",
   "metadata": {
    "colab_type": "text",
    "heading_collapsed": true,
    "hidden": true,
    "id": "DlEdd7TynT4K"
   },
   "source": [
    "##### 输入规模的切换点对性能的影响"
   ]
  },
  {
   "cell_type": "code",
   "execution_count": 0,
   "metadata": {
    "colab": {},
    "colab_type": "code",
    "hidden": true,
    "id": "HTd41R4JnT4L",
    "scrolled": false
   },
   "outputs": [],
   "source": [
    "A = [random.randint(-10, 10) for i in range(10000)]\n",
    "res_brute_and_recursion = list()\n",
    "for k in range(0, 100, 2):\n",
    "    res_brute_and_recursion.append(timeit.timeit(wrapper(find_max_subarray_recursion_and_brute_force, A, 0, len(A)-1, k), number=100))\n",
    "recursion_time = timeit.timeit(wrapper(find_max_subarray_recursion, A, 0, len(A)-1), number=100)"
   ]
  },
  {
   "cell_type": "code",
   "execution_count": 0,
   "metadata": {
    "colab": {},
    "colab_type": "code",
    "hidden": true,
    "id": "qoZbYVNQnT4M",
    "outputId": "8136280b-e00e-4860-908d-37281da87367"
   },
   "outputs": [
    {
     "data": {
      "text/plain": [
       "<matplotlib.legend.Legend at 0x2bd3e5233c8>"
      ]
     },
     "execution_count": 21,
     "metadata": {
      "tags": []
     },
     "output_type": "execute_result"
    },
    {
     "data": {
      "image/png": "[encoded data removed]",
      "text/plain": [
       "<Figure size 432x288 with 1 Axes>"
      ]
     },
     "metadata": {
      "needs_background": "light",
      "tags": []
     },
     "output_type": "display_data"
    }
   ],
   "source": [
    "fig = plt.figure()\n",
    "ax = fig.add_subplot(1,1,1)\n",
    "line1, = ax.plot(np.arange(0, 100, 2), res_brute_and_recursion)\n",
    "line2, =  ax.plot(np.arange(0, 100, 2), [recursion_time for i in range(0, 100, 2)])\n",
    "ax.set_xlabel('Switch Problem Size')\n",
    "ax.set_ylabel('time(s)')\n",
    "ax.legend([line1, line2], ['recursion and brute force', 'recursion'])"
   ]
  },
  {
   "cell_type": "markdown",
   "metadata": {
    "colab_type": "text",
    "hidden": true,
    "id": "4xoMBBwFnT4O"
   },
   "source": [
    "- 从图中的结果可看出，切换点选在 20 左右时，运行时间最短\n",
    "- 当切换点在70左右时，算法的性能要低于单纯的分治算法，与暴力算法和分治算法的性能切换点基本相同"
   ]
  },
  {
   "cell_type": "markdown",
   "metadata": {
    "colab_type": "text",
    "heading_collapsed": true,
    "hidden": true,
    "id": "EPde4Hr6nT4O"
   },
   "source": [
    "#### 4.1-4 允许空子数组作为结果"
   ]
  },
  {
   "cell_type": "code",
   "execution_count": 0,
   "metadata": {
    "colab": {},
    "colab_type": "code",
    "hidden": true,
    "id": "bxiimQUAnT4P"
   },
   "outputs": [],
   "source": [
    "def find_max_crossing_subarray_positive(A, low, high):\n",
    "    if low == high:\n",
    "        return (low, high, A[low]) if A[low] >=0 else (None, None, 0)\n",
    "    mid = (low + high) // 2\n",
    "    left_sum_max, left_sum, left = 0, 0, None\n",
    "    for i in reversed(range(low, mid + 1)):\n",
    "        left_sum += A[i]\n",
    "        if left_sum >= left_sum_max:\n",
    "            left, left_sum_max = i, left_sum\n",
    "    right_sum_max, right_sum, right = 0, 0, None\n",
    "    for i in range(mid+1, high+1):\n",
    "        right_sum += A[i]\n",
    "        if right_sum >= right_sum_max:\n",
    "            right, right_sum_max = i, right_sum\n",
    "    return (left, right, left_sum_max + right_sum_max)\n",
    "\n",
    "\n",
    "def find_max_subarray_recursion_positive(A, low, high):\n",
    "    \"\"\"查找最大子数组的递归解法\"\"\"\n",
    "    if low == high:\n",
    "        return (low, high, A[low])\n",
    "    mid = (low + high) // 2\n",
    "    (left_low, left_high, left_max) = find_max_subarray_recursion(A, low, mid)\n",
    "    (right_low, right_high, right_max) = find_max_subarray_recursion(A, mid + 1, high)\n",
    "    (mid_low, mid_high, mid_max) = find_max_crossing_subarray_positive(A, low, high)\n",
    "    if left_max >= right_max and left_max >= mid_max:\n",
    "        return (left_low, left_high, left_max)\n",
    "    if right_max >= left_max and right_max >= mid_max:\n",
    "        return(right_low, right_high, right_max)\n",
    "    else:\n",
    "        return(mid_low, mid_high, mid_max)"
   ]
  },
  {
   "cell_type": "code",
   "execution_count": 0,
   "metadata": {
    "colab": {},
    "colab_type": "code",
    "hidden": true,
    "id": "ROXsdBdpnT4Q",
    "outputId": "6a3583ad-cfc3-41a0-d9ab-bc52ddb114b1"
   },
   "outputs": [
    {
     "name": "stdout",
     "output_type": "stream",
     "text": [
      "A = [13, -3, -25, 20, -3, -16, -23, 18, 20, -7, 12, -5, -22, 15, -4, 7]\n",
      "The result is:(7, 10, 43)\n",
      "A = [-17, 1, -4, -4, -5, -22, -9, -11, -14, -8]\n",
      "The result is:(1, 1, 1)\n"
     ]
    }
   ],
   "source": [
    "A = [13, -3, -25, 20, -3, -16, -23, 18, 20, -7, 12, -5, -22, 15, -4, 7]\n",
    "print(\"A = \" + str(A))\n",
    "print(\"The result is:{}\".format(str(find_max_subarray_recursion_positive(A, 0, len(A) - 1))))\n",
    "\n",
    "A = [random.randint(-30, 1) for i in range(10)]\n",
    "print(\"A = \" + str(A))\n",
    "print(\"The result is:\" + str(find_max_subarray_recursion_positive(A, 0, len(A) - 1)))"
   ]
  },
  {
   "cell_type": "markdown",
   "metadata": {
    "colab_type": "text",
    "hidden": true,
    "id": "cD8XIC-dnT4S"
   },
   "source": [
    "#### 4.1-5 非递归线性时间的算法"
   ]
  },
  {
   "cell_type": "markdown",
   "metadata": {
    "colab_type": "text",
    "hidden": true,
    "id": "7vpjRz6JnT4S"
   },
   "source": [
    "#### python 算法实现"
   ]
  },
  {
   "cell_type": "code",
   "execution_count": 0,
   "metadata": {
    "colab": {},
    "colab_type": "code",
    "hidden": true,
    "id": "yMdDuNS-nT4S"
   },
   "outputs": [],
   "source": [
    "def find_max_subarray_linear(A):\n",
    "    \"\"\"查找最大子数组的线性解法\"\"\"\n",
    "    if len(A) == 1:\n",
    "        return (0, 0, A[0])\n",
    "    temp_sum, max_sum = A[0], -float('inf')\n",
    "    temp_left, left, right = 0, 0, 0\n",
    "    for i in range(1, len(A)):\n",
    "        if A[i] > A[i] + temp_sum:\n",
    "            temp_left = i\n",
    "            temp_sum = A[i]\n",
    "        else:\n",
    "            temp_sum += A[i]\n",
    "        if temp_sum > max_sum:\n",
    "            max_sum = temp_sum\n",
    "            left = temp_left\n",
    "            right = i\n",
    "    return (left, right, max_sum)"
   ]
  },
  {
   "cell_type": "code",
   "execution_count": 0,
   "metadata": {
    "colab": {},
    "colab_type": "code",
    "hidden": true,
    "id": "zLM97bXYnT4U",
    "outputId": "0cf031f1-3058-49fd-84c4-f886b937abea"
   },
   "outputs": [
    {
     "name": "stdout",
     "output_type": "stream",
     "text": [
      "A = [13, -3, -25, 20, -3, -16, -23, 18, 20, -7, 12, -5, -22, 15, -4, 7]\n",
      "The result of is:(7, 10, 43)\n",
      "A = [3, -4, -1, 2, 4, -5, -3, 3, 1, 2]\n",
      "The result is:(3, 4, 6)\n"
     ]
    }
   ],
   "source": [
    "A = [13, -3, -25, 20, -3, -16, -23, 18, 20, -7, 12, -5, -22, 15, -4, 7]\n",
    "print(\"A = \" + str(A))\n",
    "print(\"The result of is:\" + str(find_max_subarray_linear(A)))\n",
    "A = [random.randint(-5, 5) for i in range(10)]\n",
    "print(\"A = \" + str(A))\n",
    "print(\"The result is:\" + str(find_max_subarray_linear(A)))"
   ]
  },
  {
   "cell_type": "markdown",
   "metadata": {
    "colab_type": "text",
    "hidden": true,
    "id": "y2fVOdwbnT4X"
   },
   "source": [
    "#### 各个算法的时间对比"
   ]
  },
  {
   "cell_type": "code",
   "execution_count": 0,
   "metadata": {
    "colab": {},
    "colab_type": "code",
    "hidden": true,
    "id": "fnOBTnLhnT4X"
   },
   "outputs": [],
   "source": [
    "recursive_time = list()\n",
    "brute_force_time = list()\n",
    "linear_time = list()\n",
    "num = 100\n",
    "B = [random.randint(-10, 10) for i in range(100)]\n",
    "for i in range(1, 100):\n",
    "    A = B[:i]\n",
    "    recursive_time.append(timeit.timeit(wrapper(find_max_subarray_recursion, A, 0, len(A)-1), number=1000))\n",
    "    brute_force_time.append(timeit.timeit(wrapper(find_max_subarray_brute_force, A), number=1000))\n",
    "    linear_time.append(timeit.timeit(wrapper(find_max_subarray_linear, A), number=1000))"
   ]
  },
  {
   "cell_type": "code",
   "execution_count": 0,
   "metadata": {
    "colab": {},
    "colab_type": "code",
    "hidden": true,
    "id": "TxLYkmNtnT4Z",
    "outputId": "8d5e377d-9d02-45d3-b948-40a7e8e809de"
   },
   "outputs": [
    {
     "data": {
      "text/plain": [
       "<matplotlib.legend.Legend at 0x2bd3e5a5eb8>"
      ]
     },
     "execution_count": 27,
     "metadata": {
      "tags": []
     },
     "output_type": "execute_result"
    },
    {
     "data": {
      "image/png": "[encoded data removed]",
      "text/plain": [
       "<Figure size 432x288 with 1 Axes>"
      ]
     },
     "metadata": {
      "needs_background": "light",
      "tags": []
     },
     "output_type": "display_data"
    }
   ],
   "source": [
    "fig = plt.figure()\n",
    "ax = fig.add_subplot(1,1,1)\n",
    "line1, = ax.plot(np.arange(1,len(recursive_time) + 1), recursive_time)\n",
    "line2, =  ax.plot(np.arange(1,len(brute_force_time) + 1), brute_force_time)\n",
    "line3, = ax.plot(np.arange(1,len(linear_time) + 1), linear_time)\n",
    "ax.set_xlabel('Problem Size')\n",
    "ax.set_ylabel('time(s)')\n",
    "ax.legend([line1, line2, line3], ['recursion', 'brute force', 'linear'])"
   ]
  },
  {
   "cell_type": "markdown",
   "metadata": {
    "colab_type": "text",
    "heading_collapsed": true,
    "id": "gxBDzZV7nT4b"
   },
   "source": [
    "## 4.2 矩阵乘法的 Strassen 算法"
   ]
  },
  {
   "cell_type": "markdown",
   "metadata": {
    "colab_type": "text",
    "heading_collapsed": true,
    "hidden": true,
    "id": "5nNRBb1XnT4b"
   },
   "source": [
    "### 暴力求解"
   ]
  },
  {
   "cell_type": "code",
   "execution_count": 0,
   "metadata": {
    "colab": {},
    "colab_type": "code",
    "hidden": true,
    "id": "tjvIsABFnT4c"
   },
   "outputs": [],
   "source": [
    "def square_matrix_multiply_brute_force(A, B):\n",
    "    C = [[0 for i in range(len(B[0]))] for i in range(len(A))]\n",
    "    for i in range(len(A)):\n",
    "        for j in range(len(A[0])):\n",
    "            for k in range(len(A[0])):\n",
    "                C[i][j] += A[i][k] * B[k][j]\n",
    "    return C"
   ]
  },
  {
   "cell_type": "code",
   "execution_count": 0,
   "metadata": {
    "colab": {},
    "colab_type": "code",
    "hidden": true,
    "id": "nGkYWw7MnT4d",
    "outputId": "9f134ca1-62e9-4262-9ed3-59d737b4e0db"
   },
   "outputs": [
    {
     "name": "stdout",
     "output_type": "stream",
     "text": [
      "A = [[1, 3], [7, 5]]\n",
      "B = [[6, 8], [4, 2]]\n",
      "The result of square_matrix_multiply_brute_force is:[[18, 14], [62, 66]]\n",
      "The result of numpy.dot is:[[18 14]\n",
      " [62 66]]\n",
      "A = [[0, 2, 10, 1], [6, 7, 1, 2], [9, 7, 2, 6], [0, 1, 5, 9]]\n",
      "B = [[7, 4, 8, 4], [2, 0, 5, 0], [7, 0, 9, 9], [9, 6, 4, 7]]\n",
      "The result of square_matrix_multiply_brute_force is:[[83, 6, 104, 97], [81, 36, 100, 47], [145, 72, 149, 96], [118, 54, 86, 108]]\n",
      "The result of numpy.dot is:[[ 83   6 104  97]\n",
      " [ 81  36 100  47]\n",
      " [145  72 149  96]\n",
      " [118  54  86 108]]\n"
     ]
    }
   ],
   "source": [
    "    A = [[1, 3], [7, 5]]\n",
    "    B = [[6, 8], [4, 2]]\n",
    "    print (\"A = {}\".format(A))\n",
    "    print (\"B = {}\".format(B))\n",
    "    print(\"The result of square_matrix_multiply_brute_force is:{}\".format(square_matrix_multiply_brute_force(A, B)))\n",
    "    print(\"The result of numpy.dot is:{}\".format(np.dot(A, B)))\n",
    "\n",
    "\n",
    "    A = [[random.randint(0, 10) for i in range(4)] for j in range(4)]\n",
    "    B = [[random.randint(0, 10) for i in range(4)] for j in range(4)]\n",
    "    print (\"A = {}\".format(A))\n",
    "    print (\"B = {}\".format(B))\n",
    "    print(\"The result of square_matrix_multiply_brute_force is:{}\".format(square_matrix_multiply_brute_force(A, B)))\n",
    "    print(\"The result of numpy.dot is:{}\".format(np.dot(A, B)))"
   ]
  },
  {
   "cell_type": "markdown",
   "metadata": {
    "colab_type": "text",
    "heading_collapsed": true,
    "hidden": true,
    "id": "Ykrd67pLnT4e"
   },
   "source": [
    "### 分治法求解"
   ]
  },
  {
   "cell_type": "code",
   "execution_count": 0,
   "metadata": {
    "colab": {},
    "colab_type": "code",
    "hidden": true,
    "id": "sBPJKYnvnT4f"
   },
   "outputs": [],
   "source": [
    "def square_matrix_multiply_recursive(A, B):\n",
    "    def _recursive(a_row, a_col, b_row, b_col, size):\n",
    "        if size == 1:\n",
    "            return [[A[a_row][a_col] * B[b_row][b_col]]]\n",
    "        C = [[0 for i in range(size)] for j in range(size)]\n",
    "        size = size // 2\n",
    "        A11, A12, A21, A22 = (a_row, a_col), (a_row, a_col + size), \\\n",
    "                             (a_row + size, a_col), (a_row + size, a_col+size)\n",
    "        B11, B12, B21, B22 = (b_row, b_col), (b_row, b_col + size), \\\n",
    "                             (b_row + size, b_col), (b_row + size, b_col+size)\n",
    "        # 计算子矩阵相乘的结果\n",
    "        A11B11 = _recursive(*A11, *B11, size)\n",
    "        A11B12 = _recursive(*A11, *B12, size)\n",
    "        A12B21 = _recursive(*A12, *B21, size)\n",
    "        A12B22 = _recursive(*A12, *B22, size)\n",
    "        A21B11 = _recursive(*A21, *B11, size)\n",
    "        A21B12 = _recursive(*A21, *B12, size)\n",
    "        A22B21 = _recursive(*A22, *B21, size)\n",
    "        A22B22 = _recursive(*A22, *B22, size)\n",
    "        # 子矩阵相加得到结果矩阵\n",
    "        for i in range(size):\n",
    "            for j in range(size):\n",
    "                C[i][j]             = A11B11[i][j] + A12B21[i][j]   # C11\n",
    "                C[i][j + size]      = A11B12[i][j] + A12B22[i][j]   # C12\n",
    "                C[i+size][j]        = A21B11[i][j] + A22B21[i][j]   # C21\n",
    "                C[i+size][j+size]   = A21B12[i][j] + A22B22[i][j]   # C22\n",
    "        return C\n",
    "\n",
    "    return _recursive(0, 0, 0, 0, len(A))"
   ]
  },
  {
   "cell_type": "code",
   "execution_count": 0,
   "metadata": {
    "colab": {},
    "colab_type": "code",
    "hidden": true,
    "id": "zhty0l3snT4g",
    "outputId": "5d0d64c0-1bfd-44d6-e863-777d6208ad79"
   },
   "outputs": [
    {
     "name": "stdout",
     "output_type": "stream",
     "text": [
      "A = [[1, 3], [7, 5]]\n",
      "B = [[6, 8], [4, 2]]\n",
      "The result of square_matrix_multiply_recursive is:[[18, 14], [62, 66]]\n",
      "The result of numpy.dot is:[[18 14]\n",
      " [62 66]]\n",
      "A = [[1, 0, 4, 8], [10, 4, 2, 6], [7, 8, 9, 2], [6, 10, 7, 6]]\n",
      "B = [[2, 9, 5, 4], [1, 6, 10, 9], [6, 6, 1, 3], [4, 4, 7, 7]]\n",
      "The result of square_matrix_multiply_recursive is:[[58, 65, 65, 72], [60, 150, 134, 124], [84, 173, 138, 141], [88, 180, 179, 177]]\n",
      "The result of numpy.dot is:[[ 58  65  65  72]\n",
      " [ 60 150 134 124]\n",
      " [ 84 173 138 141]\n",
      " [ 88 180 179 177]]\n"
     ]
    }
   ],
   "source": [
    "A = [[1, 3], [7, 5]]\n",
    "B = [[6, 8], [4, 2]]\n",
    "print (\"A = {}\".format(A))\n",
    "print (\"B = {}\".format(B))\n",
    "print(\"The result of square_matrix_multiply_recursive is:{}\".format(square_matrix_multiply_recursive(A, B)))\n",
    "print(\"The result of numpy.dot is:{}\".format(np.dot(A, B)))\n",
    "\n",
    "\n",
    "A = [[random.randint(0, 10) for i in range(4)] for j in range(4)]\n",
    "B = [[random.randint(0, 10) for i in range(4)] for j in range(4)]\n",
    "print (\"A = {}\".format(A))\n",
    "print (\"B = {}\".format(B))\n",
    "print(\"The result of square_matrix_multiply_recursive is:{}\".format(square_matrix_multiply_recursive(A, B)))\n",
    "print(\"The result of numpy.dot is:{}\".format(np.dot(A, B)))"
   ]
  },
  {
   "cell_type": "markdown",
   "metadata": {
    "colab_type": "text",
    "heading_collapsed": true,
    "hidden": true,
    "id": "PP60xvlOnT4h"
   },
   "source": [
    "### Strassen 算法"
   ]
  },
  {
   "cell_type": "code",
   "execution_count": 0,
   "metadata": {
    "colab": {},
    "colab_type": "code",
    "hidden": true,
    "id": "kBNm7JmOnT4i"
   },
   "outputs": [],
   "source": [
    "def square_matrix_multiply_strassen(A, B):\n",
    "    def _recursive(A, B, a_row, a_col, b_row, b_col, size):\n",
    "        if size == 1:\n",
    "            return [[A[a_row][a_col] * B[b_row][b_col]]]\n",
    "        C = [[0 for i in range(size)] for j in range(size)]\n",
    "        size = size // 2\n",
    "        S = [[[0 for k in range(size)] for j in range(size)] for i in range(10)]\n",
    "        A11, A12, A21, A22 = (a_row, a_col), (a_row, a_col + size), \\\n",
    "                             (a_row + size, a_col), (a_row + size, a_col+size)\n",
    "        B11, B12, B21, B22 = (b_row, b_col), (b_row, b_col + size), \\\n",
    "                             (b_row + size, b_col), (b_row + size, b_col+size)\n",
    "        for i in range(size):\n",
    "            for j in range(size):\n",
    "                S[0][i][j] = B[i+B12[0]][j+B12[1]] - B[i+B22[0]][j+B22[1]]\n",
    "                S[1][i][j] = A[i+A11[0]][j+A11[1]] + A[i+A12[0]][j+A12[1]]\n",
    "                S[2][i][j] = A[i+A21[0]][j+A21[1]] + A[i+A22[0]][j+A22[1]]\n",
    "                S[3][i][j] = B[i+B21[0]][j+B21[1]] - B[i+B11[0]][j+B11[1]]\n",
    "                S[4][i][j] = A[i+A11[0]][j+A11[1]] + A[i+A22[0]][j+A22[1]]\n",
    "                S[5][i][j] = B[i+B11[0]][j+B11[1]] + B[i+B22[0]][j+B22[1]]\n",
    "                S[6][i][j] = A[i+A12[0]][j+A12[1]] - A[i+A22[0]][j+A22[1]]\n",
    "                S[7][i][j] = B[i+B21[0]][j+B21[1]] + B[i+B22[0]][j+B22[1]]\n",
    "                S[8][i][j] = A[i+A11[0]][j+A11[1]] - A[i+A21[0]][j+A21[1]]\n",
    "                S[9][i][j] = B[i+B11[0]][j+B11[1]] + B[i+B12[0]][j+B12[1]]\n",
    "        P1 = _recursive(A, S[0], *A11, 0, 0, size)\n",
    "        P2 = _recursive(S[1], B, 0, 0, *B22, size)\n",
    "        P3 = _recursive(S[2], B, 0, 0, *B11, size)\n",
    "        P4 = _recursive(A, S[3], *A22, 0, 0, size)\n",
    "        P5 = _recursive(S[4], S[5], 0, 0, 0, 0, size)\n",
    "        P6 = _recursive(S[6], S[7], 0, 0, 0, 0, size)\n",
    "        P7 = _recursive(S[8], S[9], 0, 0, 0, 0, size)\n",
    "        # P 矩阵相加得到结果矩阵\n",
    "        for i in range(size):\n",
    "            for j in range(size):\n",
    "                C[i][j]             = P5[i][j] + P4[i][j] - P2[i][j] + P6[i][j]     # C11\n",
    "                C[i][j + size]      = P1[i][j] + P2[i][j]                           # C12\n",
    "                C[i+size][j]        = P3[i][j] + P4[i][j]                           # C21\n",
    "                C[i+size][j+size]   = P5[i][j] + P1[i][j] - P3[i][j] - P7[i][j]     # C22\n",
    "        return C\n",
    "\n",
    "    return _recursive(A, B, 0, 0, 0, 0, len(A))"
   ]
  },
  {
   "cell_type": "code",
   "execution_count": 0,
   "metadata": {
    "colab": {},
    "colab_type": "code",
    "hidden": true,
    "id": "0D3zwiQunT4j",
    "outputId": "71f07d76-3148-4ecd-8d8c-9de1ec17940c"
   },
   "outputs": [
    {
     "name": "stdout",
     "output_type": "stream",
     "text": [
      "A = [[1, 3], [7, 5]]\n",
      "B = [[6, 8], [4, 2]]\n",
      "The result of square_matrix_multiply_strassen is:[[18, 14], [62, 66]]\n",
      "The result of numpy.dot is:[[18 14]\n",
      " [62 66]]\n",
      "A = [[4, 10, 7, 10], [2, 10, 9, 5], [2, 6, 10, 1], [2, 10, 3, 4]]\n",
      "B = [[9, 2, 2, 2], [2, 4, 7, 0], [3, 2, 0, 1], [8, 7, 10, 3]]\n",
      "The result of square_matrix_multiply_strassen is:[[157, 132, 178, 45], [105, 97, 124, 28], [68, 55, 56, 17], [79, 78, 114, 19]]\n",
      "The result of numpy.dot is:[[157 132 178  45]\n",
      " [105  97 124  28]\n",
      " [ 68  55  56  17]\n",
      " [ 79  78 114  19]]\n"
     ]
    }
   ],
   "source": [
    "    A = [[1, 3], [7, 5]]\n",
    "    B = [[6, 8], [4, 2]]\n",
    "    print (\"A = {}\".format(A))\n",
    "    print (\"B = {}\".format(B))\n",
    "    print(\"The result of square_matrix_multiply_strassen is:{}\".format(square_matrix_multiply_strassen(A, B)))\n",
    "    print(\"The result of numpy.dot is:{}\".format(np.dot(A, B)))\n",
    "\n",
    "    size = 4\n",
    "    A = [[random.randint(0, 10) for i in range(size)] for j in range(size)]\n",
    "    B = [[random.randint(0, 10) for i in range(size)] for j in range(size)]\n",
    "    print (\"A = {}\".format(A))\n",
    "    print (\"B = {}\".format(B))\n",
    "    print(\"The result of square_matrix_multiply_strassen is:{}\".format(square_matrix_multiply_strassen(A, B)))\n",
    "    print(\"The result of numpy.dot is:{}\".format(np.dot(A, B)))"
   ]
  },
  {
   "cell_type": "markdown",
   "metadata": {
    "colab_type": "text",
    "hidden": true,
    "id": "BHrcOh7-nT4k"
   },
   "source": [
    "### 练习"
   ]
  },
  {
   "cell_type": "markdown",
   "metadata": {
    "colab_type": "text",
    "heading_collapsed": true,
    "hidden": true,
    "id": "QUsGzigvnT4l"
   },
   "source": [
    "#### 4.2-3 strassen 算法适应 n 不是 2 的幂的情况"
   ]
  },
  {
   "cell_type": "markdown",
   "metadata": {
    "colab_type": "text",
    "hidden": true,
    "id": "uo4UxA42nT4l"
   },
   "source": [
    "- 参照 https://atekihcan.github.io/CLRS/E04.02-03/ 的算法"
   ]
  },
  {
   "cell_type": "code",
   "execution_count": 0,
   "metadata": {
    "colab": {},
    "colab_type": "code",
    "hidden": true,
    "id": "Wy3xst_2nT4m"
   },
   "outputs": [],
   "source": [
    "def strassen(A, B):\n",
    "    \"\"\"适应方阵长度不为 2 的次幂的情况\"\"\"\n",
    "    m = math.log(len(A), 2)\n",
    "    size = 2 ** math.ceil(m)\n",
    "    if size != len(A):\n",
    "        A1 = [[0 for i in range(size)] for j in range(size)]\n",
    "        B1 = [[0 for i in range(size)] for j in range(size)]\n",
    "        C = [[0 for i in range(len(A))] for j in range(len(A))]\n",
    "        for i in range(len(A)):\n",
    "            for j in range(len(A)):\n",
    "                A1[i][j] = A[i][j]\n",
    "                B1[i][j] = B[i][j]\n",
    "        C1 = square_matrix_multiply_strassen(A1, B1)\n",
    "        for i in range(len(A)):\n",
    "            for j in range(len(A)):\n",
    "                C[i][j] = C1[i][j]\n",
    "        return C\n",
    "    return square_matrix_multiply_strassen(A, B)"
   ]
  },
  {
   "cell_type": "code",
   "execution_count": 0,
   "metadata": {
    "colab": {},
    "colab_type": "code",
    "hidden": true,
    "id": "jwJFwbcbnT4n",
    "outputId": "543cb958-882f-4f56-dc3c-ac5123c03759"
   },
   "outputs": [
    {
     "name": "stdout",
     "output_type": "stream",
     "text": [
      "A = [[3, 0, 8, 10, 6, 8], [2, 0, 10, 3, 6, 5], [5, 6, 9, 9, 0, 6], [9, 4, 5, 4, 9, 8], [10, 10, 10, 9, 3, 2], [9, 9, 6, 2, 9, 10]]\n",
      "B = [[9, 3, 10, 6, 4, 6], [10, 8, 2, 4, 2, 4], [4, 8, 8, 6, 3, 5], [3, 7, 7, 10, 1, 5], [5, 5, 3, 2, 10, 7], [1, 10, 4, 7, 2, 10]]\n",
      "The result of strassen is:[[127, 253, 214, 234, 122, 230], [102, 187, 159, 149, 111, 169], [174, 258, 221, 240, 80, 204], [206, 252, 225, 214, 169, 258], [274, 288, 280, 270, 133, 236], [256, 306, 237, 234, 184, 293]]\n",
      "The result of numpy.dot is:[[127 253 214 234 122 230]\n",
      " [102 187 159 149 111 169]\n",
      " [174 258 221 240  80 204]\n",
      " [206 252 225 214 169 258]\n",
      " [274 288 280 270 133 236]\n",
      " [256 306 237 234 184 293]]\n"
     ]
    }
   ],
   "source": [
    "size = 6\n",
    "A = [[random.randint(0, 10) for i in range(size)] for j in range(size)]\n",
    "B = [[random.randint(0, 10) for i in range(size)] for j in range(size)]\n",
    "print (\"A = {}\".format(A))\n",
    "print (\"B = {}\".format(B))\n",
    "print(\"The result of strassen is:{}\".format(strassen(A, B)))\n",
    "print(\"The result of numpy.dot is:{}\".format(np.dot(A, B)))"
   ]
  },
  {
   "cell_type": "markdown",
   "metadata": {
    "colab_type": "text",
    "hidden": true,
    "id": "SzWt8OnpnT4o"
   },
   "source": [
    "#### 4.2-5"
   ]
  },
  {
   "cell_type": "code",
   "execution_count": 0,
   "metadata": {
    "colab": {},
    "colab_type": "code",
    "hidden": true,
    "id": "k2ZWK5XlnT4p",
    "outputId": "7483206e-6ca3-4d7d-9c12-81c8c1effd80"
   },
   "outputs": [
    {
     "data": {
      "text/plain": [
       "2.7951284873613815"
      ]
     },
     "execution_count": 36,
     "metadata": {
      "tags": []
     },
     "output_type": "execute_result"
    }
   ],
   "source": [
    "math.log(132464, 68)"
   ]
  },
  {
   "cell_type": "code",
   "execution_count": 0,
   "metadata": {
    "colab": {},
    "colab_type": "code",
    "hidden": true,
    "id": "8YXzfDSUnT4r",
    "outputId": "82b5f4c3-f212-48a2-e7fb-cbb8d4af2e98"
   },
   "outputs": [
    {
     "data": {
      "text/plain": [
       "2.795122689748337"
      ]
     },
     "execution_count": 38,
     "metadata": {
      "tags": []
     },
     "output_type": "execute_result"
    }
   ],
   "source": [
    "math.log(143640, 70)"
   ]
  },
  {
   "cell_type": "code",
   "execution_count": 0,
   "metadata": {
    "colab": {},
    "colab_type": "code",
    "hidden": true,
    "id": "Pii06pG_nT4s",
    "outputId": "0f7439a9-5cf0-42ab-cd59-daf7aabadfcf"
   },
   "outputs": [
    {
     "data": {
      "text/plain": [
       "2.795147391093449"
      ]
     },
     "execution_count": 39,
     "metadata": {
      "tags": []
     },
     "output_type": "execute_result"
    }
   ],
   "source": [
    "math.log(155424, 72)"
   ]
  },
  {
   "cell_type": "code",
   "execution_count": 0,
   "metadata": {
    "colab": {},
    "colab_type": "code",
    "hidden": true,
    "id": "JofYVeppnT4u",
    "outputId": "14c8c629-4eb0-4e23-fac5-5cd2a86f366c"
   },
   "outputs": [
    {
     "data": {
      "text/plain": [
       "2.807354922057604"
      ]
     },
     "execution_count": 40,
     "metadata": {
      "tags": []
     },
     "output_type": "execute_result"
    }
   ],
   "source": [
    "math.log(7, 2)"
   ]
  },
  {
   "cell_type": "markdown",
   "metadata": {},
   "source": [
    "## 课堂习题"
   ]
  },
  {
   "cell_type": "markdown",
   "metadata": {},
   "source": [
    "### 在 $lg(n)$ 的时间内求解斐波那契数列"
   ]
  },
  {
   "cell_type": "markdown",
   "metadata": {},
   "source": [
    "基本思路：\n",
    "$$\n",
    "\\left[\\begin{array}{cc} \n",
    "    F(n) &    F(n-1)    \\\\ \n",
    "    F(n-1) &    F(n-2)   \n",
    "\\end{array}\\right] = \\left[\\begin{array}{cc} \n",
    "    1 &    1   \\\\ \n",
    "    1 &    0 \n",
    "\\end{array}\\right]^{n-1} \\quad n \\ge 2\n",
    "$$"
   ]
  },
  {
   "cell_type": "code",
   "execution_count": null,
   "metadata": {},
   "outputs": [],
   "source": []
  }
 ],
 "metadata": {
  "colab": {
   "name": "第 4 章 分治策略.ipynb",
   "provenance": []
  },
  "kernelspec": {
   "display_name": "Python 3",
   "language": "python",
   "name": "python3"
  },
  "language_info": {
   "codemirror_mode": {
    "name": "ipython",
    "version": 3
   },
   "file_extension": ".py",
   "mimetype": "text/x-python",
   "name": "python",
   "nbconvert_exporter": "python",
   "pygments_lexer": "ipython3",
   "version": "3.7.3"
  },
  "toc": {
   "base_numbering": 1,
   "nav_menu": {},
   "number_sections": true,
   "sideBar": true,
   "skip_h1_title": false,
   "title_cell": "Table of Contents",
   "title_sidebar": "Contents",
   "toc_cell": false,
   "toc_position": {},
   "toc_section_display": true,
   "toc_window_display": false
  }
 },
 "nbformat": 4,
 "nbformat_minor": 1
}
