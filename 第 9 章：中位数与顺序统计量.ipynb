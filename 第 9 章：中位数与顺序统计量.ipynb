{
  "nbformat": 4,
  "nbformat_minor": 0,
  "metadata": {
    "colab": {
      "name": "第 9 章：中位数与顺序统计量.ipynb",
      "provenance": []
    },
    "kernelspec": {
      "display_name": "Python 3",
      "language": "python",
      "name": "python3"
    },
    "language_info": {
      "codemirror_mode": {
        "name": "ipython",
        "version": 3
      },
      "file_extension": ".py",
      "mimetype": "text/x-python",
      "name": "python",
      "nbconvert_exporter": "python",
      "pygments_lexer": "ipython3",
      "version": "3.7.3"
    }
  },
  "cells": [
    {
      "cell_type": "code",
      "metadata": {
        "colab_type": "code",
        "id": "gDz3TgE_V7cb",
        "colab": {}
      },
      "source": [
        "import random"
      ],
      "execution_count": 0,
      "outputs": []
    },
    {
      "cell_type": "markdown",
      "metadata": {
        "colab_type": "text",
        "id": "tqlP_SmFV7c3"
      },
      "source": [
        "## 9.0 相关概念"
      ]
    },
    {
      "cell_type": "markdown",
      "metadata": {
        "colab_type": "text",
        "id": "eL7gEBSCV7c7"
      },
      "source": [
        "- **顺序统计量**\n",
        "  - 第 $i$ 个顺序统计量是指集合中第 $i$ 小的元素\n",
        "  - $i=1$ 时，为**最小值**\n",
        "  - $i=n$ 时，为**最大值**\n",
        "  - 当 $n$ 为奇数时， $i = (n+1)/2$ 为**中位数**\n",
        "  - 当 $n$ 为奇数时，存在两个中位数，分别位为 $ i = n/2$ 和 $i = n/2 + 1$ 处\n",
        "  - 不考虑 $n$ 的奇偶性，则中位数总是出现在 $i=\\lfloor (n+1)/2 \\rfloor$(**下中位数**) 和 $\\lceil (n+2)/2 \\rceil$ 处(**上中位数**)"
      ]
    },
    {
      "cell_type": "markdown",
      "metadata": {
        "colab_type": "text",
        "id": "dc_37LNpV7c-"
      },
      "source": [
        "- **选择问题**  \n",
        "  - 寻找第 $i$ 个顺序统计量，可以抽像为选择问题\n",
        "\n",
        "> 输入：一个包含 $n$ 个（互异的）数的集合 $A$ 和一个整数 $i$, $1 \\le i \\le n$  \n",
        "输出： 元素 $x \\in i$, 且$A$中恰好有 $i-1$ 个元素小于它 "
      ]
    },
    {
      "cell_type": "markdown",
      "metadata": {
        "colab_type": "text",
        "id": "FDDWnC_kV7dF"
      },
      "source": [
        "## 9.1 最大值和最小值"
      ]
    },
    {
      "cell_type": "markdown",
      "metadata": {
        "colab_type": "text",
        "id": "8RwEmLFMV7dL"
      },
      "source": [
        "### 找出最小值"
      ]
    },
    {
      "cell_type": "markdown",
      "metadata": {
        "colab_type": "text",
        "id": "8yVarX7SV7dV"
      },
      "source": [
        "- 可通过 $n-1$ 次比较得出"
      ]
    },
    {
      "cell_type": "code",
      "metadata": {
        "colab_type": "code",
        "id": "-97bW7pdV7da",
        "colab": {}
      },
      "source": [
        "def minimum(A):\n",
        "  mini = A[0]\n",
        "  for i in range(1, len(A)):\n",
        "    if A[i] < mini:\n",
        "      mini = A[i]\n",
        "  return mini"
      ],
      "execution_count": 0,
      "outputs": []
    },
    {
      "cell_type": "code",
      "metadata": {
        "colab_type": "code",
        "id": "Ueb0O5acV7dq",
        "outputId": "70127194-0686-43e9-8100-1b04c3f29e9c",
        "colab": {
          "base_uri": "https://localhost:8080/",
          "height": 53
        }
      },
      "source": [
        "A = random.sample(range(100), 10)\n",
        "print(\"A = {}\".format(A))\n",
        "print(\"{} is the minimun item in A\".format(minimum(A)))"
      ],
      "execution_count": 4,
      "outputs": [
        {
          "output_type": "stream",
          "text": [
            "A = [31, 77, 78, 86, 63, 62, 80, 43, 85, 72]\n",
            "31 is the minimun item in A\n"
          ],
          "name": "stdout"
        }
      ]
    },
    {
      "cell_type": "markdown",
      "metadata": {
        "colab_type": "text",
        "id": "E6WaYebIV7d9"
      },
      "source": [
        "### 找出最大值"
      ]
    },
    {
      "cell_type": "markdown",
      "metadata": {
        "colab_type": "text",
        "id": "eBBAmoy3V7eD"
      },
      "source": [
        "- 与最小值一样，也可通过 $n-1$ 次比较得到"
      ]
    },
    {
      "cell_type": "code",
      "metadata": {
        "colab_type": "code",
        "id": "zlY27dH8V7eH",
        "colab": {}
      },
      "source": [
        "def maxmum(A):\n",
        "  maxm = A[0]\n",
        "  for i in range(1, len(A)):\n",
        "    if A[i] > maxm:\n",
        "      maxm = A[i]\n",
        "  return maxm"
      ],
      "execution_count": 0,
      "outputs": []
    },
    {
      "cell_type": "code",
      "metadata": {
        "colab_type": "code",
        "id": "OmtIpclTV7eQ",
        "outputId": "4e99c4a9-3ee8-4dd8-9219-c8cb488eb220",
        "colab": {
          "base_uri": "https://localhost:8080/",
          "height": 53
        }
      },
      "source": [
        "A = random.sample(range(100), 10)\n",
        "print(\"A = {}\".format(A))\n",
        "print(\"{} is the maxmun item in A\".format(maxmum(A)))"
      ],
      "execution_count": 6,
      "outputs": [
        {
          "output_type": "stream",
          "text": [
            "A = [42, 0, 16, 64, 52, 83, 65, 81, 4, 71]\n",
            "83 is the maxmun item in A\n"
          ],
          "name": "stdout"
        }
      ]
    },
    {
      "cell_type": "markdown",
      "metadata": {
        "colab_type": "text",
        "id": "FUUrIWkzV7ec"
      },
      "source": [
        "### 同时找出最大值和最小值"
      ]
    },
    {
      "cell_type": "markdown",
      "metadata": {
        "colab_type": "text",
        "id": "P3bognq5V7ef"
      },
      "source": [
        "- 通过成对的处理输入，最多只需要 $3\\lfloor n/2 \\rfloor$ 次比较即可同时找出最大值和最小值\n",
        "  - 先比较两个输元素，然后将较小的值与当前的最小值进行比较，将较大的值与当前的最大值进行比较"
      ]
    },
    {
      "cell_type": "code",
      "metadata": {
        "colab_type": "code",
        "id": "bVCIwPS4V7ej",
        "colab": {}
      },
      "source": [
        "def mini_maxmum(A):\n",
        "  n = len(A)\n",
        "  if n % 2 == 0:\n",
        "    mini, maxm = A[0], A[1]\n",
        "    start_index = 2\n",
        "  else:\n",
        "    mini = maxm = A[0]\n",
        "    start_index = 1\n",
        "  for i in range(start_index, len(A), 2):\n",
        "    if A[i] > A[i+1]:\n",
        "      tmp_mini, tmp_maxm = A[i+1], A[i]\n",
        "    else:\n",
        "      tmp_mini, tmp_maxm = A[i], A[i+1]\n",
        "    if tmp_mini < mini:\n",
        "      mini = tmp_mini\n",
        "    if tmp_maxm > maxm:\n",
        "      maxm = tmp_maxm\n",
        "  return mini, maxm\n",
        "  "
      ],
      "execution_count": 0,
      "outputs": []
    },
    {
      "cell_type": "code",
      "metadata": {
        "colab_type": "code",
        "id": "_OILQ7KTWoQD",
        "outputId": "9f8c78b1-ac65-4053-892a-963b9111719c",
        "colab": {
          "base_uri": "https://localhost:8080/",
          "height": 53
        }
      },
      "source": [
        "A = random.sample(range(100), random.randint(10, 20))\n",
        "print(\"A = {}\".format(A))\n",
        "mini, maxm = mini_maxmum(A)\n",
        "print(\"{} is the minimun item in A, {} is the maxmun item in A.\".format(mini, maxm))"
      ],
      "execution_count": 8,
      "outputs": [
        {
          "output_type": "stream",
          "text": [
            "A = [18, 35, 32, 91, 2, 7, 54, 27, 51, 89, 87, 52, 93]\n",
            "2 is the minimun item in A, 93 is the maxmun item in A.\n"
          ],
          "name": "stdout"
        }
      ]
    },
    {
      "cell_type": "markdown",
      "metadata": {
        "id": "zoklTqP-NJdw",
        "colab_type": "text"
      },
      "source": [
        "### 练习"
      ]
    },
    {
      "cell_type": "markdown",
      "metadata": {
        "id": "-36Zv373NJdx",
        "colab_type": "text"
      },
      "source": [
        "#### 9.1-1 \n",
        "最坏情况下，需要经过 $n + \\lceil lgn \\rceil - 2$ 次比较找到 $n$ 个元素中第二小的元素"
      ]
    },
    {
      "cell_type": "markdown",
      "metadata": {
        "id": "voGtq_45byTq",
        "colab_type": "text"
      },
      "source": [
        "- 基本思路\n",
        "  - 借助[锦标赛树](https://blog.csdn.net/lihao161530340/article/details/78938403)，先找出最小值，需要进行 $n-1$ 次比较\n",
        "  - 第二小的值一定与最小值的比较过，所以与最小值比较过的值中的最小值，即为第二小的值。\n",
        "  - 叶子节点为 $n$ 的锦标赛树为满二叉树,其高度最高为 $\\lceil lgn \\rceil $，则最多有 $\\lceil lgn \\rceil $ 个元素需要进行 $\\lceil lgn \\rceil -1 $ 次比较\n",
        "  - 综上分析，在最坏的情况下，需要进行 $n + \\lceil lgn \\rceil - 2 $次比较"
      ]
    },
    {
      "cell_type": "markdown",
      "metadata": {
        "id": "bO4J8FbPfml8",
        "colab_type": "text"
      },
      "source": [
        "#### 9.1-2  \n",
        "在最坏情况下，同时找到 $n$ 个元素中的最大值与最小值的比较次数的下界为 $\\lceil 3n/2 \\rceil - 2$"
      ]
    },
    {
      "cell_type": "markdown",
      "metadata": {
        "id": "HdHtbZ4KgMA6",
        "colab_type": "text"
      },
      "source": [
        "- 证明：\n",
        "  1. 对于 $n$ 个元素来说，刚开始共有 $n$ 个数有可能成为 MAX 或 MIN， 设为集合 $\\{MAX\\}$ 和 $\\{MIN\\}$\n",
        "  2. 当 $n$ 个元素成对比较时，每比较一次，则集合 $\\{MAX\\}$ 和 $\\{MIN\\}$ 中的可能值都会减 1  \n",
        "    - 例： $ a \\lt b$ 且 $a$ 不可能在集全 $\\{MAX\\}$ 中，而 $b$ 则不可能在集合 $\\{MIN\\}$ 中\n",
        "  3. 2 中成对的比较共有 $\\lfloor n/2 \\rfloor$ 次，则此时 $\\{MAX\\}$ 和 $\\{MIN\\}$ 中还各有 $n - \\lfloor n/2 \\rfloor = \\lceil n/2 \\rceil$ 种可能，\n",
        "  各需要进行 $\\lceil n/2 \\rceil - 1$ 次比较才能确定最终值\n",
        "  - 上述几步中所需要比较次数至少为 $$\\lfloor n/2 \\rfloor + 2\\lceil n/2 \\rceil - 2 = n + \\lceil n/2 \\rceil - 2 = \\lceil 3n/2 \\rceil - 2$$"
      ]
    },
    {
      "cell_type": "markdown",
      "metadata": {
        "colab_type": "text",
        "id": "TrhpJfQjXEva"
      },
      "source": [
        "## 9-2 期望为线性时间的选择算法"
      ]
    },
    {
      "cell_type": "markdown",
      "metadata": {
        "id": "g2A8sgJPNJd1",
        "colab_type": "text"
      },
      "source": [
        "### 代码实现"
      ]
    },
    {
      "cell_type": "markdown",
      "metadata": {
        "id": "2sS2OWq5Xfgr",
        "colab_type": "text"
      },
      "source": [
        "- 选择排序的分治算法 RANDOMIZED-SELECT 是以快速排序算法为基础的\n",
        "- 快速排序算法会递归的处理 partition 后两边的数组，而 RANDOMIZED-SELECT 只用处理一边的数组"
      ]
    },
    {
      "cell_type": "code",
      "metadata": {
        "id": "eALGnQKlNJd5",
        "colab_type": "code",
        "colab": {}
      },
      "source": [
        "def partition(A, p, r):\n",
        "  \"\"\"以最后一个元素为主元对数组 A 进行分组\"\"\"\n",
        "  q = p - 1\n",
        "  for j in range(p, r):\n",
        "    if A[j] < A[r]:\n",
        "      q += 1\n",
        "      A[j], A[q] = A[q], A[j]\n",
        "  A[q+1], A[r] = A[r], A[q+1]\n",
        "  return q + 1"
      ],
      "execution_count": 0,
      "outputs": []
    },
    {
      "cell_type": "code",
      "metadata": {
        "id": "lk6soOckNJd8",
        "colab_type": "code",
        "colab": {}
      },
      "source": [
        "def randomized_partition(A, p, r):\n",
        "  \"\"\"随机选择主元对数组 A 进行划分\"\"\"\n",
        "  i = random.randint(p, r)\n",
        "  A[i], A[r] = A[r], A[i]\n",
        "  return partition(A, p, r)"
      ],
      "execution_count": 0,
      "outputs": []
    },
    {
      "cell_type": "code",
      "metadata": {
        "id": "KFcTlYpsNJd-",
        "colab_type": "code",
        "colab": {}
      },
      "source": [
        "def randomized_select(A, p, r, i):\n",
        "  \"\"\"选择数组 A 中在 [p, r] 中的第 k 个顺序统计量\"\"\"\n",
        "  if p == r:\n",
        "    return A[p]\n",
        "  q = randomized_partition(A, p, r)\n",
        "  k = q - p + 1\n",
        "  if k == i:\n",
        "    return A[q]\n",
        "  elif k > i:\n",
        "    return randomized_select(A, p, q-1, i)\n",
        "  else:\n",
        "    return randomized_select(A, q+1, r, i-k)"
      ],
      "execution_count": 0,
      "outputs": []
    },
    {
      "cell_type": "code",
      "metadata": {
        "id": "Dxm_Evy1NJeC",
        "colab_type": "code",
        "outputId": "50bef354-7336-4577-dfab-24d1948c9319",
        "colab": {
          "base_uri": "https://localhost:8080/",
          "height": 71
        }
      },
      "source": [
        "A = [random.randint(1, 15) for i in range(10)]\n",
        "print(\"A = {}\".format(A))\n",
        "i = random.randint(1, 10)\n",
        "print(\"A 中的第 {} 个顺序统计量为 {}\".format(i, randomized_select(A, 0, len(A)-1, i)))\n",
        "print(\"排序后，第 {} 个值为 {}\".format(i, sorted(A)[i-1]))"
      ],
      "execution_count": 12,
      "outputs": [
        {
          "output_type": "stream",
          "text": [
            "A = [3, 8, 14, 10, 3, 8, 3, 4, 6, 9]\n",
            "A 中的第 3 个顺序统计量为 3\n",
            "排序后，第 3 个值为 3\n"
          ],
          "name": "stdout"
        }
      ]
    },
    {
      "cell_type": "markdown",
      "metadata": {
        "id": "jYbEuMAYNJeF",
        "colab_type": "text"
      },
      "source": [
        "### 期望运行时间的上界"
      ]
    },
    {
      "cell_type": "markdown",
      "metadata": {
        "id": "TSADDavWNJeF",
        "colab_type": "text"
      },
      "source": [
        "- 定时指标器随机变量：\n",
        "$$X_k = I\\{子数组 \\ A[p \\cdots q]\\} \\ 正好包含 k 个元素$$  \n",
        "  - 假设元素是互异的，有 $$ E[X_k] = 1/n$$\n",
        "- 根据指示器随机变量的定义，可得下述递归式:  $$T(n) \\le \\sum_{k=1}^{n}{X_k \\times (T(max(k-1, n-k)) + O(n))}$$\n",
        "- 根据期望的相关性质和代入法，可证得：$$E(T(n)) = O (N)$$"
      ]
    },
    {
      "cell_type": "markdown",
      "metadata": {
        "id": "317W5kMyNJeG",
        "colab_type": "text"
      },
      "source": [
        "### 练习题"
      ]
    },
    {
      "cell_type": "markdown",
      "metadata": {
        "id": "gOdt_Yqm1F08",
        "colab_type": "text"
      },
      "source": [
        "#### 9.2-1  \n",
        "证明在 RANDOM-SELECT 中，对长度为 0 的数组，不会进行递归调用"
      ]
    },
    {
      "cell_type": "markdown",
      "metadata": {
        "id": "afddG8WeNJeH",
        "colab_type": "text"
      },
      "source": [
        "- 基本思路： 反证法  \n",
        "  1. 如果书中伪代码的第 8 行在数组为 $0$ 的情况下发生调用，则 $ p > q - 1$，由此可得 \n",
        "  $ q - p < 1 \\rightarrow k = q - p + 1 < 2 \\rightarrow k \\le 1 $，要想进入第 8 行，则必须满足 $i < k \\le \\rightarrow i < 1$, 这与 $ i \\ge 1$ 相矛盾  \n",
        "  2. 如果第 9 行在数组为 $0$ 的情况下发生调用，则 $q + 1 > r \\rightarrow k = q - p + 1 > r - p$，而进入第 9 行的前提条件是 $ i > k$，由此可得 $i > k > r - p$, \n",
        "  这与 $i \\le r - p$ 相矛盾\n",
        "  - 综合 1，2 可得不会对长度为 $0$ 的数组进行递归调用"
      ]
    },
    {
      "cell_type": "markdown",
      "metadata": {
        "id": "9yJAB6i65LXG",
        "colab_type": "text"
      },
      "source": [
        "#### 9.2-3  \n",
        "RANDOMIZED-SELECT 的基于循环的版本"
      ]
    },
    {
      "cell_type": "code",
      "metadata": {
        "id": "dCHRZpXP5UHC",
        "colab_type": "code",
        "colab": {}
      },
      "source": [
        "def randomized_select_loop(A, i):\n",
        "  p, r = 0, len(A) - 1\n",
        "  while p < r:\n",
        "    q = randomized_partition(A, p, r)\n",
        "    k = q - p + 1\n",
        "    if k == i:\n",
        "      return A[q]\n",
        "    elif k > i:\n",
        "      r = q - 1\n",
        "    else:\n",
        "      p = q + 1\n",
        "      i -= k\n",
        "  return A[p]"
      ],
      "execution_count": 0,
      "outputs": []
    },
    {
      "cell_type": "code",
      "metadata": {
        "id": "ijjzcdAI6_r3",
        "colab_type": "code",
        "outputId": "553cf71d-9720-49fb-8ddd-460336b39623",
        "colab": {
          "base_uri": "https://localhost:8080/",
          "height": 71
        }
      },
      "source": [
        "A = [random.randint(1, 15) for i in range(10)]\n",
        "print(\"A = {}\".format(A))\n",
        "i = random.randint(1, 10)\n",
        "print(\"A 中的第 {} 个顺序统计量为 {}\".format(i, randomized_select_loop(A, i)))\n",
        "print(\"排序后，第 {} 个值为 {}\".format(i, sorted(A)[i-1]))"
      ],
      "execution_count": 14,
      "outputs": [
        {
          "output_type": "stream",
          "text": [
            "A = [11, 7, 6, 14, 2, 4, 11, 2, 6, 9]\n",
            "A 中的第 9 个顺序统计量为 11\n",
            "排序后，第 9 个值为 11\n"
          ],
          "name": "stdout"
        }
      ]
    },
    {
      "cell_type": "markdown",
      "metadata": {
        "id": "kCkXbny1NJeI",
        "colab_type": "text"
      },
      "source": [
        "## 9.3 最坏情况下为线性时间的选择算法"
      ]
    },
    {
      "cell_type": "markdown",
      "metadata": {
        "id": "Ml7RGQ06NJeJ",
        "colab_type": "text"
      },
      "source": [
        "### SELECT 算法描述  \n",
        "  1. 将输入数组的 $n$ 个元素划分为 $\\lfloor n/5 \\rfloor$ 组，每组 $5$ 个元素，则至多还有一组由剩下的 $n \\ mod \\ 5 $ 个元素组成\n",
        "  2. 确定 $\\lceil n/5 \\rceil$ 组每一组的中位数, 可用插入排序来实现\n",
        "  3. 对于第 2 步中确认的每组的中位数，递归的调用 SELECT 以找出其下中位数 $x$，\n",
        "  4. 以 $x$ 为主元，调用 PARTITION，对数组进行分组，设 $x$ 为第 $k$ 小的元素，则有 $n-k$ 个元素在划分的高区\n",
        "  5. 如果 $i=k$，则返回 $x$, 如果$i < k$, 则在低区递归的调用 SELECT 来找出第 $i$ 小的元素，如果 $i>k$, 则在高区递归的查找第 $i-k$ 小的元素"
      ]
    },
    {
      "cell_type": "markdown",
      "metadata": {
        "heading_collapsed": true,
        "id": "calEmhXQNJeK",
        "colab_type": "text"
      },
      "source": [
        "### 代码实现"
      ]
    },
    {
      "cell_type": "code",
      "metadata": {
        "hidden": true,
        "id": "bZdgxgPANJeK",
        "colab_type": "code",
        "colab": {}
      },
      "source": [
        "def find_median(A, p, r):\n",
        "  \"\"\"借助插入排序找出数组 A 指定区域的下中位数\"\"\"\n",
        "  for j in range(p+1, r+1):\n",
        "    i = j - 1\n",
        "    key = A[j]\n",
        "    while i >=p and A[i] > key:\n",
        "      A[i+1] = A[i]\n",
        "      i -= 1\n",
        "    A[i+1] = key\n",
        "  return A[(p+r)//2]"
      ],
      "execution_count": 0,
      "outputs": []
    },
    {
      "cell_type": "code",
      "metadata": {
        "hidden": true,
        "id": "UxJiRXl6NJeN",
        "colab_type": "code",
        "colab": {}
      },
      "source": [
        "def select(A, p, r, i):\n",
        "  if r - p <= 5:\n",
        "    find_median(A, p, r)\n",
        "    return A[p + i - 1]\n",
        "  j = p\n",
        "  medians = list()\n",
        "  while True:\n",
        "    if j+5 <= r:\n",
        "      medians.append(find_median(A, j, j+5))\n",
        "      j += 5\n",
        "    else:\n",
        "      medians.append(find_median(A, j, r)) \n",
        "      break\n",
        "  key = select(medians, 0, len(medians)-1, (len(medians)- 1)//2)\n",
        "  index = A.index(key)  # 找到 key 对应的 index\n",
        "  A[index], A[r] = A[r], A[index]\n",
        "  q = partition(A, p, r)\n",
        "  k = q - p + 1\n",
        "  if k == i:\n",
        "    return A[q]\n",
        "  elif k > i:\n",
        "    return select(A, p, q-1, i)\n",
        "  else:\n",
        "    return select(A, q+1, r, i-k)"
      ],
      "execution_count": 0,
      "outputs": []
    },
    {
      "cell_type": "code",
      "metadata": {
        "hidden": true,
        "id": "XzQijFKXNJeQ",
        "colab_type": "code",
        "outputId": "1f079bee-c246-4b11-ef51-6dd53d5840d2",
        "colab": {
          "base_uri": "https://localhost:8080/",
          "height": 53
        }
      },
      "source": [
        "A = [random.randint(1, 10000) for i in range(random.randint(1, 1000))]\n",
        "i = random.randint(1, len(A))\n",
        "print(\"select 输出的结果: {}\".format(select(A, 0, len(A)-1, i)))\n",
        "print(\"先排序，再取第 i 个值的结果: {}\".format(sorted(A)[i-1])) "
      ],
      "execution_count": 17,
      "outputs": [
        {
          "output_type": "stream",
          "text": [
            "select 输出的结果: 636\n",
            "先排序，再取第 i 个值的结果: 636\n"
          ],
          "name": "stdout"
        }
      ]
    },
    {
      "cell_type": "markdown",
      "metadata": {
        "id": "J0t4OdcQNJeW",
        "colab_type": "text"
      },
      "source": [
        "### 时间复杂度分析"
      ]
    },
    {
      "cell_type": "markdown",
      "metadata": {
        "id": "zl5iHo_WNJeW",
        "colab_type": "text"
      },
      "source": [
        "- 当输入规模为 $n$ 时，设其最坏情况下的运行时间为 $T(n)$\n",
        "- 第 3 步的运行时间为 $T(\\lceil n/5 \\rceil)$  \n",
        "  - 进一步分析，只要第 5 步中递归调用的规模严格的小于 $4n/5$, 即可保证整个算法为线性算法\n",
        "- 第 4 步划分后，大于 $x$ 的个数至少为: $$3(\\lceil{{1 \\over 2} \\lceil {n \\over 5} \\rceil} \\rceil - 2) \\ge {3n \\over 10} - 6 $$  \n",
        "  - 分析过程图示：\n",
        "    - <img src=\"https://raw.githubusercontent.com/Lijunjie9502/PicBed/master/20191226083609.png\" width = 300>\n",
        "  - 则第 5 步中，SELECT 递归调用时，最多作用于 $7n\\ /\\ 10 + 6$ 个元素\n",
        "- 经过上述分析，可得： $$T(n) \\le T(\\lceil n/5 \\rceil) + T(7n/10) + 6 + O(n)$$  \n",
        "  - 通过代入法可得： $T(n) = O(n)$\n"
      ]
    },
    {
      "cell_type": "markdown",
      "metadata": {
        "id": "_NyDWmikNJeX",
        "colab_type": "text"
      },
      "source": [
        "### 练习"
      ]
    },
    {
      "cell_type": "markdown",
      "metadata": {
        "id": "fciaOUUpOAFH",
        "colab_type": "text"
      },
      "source": [
        "#### 9.3-6\n",
        "在 $O(nlgk)$ 的时间内，找出某一集合的 $k$ 分位数"
      ]
    },
    {
      "cell_type": "markdown",
      "metadata": {
        "id": "Pd3Q3u_ZY7Lv",
        "colab_type": "text"
      },
      "source": [
        "- 基本思路  \n",
        "  - 设输入的数组为 $A$ 且 $d = \\lfloor n / k \\rfloor$，则求解 $k$ 分位数，相当于求解 $A$ 的第 $ d, 2d, 3d, \\cdots \n",
        "  (k-1)d$ 个顺序统计量  \n",
        "  - 如果直接调用 SELECT 进行求解，则时间复杂度为 $O((k-1)n)$  \n",
        "  - 注意到，每次调用 SELECT 后，会对数组 $A$ 进行一定的左右划分，即\n",
        "  设查找是第 $i$ 个顺序统计量，运行完 SELECT 后， $A[i-1]$ (数组下标从 0 开始)为所需要顺序量，而当 $j \\in [0, i-1)$ 时，\n",
        "  $A[j] \\le A[i]$; 当 $j \\in (i-1, len(A))$ 时， $A[j] > A[i]$。  \n",
        "    - 利用这个性质，则可以利用分治法，减小调用 SELECT 时数组的规模，从而减小时间复杂度  \n",
        "  - 具体是首先查找中间位置的 $k$ 分位数，然后再分别查找左右数组中间位置的 $k$ 分位数，如此，可近似将数组规模减半。递归调用算法，\n",
        "  即可查找到所有的 $k$ 分位数。 \n",
        "- 复杂度分析\n",
        "  - 不妨设 $n, k$ 均为 $2$ 的整数倍幂，设时间复杂度为 $T(n)$， 则可得：  \n",
        "    - $$\\begin{aligned} T(n) &\\le cn + 2T(n/2) \\\\\n",
        "                  &\\le 2cn + 4T(n/4) \\\\\n",
        "                  &\\le 3cn + 8T(n/8) \\\\\n",
        "                  &\\cdots \\\\\n",
        "                  &\\le cnlgk + kT(n/k) \\\\&= cnlgk + O(k) \\\\&= O(nlgk) \\\\\n",
        "     \\end{aligned}$$\n",
        "    - 由上式可得 $T(n) = O(nlgk)$"
      ]
    },
    {
      "cell_type": "code",
      "metadata": {
        "id": "UtvgRn69OLve",
        "colab_type": "code",
        "colab": {}
      },
      "source": [
        "def find_k_quantiles_recursive(A, p, r, d, res):\n",
        "  \"\"\"找出数组 A 的的第 k - 1 个分位数\"\"\"\n",
        "  while r - p + 1 >= d:\n",
        "    middle = ( (r-p + 1)//d + 1)// 2  # 中间分组的个数，最小为 1\n",
        "    q = p + middle * d - 1  # 在 A 中的索引位置\n",
        "    index = (q+1) // d  - 1  # 在 res 中的索引位置\n",
        "    if index < len(res):  # 排除最后一个 k 分数\n",
        "        res[index] = select(A, p, r, middle * d)\n",
        "    find_k_quantiles_recursive(A, p, q-1, d, res)\n",
        "    p = q + 1\n",
        "\n",
        "\n",
        "def find_k_quantiles(A, k):\n",
        "  d = len(A) // k\n",
        "  res = [None] * (k-1)\n",
        "  find_k_quantiles_recursive(A, 0, len(A)-1, d, res)\n",
        "  return res"
      ],
      "execution_count": 0,
      "outputs": []
    },
    {
      "cell_type": "code",
      "metadata": {
        "id": "8NzNjGCwQYSB",
        "colab_type": "code",
        "outputId": "1b516349-d9b7-4078-f505-f70e12c49bbb",
        "colab": {
          "base_uri": "https://localhost:8080/",
          "height": 35
        }
      },
      "source": [
        "a = random.sample(range(1000), 1000)\n",
        "find_k_quantiles(a, 10)"
      ],
      "execution_count": 26,
      "outputs": [
        {
          "output_type": "execute_result",
          "data": {
            "text/plain": [
              "[99, 199, 299, 399, 499, 599, 699, 799, 899]"
            ]
          },
          "metadata": {
            "tags": []
          },
          "execution_count": 26
        }
      ]
    },
    {
      "cell_type": "code",
      "metadata": {
        "id": "W6IrM2udpW2e",
        "colab_type": "code",
        "colab": {}
      },
      "source": [
        ""
      ],
      "execution_count": 0,
      "outputs": []
    }
  ]
}