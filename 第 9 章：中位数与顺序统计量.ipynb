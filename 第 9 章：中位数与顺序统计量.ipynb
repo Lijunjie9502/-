{
 "cells": [
  {
   "cell_type": "code",
   "execution_count": 2,
   "metadata": {
    "colab": {},
    "colab_type": "code",
    "id": "gDz3TgE_V7cb"
   },
   "outputs": [],
   "source": [
    "import random"
   ]
  },
  {
   "cell_type": "markdown",
   "metadata": {
    "colab_type": "text",
    "id": "tqlP_SmFV7c3"
   },
   "source": [
    "## 9.0 相关概念"
   ]
  },
  {
   "cell_type": "markdown",
   "metadata": {
    "colab_type": "text",
    "id": "eL7gEBSCV7c7"
   },
   "source": [
    "- **顺序统计量**\n",
    "  - 第 $i$ 个顺序统计量是指集合中第 $i$ 小的元素\n",
    "  - $i=1$ 时，为**最小值**\n",
    "  - $i=n$ 时，为**最大值**\n",
    "  - 当 $n$ 为奇数时， $i = (n+1)/2$ 为**中位数**\n",
    "  - 当 $n$ 为奇数时，存在两个中位数，分别位为 $ i = n/2$ 和 $i = n/2 + 1$ 处\n",
    "  - 不考虑 $n$ 的奇偶性，则中位数总是出现在 $i=\\lfloor (n+1)/2 \\rfloor$(**下中位数**) 和 $\\lceil (n+2)/2 \\rceil$ 处(**上中位数**)"
   ]
  },
  {
   "cell_type": "markdown",
   "metadata": {
    "colab_type": "text",
    "id": "dc_37LNpV7c-"
   },
   "source": [
    "- **选择问题**  \n",
    "  - 寻找第 $i$ 个顺序统计量，可以抽像为选择问题\n",
    "\n",
    "> 输入：一个包含 $n$ 个（互异的）数的集合 $A$ 和一个整数 $i$, $1 \\le i \\le n$  \n",
    "输出： 元素 $x \\in i$, 且$A$中恰好有 $i-1$ 个元素小于它 "
   ]
  },
  {
   "cell_type": "markdown",
   "metadata": {
    "colab_type": "text",
    "id": "FDDWnC_kV7dF"
   },
   "source": [
    "## 9.1 最大值和最小值"
   ]
  },
  {
   "cell_type": "markdown",
   "metadata": {
    "colab_type": "text",
    "id": "8RwEmLFMV7dL"
   },
   "source": [
    "### 找出最小值"
   ]
  },
  {
   "cell_type": "markdown",
   "metadata": {
    "colab_type": "text",
    "id": "8yVarX7SV7dV"
   },
   "source": [
    "- 可通过 $n-1$ 次比较得出"
   ]
  },
  {
   "cell_type": "code",
   "execution_count": 3,
   "metadata": {
    "colab": {},
    "colab_type": "code",
    "id": "-97bW7pdV7da"
   },
   "outputs": [],
   "source": [
    "def minimum(A):\n",
    "  mini = A[0]\n",
    "  for i in range(1, len(A)):\n",
    "    if A[i] < mini:\n",
    "      mini = A[i]\n",
    "  return mini"
   ]
  },
  {
   "cell_type": "code",
   "execution_count": 4,
   "metadata": {
    "colab": {},
    "colab_type": "code",
    "id": "Ueb0O5acV7dq",
    "outputId": "7a0777bf-4c6b-43e4-f474-13351fa7f02a"
   },
   "outputs": [
    {
     "name": "stdout",
     "output_type": "stream",
     "text": [
      "A = [26, 62, 75, 84, 27, 87, 54, 74, 37, 63]\n",
      "26 is the minimun item in A\n"
     ]
    }
   ],
   "source": [
    "A = random.sample(range(100), 10)\n",
    "print(\"A = {}\".format(A))\n",
    "print(\"{} is the minimun item in A\".format(minimum(A)))"
   ]
  },
  {
   "cell_type": "markdown",
   "metadata": {
    "colab_type": "text",
    "id": "E6WaYebIV7d9"
   },
   "source": [
    "### 找出最大值"
   ]
  },
  {
   "cell_type": "markdown",
   "metadata": {
    "colab_type": "text",
    "id": "eBBAmoy3V7eD"
   },
   "source": [
    "- 与最小值一样，也可通过 $n-1$ 次比较得到"
   ]
  },
  {
   "cell_type": "code",
   "execution_count": 5,
   "metadata": {
    "colab": {},
    "colab_type": "code",
    "id": "zlY27dH8V7eH"
   },
   "outputs": [],
   "source": [
    "def maxmum(A):\n",
    "  maxm = A[0]\n",
    "  for i in range(1, len(A)):\n",
    "    if A[i] > maxm:\n",
    "      maxm = A[i]\n",
    "  return maxm"
   ]
  },
  {
   "cell_type": "code",
   "execution_count": 6,
   "metadata": {
    "colab": {},
    "colab_type": "code",
    "id": "OmtIpclTV7eQ",
    "outputId": "63da97f7-5d3a-48da-cf1b-b2432bfdf9c5"
   },
   "outputs": [
    {
     "name": "stdout",
     "output_type": "stream",
     "text": [
      "A = [49, 47, 68, 73, 38, 95, 79, 88, 29, 63]\n",
      "95 is the maxmun item in A\n"
     ]
    }
   ],
   "source": [
    "A = random.sample(range(100), 10)\n",
    "print(\"A = {}\".format(A))\n",
    "print(\"{} is the maxmun item in A\".format(maxmum(A)))"
   ]
  },
  {
   "cell_type": "markdown",
   "metadata": {
    "colab_type": "text",
    "id": "FUUrIWkzV7ec"
   },
   "source": [
    "### 同时找出最大值和最小值"
   ]
  },
  {
   "cell_type": "markdown",
   "metadata": {
    "colab_type": "text",
    "id": "P3bognq5V7ef"
   },
   "source": [
    "- 通过成对的处理输入，最多只需要 $3\\lfloor n/2 \\rfloor$ 次比较即可同时找出最大值和最小值\n",
    "  - 先比较两个输元素，然后将较小的值与当前的最小值进行比较，将较大的值与当前的最大值进行比较"
   ]
  },
  {
   "cell_type": "code",
   "execution_count": 7,
   "metadata": {
    "colab": {},
    "colab_type": "code",
    "id": "bVCIwPS4V7ej"
   },
   "outputs": [],
   "source": [
    "def mini_maxmum(A):\n",
    "  n = len(A)\n",
    "  if n % 2 == 0:\n",
    "    mini, maxm = A[0], A[1]\n",
    "    start_index = 2\n",
    "  else:\n",
    "    mini = maxm = A[0]\n",
    "    start_index = 1\n",
    "  for i in range(start_index, len(A), 2):\n",
    "    if A[i] > A[i+1]:\n",
    "      tmp_mini, tmp_maxm = A[i+1], A[i]\n",
    "    else:\n",
    "      tmp_mini, tmp_maxm = A[i], A[i+1]\n",
    "    if tmp_mini < mini:\n",
    "      mini = tmp_mini\n",
    "    if tmp_maxm > maxm:\n",
    "      maxm = tmp_maxm\n",
    "  return mini, maxm\n",
    "  "
   ]
  },
  {
   "cell_type": "code",
   "execution_count": 8,
   "metadata": {
    "colab": {
     "base_uri": "https://localhost:8080/",
     "height": 50
    },
    "colab_type": "code",
    "id": "_OILQ7KTWoQD",
    "outputId": "43a2c18b-7b40-4d73-9660-7a7dfae690e2"
   },
   "outputs": [
    {
     "name": "stdout",
     "output_type": "stream",
     "text": [
      "A = [65, 62, 66, 60, 55, 96, 0, 61, 51, 32, 46, 79, 8, 33, 21]\n",
      "0 is the minimun item in A, 96 is the maxmun item in A.\n"
     ]
    }
   ],
   "source": [
    "A = random.sample(range(100), random.randint(10, 20))\n",
    "print(\"A = {}\".format(A))\n",
    "mini, maxm = mini_maxmum(A)\n",
    "print(\"{} is the minimun item in A, {} is the maxmun item in A.\".format(mini, maxm))"
   ]
  },
  {
   "cell_type": "markdown",
   "metadata": {},
   "source": [
    "### 练习"
   ]
  },
  {
   "cell_type": "markdown",
   "metadata": {},
   "source": [
    "#### 9.1-1 \n",
    "经过 $n + \\lceil lgn \\rceil - 2$ 次比较找到 $n$ 个元素中第二小的元素"
   ]
  },
  {
   "cell_type": "markdown",
   "metadata": {},
   "source": [
    "$${n \\over 2} + {n \\over 2^2} + \\cdots + {1}$$\n",
    "$${1-2^{lgn} \\over 1-2 }= n - 1$$ "
   ]
  },
  {
   "cell_type": "markdown",
   "metadata": {
    "colab_type": "text",
    "id": "TrhpJfQjXEva"
   },
   "source": [
    "## 9-2 期望为线性时间的选择算法"
   ]
  },
  {
   "cell_type": "markdown",
   "metadata": {},
   "source": [
    "### 代码实现"
   ]
  },
  {
   "cell_type": "markdown",
   "metadata": {
    "colab": {},
    "colab_type": "code",
    "id": "2sS2OWq5Xfgr"
   },
   "source": [
    "- 选择排序的分治算法 RANDOMIZED-SELECT 是以快速排序算法为基础的\n",
    "- 快速排序算法会递归的处理 partition 后两边的数组，而 RANDOMIZED-SELECT 只用处理一边的数组"
   ]
  },
  {
   "cell_type": "code",
   "execution_count": 9,
   "metadata": {},
   "outputs": [],
   "source": [
    "def partition(A, p, r):\n",
    "  \"\"\"以最后一个元素为主元对数组 A 进行分组\"\"\"\n",
    "  q = p - 1\n",
    "  for j in range(p, r):\n",
    "    if A[j] < A[r]:\n",
    "      q += 1\n",
    "      A[j], A[q] = A[q], A[j]\n",
    "  A[q+1], A[r] = A[r], A[q+1]\n",
    "  return q + 1"
   ]
  },
  {
   "cell_type": "code",
   "execution_count": 17,
   "metadata": {},
   "outputs": [],
   "source": [
    "def randomized_partition(A, p, r):\n",
    "  \"\"\"随机选择主元对数组 A 进行划分\"\"\"\n",
    "  i = random.randint(p, r)\n",
    "  A[i], A[r] = A[r], A[i]\n",
    "  return partition(A, p, r)"
   ]
  },
  {
   "cell_type": "code",
   "execution_count": 60,
   "metadata": {},
   "outputs": [],
   "source": [
    "def randomized_select(A, p, r, i):\n",
    "  \"\"\"选择数组 A 中在 [p, r] 中的第 k 个顺序统计量\"\"\"\n",
    "  if p == r:\n",
    "    return A[p]\n",
    "  q = randomized_partition(A, p, r)\n",
    "  k = q - p + 1\n",
    "  if k == i:\n",
    "    return A[q]\n",
    "  elif k > i:\n",
    "    return randomized_select(A, p, q-1, i)\n",
    "  else:\n",
    "    return randomized_select(A, q+1, r, i-k)"
   ]
  },
  {
   "cell_type": "code",
   "execution_count": 67,
   "metadata": {},
   "outputs": [
    {
     "name": "stdout",
     "output_type": "stream",
     "text": [
      "A = [15, 3, 5, 4, 3, 7, 5, 15, 6, 11]\n",
      "A 中的第 5 个顺序统计量为 5\n",
      "排序后，第 5 个值为 5\n"
     ]
    }
   ],
   "source": [
    "A = [random.randint(1, 15) for i in range(10)]\n",
    "print(\"A = {}\".format(A))\n",
    "i = random.randint(1, 10)\n",
    "print(\"A 中的第 {} 个顺序统计量为 {}\".format(i, randomized_select(A, 0, len(A)-1, i)))\n",
    "print(\"排序后，第 {} 个值为 {}\".format(i, sorted(A)[i-1]))"
   ]
  },
  {
   "cell_type": "markdown",
   "metadata": {},
   "source": [
    "### 期望运行时间的上界"
   ]
  },
  {
   "cell_type": "markdown",
   "metadata": {},
   "source": [
    "- 定时指标器随机变量：\n",
    "$$X_k = I\\{子数组 \\ A[p \\cdots q]\\} \\ 正好包含 k 个元素$$  \n",
    "  - 假设元素是互异的，有 $$ E[X_k] = 1/n$$\n",
    "- 根据指示器随机变量的定义，可得下述递归式:  $$T(n) \\le \\sum_{k=1}^{n}{X_k \\times (T(max(k-1, n-k)) + O(n))}$$\n",
    "- 根据期望的相关性质和代入法，可证得：$$E(T(n)) = O (N)$$"
   ]
  },
  {
   "cell_type": "markdown",
   "metadata": {},
   "source": [
    "### 练习题"
   ]
  },
  {
   "cell_type": "markdown",
   "metadata": {},
   "source": [
    "$$ p > q - 1 \\\\\n",
    "  q - p  \\le 0 \\\\\n",
    "  k \\le 1 \\\\\n",
    "$$\n",
    "\n",
    "$$\n",
    "q + 1 > r \\\\\n",
    "q - p + 1 > r - p\\\\\n",
    "k > r - p\n",
    "$$"
   ]
  },
  {
   "cell_type": "markdown",
   "metadata": {},
   "source": [
    "## 9.3 最坏情况下为线性时间的选择算法"
   ]
  },
  {
   "cell_type": "markdown",
   "metadata": {},
   "source": [
    "### SELECT 算法描述  \n",
    "  1. 将输入数组的 $n$ 个元素划分为 $\\lfloor n/5 \\rfloor$ 组，每组 $5$ 个元素，则至多还有一组由剩下的 $n \\ mod \\ 5 $ 个元素组成\n",
    "  2. 确定 $\\lceil n/5 \\rceil$ 组每一组的中位数, 可用插入排序来实现\n",
    "  3. 对于第 2 步中确认的每组的中位数，递归的调用 SELECT 以找出其下中位数 $x$，\n",
    "  4. 以 $x$ 为主元，调用 PARTITION，对数组进行分组，设 $x$ 为第 $k$ 小的元素，则有 $n-k$ 个元素在划分的高区\n",
    "  5. 如果 $i=k$，则返回 $x$, 如果$i < k$, 则在低区递归的调用 SELECT 来找出第 $i$ 小的元素，如果 $i>k$, 则在高区递归的查找第 $i-k$ 小的元素"
   ]
  },
  {
   "cell_type": "markdown",
   "metadata": {
    "heading_collapsed": true
   },
   "source": [
    "### 代码实现"
   ]
  },
  {
   "cell_type": "code",
   "execution_count": 120,
   "metadata": {
    "hidden": true
   },
   "outputs": [],
   "source": [
    "def find_median(A, p, r):\n",
    "  \"\"\"借助插入排序找出数组 A 指定区域的下中位数\"\"\"\n",
    "  j = p + 1\n",
    "  for j in range(p+1, r+1):\n",
    "    i = j - 1\n",
    "    key = A[j]\n",
    "    while i >=p and A[i] > key:\n",
    "      A[i+1] = A[i]\n",
    "      i -= 1\n",
    "    A[i+1] = key\n",
    "  return A[(p+r)//2]"
   ]
  },
  {
   "cell_type": "code",
   "execution_count": 123,
   "metadata": {
    "hidden": true
   },
   "outputs": [],
   "source": [
    "def select(A, p, r, i):\n",
    "  if r - p <= 5:\n",
    "    find_median(A, p, r)\n",
    "    return A[p + i - 1]\n",
    "  j = p\n",
    "  medians = list()\n",
    "  while True:\n",
    "    if j+5 <= r:\n",
    "      medians.append(find_median(A, j, j+5))\n",
    "      j += 5\n",
    "    else:\n",
    "      medians.append(find_median(A, j, r)) \n",
    "      break\n",
    "  A[r] = select(medians, 0, len(medians)-1, (len(medians)- 1)//2)\n",
    "  q = partition(A, p, r)\n",
    "  k = q - p + 1\n",
    "  if k == i:\n",
    "    return A[q]\n",
    "  elif k > i:\n",
    "    return select(A, p, q-1, i)\n",
    "  else:\n",
    "    return select(A, q+1, r, i-k)"
   ]
  },
  {
   "cell_type": "code",
   "execution_count": 177,
   "metadata": {
    "hidden": true
   },
   "outputs": [
    {
     "name": "stdout",
     "output_type": "stream",
     "text": [
      "select 输出的结果: 1827\n",
      "先排序，再取第 i 个值的结果: 1827\n"
     ]
    }
   ],
   "source": [
    "A = [random.randint(1, 10000) for i in range(random.randint(1, 1000))]\n",
    "i = random.randint(1, len(A))\n",
    "print(\"select 输出的结果: {}\".format(select(A, 0, len(A)-1, i)))\n",
    "print(\"先排序，再取第 i 个值的结果: {}\".format(sorted(A)[i-1])) "
   ]
  },
  {
   "cell_type": "markdown",
   "metadata": {},
   "source": [
    "### 时间复杂度分析"
   ]
  },
  {
   "cell_type": "markdown",
   "metadata": {},
   "source": [
    "- 当输入规模为 $n$ 时，设其最坏情况下的运行时间为 $T(n)$\n",
    "- 第 3 步的运行时间为 $T(\\lceil n/5 \\rceil)$  \n",
    "  - 进一步分析，只要第 5 步中递归调用的规模严格的小于 $4n/5$, 即可保证整个算法为线性算法\n",
    "- 第 4 步划分后，大于 $x$ 的个数至少为: $$3(\\lceil{{1 \\over 2} \\lceil {n \\over 5} \\rceil} \\rceil - 2) \\ge {3n \\over 10} - 6 $$  \n",
    "  - 分析过程图示：\n",
    "    - <img src=\"https://raw.githubusercontent.com/Lijunjie9502/PicBed/master/20191226083609.png\" width = 300>\n",
    "  - 则第 5 步中，SELECT 递归调用时，最多作用于 $7n\\ /\\ 10 + 6$ 个元素\n",
    "- 经过上述分析，可得： $$T(n) \\le T(\\lceil n/5 \\rceil) + T(7n/10) + 6 + O(n)$$\n"
   ]
  },
  {
   "cell_type": "code",
   "execution_count": null,
   "metadata": {},
   "outputs": [],
   "source": []
  }
 ],
 "metadata": {
  "colab": {
   "name": "第 9 章：中位数与顺序统计量.ipynb",
   "provenance": []
  },
  "kernelspec": {
   "display_name": "Python 3",
   "language": "python",
   "name": "python3"
  },
  "language_info": {
   "codemirror_mode": {
    "name": "ipython",
    "version": 3
   },
   "file_extension": ".py",
   "mimetype": "text/x-python",
   "name": "python",
   "nbconvert_exporter": "python",
   "pygments_lexer": "ipython3",
   "version": "3.7.3"
  }
 },
 "nbformat": 4,
 "nbformat_minor": 1
}
