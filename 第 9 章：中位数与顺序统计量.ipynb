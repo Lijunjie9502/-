{
  "nbformat": 4,
  "nbformat_minor": 0,
  "metadata": {
    "kernelspec": {
      "display_name": "Python 3",
      "language": "python",
      "name": "python3"
    },
    "language_info": {
      "codemirror_mode": {
        "name": "ipython",
        "version": 3
      },
      "file_extension": ".py",
      "mimetype": "text/x-python",
      "name": "python",
      "nbconvert_exporter": "python",
      "pygments_lexer": "ipython3",
      "version": "3.7.3"
    },
    "colab": {
      "name": "第 9 章：中位数与顺序统计量.ipynb",
      "provenance": []
    }
  },
  "cells": [
    {
      "cell_type": "code",
      "metadata": {
        "id": "gDz3TgE_V7cb",
        "colab_type": "code",
        "colab": {}
      },
      "source": [
        "import random"
      ],
      "execution_count": 0,
      "outputs": []
    },
    {
      "cell_type": "markdown",
      "metadata": {
        "id": "tqlP_SmFV7c3",
        "colab_type": "text"
      },
      "source": [
        "## 9.0 相关概念"
      ]
    },
    {
      "cell_type": "markdown",
      "metadata": {
        "id": "eL7gEBSCV7c7",
        "colab_type": "text"
      },
      "source": [
        "- **顺序统计量**\n",
        "  - 第 $i$ 个顺序统计量是指集合中第 $i$ 小的元素\n",
        "  - $i=1$ 时，为**最小值**\n",
        "  - $i=n$ 时，为**最大值**\n",
        "  - 当 $n$ 为奇数时， $i = (n+1)/2$ 为**中位数**\n",
        "  - 当 $n$ 为奇数时，存在两个中位数，分别位为 $ i = n/2$ 和 $i = n/2 + 1$ 处\n",
        "  - 不考虑 $n$ 的奇偶性，则中位数总是出现在 $i=\\lfloor (n+1)/2 \\rfloor$(**下中位数**) 和 $\\lceil (n+2)/2 \\rceil$ 处(**上中位数**)"
      ]
    },
    {
      "cell_type": "markdown",
      "metadata": {
        "id": "dc_37LNpV7c-",
        "colab_type": "text"
      },
      "source": [
        "- **选择问题**  \n",
        "  - 寻找第 $i$ 个顺序统计量，可以抽像为选择问题\n",
        "\n",
        "> 输入：一个包含 $n$ 个（互异的）数的集合 $A$ 和一个整数 $i$, $1 \\le i \\le n$  \n",
        "输出： 元素 $x \\in i$, 且$A$中恰好有 $i-1$ 个元素小于它 "
      ]
    },
    {
      "cell_type": "markdown",
      "metadata": {
        "id": "FDDWnC_kV7dF",
        "colab_type": "text"
      },
      "source": [
        "## 9.1 最大值和最小值"
      ]
    },
    {
      "cell_type": "markdown",
      "metadata": {
        "heading_collapsed": true,
        "id": "8RwEmLFMV7dL",
        "colab_type": "text"
      },
      "source": [
        "### 找出最小值"
      ]
    },
    {
      "cell_type": "markdown",
      "metadata": {
        "hidden": true,
        "id": "8yVarX7SV7dV",
        "colab_type": "text"
      },
      "source": [
        "- 可通过 $n-1$ 次比较得出"
      ]
    },
    {
      "cell_type": "code",
      "metadata": {
        "hidden": true,
        "id": "-97bW7pdV7da",
        "colab_type": "code",
        "colab": {}
      },
      "source": [
        "def minimum(A):\n",
        "  mini = A[0]\n",
        "  for i in range(1, len(A)):\n",
        "    if A[i] < mini:\n",
        "      mini = A[i]\n",
        "  return mini"
      ],
      "execution_count": 0,
      "outputs": []
    },
    {
      "cell_type": "code",
      "metadata": {
        "hidden": true,
        "id": "Ueb0O5acV7dq",
        "colab_type": "code",
        "colab": {},
        "outputId": "7a0777bf-4c6b-43e4-f474-13351fa7f02a"
      },
      "source": [
        "A = random.sample(range(100), 10)\n",
        "print(\"A = {}\".format(A))\n",
        "print(\"{} is the minimun item in A\".format(minimum(A)))"
      ],
      "execution_count": 0,
      "outputs": [
        {
          "output_type": "stream",
          "text": [
            "A = [36, 46, 69, 98, 17, 55, 53, 49, 57, 64]\n",
            "17 is the minimun item in A\n"
          ],
          "name": "stdout"
        }
      ]
    },
    {
      "cell_type": "markdown",
      "metadata": {
        "heading_collapsed": true,
        "id": "E6WaYebIV7d9",
        "colab_type": "text"
      },
      "source": [
        "### 找出最大值"
      ]
    },
    {
      "cell_type": "markdown",
      "metadata": {
        "hidden": true,
        "id": "eBBAmoy3V7eD",
        "colab_type": "text"
      },
      "source": [
        "- 与最小值一样，也可通过 $n-1$ 次比较得到"
      ]
    },
    {
      "cell_type": "code",
      "metadata": {
        "hidden": true,
        "id": "zlY27dH8V7eH",
        "colab_type": "code",
        "colab": {}
      },
      "source": [
        "def maxmum(A):\n",
        "  maxm = A[0]\n",
        "  for i in range(1, len(A)):\n",
        "    if A[i] > maxm:\n",
        "      maxm = A[i]\n",
        "  return maxm"
      ],
      "execution_count": 0,
      "outputs": []
    },
    {
      "cell_type": "code",
      "metadata": {
        "hidden": true,
        "id": "OmtIpclTV7eQ",
        "colab_type": "code",
        "colab": {},
        "outputId": "63da97f7-5d3a-48da-cf1b-b2432bfdf9c5"
      },
      "source": [
        "A = random.sample(range(100), 10)\n",
        "print(\"A = {}\".format(A))\n",
        "print(\"{} is the maxmun item in A\".format(maxmum(A)))"
      ],
      "execution_count": 0,
      "outputs": [
        {
          "output_type": "stream",
          "text": [
            "A = [96, 33, 59, 75, 46, 21, 12, 92, 79, 23]\n",
            "96 is the minimun item in A\n"
          ],
          "name": "stdout"
        }
      ]
    },
    {
      "cell_type": "markdown",
      "metadata": {
        "id": "FUUrIWkzV7ec",
        "colab_type": "text"
      },
      "source": [
        "### 同时找出最大值和最小值"
      ]
    },
    {
      "cell_type": "markdown",
      "metadata": {
        "id": "P3bognq5V7ef",
        "colab_type": "text"
      },
      "source": [
        "- 通过成对的处理输入，最多只需要 $3\\lfloor n/2 \\rfloor$ 次比较即可同时找出最大值和最小值\n",
        "  - 先比较两个输元素，然后将较小的值与当前的最小值进行比较，将较大的值与当前的最大值进行比较"
      ]
    },
    {
      "cell_type": "code",
      "metadata": {
        "id": "bVCIwPS4V7ej",
        "colab_type": "code",
        "colab": {}
      },
      "source": [
        "def mini_maxmum(A):\n",
        "  n = len(A)\n",
        "  if n % 2 == 0:\n",
        "    mini, maxm = A[0], A[1]\n",
        "    start_index = 2\n",
        "  else:\n",
        "    mini = maxm = A[0]\n",
        "    start_index = 1\n",
        "  for i in range(start_index, len(A), 2):\n",
        "    if A[i] > A[i+1]:\n",
        "      tmp_mini, tmp_maxm = A[i+1], A[i]\n",
        "    else:\n",
        "      tmp_mini, tmp_maxm = A[i], A[i+1]\n",
        "    if tmp_mini < mini:\n",
        "      mini = tmp_mini\n",
        "    if tmp_maxm > maxm:\n",
        "      maxm = tmp_maxm\n",
        "  return mini, maxm\n",
        "  "
      ],
      "execution_count": 0,
      "outputs": []
    },
    {
      "cell_type": "code",
      "metadata": {
        "id": "_OILQ7KTWoQD",
        "colab_type": "code",
        "colab": {
          "base_uri": "https://localhost:8080/",
          "height": 50
        },
        "outputId": "43a2c18b-7b40-4d73-9660-7a7dfae690e2"
      },
      "source": [
        "A = random.sample(range(100), random.randint(10, 20))\n",
        "print(\"A = {}\".format(A))\n",
        "mini, maxm = mini_maxmum(A)\n",
        "print(\"{} is the minimun item in A, {} is the maxmun item in A.\".format(mini, maxm))"
      ],
      "execution_count": 7,
      "outputs": [
        {
          "output_type": "stream",
          "text": [
            "A = [84, 63, 45, 65, 91, 78, 90, 14, 64, 18, 71, 61, 41, 30, 13, 96, 39]\n",
            "13 is the minimun item in A, 96 is the maxmun item in A.\n"
          ],
          "name": "stdout"
        }
      ]
    },
    {
      "cell_type": "markdown",
      "metadata": {
        "id": "TrhpJfQjXEva",
        "colab_type": "text"
      },
      "source": [
        "## 9-2 期望为线性时间的选择算法"
      ]
    },
    {
      "cell_type": "code",
      "metadata": {
        "id": "2sS2OWq5Xfgr",
        "colab_type": "code",
        "colab": {}
      },
      "source": [
        ""
      ],
      "execution_count": 0,
      "outputs": []
    }
  ]
}