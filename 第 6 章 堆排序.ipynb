{
 "cells": [
  {
   "cell_type": "code",
   "execution_count": 23,
   "metadata": {},
   "outputs": [],
   "source": [
    "class Heap(list):\n",
    "    \"\"\"继承 python 内置的 list 类型，并添加 heap_size 属性\"\"\"\n",
    "    def __init__(self, array, heap_size=None):\n",
    "        list.__init__(self, array)\n",
    "        self.heap_size = len(array) if heap_size is None else heap_size"
   ]
  },
  {
   "cell_type": "markdown",
   "metadata": {},
   "source": [
    "# 1. 堆 "
   ]
  },
  {
   "cell_type": "markdown",
   "metadata": {},
   "source": [
    "- 堆是一个数组，可以被看成一个近似的完全二叉树（除了最底层，该树应该是完全充满的）\n",
    "- 示意图\n",
    "<img src=https://raw.githubusercontent.com/Lijunjie9502/PicBed/master/20191211201233.png width = 600>\n",
    "- $A\\left[ {1 \\ldots A.length} \\right]$ 中可能都含有元素，但只有 $A\\left[ {1 \\ldots A.heap\\_size} \\right]$ 中存放的是有效元素"
   ]
  },
  {
   "cell_type": "markdown",
   "metadata": {},
   "source": [
    "### **获取给定节点的父节点，左孩子结点和右孩子结点** \n"
   ]
  },
  {
   "cell_type": "markdown",
   "metadata": {},
   "source": [
    "- 常用编程语言的下标从 0 开始，除了代码部分，则默认数组下标从 1 开始\n",
    "- 可通过左移或右移操作来加快计算速度\n",
    "- python 的移位操作优先级较低，注意加括号以避免出错"
   ]
  },
  {
   "cell_type": "code",
   "execution_count": 33,
   "metadata": {},
   "outputs": [],
   "source": [
    "def parent(i):\n",
    "    return (i-1) >> 1\n",
    "\n",
    "def left(i):\n",
    "    return (i << 1) + 1\n",
    "\n",
    "def right(i):\n",
    "    return (i << 1) + 2"
   ]
  },
  {
   "cell_type": "code",
   "execution_count": 34,
   "metadata": {},
   "outputs": [
    {
     "name": "stdout",
     "output_type": "stream",
     "text": [
      "the parent of i is 1, the left child of i is 7, the right child of i is 8\n"
     ]
    }
   ],
   "source": [
    "i = 3\n",
    "print(\"the parent of i is {}, the left child of i is {}, the right child of i is {}\". format(parent(i), left(i), right(i)))"
   ]
  },
  {
   "cell_type": "markdown",
   "metadata": {},
   "source": [
    "### 最大堆与最小堆"
   ]
  },
  {
   "cell_type": "markdown",
   "metadata": {},
   "source": [
    "- 最大堆的性质\n",
    "    - 对于除了根节点以外的所有节点 $i$ 都要满足：$$A\\left[ {PARENT\\left( i \\right)} \\right] \\ge A\\left[ i \\right]$$\n",
    "    \n",
    "    - 即最大堆中的最大元素存放在根节点中，且在任一子树中，这一性质也成立\n",
    "\n",
    "\n",
    "- 最小堆的性质\n",
    "    - 对于除了根节点以外的所有节点 $i$ 都要满足：$$A\\left[ {PARENT\\left( i \\right)} \\right] \\le A\\left[ i \\right]$$\n",
    "    \n",
    "    - 即最小堆中的最小元素存放在根节点中，且在任一子树中，这一性质也成立"
   ]
  },
  {
   "cell_type": "markdown",
   "metadata": {},
   "source": [
    "### 堆的应用"
   ]
  },
  {
   "cell_type": "markdown",
   "metadata": {},
   "source": [
    "- 排序\n",
    "- 优先队列"
   ]
  },
  {
   "cell_type": "markdown",
   "metadata": {},
   "source": [
    "### 堆的性质"
   ]
  },
  {
   "cell_type": "markdown",
   "metadata": {},
   "source": [
    "- 包含 $n$ 个元素的堆高度为 $\\Theta(lg(n))$\n",
    "- 堆结构上的一些基本操作至多与堆的高度成正比，即时间复杂度为 $O(lg(n))$\n",
    "- 最大堆的最小元素位于叶节点中\n",
    "- 已排好序的数组是一个最小堆\n",
    "- 当用数组表示储存 $n$ 个元素的堆时，叶结点的下标分别为 $\\left\\lfloor {{n \\over 2}} \\right\\rfloor  + 1,\\left\\lfloor {{n \\over 2}} \\right\\rfloor  + 2, \\cdots ,n$"
   ]
  },
  {
   "cell_type": "markdown",
   "metadata": {},
   "source": [
    "# 2 维护堆的性质"
   ]
  },
  {
   "cell_type": "markdown",
   "metadata": {},
   "source": [
    "- 在调用 MAX-HEAPIFY 假设：\n",
    "    - 根结点为 LEFT($i$) 和 RIGHT($i$) 的二叉树都是最大堆\n",
    "    - $A[i]$ 可能小于其孩子节点"
   ]
  },
  {
   "cell_type": "markdown",
   "metadata": {},
   "source": [
    "### 程序执行示意图"
   ]
  },
  {
   "cell_type": "markdown",
   "metadata": {},
   "source": []
  },
  {
   "cell_type": "code",
   "execution_count": null,
   "metadata": {},
   "outputs": [],
   "source": []
  }
 ],
 "metadata": {
  "kernelspec": {
   "display_name": "Python 3",
   "language": "python",
   "name": "python3"
  },
  "language_info": {
   "codemirror_mode": {
    "name": "ipython",
    "version": 3
   },
   "file_extension": ".py",
   "mimetype": "text/x-python",
   "name": "python",
   "nbconvert_exporter": "python",
   "pygments_lexer": "ipython3",
   "version": "3.7.3"
  }
 },
 "nbformat": 4,
 "nbformat_minor": 2
}
