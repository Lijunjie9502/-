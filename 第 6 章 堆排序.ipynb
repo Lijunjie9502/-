{
  "nbformat": 4,
  "nbformat_minor": 0,
  "metadata": {
    "kernelspec": {
      "display_name": "Python 3",
      "language": "python",
      "name": "python3"
    },
    "language_info": {
      "codemirror_mode": {
        "name": "ipython",
        "version": 3
      },
      "file_extension": ".py",
      "mimetype": "text/x-python",
      "name": "python",
      "nbconvert_exporter": "python",
      "pygments_lexer": "ipython3",
      "version": "3.7.3"
    },
    "colab": {
      "name": "第 6 章 堆排序.ipynb",
      "provenance": []
    }
  },
  "cells": [
    {
      "cell_type": "code",
      "metadata": {
        "id": "rOqvHqLOeGlG",
        "colab_type": "code",
        "colab": {}
      },
      "source": [
        "from functools import total_ordering"
      ],
      "execution_count": 0,
      "outputs": []
    },
    {
      "cell_type": "code",
      "metadata": {
        "id": "aNMsIri9YciR",
        "colab_type": "code",
        "colab": {}
      },
      "source": [
        "class Heap(list):\n",
        "    \"\"\"继承 python 内置的 list 类型，并添加 heap_size 属性\"\"\"\n",
        "    def __init__(self, array, heap_size=None):\n",
        "        list.__init__(self, array)\n",
        "        self.heap_size = len(array) if heap_size is None else heap_size"
      ],
      "execution_count": 0,
      "outputs": []
    },
    {
      "cell_type": "markdown",
      "metadata": {
        "heading_collapsed": true,
        "id": "mEfApuGBYciV",
        "colab_type": "text"
      },
      "source": [
        "## 6.1 堆 "
      ]
    },
    {
      "cell_type": "markdown",
      "metadata": {
        "hidden": true,
        "id": "teYAr8LMYciW",
        "colab_type": "text"
      },
      "source": [
        "- 堆是一个数组，可以被看成一个近似的完全二叉树（除了最底层，该树应该是完全充满的）\n",
        "- 示意图  \n",
        "<img src=https://raw.githubusercontent.com/Lijunjie9502/PicBed/master/20191211201233.png width = 600>\n",
        "- $A\\left[ {1 \\ldots A.length} \\right]$ 中可能都含有元素，但只有 $A\\left[ {1 \\ldots A.heap\\_size} \\right]$ 中存放的是有效元素"
      ]
    },
    {
      "cell_type": "markdown",
      "metadata": {
        "heading_collapsed": true,
        "hidden": true,
        "id": "U2Qq_yg1YciX",
        "colab_type": "text"
      },
      "source": [
        "#### **获取给定节点的父节点，左孩子结点和右孩子结点** \n"
      ]
    },
    {
      "cell_type": "markdown",
      "metadata": {
        "hidden": true,
        "id": "uHndfXaAYciX",
        "colab_type": "text"
      },
      "source": [
        "- 常用编程语言的下标从 0 开始，除了代码部分，则默认数组下标从 1 开始\n",
        "- 可通过左移或右移操作来加快计算速度\n",
        "- python 的移位操作优先级较低，注意加括号以避免出错"
      ]
    },
    {
      "cell_type": "code",
      "metadata": {
        "hidden": true,
        "id": "SQtWC4SGYciY",
        "colab_type": "code",
        "colab": {}
      },
      "source": [
        "def parent(i):\n",
        "    return (i-1) >> 1\n",
        "\n",
        "def left(i):\n",
        "    return (i << 1) + 1\n",
        "\n",
        "def right(i):\n",
        "    return (i << 1) + 2"
      ],
      "execution_count": 0,
      "outputs": []
    },
    {
      "cell_type": "code",
      "metadata": {
        "hidden": true,
        "id": "A6WpfAbbYciZ",
        "colab_type": "code",
        "outputId": "96af4fff-6500-4456-c36b-eda7ed3811ff",
        "colab": {
          "base_uri": "https://localhost:8080/",
          "height": 35
        }
      },
      "source": [
        "i = 3\n",
        "print(\"the parent of i is {}, the left child of i is {}, the right child of i is {}\". format(parent(i), left(i), right(i)))"
      ],
      "execution_count": 0,
      "outputs": [
        {
          "output_type": "stream",
          "text": [
            "the parent of i is 1, the left child of i is 7, the right child of i is 8\n"
          ],
          "name": "stdout"
        }
      ]
    },
    {
      "cell_type": "markdown",
      "metadata": {
        "hidden": true,
        "id": "gFv-B1noYcic",
        "colab_type": "text"
      },
      "source": [
        "#### 最大堆与最小堆"
      ]
    },
    {
      "cell_type": "markdown",
      "metadata": {
        "hidden": true,
        "id": "5ZQY9tWhYcid",
        "colab_type": "text"
      },
      "source": [
        "- 最大堆的性质\n",
        "    - 对于除了根节点以外的所有节点 $i$ 都要满足：$$A\\left[ {PARENT\\left( i \\right)} \\right] \\ge A\\left[ i \\right]$$\n",
        "    \n",
        "    - 即最大堆中的最大元素存放在根节点中，且在任一子树中，这一性质也成立\n",
        "\n",
        "\n",
        "- 最小堆的性质\n",
        "    - 对于除了根节点以外的所有节点 $i$ 都要满足：$$A\\left[ {PARENT\\left( i \\right)} \\right] \\le A\\left[ i \\right]$$\n",
        "    \n",
        "    - 即最小堆中的最小元素存放在根节点中，且在任一子树中，这一性质也成立"
      ]
    },
    {
      "cell_type": "markdown",
      "metadata": {
        "hidden": true,
        "id": "KfdOCsekYcid",
        "colab_type": "text"
      },
      "source": [
        "#### 堆的应用"
      ]
    },
    {
      "cell_type": "markdown",
      "metadata": {
        "hidden": true,
        "id": "-kyOxfYgYcie",
        "colab_type": "text"
      },
      "source": [
        "- 排序\n",
        "- 优先队列"
      ]
    },
    {
      "cell_type": "markdown",
      "metadata": {
        "hidden": true,
        "id": "vgO5qtSkYcie",
        "colab_type": "text"
      },
      "source": [
        "#### 堆的性质"
      ]
    },
    {
      "cell_type": "markdown",
      "metadata": {
        "hidden": true,
        "id": "mztBro4IYcif",
        "colab_type": "text"
      },
      "source": [
        "- 包含 $n$ 个元素的堆高度为 $\\Theta(lg(n))$\n",
        "- 堆结构上的一些基本操作至多与堆的高度成正比，即时间复杂度为 $O(lg(n))$\n",
        "- 最大堆的最小元素位于叶节点中\n",
        "- 已排好序的数组是一个最小堆\n",
        "- 当用数组表示储存 $n$ 个元素的堆时，叶结点的下标分别为 $\\left\\lfloor {{n \\over 2}} \\right\\rfloor  + 1,\\left\\lfloor {{n \\over 2}} \\right\\rfloor  + 2, \\cdots ,n$, 即叶节点的数目为 $\\left\\lceil {{n \\over 2}} \\right\\rceil$\n",
        "- 当只含有一个元素时，堆的高度为 0"
      ]
    },
    {
      "cell_type": "markdown",
      "metadata": {
        "heading_collapsed": true,
        "id": "X68yVnJJYcif",
        "colab_type": "text"
      },
      "source": [
        "## 6.2 维护堆的性质"
      ]
    },
    {
      "cell_type": "markdown",
      "metadata": {
        "hidden": true,
        "id": "gm9UjhL_Ycig",
        "colab_type": "text"
      },
      "source": [
        "- 在调用 MAX-HEAPIFY 假设：\n",
        "    - 根结点为 LEFT($i$) 和 RIGHT($i$) 的二叉树都是最大堆\n",
        "    - $A[i]$ 可能小于其孩子节点"
      ]
    },
    {
      "cell_type": "markdown",
      "metadata": {
        "hidden": true,
        "id": "lYhFzzFIYcig",
        "colab_type": "text"
      },
      "source": [
        "### 代码实现"
      ]
    },
    {
      "cell_type": "code",
      "metadata": {
        "hidden": true,
        "id": "Ct7hoCteYcih",
        "colab_type": "code",
        "colab": {}
      },
      "source": [
        "def max_heapify(A, i):\n",
        "    l = left(i)\n",
        "    r = right(i)\n",
        "    largest = i\n",
        "    if l < A.heap_size and A[l] > A[largest]:\n",
        "        largest = l\n",
        "    if r < A.heap_size and A[r] > A[largest]:\n",
        "        largest = r\n",
        "    if largest != i:\n",
        "        A[i], A[largest] = A[largest], A[i]\n",
        "        max_heapify(A, largest)"
      ],
      "execution_count": 0,
      "outputs": []
    },
    {
      "cell_type": "code",
      "metadata": {
        "hidden": true,
        "id": "sdi7urwuYcij",
        "colab_type": "code",
        "outputId": "797ebe47-cc41-4544-d645-28c13540d2f2",
        "colab": {
          "base_uri": "https://localhost:8080/",
          "height": 35
        }
      },
      "source": [
        "A = Heap([16, 4, 10, 14, 7, 9, 3, 2, 8, 1])\n",
        "max_heapify(A, 1)\n",
        "print(A)"
      ],
      "execution_count": 0,
      "outputs": [
        {
          "output_type": "stream",
          "text": [
            "[16, 14, 10, 8, 7, 9, 3, 2, 4, 1]\n"
          ],
          "name": "stdout"
        }
      ]
    },
    {
      "cell_type": "markdown",
      "metadata": {
        "hidden": true,
        "id": "8m0oVypKYcik",
        "colab_type": "text"
      },
      "source": [
        "### 程序执行示意图"
      ]
    },
    {
      "cell_type": "markdown",
      "metadata": {
        "hidden": true,
        "id": "IPjo544DYcil",
        "colab_type": "text"
      },
      "source": [
        "<img src=\"https://raw.githubusercontent.com/Lijunjie9502/PicBed/master/20191211201929.png\" width = 600>"
      ]
    },
    {
      "cell_type": "markdown",
      "metadata": {
        "heading_collapsed": true,
        "hidden": true,
        "id": "fWi4nTIEYcil",
        "colab_type": "text"
      },
      "source": [
        "###  复杂度分析"
      ]
    },
    {
      "cell_type": "markdown",
      "metadata": {
        "hidden": true,
        "id": "KVTq7o3LYcim",
        "colab_type": "text"
      },
      "source": [
        "- 调用 $A[i], A[LEFT(i)], A[RIGHT(i)]$ 的时间代价为 $\\Theta(1)$\n",
        "- 子树的规模最大为 $ 2n/3 $\n",
        "  - 发生在最底层恰好半满的时候\n",
        "      - 设树高为 $h$，则除最底层个，包含的元素数为：\n",
        "      $$1 + 2 + {2^2} +  \\cdots  + {2^{h - 1}} = {{{2^h} - 1} \\over {2 - 1}} = {2^h} - 1$$\n",
        "      - 左右子树各占 $(2^h-1)/2 = 2^{h-1} - 1/2$\n",
        "      - 最后一层半满时，元素数为 $2^{h-1}$\n",
        "      - 最大子树的规模为：\n",
        "      $${{{2^{h - 1}} + {{\\rm{2}}^{h - 1}} - 1/2} \\over {{2^{h - 1}} + {2^h} - 1}} \\approx {2 \\over 3}$$\n",
        "- 运行时间的递推式为：$$T(n) \\le T(2n/3) + \\Theta(1)$$\n",
        "\n",
        "由主定理可得，运行时间为 $O\\left( {\\lg n} \\right)$，即 $O(h)$"
      ]
    },
    {
      "cell_type": "markdown",
      "metadata": {
        "hidden": true,
        "id": "vsdBrNFNYcim",
        "colab_type": "text"
      },
      "source": [
        "###  练习"
      ]
    },
    {
      "cell_type": "markdown",
      "metadata": {
        "heading_collapsed": true,
        "hidden": true,
        "id": "ngEkT_T-Ycin",
        "colab_type": "text"
      },
      "source": [
        "####  6.2-2 MINI-HEAPIFY"
      ]
    },
    {
      "cell_type": "code",
      "metadata": {
        "hidden": true,
        "id": "7W5VfOczYcin",
        "colab_type": "code",
        "colab": {}
      },
      "source": [
        "def mini_heapify(A, i):\n",
        "    l = left(i)\n",
        "    r = right(i)\n",
        "    smallest = i\n",
        "    if l < A.heap_size and A[l] < A[smallest]:\n",
        "        smallest = l\n",
        "    if r < A.heap_size and A[r] < A[smallest]:\n",
        "        smallest = r\n",
        "    if smallest != i:\n",
        "        A[smallest], A[i] = A[i], A[smallest]\n",
        "        mini_heapify(A, smallest)"
      ],
      "execution_count": 0,
      "outputs": []
    },
    {
      "cell_type": "code",
      "metadata": {
        "hidden": true,
        "id": "-NikaJXoYcip",
        "colab_type": "code",
        "outputId": "1efe8d5c-d9f4-4449-d1f9-bd255eae088a",
        "colab": {
          "base_uri": "https://localhost:8080/"
        }
      },
      "source": [
        "A = Heap([1, 10, 3, 4, 5, 6, 7, 8, 9, 10])\n",
        "mini_heapify(A, 1)\n",
        "print(A)"
      ],
      "execution_count": 0,
      "outputs": [
        {
          "output_type": "stream",
          "text": [
            "[1, 4, 3, 8, 5, 6, 7, 10, 9, 10]\n"
          ],
          "name": "stdout"
        }
      ]
    },
    {
      "cell_type": "markdown",
      "metadata": {
        "heading_collapsed": true,
        "hidden": true,
        "id": "od4-SjH5Ycir",
        "colab_type": "text"
      },
      "source": [
        "### 6.2-5 用循环控制结构重写 MAX-HEAPIFY"
      ]
    },
    {
      "cell_type": "code",
      "metadata": {
        "hidden": true,
        "id": "6YJxrI10Ycir",
        "colab_type": "code",
        "colab": {}
      },
      "source": [
        "def max_heapify_loop(A, i):\n",
        "    while True:\n",
        "        l = left(i)\n",
        "        r = right(i)\n",
        "        largest = i\n",
        "        if l < A.heap_size and A[l] > A[largest]:\n",
        "            largest = l\n",
        "        if r < A.heap_size and A[r] > A[largest]:\n",
        "            largest = r\n",
        "        if largest != i:\n",
        "            A[i], A[largest] = A[largest], A[i]\n",
        "            i = largest\n",
        "        else:\n",
        "            break"
      ],
      "execution_count": 0,
      "outputs": []
    },
    {
      "cell_type": "code",
      "metadata": {
        "hidden": true,
        "id": "GkgskWuyYcit",
        "colab_type": "code",
        "outputId": "e638ae9c-27ab-4c05-df4d-ec89e4e90e24",
        "colab": {
          "base_uri": "https://localhost:8080/",
          "height": 35
        }
      },
      "source": [
        "A = Heap([16, 4, 10, 14, 7, 9, 3, 2, 8, 1])\n",
        "max_heapify_loop(A, 1)\n",
        "print(A)"
      ],
      "execution_count": 0,
      "outputs": [
        {
          "output_type": "stream",
          "text": [
            "[16, 14, 10, 8, 7, 9, 3, 2, 4, 1]\n"
          ],
          "name": "stdout"
        }
      ]
    },
    {
      "cell_type": "markdown",
      "metadata": {
        "heading_collapsed": true,
        "id": "nIef7p7xYciu",
        "colab_type": "text"
      },
      "source": [
        "## 6.3 建堆"
      ]
    },
    {
      "cell_type": "markdown",
      "metadata": {
        "hidden": true,
        "id": "8ATH3UNpYciv",
        "colab_type": "text"
      },
      "source": [
        "- 子数组 $A\\left( {\\left\\lfloor {n/2} \\right\\rfloor  + 1 \\ldots n} \\right)$ 中的元素都是树的叶节点\n",
        "- 每个叶节点都可以看成只包含一个元素的堆\n",
        "- 因此， BUILD-MAX-HEAP 对树中的其他节点都调用一次 MAX-HEAPIFY 即可"
      ]
    },
    {
      "cell_type": "markdown",
      "metadata": {
        "heading_collapsed": true,
        "hidden": true,
        "id": "oXPSkBXyYciv",
        "colab_type": "text"
      },
      "source": [
        "###  代码实现"
      ]
    },
    {
      "cell_type": "code",
      "metadata": {
        "hidden": true,
        "id": "rqgo78LJYciw",
        "colab_type": "code",
        "colab": {}
      },
      "source": [
        "def build_max_heap(A):\n",
        "    A.heap_size = len(A)\n",
        "    for i in reversed(range(len(A)//2)):\n",
        "        max_heapify(A, i)"
      ],
      "execution_count": 0,
      "outputs": []
    },
    {
      "cell_type": "code",
      "metadata": {
        "hidden": true,
        "id": "jgQz0kDvYcix",
        "colab_type": "code",
        "outputId": "24f36355-6890-4e47-b1b2-6b165e32a21d",
        "colab": {
          "base_uri": "https://localhost:8080/",
          "height": 35
        }
      },
      "source": [
        "A = Heap([4, 1, 3, 2, 16, 9, 10, 14, 8, 7])\n",
        "build_max_heap(A)\n",
        "print(A)"
      ],
      "execution_count": 0,
      "outputs": [
        {
          "output_type": "stream",
          "text": [
            "[16, 14, 10, 8, 7, 9, 3, 2, 4, 1]\n"
          ],
          "name": "stdout"
        }
      ]
    },
    {
      "cell_type": "markdown",
      "metadata": {
        "heading_collapsed": true,
        "hidden": true,
        "id": "QZGIWlO7Yciz",
        "colab_type": "text"
      },
      "source": [
        "###  示意图"
      ]
    },
    {
      "cell_type": "markdown",
      "metadata": {
        "hidden": true,
        "id": "WJj61cw0Yci0",
        "colab_type": "text"
      },
      "source": [
        "<img src=\"https://raw.githubusercontent.com/Lijunjie9502/PicBed/master/20191211211919.png\" width=600>"
      ]
    },
    {
      "cell_type": "markdown",
      "metadata": {
        "hidden": true,
        "id": "lVkY6QAEYci0",
        "colab_type": "text"
      },
      "source": [
        "### 复杂度分析"
      ]
    },
    {
      "cell_type": "markdown",
      "metadata": {
        "hidden": true,
        "id": "RvTBAhLlYci1",
        "colab_type": "text"
      },
      "source": [
        "- 高度为 $h$ 的子树至多有 $\\lceil n/2^{h+1}\\rceil$ 个(练习 6.3-3)\n",
        "- 高度为 $h$ 的子树的根节点调用 MAX-HEAPIFY 的时间复杂度为 $O(h)$\n",
        "- 总的时间复杂度为：\n",
        "$$\\sum\\limits_{h = 0}^{\\left\\lfloor {\\lg n} \\right\\rfloor } {\\left\\lceil {{n \\over {{2^{h + 1}}}}} \\right\\rceil } O\\left( h \\right) = O\\left( {n\\sum\\limits_{h = 0}^{\\left\\lfloor {\\lg n} \\right\\rfloor } {{h \\over {{2^h}}}} } \\right)$$\n",
        "结合公式 (A.8) 可得：\n",
        "$$O\\left( {n\\sum\\limits_{h = 0}^{\\left\\lfloor {\\lg n} \\right\\rfloor } {{h \\over {{2^h}}}} } \\right) = O\\left( {n \\times {{{1 \\over 2}} \\over {{{\\left( {1 - {1 \\over 2}} \\right)}^2}}}} \\right) = O\\left( n \\right)$$\n",
        "由此可得，建堆的时间复杂度为 $O(n)$"
      ]
    },
    {
      "cell_type": "markdown",
      "metadata": {
        "hidden": true,
        "id": "JXgOSGYWYci1",
        "colab_type": "text"
      },
      "source": [
        "### 练习"
      ]
    },
    {
      "cell_type": "markdown",
      "metadata": {
        "hidden": true,
        "id": "xHVZmO7CYci1",
        "colab_type": "text"
      },
      "source": [
        "#### 6.3 -3\n",
        "证明对于一个包含 $n$ 个元素的堆，至多有 $\\lceil n/2^{h+1}\\rceil个子树$"
      ]
    },
    {
      "cell_type": "markdown",
      "metadata": {
        "hidden": true,
        "id": "tMLeFylxYci2",
        "colab_type": "text"
      },
      "source": [
        "1. 包含 $n$ 个元素的堆,其叶子节点的数目为 $\\lceil n/2 \\rceil$\n",
        "2. 对于堆的子树而言，其叶子节点即为堆的叶子节点，而且高度为 $h$ 的各个子树的叶子节点不会有重复。假设高度为 $h$ 的子树一共有 $k$ 个，则有 $ k - 1 $ 个子树的叶子节点为 $2^h$ 而一个子树的叶子节点在 $[1, 2^h]$ 之间, 设为 $x$  \n",
        "由 1，2 可得：\n",
        "$$(k-1)2^h + x \\le k * 2^h \\le \\lceil n/2 \\rceil$$\n",
        "即：\n",
        "$$k \\le {{\\lceil n/2 \\rceil} \\over 2^h} \\le \\left\\lceil {{{\\left\\lceil {{n \\over 2}} \\right\\rceil } \\over {{{\\rm{2}}^h}}}} \\right\\rceil  $$\n",
        "由书中公式 (3.4) 可得：\n",
        "$$k \\le \\left\\lceil {{n \\over {{2^{h + 1}}}}} \\right\\rceil $$\n",
        "证毕"
      ]
    },
    {
      "cell_type": "markdown",
      "metadata": {
        "id": "5dXs2yfwYci3",
        "colab_type": "text"
      },
      "source": [
        "## 6.4 堆排序算法"
      ]
    },
    {
      "cell_type": "markdown",
      "metadata": {
        "id": "c6umYOdzYci4",
        "colab_type": "text"
      },
      "source": [
        "- 基本思路  \n",
        "  1. 先根据数组建最大堆\n",
        "  2. 从最大堆顶取出最大的元素与堆的最后一个元素交换，然后将堆的长度减 1，并维护堆的性质\n",
        "  3. 重复 2 中的步骤，直到最大堆中的元素数目等于 1"
      ]
    },
    {
      "cell_type": "markdown",
      "metadata": {
        "id": "ZVUM184QYci4",
        "colab_type": "text"
      },
      "source": [
        "### 代码实现"
      ]
    },
    {
      "cell_type": "code",
      "metadata": {
        "id": "4ALJndbZYci5",
        "colab_type": "code",
        "colab": {}
      },
      "source": [
        "def heapsort(A):\n",
        "    build_max_heap(A)\n",
        "    while A.heap_size > 1:\n",
        "        A[0], A[A.heap_size - 1] = A[A.heap_size - 1], A[0]\n",
        "        A.heap_size = A.heap_size - 1\n",
        "        max_heapify(A, 0)"
      ],
      "execution_count": 0,
      "outputs": []
    },
    {
      "cell_type": "code",
      "metadata": {
        "id": "Z5l4V9e5Yci9",
        "colab_type": "code",
        "outputId": "8df9bc9b-8bca-4613-9be1-b7b49b08b111",
        "colab": {
          "base_uri": "https://localhost:8080/",
          "height": 35
        }
      },
      "source": [
        "A = Heap([4, 1, 3, 2, 16, 9, 10, 14, 8, 7])\n",
        "heapsort(A)\n",
        "print(A)"
      ],
      "execution_count": 0,
      "outputs": [
        {
          "output_type": "stream",
          "text": [
            "[1, 2, 3, 4, 7, 8, 9, 10, 14, 16]\n"
          ],
          "name": "stdout"
        }
      ]
    },
    {
      "cell_type": "markdown",
      "metadata": {
        "heading_collapsed": true,
        "id": "8J5KtstUYci-",
        "colab_type": "text"
      },
      "source": [
        "### 代码执行过程"
      ]
    },
    {
      "cell_type": "markdown",
      "metadata": {
        "hidden": true,
        "id": "-l63tqW3Yci_",
        "colab_type": "text"
      },
      "source": [
        "<img src=\"https://raw.githubusercontent.com/Lijunjie9502/PicBed/master/20191212204631.png\" width=600>"
      ]
    },
    {
      "cell_type": "markdown",
      "metadata": {
        "id": "KD__PV-5Yci_",
        "colab_type": "text"
      },
      "source": [
        "### 复杂度分析"
      ]
    },
    {
      "cell_type": "markdown",
      "metadata": {
        "id": "Mm0RNPNsYcjA",
        "colab_type": "text"
      },
      "source": [
        "- BUILD-MAX-HEAP 的时间复杂度为 $O(n)$\n",
        "- MAX-HEAPIFY 的时间复杂度为 $O(lgn)$，会被调用 $n-1$ 次\n",
        "- 整体的时间复杂变为 $O(nlg(n))$"
      ]
    },
    {
      "cell_type": "markdown",
      "metadata": {
        "id": "aQjRPhHlYcjA",
        "colab_type": "text"
      },
      "source": [
        "## 6.5 优先队列"
      ]
    },
    {
      "cell_type": "markdown",
      "metadata": {
        "id": "94877OuCYcjB",
        "colab_type": "text"
      },
      "source": [
        "- 优先队列是一种用来维护由一组元素组成的集合 $S$ 的数据结构，其中每种元素都有一个相关的值，称为关键字(key)"
      ]
    },
    {
      "cell_type": "markdown",
      "metadata": {
        "id": "8RZOh0jkYcjC",
        "colab_type": "text"
      },
      "source": [
        "### 最大优先队列"
      ]
    },
    {
      "cell_type": "markdown",
      "metadata": {
        "id": "9c5b-j4KYcjD",
        "colab_type": "text"
      },
      "source": [
        "- 支持如下操作  \n",
        "  - INSERT(S, x): 将元素 $x$ 插入到集合 $S$ 中\n",
        "  - MAXIMUN(S,x): 返回 $S$ 中具有最大键值的元素\n",
        "  - EXTRACT-MAX(S): 去掉并返回 $S$ 中具有最大键值的元素\n",
        "  - INCREASE-KEY(S, x, k)： 将元素 $x$ 的关键值增加到 $k$，要求 $k$ 不小于 $x$ 原关键字的值\n",
        "- 应用实例\n",
        "  - 计算机中的作业调度，可以随时使用 INSERT 将新的作业插入进来"
      ]
    },
    {
      "cell_type": "markdown",
      "metadata": {
        "id": "I8M6Vz_dYcjD",
        "colab_type": "text"
      },
      "source": [
        "### 最小优先队列"
      ]
    },
    {
      "cell_type": "markdown",
      "metadata": {
        "id": "BmMBSHsZdOeX",
        "colab_type": "text"
      },
      "source": [
        "- 包括 INSERT, MINIMUN, EXTRACT_MIN 和 DECREASE-KEY 操作\n",
        "- 应用实例\n",
        "  - 基于事件驱动的模拟器\n",
        "    - 事件必须按照发生的时间顺序进行模拟，因为某一事件的模拟结果可能触发对其它事件的模拟"
      ]
    },
    {
      "cell_type": "markdown",
      "metadata": {
        "id": "TWVpS1hUkDfi",
        "colab_type": "text"
      },
      "source": [
        "### 最大优先队列常用操作的代码实现\n",
        "- 一般需要在堆中储存对应对象的句柄"
      ]
    },
    {
      "cell_type": "markdown",
      "metadata": {
        "id": "4_9oi-1vkuwQ",
        "colab_type": "text"
      },
      "source": [
        "#### HEAP-MAXIMUN"
      ]
    },
    {
      "cell_type": "code",
      "metadata": {
        "id": "JZvtzPqjdpyg",
        "colab_type": "code",
        "colab": {}
      },
      "source": [
        "def heap_maximun(A):\n",
        "  if A.heap_size < 1:\n",
        "    raise Exception(\"Heap underflow\")\n",
        "  return A[0]"
      ],
      "execution_count": 0,
      "outputs": []
    },
    {
      "cell_type": "code",
      "metadata": {
        "id": "ARmPs-0kp4I9",
        "colab_type": "code",
        "outputId": "0df283f3-339f-491a-d00b-96da54f862d0",
        "colab": {
          "base_uri": "https://localhost:8080/",
          "height": 35
        }
      },
      "source": [
        "A = Heap([16, 14, 10, 8, 7, 9, 3, 2, 4, 1])\n",
        "heap_maximun(A)"
      ],
      "execution_count": 0,
      "outputs": [
        {
          "output_type": "execute_result",
          "data": {
            "text/plain": [
              "16"
            ]
          },
          "metadata": {
            "tags": []
          },
          "execution_count": 15
        }
      ]
    },
    {
      "cell_type": "markdown",
      "metadata": {
        "id": "MnI2RmvEqmm1",
        "colab_type": "text"
      },
      "source": [
        "#### HEAP-EXTRACT-MAX"
      ]
    },
    {
      "cell_type": "code",
      "metadata": {
        "id": "fM1VWeTqqkHL",
        "colab_type": "code",
        "colab": {}
      },
      "source": [
        "def heap_extract_max(A):\n",
        "  if A.heap_size < 1:\n",
        "    raise Exception(\"Heap underflow\")\n",
        "  max = A[0]\n",
        "  A[0] = A[A.heap_size-1]\n",
        "  A.heap_size -= 1\n",
        "  max_heapify(A, 0)\n",
        "  return max"
      ],
      "execution_count": 0,
      "outputs": []
    },
    {
      "cell_type": "code",
      "metadata": {
        "id": "qYYI_DT_qkER",
        "colab_type": "code",
        "outputId": "2a3d4013-dd9f-43b4-e175-acb80d23da7a",
        "colab": {
          "base_uri": "https://localhost:8080/",
          "height": 52
        }
      },
      "source": [
        "A = Heap([16, 14, 10, 8, 7, 9, 3, 2, 4, 1])\n",
        "print(heap_extract_max(A))\n",
        "print(A[:A.heap_size])"
      ],
      "execution_count": 0,
      "outputs": [
        {
          "output_type": "stream",
          "text": [
            "16\n",
            "[14, 8, 10, 4, 7, 9, 3, 2, 1]\n"
          ],
          "name": "stdout"
        }
      ]
    },
    {
      "cell_type": "markdown",
      "metadata": {
        "id": "j-b9z9aCG_mH",
        "colab_type": "text"
      },
      "source": [
        "#### HEAP-INCREASE-KEY"
      ]
    },
    {
      "cell_type": "code",
      "metadata": {
        "id": "lWulv59wL49J",
        "colab_type": "code",
        "colab": {}
      },
      "source": [
        "def heap_increase_key(A, i, key):\n",
        "  if not(0<= i <A.heap_size):\n",
        "    raise Exception(\"index out of range!\")\n",
        "  if key < A[i]:\n",
        "    raise Exception(\"new key is smaller than current key!\")\n",
        "  A[i] = key\n",
        "  while i > 0 and A[parent(i)] < A[i]:\n",
        "    A[i], A[parent(i)] = A[parent(i)], A[i]\n",
        "    i = parent(i)"
      ],
      "execution_count": 0,
      "outputs": []
    },
    {
      "cell_type": "code",
      "metadata": {
        "id": "bh5oaw6BMaoz",
        "colab_type": "code",
        "outputId": "7d4a3610-1ee4-46ac-f1ca-7d9c7433467a",
        "colab": {
          "base_uri": "https://localhost:8080/",
          "height": 35
        }
      },
      "source": [
        "A = Heap([16, 14, 10, 8, 7, 9, 3, 2, 4, 1])\n",
        "heap_increase_key(A, 8, 15)\n",
        "print(A)"
      ],
      "execution_count": 0,
      "outputs": [
        {
          "output_type": "stream",
          "text": [
            "[16, 15, 10, 14, 7, 9, 3, 2, 8, 1]\n"
          ],
          "name": "stdout"
        }
      ]
    },
    {
      "cell_type": "markdown",
      "metadata": {
        "id": "rPLv3IcaMyzl",
        "colab_type": "text"
      },
      "source": [
        "- 执行过程示意图  \n",
        "<img src=https://raw.githubusercontent.com/Lijunjie9502/PicBed/master/20191213110736.png width=600>"
      ]
    },
    {
      "cell_type": "markdown",
      "metadata": {
        "id": "BEAW8ZE_PFmC",
        "colab_type": "text"
      },
      "source": [
        "#### MAX-HEAP-INSERT\n",
        "- 借助 HEAP-INCREASE-KEY 来实现\n"
      ]
    },
    {
      "cell_type": "code",
      "metadata": {
        "id": "JR_t6w7iP41f",
        "colab_type": "code",
        "colab": {}
      },
      "source": [
        "def max_heap_insert(A, key):\n",
        "  A.heap_size = A.heap_size + 1\n",
        "  if A.heap_size > len(A):\n",
        "    A.append(-float('inf'))\n",
        "  else:\n",
        "    A[A.heap_size-1] = -float('inf')\n",
        "  heap_increase_key(A, A.heap_size-1, key)"
      ],
      "execution_count": 0,
      "outputs": []
    },
    {
      "cell_type": "code",
      "metadata": {
        "id": "-ckgN0XXRxXL",
        "colab_type": "code",
        "outputId": "a194e7e7-93c5-4a26-aa30-4931731e3bd5",
        "colab": {
          "base_uri": "https://localhost:8080/",
          "height": 35
        }
      },
      "source": [
        "A = Heap([16, 14, 10, 8, 7, 9, 3, 2, 4, 1])\n",
        "max_heap_insert(A, 15)\n",
        "print(A)"
      ],
      "execution_count": 0,
      "outputs": [
        {
          "output_type": "stream",
          "text": [
            "[16, 15, 10, 8, 14, 9, 3, 2, 4, 1, 7]\n"
          ],
          "name": "stdout"
        }
      ]
    },
    {
      "cell_type": "markdown",
      "metadata": {
        "id": "tz1LngmnSKel",
        "colab_type": "text"
      },
      "source": [
        "### 练习题"
      ]
    },
    {
      "cell_type": "markdown",
      "metadata": {
        "id": "W6YPjbrVq3k_",
        "colab_type": "text"
      },
      "source": [
        "#### 6.5-3 最小优先队列常用的操作"
      ]
    },
    {
      "cell_type": "markdown",
      "metadata": {
        "id": "XVWg5VJhq_w8",
        "colab_type": "text"
      },
      "source": [
        "##### HEAP-MINIMUM"
      ]
    },
    {
      "cell_type": "code",
      "metadata": {
        "id": "tEGFYjLorJNE",
        "colab_type": "code",
        "colab": {}
      },
      "source": [
        "def heap_minimun(A):\n",
        "  if A.heap_size < 1:\n",
        "    raise Exception(\"Heap underflow\")\n",
        "  return A[0]"
      ],
      "execution_count": 0,
      "outputs": []
    },
    {
      "cell_type": "markdown",
      "metadata": {
        "id": "4LJ2Se_otJvO",
        "colab_type": "text"
      },
      "source": [
        "##### HEAP-EXTRACT-MIN"
      ]
    },
    {
      "cell_type": "code",
      "metadata": {
        "id": "U5PMakjBtOmG",
        "colab_type": "code",
        "colab": {}
      },
      "source": [
        "def heap_extract_min(A):\n",
        "  if A.heap_size < 1:\n",
        "    raise Exception(\"heap underflow\")\n",
        "  min = A[0]\n",
        "  A.heap_size -= 1\n",
        "  A[0] = A[A.heap_size]\n",
        "  mini_heapify(A, 0)\n",
        "  return min"
      ],
      "execution_count": 0,
      "outputs": []
    },
    {
      "cell_type": "code",
      "metadata": {
        "id": "mpShO0rZuIkW",
        "colab_type": "code",
        "outputId": "0b1c9793-a9c2-4a1f-89ac-a84f18f54024",
        "colab": {
          "base_uri": "https://localhost:8080/",
          "height": 52
        }
      },
      "source": [
        "A = Heap([1, 2, 3, 4, 5, 6, 7, 8, 9])\n",
        "print(heap_extract_min(A))\n",
        "print(A[:A.heap_size])"
      ],
      "execution_count": 0,
      "outputs": [
        {
          "output_type": "stream",
          "text": [
            "1\n",
            "[2, 4, 3, 8, 5, 6, 7, 9]\n"
          ],
          "name": "stdout"
        }
      ]
    },
    {
      "cell_type": "markdown",
      "metadata": {
        "id": "ngBKFGMBuXM-",
        "colab_type": "text"
      },
      "source": [
        "##### HEAP-DECREASE-KEY"
      ]
    },
    {
      "cell_type": "code",
      "metadata": {
        "id": "Oz5T3B8RxeLb",
        "colab_type": "code",
        "colab": {}
      },
      "source": [
        "def heap_decrease_key(A, i, key):\n",
        "  if not(0 <= i < A.heap_size):\n",
        "    raise Exception('List out of range!')\n",
        "  if A[i] < key:\n",
        "    raise Exception('new key is bigger than current key!')\n",
        "  A[i] = key\n",
        "  while i > 0 and A[parent(i)] > key:\n",
        "    A[i] = A[parent(i)]\n",
        "    i = parent(i)\n",
        "  A[i] = key"
      ],
      "execution_count": 0,
      "outputs": []
    },
    {
      "cell_type": "code",
      "metadata": {
        "id": "4h9L278n1F6t",
        "colab_type": "code",
        "outputId": "2bb9c511-c206-43f3-ea6f-c5a7e6f4b57c",
        "colab": {
          "base_uri": "https://localhost:8080/",
          "height": 35
        }
      },
      "source": [
        "A = Heap([1, 2, 3, 4, 5, 6, 7, 8, 9, 10])\n",
        "heap_decrease_key(A, 4, 0)\n",
        "print(A)"
      ],
      "execution_count": 0,
      "outputs": [
        {
          "output_type": "stream",
          "text": [
            "[0, 1, 3, 4, 2, 6, 7, 8, 9, 10]\n"
          ],
          "name": "stdout"
        }
      ]
    },
    {
      "cell_type": "markdown",
      "metadata": {
        "id": "2zJ-rv9E1b1u",
        "colab_type": "text"
      },
      "source": [
        "##### MINI-HEAP-INSERT"
      ]
    },
    {
      "cell_type": "code",
      "metadata": {
        "id": "4MJWJldI12UF",
        "colab_type": "code",
        "colab": {}
      },
      "source": [
        "def mini_heap_insert(A, key):\n",
        "  A.heap_size += 1\n",
        "  if A.heap_size > len(A):\n",
        "    A.append(float('inf'))\n",
        "  else:\n",
        "    A[A.heap_size - 1] = float('inf')\n",
        "  heap_decrease_key(A, A.heap_size-1, key)"
      ],
      "execution_count": 0,
      "outputs": []
    },
    {
      "cell_type": "code",
      "metadata": {
        "id": "PJ5zR0k6_7zZ",
        "colab_type": "code",
        "outputId": "8d1dade1-be0f-4902-ed99-2b8e24b34b85",
        "colab": {
          "base_uri": "https://localhost:8080/",
          "height": 35
        }
      },
      "source": [
        "A = Heap([1, 2, 3, 4, 5, 6, 7, 8, 9, 10])\n",
        "mini_heap_insert(A, 2)\n",
        "print(A)"
      ],
      "execution_count": 0,
      "outputs": [
        {
          "output_type": "stream",
          "text": [
            "[1, 2, 3, 4, 2, 6, 7, 8, 9, 10, 5]\n"
          ],
          "name": "stdout"
        }
      ]
    },
    {
      "cell_type": "markdown",
      "metadata": {
        "id": "fQzaHnw6AXmo",
        "colab_type": "text"
      },
      "source": [
        "#### 6.5-6 一次赋值完成 HEAP-INCREASE-KEY 操作"
      ]
    },
    {
      "cell_type": "code",
      "metadata": {
        "id": "qlo96Zz6BQVR",
        "colab_type": "code",
        "colab": {}
      },
      "source": [
        "def heap_increase_key_one_assignment(A, i, key):\n",
        "  if not(0<= i <A.heap_size):\n",
        "    raise Exception(\"index out of range!\")\n",
        "  if key < A[i]:\n",
        "    raise Exception(\"new key is smaller than current key!\")\n",
        "  A[i] = key\n",
        "  while i > 0 and A[parent(i)] < A[i]:\n",
        "    A[i] = A[parent(i)]\n",
        "    i = parent(i)\n",
        "  A[i] = key"
      ],
      "execution_count": 0,
      "outputs": []
    },
    {
      "cell_type": "code",
      "metadata": {
        "id": "SgWat94PCEqo",
        "colab_type": "code",
        "outputId": "ffd1dd96-c134-4c39-c883-9420655a84cb",
        "colab": {
          "base_uri": "https://localhost:8080/",
          "height": 35
        }
      },
      "source": [
        "A = Heap([16, 14, 10, 8, 7, 9, 3, 2, 4, 1])\n",
        "heap_increase_key_one_assignment(A, 8, 15)\n",
        "print(A)"
      ],
      "execution_count": 0,
      "outputs": [
        {
          "output_type": "stream",
          "text": [
            "[16, 14, 10, 15, 7, 9, 3, 2, 8, 1]\n"
          ],
          "name": "stdout"
        }
      ]
    },
    {
      "cell_type": "markdown",
      "metadata": {
        "id": "VO6c0-98CWFB",
        "colab_type": "text"
      },
      "source": [
        "#### 6.5-8 HEAP-DELETE(A, i)"
      ]
    },
    {
      "cell_type": "markdown",
      "metadata": {
        "id": "smWBuTz6DJjY",
        "colab_type": "text"
      },
      "source": [
        "##### 最大堆"
      ]
    },
    {
      "cell_type": "code",
      "metadata": {
        "id": "52b1reE6Dk3g",
        "colab_type": "code",
        "colab": {}
      },
      "source": [
        "def max_heap_delete(A, i):\n",
        "  if not(0<= i <=A.heap_size):\n",
        "    raise Exception('index out of range')\n",
        "  A.heap_size -= 1\n",
        "  A[i] = A[A.heap_size]\n",
        "  max_heapify(A, i)"
      ],
      "execution_count": 0,
      "outputs": []
    },
    {
      "cell_type": "code",
      "metadata": {
        "id": "M71D2gNaE_bY",
        "colab_type": "code",
        "outputId": "611e1229-2179-4bd8-fe5f-820904f9794c",
        "colab": {
          "base_uri": "https://localhost:8080/",
          "height": 35
        }
      },
      "source": [
        "A = Heap([10, 9, 8, 7, 6, 5, 4, 3, 2, 1])\n",
        "max_heap_delete(A, 1)\n",
        "print(A[:A.heap_size])"
      ],
      "execution_count": 0,
      "outputs": [
        {
          "output_type": "stream",
          "text": [
            "[10, 7, 8, 3, 6, 5, 4, 1, 2]\n"
          ],
          "name": "stdout"
        }
      ]
    },
    {
      "cell_type": "markdown",
      "metadata": {
        "id": "WRTd7OfnF85g",
        "colab_type": "text"
      },
      "source": [
        "##### 最小堆"
      ]
    },
    {
      "cell_type": "code",
      "metadata": {
        "id": "kREyZ9w2Kzb3",
        "colab_type": "code",
        "colab": {}
      },
      "source": [
        "def mini_heap_delete(A, i):\n",
        "  if not(0<= i <=A.heap_size):\n",
        "    raise Exception('index out of range')\n",
        "  A.heap_size -= 1\n",
        "  A[i] = A[A.heap_size]\n",
        "  mini_heapify(A, i)"
      ],
      "execution_count": 0,
      "outputs": []
    },
    {
      "cell_type": "code",
      "metadata": {
        "id": "IZa15DfKLEXA",
        "colab_type": "code",
        "outputId": "f0c7b364-0d69-46ee-d5e1-3878893a0b2a",
        "colab": {
          "base_uri": "https://localhost:8080/",
          "height": 35
        }
      },
      "source": [
        "A = Heap([1, 2, 3, 4, 5, 6, 7, 8, 9, 10])\n",
        "mini_heap_delete(A, 1)\n",
        "print(A[:A.heap_size])"
      ],
      "execution_count": 0,
      "outputs": [
        {
          "output_type": "stream",
          "text": [
            "[1, 4, 3, 8, 5, 6, 7, 10, 9]\n"
          ],
          "name": "stdout"
        }
      ]
    },
    {
      "cell_type": "markdown",
      "metadata": {
        "id": "josy7j7GLtug",
        "colab_type": "text"
      },
      "source": [
        "#### 6.5-9 在 $O(nlg(k))$ 内归并 $k$ 个有序链表"
      ]
    },
    {
      "cell_type": "markdown",
      "metadata": {
        "id": "vCfdQlUBMNv4",
        "colab_type": "text"
      },
      "source": [
        "##### 基本思路"
      ]
    },
    {
      "cell_type": "markdown",
      "metadata": {
        "id": "dLhzH0IifcBZ",
        "colab_type": "text"
      },
      "source": [
        "将 $k$ 个列表的第一个元素取出，建成最小堆"
      ]
    }
  ]
}