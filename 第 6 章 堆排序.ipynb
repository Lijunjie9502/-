{
 "cells": [
  {
   "cell_type": "code",
   "execution_count": 1,
   "metadata": {},
   "outputs": [],
   "source": [
    "class Heap(list):\n",
    "    \"\"\"继承 python 内置的 list 类型，并添加 heap_size 属性\"\"\"\n",
    "    def __init__(self, array, heap_size=None):\n",
    "        list.__init__(self, array)\n",
    "        self.heap_size = len(array) if heap_size is None else heap_size"
   ]
  },
  {
   "cell_type": "markdown",
   "metadata": {},
   "source": [
    "# 1. 堆 "
   ]
  },
  {
   "cell_type": "markdown",
   "metadata": {},
   "source": [
    "- 堆是一个数组，可以被看成一个近似的完全二叉树（除了最底层，该树应该是完全充满的）\n",
    "- 示意图\n",
    "<img src=https://raw.githubusercontent.com/Lijunjie9502/PicBed/master/20191211201233.png width = 600>\n",
    "- $A\\left[ {1 \\ldots A.length} \\right]$ 中可能都含有元素，但只有 $A\\left[ {1 \\ldots A.heap\\_size} \\right]$ 中存放的是有效元素"
   ]
  },
  {
   "cell_type": "markdown",
   "metadata": {},
   "source": [
    "### **获取给定节点的父节点，左孩子结点和右孩子结点** \n"
   ]
  },
  {
   "cell_type": "markdown",
   "metadata": {},
   "source": [
    "- 常用编程语言的下标从 0 开始，除了代码部分，则默认数组下标从 1 开始\n",
    "- 可通过左移或右移操作来加快计算速度\n",
    "- python 的移位操作优先级较低，注意加括号以避免出错"
   ]
  },
  {
   "cell_type": "code",
   "execution_count": 2,
   "metadata": {},
   "outputs": [],
   "source": [
    "def parent(i):\n",
    "    return (i-1) >> 1\n",
    "\n",
    "def left(i):\n",
    "    return (i << 1) + 1\n",
    "\n",
    "def right(i):\n",
    "    return (i << 1) + 2"
   ]
  },
  {
   "cell_type": "code",
   "execution_count": 3,
   "metadata": {},
   "outputs": [
    {
     "name": "stdout",
     "output_type": "stream",
     "text": [
      "the parent of i is 1, the left child of i is 7, the right child of i is 8\n"
     ]
    }
   ],
   "source": [
    "i = 3\n",
    "print(\"the parent of i is {}, the left child of i is {}, the right child of i is {}\". format(parent(i), left(i), right(i)))"
   ]
  },
  {
   "cell_type": "markdown",
   "metadata": {},
   "source": [
    "### 最大堆与最小堆"
   ]
  },
  {
   "cell_type": "markdown",
   "metadata": {},
   "source": [
    "- 最大堆的性质\n",
    "    - 对于除了根节点以外的所有节点 $i$ 都要满足：$$A\\left[ {PARENT\\left( i \\right)} \\right] \\ge A\\left[ i \\right]$$\n",
    "    \n",
    "    - 即最大堆中的最大元素存放在根节点中，且在任一子树中，这一性质也成立\n",
    "\n",
    "\n",
    "- 最小堆的性质\n",
    "    - 对于除了根节点以外的所有节点 $i$ 都要满足：$$A\\left[ {PARENT\\left( i \\right)} \\right] \\le A\\left[ i \\right]$$\n",
    "    \n",
    "    - 即最小堆中的最小元素存放在根节点中，且在任一子树中，这一性质也成立"
   ]
  },
  {
   "cell_type": "markdown",
   "metadata": {},
   "source": [
    "### 堆的应用"
   ]
  },
  {
   "cell_type": "markdown",
   "metadata": {},
   "source": [
    "- 排序\n",
    "- 优先队列"
   ]
  },
  {
   "cell_type": "markdown",
   "metadata": {},
   "source": [
    "### 堆的性质"
   ]
  },
  {
   "cell_type": "markdown",
   "metadata": {},
   "source": [
    "- 包含 $n$ 个元素的堆高度为 $\\Theta(lg(n))$\n",
    "- 堆结构上的一些基本操作至多与堆的高度成正比，即时间复杂度为 $O(lg(n))$\n",
    "- 最大堆的最小元素位于叶节点中\n",
    "- 已排好序的数组是一个最小堆\n",
    "- 当用数组表示储存 $n$ 个元素的堆时，叶结点的下标分别为 $\\left\\lfloor {{n \\over 2}} \\right\\rfloor  + 1,\\left\\lfloor {{n \\over 2}} \\right\\rfloor  + 2, \\cdots ,n$"
   ]
  },
  {
   "cell_type": "markdown",
   "metadata": {
    "heading_collapsed": true
   },
   "source": [
    "# 2. 维护堆的性质"
   ]
  },
  {
   "cell_type": "markdown",
   "metadata": {
    "hidden": true
   },
   "source": [
    "- 在调用 MAX-HEAPIFY 假设：\n",
    "    - 根结点为 LEFT($i$) 和 RIGHT($i$) 的二叉树都是最大堆\n",
    "    - $A[i]$ 可能小于其孩子节点"
   ]
  },
  {
   "cell_type": "markdown",
   "metadata": {
    "hidden": true
   },
   "source": [
    "### 程序执行示意图"
   ]
  },
  {
   "cell_type": "markdown",
   "metadata": {
    "hidden": true
   },
   "source": [
    "<img src=\"https://raw.githubusercontent.com/Lijunjie9502/PicBed/master/20191211201929.png\" width = 800>"
   ]
  },
  {
   "cell_type": "markdown",
   "metadata": {
    "hidden": true
   },
   "source": [
    "### 代码实现"
   ]
  },
  {
   "cell_type": "code",
   "execution_count": 4,
   "metadata": {
    "hidden": true
   },
   "outputs": [],
   "source": [
    "def max_heapify(A, i):\n",
    "    l = left(i)\n",
    "    r = right(i)\n",
    "    largest = i\n",
    "    if l < A.heap_size and A[l] > A[largest]:\n",
    "        largest = l\n",
    "    if r < A.heap_size and A[r] > A[largest]:\n",
    "        largest = r\n",
    "    if largest != i:\n",
    "        A[i], A[largest] = A[largest], A[i]\n",
    "        max_heapify(A, largest)"
   ]
  },
  {
   "cell_type": "code",
   "execution_count": 5,
   "metadata": {
    "hidden": true
   },
   "outputs": [
    {
     "name": "stdout",
     "output_type": "stream",
     "text": [
      "[16, 14, 10, 8, 7, 9, 3, 2, 4, 1]\n"
     ]
    }
   ],
   "source": [
    "A = Heap([16, 4, 10, 14, 7, 9, 3, 2, 8, 1])\n",
    "max_heapify(A, 1)\n",
    "print(A)"
   ]
  },
  {
   "cell_type": "markdown",
   "metadata": {
    "heading_collapsed": true,
    "hidden": true
   },
   "source": [
    "###  复杂度分析"
   ]
  },
  {
   "cell_type": "markdown",
   "metadata": {
    "hidden": true
   },
   "source": [
    "- 调用 $A[i], A[LEFT(i)], A[RIGHT(i)]$ 的时间代价为 $\\Theta(1)$\n",
    "- 子树的规模最大为 $ 2n/3 $\n",
    "  - 发生在最底层恰好半满的时候\n",
    "      - 设树高为 $h$，则除最底层个，包含的元素数为：\n",
    "      $$1 + 2 + {2^2} +  \\cdots  + {2^{h - 1}} = {{{2^h} - 1} \\over {2 - 1}} = {2^h} - 1$$\n",
    "      - 左右子树各占 $(2^h-1)/2 = 2^{h-1} - 1/2$\n",
    "      - 最后一层半满时，元素数为 $2^{h-1}$\n",
    "      - 最大子树的规模为：\n",
    "      $${{{2^{h - 1}} + {{\\rm{2}}^{h - 1}} - 1/2} \\over {{2^{h - 1}} + {2^h} - 1}} \\approx {2 \\over 3}$$\n",
    "- 运行时间的递推式为：$$T(n) \\le T(2n/3) + \\Theta(1)$$\n",
    "\n",
    "由主定理可得，运行时间为 $O\\left( {\\lg n} \\right)$，即 $O(h)$"
   ]
  },
  {
   "cell_type": "markdown",
   "metadata": {
    "hidden": true
   },
   "source": [
    "##  练习"
   ]
  },
  {
   "cell_type": "markdown",
   "metadata": {
    "heading_collapsed": true,
    "hidden": true
   },
   "source": [
    "###  6.2-2 MINI-HEAPIFY"
   ]
  },
  {
   "cell_type": "code",
   "execution_count": 6,
   "metadata": {
    "hidden": true
   },
   "outputs": [],
   "source": [
    "def mini_heapify(A, i):\n",
    "    l = left(i)\n",
    "    r = right(i)\n",
    "    smallest = i\n",
    "    if l < A.heap_size and A[l] < A[smallest]:\n",
    "        smallest = l\n",
    "    if r < A.heap_size and A[r] < A[smallest]:\n",
    "        smallest = r\n",
    "    if smallest != i:\n",
    "        A[smallest], A[i] = A[i], A[smallest]\n",
    "        mini_heapify(A, smallest)"
   ]
  },
  {
   "cell_type": "code",
   "execution_count": 7,
   "metadata": {
    "hidden": true
   },
   "outputs": [
    {
     "name": "stdout",
     "output_type": "stream",
     "text": [
      "[1, 4, 3, 8, 5, 6, 7, 10, 9, 10]\n"
     ]
    }
   ],
   "source": [
    "A = Heap([1, 10, 3, 4, 5, 6, 7, 8, 9, 10])\n",
    "mini_heapify(A, 1)\n",
    "print(A)"
   ]
  },
  {
   "cell_type": "markdown",
   "metadata": {
    "hidden": true
   },
   "source": [
    "### 6.2-5 用循环控制结构重写 MAX-HEAPIFY"
   ]
  },
  {
   "cell_type": "code",
   "execution_count": 8,
   "metadata": {
    "hidden": true
   },
   "outputs": [],
   "source": [
    "def max_heapify_loop(A, i):\n",
    "    while True:\n",
    "        l = left(i)\n",
    "        r = right(i)\n",
    "        largest = i\n",
    "        if l < A.heap_size and A[l] > A[largest]:\n",
    "            largest = l\n",
    "        if r < A.heap_size and A[r] > A[largest]:\n",
    "            largest = r\n",
    "        if largest != i:\n",
    "            A[i], A[largest] = A[largest], A[i]\n",
    "            i = largest\n",
    "        else:\n",
    "            break"
   ]
  },
  {
   "cell_type": "code",
   "execution_count": 9,
   "metadata": {
    "hidden": true
   },
   "outputs": [
    {
     "name": "stdout",
     "output_type": "stream",
     "text": [
      "[16, 14, 10, 8, 7, 9, 3, 2, 4, 1]\n"
     ]
    }
   ],
   "source": [
    "A = Heap([16, 4, 10, 14, 7, 9, 3, 2, 8, 1])\n",
    "max_heapify_loop(A, 1)\n",
    "print(A)"
   ]
  },
  {
   "cell_type": "markdown",
   "metadata": {},
   "source": [
    "# 3. 建堆"
   ]
  },
  {
   "cell_type": "markdown",
   "metadata": {},
   "source": [
    "- 子数组 $A\\left( {\\left\\lfloor {n/2} \\right\\rfloor  + 1 \\ldots n} \\right)$ 中的元素都是树的叶节点\n",
    "- 每个叶节点都可以看成只包含一个元素的堆\n",
    "- 因此， BUILD-MAX-HEAP 对树中的其他节点都调用一次 MAX-HEAPIFY 即可"
   ]
  },
  {
   "cell_type": "markdown",
   "metadata": {},
   "source": [
    "###  示意图"
   ]
  },
  {
   "cell_type": "markdown",
   "metadata": {},
   "source": [
    "<img src=\"https://raw.githubusercontent.com/Lijunjie9502/PicBed/master/20191211211919.png\" width=800>"
   ]
  },
  {
   "cell_type": "markdown",
   "metadata": {},
   "source": [
    "###  代码实现"
   ]
  },
  {
   "cell_type": "code",
   "execution_count": 10,
   "metadata": {},
   "outputs": [],
   "source": [
    "def build_max_heap(A):\n",
    "    A.heap_size = len(A)\n",
    "    for i in reversed(range(len(A)//2)):\n",
    "        max_heapify(A, i)"
   ]
  },
  {
   "cell_type": "code",
   "execution_count": 11,
   "metadata": {},
   "outputs": [
    {
     "name": "stdout",
     "output_type": "stream",
     "text": [
      "[16, 14, 10, 8, 7, 9, 3, 2, 4, 1]\n"
     ]
    }
   ],
   "source": [
    "A = Heap([4, 1, 3, 2, 16, 9, 10, 14, 8, 7])\n",
    "build_max_heap(A)\n",
    "print(A)"
   ]
  }
 ],
 "metadata": {
  "kernelspec": {
   "display_name": "Python 3",
   "language": "python",
   "name": "python3"
  },
  "language_info": {
   "codemirror_mode": {
    "name": "ipython",
    "version": 3
   },
   "file_extension": ".py",
   "mimetype": "text/x-python",
   "name": "python",
   "nbconvert_exporter": "python",
   "pygments_lexer": "ipython3",
   "version": "3.7.3"
  }
 },
 "nbformat": 4,
 "nbformat_minor": 2
}
