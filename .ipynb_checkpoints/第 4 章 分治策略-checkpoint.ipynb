{
 "cells": [
  {
   "cell_type": "code",
   "execution_count": 55,
   "metadata": {},
   "outputs": [],
   "source": [
    "import random\n",
    "import numpy as np\n",
    "import matplotlib.pyplot as plt\n",
    "from scipy.optimize import fsolve\n",
    "import numpy as np\n",
    "import matplotlib.pyplot as plt\n",
    "\n",
    "import time\n",
    "from functools import wraps\n",
    "  \n",
    "def wrapper(func, *args, **kwargs):\n",
    "    def wrapped():\n",
    "        return func(*args, **kwargs)\n",
    "    return wrapped\n",
    "\n",
    "%matplotlib inline"
   ]
  },
  {
   "cell_type": "markdown",
   "metadata": {},
   "source": [
    "# 4.1 最大子数组问题"
   ]
  },
  {
   "cell_type": "markdown",
   "metadata": {},
   "source": [
    "## 分治法的算法实现"
   ]
  },
  {
   "cell_type": "code",
   "execution_count": 86,
   "metadata": {},
   "outputs": [],
   "source": [
    "def find_max_crossing_subarray(A, low, high):\n",
    "    if low == high:\n",
    "        return (low, high, A[low])\n",
    "    mid = (low + high) // 2\n",
    "    left_sum_max, left_sum, left = -float('inf'), 0, 0\n",
    "    for i in reversed(range(low, mid + 1)):\n",
    "        left_sum += A[i]\n",
    "        if left_sum > left_sum_max:\n",
    "            left, left_sum_max = i, left_sum\n",
    "    right_sum_max, right_sum, right = -float('inf'), 0, 0\n",
    "    for i in range(mid+1, high+1):\n",
    "        right_sum += A[i]\n",
    "        if right_sum > right_sum_max:\n",
    "            right, right_sum_max = i, right_sum\n",
    "    return (left, right, left_sum_max + right_sum_max)\n",
    "\n",
    "\n",
    "def find_max_subarray_recursion(A, low, high):\n",
    "    \"\"\"查找最大子数组的递归解法\"\"\"\n",
    "    if low == high:\n",
    "        return (low, high, A[low])\n",
    "    mid = (low + high) // 2\n",
    "    (left_low, left_high, left_max) = find_max_subarray_recursion(A, low, mid)\n",
    "    (right_low, right_high, right_max) = find_max_subarray_recursion(A, mid + 1, high)\n",
    "    (mid_low, mid_high, mid_max) = find_max_crossing_subarray(A, low, high)\n",
    "    if left_max >= right_max and left_max >= mid_max:\n",
    "        return (left_low, left_high, left_max)\n",
    "    if right_max >= left_max and right_max >= mid_max:\n",
    "        return(right_low, right_high, right_max)\n",
    "    else:\n",
    "        return(mid_low, mid_high, mid_max)"
   ]
  },
  {
   "cell_type": "code",
   "execution_count": 3,
   "metadata": {},
   "outputs": [
    {
     "name": "stdout",
     "output_type": "stream",
     "text": [
      "A = [13, -3, -25, 20, -3, -16, -23, 18, 20, -7, 12, -5, -22, 15, -4, 7]\n",
      "The result of is:(7, 10, 43)\n",
      "A = [-2, 5, 0, 3, 3, -3, -4, -4, -2, 2]\n",
      "The result is:(1, 4, 11)\n"
     ]
    }
   ],
   "source": [
    "    A = [13, -3, -25, 20, -3, -16, -23, 18, 20, -7, 12, -5, -22, 15, -4, 7]\n",
    "    print(\"A = \" + str(A))\n",
    "    print(\"The result of is:\" + str(find_max_subarray_recursion(A, 0, len(A) - 1)))\n",
    "    A = [random.randint(-5, 5) for i in range(10)]\n",
    "    print(\"A = \" + str(A))\n",
    "    print(\"The result is:\" + str(find_max_subarray_recursion(A, 0, len(A) - 1)))"
   ]
  },
  {
   "cell_type": "markdown",
   "metadata": {},
   "source": [
    "## 练习"
   ]
  },
  {
   "cell_type": "markdown",
   "metadata": {},
   "source": [
    "### 4.1.2 最大子数组问题的暴力解法"
   ]
  },
  {
   "cell_type": "code",
   "execution_count": 4,
   "metadata": {},
   "outputs": [],
   "source": [
    "def find_max_subarray_brute_force(A):\n",
    "    \"\"\"查找最大子数组的暴力解法\"\"\"\n",
    "    max_sum = -float('inf')\n",
    "    left, right = 0, 0\n",
    "    for i in range(len(A)):\n",
    "        temp_sum = 0\n",
    "        for j in range(i, len(A)):\n",
    "            temp_sum += A[j]\n",
    "            if temp_sum > max_sum:\n",
    "                max_sum = temp_sum\n",
    "                left, right = i, j\n",
    "    return (left, right, max_sum)\n"
   ]
  },
  {
   "cell_type": "code",
   "execution_count": 5,
   "metadata": {},
   "outputs": [
    {
     "name": "stdout",
     "output_type": "stream",
     "text": [
      "A = [13, -3, -25, 20, -3, -16, -23, 18, 20, -7, 12, -5, -22, 15, -4, 7]\n",
      "The result of is:(7, 10, 43)\n",
      "A = [-3, 0, -5, 5, 2, 1, 1, 2, 2, 2]\n",
      "The result is:(3, 9, 15)\n"
     ]
    }
   ],
   "source": [
    " A = [13, -3, -25, 20, -3, -16, -23, 18, 20, -7, 12, -5, -22, 15, -4, 7]\n",
    "print(\"A = \" + str(A))\n",
    "print(\"The result of is:\" + str(find_max_subarray_brute_force(A)))\n",
    "A = [random.randint(-5, 5) for i in range(10)]\n",
    "print(\"A = \" + str(A))\n",
    "print(\"The result is:\" + str(find_max_subarray_brute_force(A)))"
   ]
  },
  {
   "cell_type": "markdown",
   "metadata": {},
   "source": [
    "### 4.1.3 暴力解法加分治法"
   ]
  },
  {
   "cell_type": "markdown",
   "metadata": {},
   "source": [
    "#### 暴力解法与分治法运行时间分析"
   ]
  },
  {
   "cell_type": "code",
   "execution_count": 108,
   "metadata": {},
   "outputs": [],
   "source": [
    "recursive_time = list()\n",
    "brute_force_time = list()\n",
    "num = 100\n",
    "B = [random.randint(-10, 10) for i in range(100)]\n",
    "for i in range(1, 100):\n",
    "    A = B[:i]\n",
    "    recursive_time.append(timeit.timeit(wrapper(find_max_subarray_recursion, A, 0, len(A)-1), number=1000))\n",
    "    brute_force_time.append(timeit.timeit(wrapper(find_max_subarray_brute_force, A), number=1000))"
   ]
  },
  {
   "cell_type": "code",
   "execution_count": 120,
   "metadata": {
    "scrolled": true
   },
   "outputs": [
    {
     "data": {
      "text/plain": [
       "<matplotlib.legend.Legend at 0x1f250da2470>"
      ]
     },
     "execution_count": 120,
     "metadata": {},
     "output_type": "execute_result"
    },
    {
     "data": {
      "image/png": "[encoded data removed]",
      "text/plain": [
       "<Figure size 432x288 with 1 Axes>"
      ]
     },
     "metadata": {
      "needs_background": "light"
     },
     "output_type": "display_data"
    }
   ],
   "source": [
    "fig = plt.figure()\n",
    "ax = fig.add_subplot(1,1,1)\n",
    "line1, = ax.plot(np.arange(1,len(recursive_time) + 1), recursive_time)\n",
    "line2, =  ax.plot(np.arange(1,len(brute_force_time) + 1), brute_force_time)\n",
    "ax.set_xlabel('Problem Size')\n",
    "ax.set_ylabel('time(s)')\n",
    "ax.legend([line1, line2], ['recursion', 'brute force'])"
   ]
  },
  {
   "cell_type": "markdown",
   "metadata": {},
   "source": [
    "- 从上图中可看邮，输入规模大概在 70 以下时，暴力解法要优于分治算法\n",
    "- 输入规模在 20 左右时，暴力解法的性能与分治法差别最大"
   ]
  },
  {
   "cell_type": "markdown",
   "metadata": {
    "heading_collapsed": true
   },
   "source": [
    "#### 暴力解法与分治法相结合的算法实现"
   ]
  },
  {
   "cell_type": "code",
   "execution_count": 87,
   "metadata": {
    "hidden": true
   },
   "outputs": [],
   "source": [
    "def find_max_subarray_recursion_and_brute_force(A, low, high, k):\n",
    "    \"\"\"查找最大子数组的递归解法\"\"\"\n",
    "    if low == high:\n",
    "        return (low, high, A[low])\n",
    "    if high - low > k:\n",
    "        mid = (low + high) // 2\n",
    "        (left_low, left_high, left_max) = find_max_subarray_recursion_and_brute_force(A, low, mid, k)\n",
    "        (right_low, right_high, right_max) = find_max_subarray_recursion_and_brute_force(A, mid + 1, high, k)\n",
    "        (mid_low, mid_high, mid_max) = find_max_crossing_subarray(A, low, high)\n",
    "        if left_max >= right_max and left_max >= mid_max:\n",
    "            return (left_low, left_high, left_max)\n",
    "        if right_max >= left_max and right_max >= mid_max:\n",
    "            return(right_low, right_high, right_max)\n",
    "        else:\n",
    "            return(mid_low, mid_high, mid_max)\n",
    "    max_sum = -float('inf')\n",
    "    left, right = low, low\n",
    "    for i in range(low, high+1):\n",
    "        temp_sum = 0\n",
    "        for j in range(i, high+1):\n",
    "            temp_sum += A[j]\n",
    "            if temp_sum > max_sum:\n",
    "                max_sum = temp_sum\n",
    "                left, right = i, j\n",
    "    return (left, right, max_sum)"
   ]
  },
  {
   "cell_type": "code",
   "execution_count": 88,
   "metadata": {
    "hidden": true
   },
   "outputs": [
    {
     "name": "stdout",
     "output_type": "stream",
     "text": [
      "A = [13, -3, -25, 20, -3, -16, -23, 18, 20, -7, 12, -5, -22, 15, -4, 7]\n",
      "The result of is:(7, 10, 43)\n",
      "A = [-2, -2, 4, -1, -3, 1, -3, -4, -2, 5]\n",
      "The result is:(9, 9, 5)\n"
     ]
    }
   ],
   "source": [
    "A = [13, -3, -25, 20, -3, -16, -23, 18, 20, -7, 12, -5, -22, 15, -4, 7]\n",
    "print(\"A = \" + str(A))\n",
    "print(\"The result of is:\" + str(find_max_subarray_recursion_and_brute_force(A, 0, len(A) - 1, 4)))\n",
    "A = [random.randint(-5, 5) for i in range(10)]\n",
    "print(\"A = \" + str(A))\n",
    "print(\"The result is:\" + str(find_max_subarray_recursion_and_brute_force(A, 0, len(A) - 1, 4)))"
   ]
  },
  {
   "cell_type": "markdown",
   "metadata": {},
   "source": [
    "#### 输入规模的切换点对性能的影响"
   ]
  },
  {
   "cell_type": "code",
   "execution_count": 117,
   "metadata": {
    "scrolled": false
   },
   "outputs": [],
   "source": [
    "A = [random.randint(-10, 10) for i in range(10000)]\n",
    "res_brute_and_recursion = list()\n",
    "for k in range(0, 100, 2):\n",
    "    res_brute_and_recursion.append(timeit.timeit(wrapper(find_max_subarray_recursion_and_brute_force, A, 0, len(A)-1, k), number=100))\n",
    "recursion_time = timeit.timeit(wrapper(find_max_subarray_recursion, A, 0, len(A)-1), number=100)"
   ]
  },
  {
   "cell_type": "code",
   "execution_count": 121,
   "metadata": {},
   "outputs": [
    {
     "data": {
      "text/plain": [
       "<matplotlib.legend.Legend at 0x1f250f7a0b8>"
      ]
     },
     "execution_count": 121,
     "metadata": {},
     "output_type": "execute_result"
    },
    {
     "data": {
      "image/png": "[encoded data removed]",
      "text/plain": [
       "<Figure size 432x288 with 1 Axes>"
      ]
     },
     "metadata": {
      "needs_background": "light"
     },
     "output_type": "display_data"
    }
   ],
   "source": [
    "fig = plt.figure()\n",
    "ax = fig.add_subplot(1,1,1)\n",
    "line1, = ax.plot(np.arange(0, 100, 2), res_brute_and_recursion)\n",
    "line2, =  ax.plot(np.arange(0, 100, 2), [recursion_time for i in range(0, 100, 2)])\n",
    "ax.set_xlabel('Switch Problem Size')\n",
    "ax.set_ylabel('time(s)')\n",
    "ax.legend([line1, line2], ['recursion and brute force', 'recursion'])"
   ]
  },
  {
   "cell_type": "markdown",
   "metadata": {},
   "source": [
    "- 从图中的结果可看出，切换点选在 20 左右时，运行时间最短\n",
    "- 当切换点在70左右时，算法的性能要低于单纯的分治算法，与暴力算法和分治算法的性能切换点基本相同"
   ]
  }
 ],
 "metadata": {
  "kernelspec": {
   "display_name": "Python 3",
   "language": "python",
   "name": "python3"
  },
  "language_info": {
   "codemirror_mode": {
    "name": "ipython",
    "version": 3
   },
   "file_extension": ".py",
   "mimetype": "text/x-python",
   "name": "python",
   "nbconvert_exporter": "python",
   "pygments_lexer": "ipython3",
   "version": "3.7.3"
  }
 },
 "nbformat": 4,
 "nbformat_minor": 2
}
