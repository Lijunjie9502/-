{
  "nbformat": 4,
  "nbformat_minor": 0,
  "metadata": {
    "kernelspec": {
      "display_name": "Python 3",
      "language": "python",
      "name": "python3"
    },
    "language_info": {
      "codemirror_mode": {
        "name": "ipython",
        "version": 3
      },
      "file_extension": ".py",
      "mimetype": "text/x-python",
      "name": "python",
      "nbconvert_exporter": "python",
      "pygments_lexer": "ipython3",
      "version": "3.7.3"
    },
    "colab": {
      "name": "第  8 章： 线性时间排序.ipynb",
      "provenance": []
    }
  },
  "cells": [
    {
      "cell_type": "code",
      "metadata": {
        "id": "D550c0I0xvHF",
        "colab_type": "code",
        "colab": {}
      },
      "source": [
        "import random, math"
      ],
      "execution_count": 0,
      "outputs": []
    },
    {
      "cell_type": "markdown",
      "metadata": {
        "id": "rKkpATYMCwi2",
        "colab_type": "text"
      },
      "source": [
        "## 8.1 比较排序算法的下界"
      ]
    },
    {
      "cell_type": "markdown",
      "metadata": {
        "id": "k5S8ITbyC3Ey",
        "colab_type": "text"
      },
      "source": [
        "- 比较排序的概念  \n",
        "  + **各元素在排序的最终结果中的次序，依赖于它们之间的比较**\n",
        "  + 除了两个元素相比较之外，不能用其它的方法观察元素的值或者它们之间的次序信息"
      ]
    },
    {
      "cell_type": "markdown",
      "metadata": {
        "id": "h-V-t35LD6Fa",
        "colab_type": "text"
      },
      "source": [
        "### 决策树模型   "
      ]
    },
    {
      "cell_type": "markdown",
      "metadata": {
        "id": "lSxUz5v2GIeA",
        "colab_type": "text"
      },
      "source": [
        "+ 决策树是一颗满二叉树( full binary tree )\n",
        "  * 满二叉树是指二叉树的每个节点，要么有 2 个子节点，要么有 0 个子节点  \n",
        "    - <img src=https://raw.githubusercontent.com/Lijunjie9502/PicBed/master/20191221093327.png>"
      ]
    },
    {
      "cell_type": "markdown",
      "metadata": {
        "id": "GQVFsuXrGfU7",
        "colab_type": "text"
      },
      "source": [
        "- 排序算法的决策树  \n",
        "  - 图示  \n",
        "    -  <img src=https://raw.githubusercontent.com/Lijunjie9502/PicBed/master/20191221093908.png width=400>\n",
        "  - 每个叶结点是输入的一种可能的排列\n",
        "  - 每个叶结点都可由根节点，经由某条路径到达，该路径对应于比较排序的一次实际执行过程"
      ]
    },
    {
      "cell_type": "markdown",
      "metadata": {
        "id": "5ZD3WFlSIuU3",
        "colab_type": "text"
      },
      "source": [
        "### 最坏情况的下界"
      ]
    },
    {
      "cell_type": "markdown",
      "metadata": {
        "id": "ZlmxiI48I1Tu",
        "colab_type": "text"
      },
      "source": [
        "- 一个比较排序算法中最坏情况的比较次数等于其决策树的高度"
      ]
    },
    {
      "cell_type": "markdown",
      "metadata": {
        "id": "guA-R0d1JhgD",
        "colab_type": "text"
      },
      "source": [
        "- **定理 8.1** 在最坏的情况下，任何比较排序算法都需要做 $\\Omega(nlgn)$ 次比较  \n",
        "  - 设叶子节点的数目为 $l$，输入数据的 $n!$ 种可能的排列都是叶结点，一颗高为 $h$ 的二叉树中，叶结点的数目不多于 $2^h$\n",
        "    - $$ n! \\le l \\le 2^h \\rightarrow h \\ge lg(n!) = \\Omega(nlgn)$$\n"
      ]
    },
    {
      "cell_type": "markdown",
      "metadata": {
        "id": "HMrnlCaHK7lW",
        "colab_type": "text"
      },
      "source": [
        "- **推论 8.2** 堆排序和归并排序的运行时间上界为 $O(nlgn)$,都是渐近最优的比较排序算法"
      ]
    },
    {
      "cell_type": "markdown",
      "metadata": {
        "id": "go8WOaRvmGPE",
        "colab_type": "text"
      },
      "source": [
        "## 8.2 计数排序"
      ]
    },
    {
      "cell_type": "markdown",
      "metadata": {
        "id": "-zMLnomHsCfm",
        "colab_type": "text"
      },
      "source": [
        "- 假设 $n$ 个输入元素都是在 $[0, k]$ 区间内的一个整数\n",
        "- 基本思想  \n",
        "  - 假设元素互异，则以于每一个输入 $x$， 只需要确认小于 $x$ 的元素的个数，即可直接将 $x$ 放到输出数组的位置上\n",
        "  - 当几个元素相同时，需要对方案进行相应的修改\n",
        "- 时间复杂度为 $\\Theta(n + k)$\n",
        "- **稳定** 是计数排序的一个重要性质  \n",
        "  - 稳定性是指具有相同值的元素在输出数组中的相对次序与它们在输入数组中的相对次序相同\n",
        "  - 当进和排序的数据，还附带有卫星数据时，稳定性比较重要"
      ]
    },
    {
      "cell_type": "markdown",
      "metadata": {
        "id": "BLAAropUuD07",
        "colab_type": "text"
      },
      "source": [
        "### <span id=\"jump\">代码实现</span>"
      ]
    },
    {
      "cell_type": "code",
      "metadata": {
        "id": "bnTK5L8hv-Hm",
        "colab_type": "code",
        "colab": {}
      },
      "source": [
        "def counting_sort(A, k):\n",
        "  C = [0 for i in range(k+1)]\n",
        "  for i in A:\n",
        "    C[i] += 1\n",
        "  for i in range(1, len(C)):\n",
        "    C[i] += C[i-1]\n",
        "  B = [0 for i in range(len(A))]\n",
        "  for i in reversed(A):\n",
        "    B[C[i] - 1] = i\n",
        "    C[i] -= 1\n",
        "  return B"
      ],
      "execution_count": 0,
      "outputs": []
    },
    {
      "cell_type": "code",
      "metadata": {
        "id": "kHu0O9NcxpEH",
        "colab_type": "code",
        "colab": {
          "base_uri": "https://localhost:8080/",
          "height": 53
        },
        "outputId": "0565e688-55c2-40c1-8d03-d1cc2bf1ef4c"
      },
      "source": [
        "k = 5\n",
        "A = [2, 5, 3, 0, 2, 3, 0, 3]\n",
        "print('排序前：{}'.format(A))\n",
        "print('排序后：{}'.format(counting_sort(A, k)))"
      ],
      "execution_count": 23,
      "outputs": [
        {
          "output_type": "stream",
          "text": [
            "排序前：[2, 5, 3, 0, 2, 3, 0, 3]\n",
            "排序后：[0, 0, 2, 2, 3, 3, 3, 5]\n"
          ],
          "name": "stdout"
        }
      ]
    },
    {
      "cell_type": "markdown",
      "metadata": {
        "id": "CWPFN-sXyAHz",
        "colab_type": "text"
      },
      "source": [
        "### 执行过程"
      ]
    },
    {
      "cell_type": "markdown",
      "metadata": {
        "id": "ySXdG2xs1BQ8",
        "colab_type": "text"
      },
      "source": [
        "- <img src=https://raw.githubusercontent.com/Lijunjie9502/PicBed/master/20191221174100.png width=600>"
      ]
    },
    {
      "cell_type": "markdown",
      "metadata": {
        "id": "YRblnU0a2bIu",
        "colab_type": "text"
      },
      "source": [
        "## 8.3 基数排序"
      ]
    },
    {
      "cell_type": "markdown",
      "metadata": {
        "id": "fAR4X4zi2d2g",
        "colab_type": "text"
      },
      "source": [
        "- 基数排序是一种用在卡片排序机上的算法\n",
        "- 基数排序是先按最低有效位进行排序来解决卡片排序问题的  \n",
        "  - <img src=https://raw.githubusercontent.com/Lijunjie9502/PicBed/master/20191221175908.png width=300>\n",
        "- 为了确保基数排序的正确性，一位数的排序算法必须是稳定的\n",
        "- 实际应用  \n",
        "  - 按年，月，日对日期进行排序\n"
      ]
    },
    {
      "cell_type": "markdown",
      "metadata": {
        "id": "NKht9Rxr5lJt",
        "colab_type": "text"
      },
      "source": [
        "**引理8-3：** 给定 $n$ 个 $d$ 位数，其中每一个数位有 $k$ 个可能的取值。如果基数排序使用的一位数稳定排序算法耗时 $\\Theta(n+k)$，那么\n",
        "可以在 $\\Theta(d(n+k))$ 的时间内完成排序  \n",
        "  - 当 $d$ 为常数且 $k=O(n)$ 时，基数排序具有线性的时间代价\n",
        "  - 更一般的情况下，可以灵活的决定如何将关键字分解为若干位"
      ]
    },
    {
      "cell_type": "markdown",
      "metadata": {
        "id": "hXMsmEN86xha",
        "colab_type": "text"
      },
      "source": [
        "**引理8.4** 给定 $n$ 个 $b$ 位数(二进制)和任何的正整数 $r \\le b$，如果基数排序使用的对数据取值区间是 $[0, k]$ 的输入进行排序\n",
        "稳定性算法的时间是 $\\Theta(n+k)$，那么它可以在 $\\Theta(b/r)(n+2^r)$ 时间内完成排序  \n",
        "  - $b < \\lfloor lg(n) \\rfloor$ 时，选 $r=b$ 时，运行时间为 $\\Theta(n)$\n",
        "  - $b \\ge \\lfloor lg(n) \\rfloor$ 时，选 $r=\\lfloor lg(n) \\rfloor$ 可以得到最优时间代价为 $\\Theta(bn/lgn)$，如果\n",
        "  $b=O(lg(n))$，则最优的时间代价为 $\\Theta(n)$\n",
        "    - 如果 $r > \\lfloor lg(n) \\rfloor$，由于分子中的 $2^r$ 增加得比分母中的 $r$ 快，所以时间代价为 $\\Omega(bn/lgn)$\n",
        "    - 如果 $ r < \\lfloor lg(n) \\rfloor$, 此时 $n+2^r=\\Theta(n)$，而 $b/r$ 会变大"
      ]
    },
    {
      "cell_type": "markdown",
      "metadata": {
        "id": "zSfPVD3q8Vog",
        "colab_type": "text"
      },
      "source": [
        "- 基数排序与快速排序的对比  \n",
        "  - 基数排序的最优运行时间可达 $\\Theta(n)$ 看上去比快速排序的期望时间 $\\Theta(nlg(n))$ 要好，但是两者隐含在 $\\Theta$ 符号后的常\n",
        "  数项是不相同的  \n",
        "  - 基数排序执行的循环次数会比快速排序少，但是每轮所耗费的时间更长\n",
        "  - 利用计算排序作为中间稳定排序算法的基数排序不是原址排序，会占用更多的缓存空间，而快速排序是原址排序"
      ]
    },
    {
      "cell_type": "markdown",
      "metadata": {
        "id": "BIHdX0fZ_uWY",
        "colab_type": "text"
      },
      "source": [
        "### 代码实现"
      ]
    },
    {
      "cell_type": "code",
      "metadata": {
        "id": "bbdFou74AYK0",
        "colab_type": "code",
        "colab": {}
      },
      "source": [
        "class NumberWithIndex():\n",
        "  \"\"\"定义一个含有原下标的类\"\"\"\n",
        "  def __init__(self, num, index):\n",
        "    self.num = num\n",
        "    self.index = index\n",
        "\n",
        "  def __index__(self):\n",
        "    return self.num\n",
        "\n",
        "def sort_digit(A, i):\n",
        "  \"\"\"按照第 i 位对数组进行排序\"\"\"\n",
        "  B = [NumberWithIndex(0, index) for index in range(len(A))]\n",
        "  for index, num in enumerate(A):\n",
        "    B[index].num = num // (10 ** (i-1)) % 10\n",
        "  B = counting_sort(B, 9)\n",
        "  C = list()\n",
        "  for item in B:\n",
        "    C.append(A[item.index])\n",
        "  return C\n",
        "    \n",
        "\n",
        "\n",
        "def radix_sort(A, d):\n",
        "  \"\"\"对于 d 位十进制数进行排序\"\"\"\n",
        "  for i in range(1, d+1):\n",
        "    A = sort_digit(A, i)\n",
        "  return A\n"
      ],
      "execution_count": 0,
      "outputs": []
    },
    {
      "cell_type": "code",
      "metadata": {
        "id": "Z_8gfDyEC7Oc",
        "colab_type": "code",
        "colab": {
          "base_uri": "https://localhost:8080/",
          "height": 53
        },
        "outputId": "627e47b7-e3ed-43e8-ab3b-54b7f9117295"
      },
      "source": [
        "d = 3\n",
        "A = [random.randint(10 ** (d-1), 10 ** d - 1) for i in range(10)]\n",
        "print(\"排序前: {}\".format(A))\n",
        "print(\"排序前: {}\".format(radix_sort(A, d)))"
      ],
      "execution_count": 58,
      "outputs": [
        {
          "output_type": "stream",
          "text": [
            "排序前: [760, 428, 453, 102, 481, 756, 677, 823, 413, 199]\n",
            "排序前: [102, 199, 413, 428, 453, 481, 677, 756, 760, 823]\n"
          ],
          "name": "stdout"
        }
      ]
    },
    {
      "cell_type": "markdown",
      "metadata": {
        "id": "qR0DLdrcFibx",
        "colab_type": "text"
      },
      "source": [
        "## 8.4 桶排序"
      ]
    },
    {
      "cell_type": "markdown",
      "metadata": {
        "id": "8qnx5khGOyIo",
        "colab_type": "text"
      },
      "source": [
        "- 桶排序假设输入是由一个随机过程产生，该过程将元素均匀、独立的分布在 $[0, 1)$ 区间上\n",
        "- 实现方法  \n",
        "  - 将 $[0, 1)$ 区间划分为 $n$ 个相同大小的子区间，称为桶。将 $n$ 个输入数分别放入到各个桶中\n",
        "  - 对各个桶中的数进行排序（若为列表，可选用插入排序），然后遍历各个桶，将桶中的元素取出"
      ]
    },
    {
      "cell_type": "markdown",
      "metadata": {
        "id": "LHnfg1slRhuZ",
        "colab_type": "text"
      },
      "source": [
        "### 运行时间分析"
      ]
    },
    {
      "cell_type": "markdown",
      "metadata": {
        "id": "i6yr-LzFRntE",
        "colab_type": "text"
      },
      "source": [
        "- 假设采用的是插入排序，用 $n_i$ 表示桶 $B[i]$ 中的元素个数，则桶排序运行的时间代价为：\n",
        "$$ T(n) = \\Theta(n) + \\sum^{n-1}_{i=0}{O(n^{2}_{i})}$$"
      ]
    },
    {
      "cell_type": "markdown",
      "metadata": {
        "id": "hRhRM4tQSLYQ",
        "colab_type": "text"
      },
      "source": [
        "- 桶排序的期望运行时间：\n",
        "$$E(T(n)) = \\Theta(n) + \\sum^{n-1}_{i=0}{O[n_i^2]}$$  \n",
        "  - 当输入均匀分布时，$E(n_i^2) = 2 - 1/n$，期望运行时间为 $\\Theta(n)$\n",
        "  - 如果输入不是均匀分布，但满足桶的大小的平方和与总的元素数呈线性关系，则桶排序仍然能在线性时间内完成"
      ]
    },
    {
      "cell_type": "markdown",
      "metadata": {
        "id": "GI9YVL_aSl5w",
        "colab_type": "text"
      },
      "source": [
        "### 代码实现"
      ]
    },
    {
      "cell_type": "code",
      "metadata": {
        "id": "9WGFCNj_TXr1",
        "colab_type": "code",
        "colab": {}
      },
      "source": [
        "def insertion_sort(A):\n",
        "  \"\"\"插入排序\"\"\"\n",
        "  for j in range(1, len(A)):\n",
        "    key = A[j]\n",
        "    i = j - 1\n",
        "    while i >=0 and A[i] > key:\n",
        "      A[i+1] = A[i]\n",
        "      i -= 1\n",
        "    A[i+1] = key\n",
        "\n",
        "\n",
        "def bucket_sort(A):\n",
        "  \"\"\"借助列表来实现桶排序\"\"\"\n",
        "  B = [[] for index in range(len(A))]\n",
        "  for item in A:\n",
        "    B[math.floor(len(A)*item)].append(item)\n",
        "  for item in B:\n",
        "    insertion_sort(item)\n",
        "  res = list()\n",
        "  for item in B:\n",
        "    res += item\n",
        "  return res\n"
      ],
      "execution_count": 0,
      "outputs": []
    },
    {
      "cell_type": "code",
      "metadata": {
        "id": "OlD7lEpLYl0B",
        "colab_type": "code",
        "colab": {
          "base_uri": "https://localhost:8080/",
          "height": 53
        },
        "outputId": "4a9d8531-3acd-4180-e617-3c1a90494777"
      },
      "source": [
        "A = [.78, .17, .39, .26, .72, .94, .21, .12, .23, .68]\n",
        "print('排序前：{}'.format(A))\n",
        "print('排序后：{}'.format(bucket_sort(A)))"
      ],
      "execution_count": 71,
      "outputs": [
        {
          "output_type": "stream",
          "text": [
            "排序前：[0.78, 0.17, 0.39, 0.26, 0.72, 0.94, 0.21, 0.12, 0.23, 0.68]\n",
            "排序后：[0.12, 0.17, 0.21, 0.23, 0.26, 0.39, 0.68, 0.72, 0.78, 0.94]\n"
          ],
          "name": "stdout"
        }
      ]
    },
    {
      "cell_type": "markdown",
      "metadata": {
        "id": "aoXJr0umY8qR",
        "colab_type": "text"
      },
      "source": [
        "## 练习题"
      ]
    },
    {
      "cell_type": "markdown",
      "metadata": {
        "id": "B9psIWYxb0kY",
        "colab_type": "text"
      },
      "source": [
        "### 8-3 不定长数据项的排序"
      ]
    },
    {
      "cell_type": "markdown",
      "metadata": {
        "id": "xoYUgy5ab5xO",
        "colab_type": "text"
      },
      "source": [
        "#### a. 不定长整数的排序"
      ]
    },
    {
      "cell_type": "markdown",
      "metadata": {
        "id": "RH4WUnIWciWt",
        "colab_type": "text"
      },
      "source": [
        "基本思路： \n",
        "  - 设最大整数的位数为 $d$，创建 $d$ 个桶，每个桶中装入位数相同的元素\n",
        "  - 对每个桶中的元素进行基数排序"
      ]
    },
    {
      "cell_type": "code",
      "metadata": {
        "id": "Hy7rQW8uc8a9",
        "colab_type": "code",
        "colab": {}
      },
      "source": [
        "def get_digits(num):\n",
        "  \"\"\"获取一个整数的最大位数\"\"\"\n",
        "  digits = 0\n",
        "  while num > 0:\n",
        "    digits += 1\n",
        "    num //= 10\n",
        "  return digits\n",
        "\n",
        "def variable_length_num_sort(A):\n",
        "  \"\"\"不定长整数的排序\"\"\"\n",
        "  max_digits = 0\n",
        "  digits_list = []\n",
        "  for item in A:\n",
        "    digits_list.append(get_digits(item)) \n",
        "    if max_digits < digits_list[-1]:\n",
        "      max_digits = digits_list[-1]\n",
        "  B = [[] for item in range(max_digits)]\n",
        "  for index, item in enumerate(digits_list):\n",
        "    B[item-1].append(A[index])\n",
        "  res = []\n",
        "  for index, item in enumerate(B):\n",
        "    res += radix_sort(item, index+1)\n",
        "  return res"
      ],
      "execution_count": 0,
      "outputs": []
    },
    {
      "cell_type": "code",
      "metadata": {
        "id": "jl9T_gg_f_VX",
        "colab_type": "code",
        "colab": {
          "base_uri": "https://localhost:8080/",
          "height": 53
        },
        "outputId": "fcc2d10e-910d-4ea5-befb-1bd4dfa8e9d1"
      },
      "source": [
        "A = [random.randint(0, 10000) for index in range(20)]\n",
        "print('排序前：{}'.format(A))\n",
        "print('排序后：{}'.format(variable_length_num_sort(A)))"
      ],
      "execution_count": 77,
      "outputs": [
        {
          "output_type": "stream",
          "text": [
            "排序前：[4233, 709, 6594, 3075, 2550, 938, 7842, 3525, 1483, 7682, 3718, 2898, 20, 6242, 7416, 5466, 9589, 6665, 5419, 8425]\n",
            "排序后：[20, 709, 938, 1483, 2550, 2898, 3075, 3525, 3718, 4233, 5419, 5466, 6242, 6594, 6665, 7416, 7682, 7842, 8425, 9589]\n"
          ],
          "name": "stdout"
        }
      ]
    },
    {
      "cell_type": "markdown",
      "metadata": {
        "id": "5tGL0HHjgQ_p",
        "colab_type": "text"
      },
      "source": [
        "#### b. 不定长字符串的排序"
      ]
    },
    {
      "cell_type": "code",
      "metadata": {
        "id": "Pt9QLqFYg2eF",
        "colab_type": "code",
        "colab": {}
      },
      "source": [
        "def variable_length_string_sort(A, depth=1):\n",
        "  B =[[] for index in range(27)]  # 0 表示长度不符合当前要求\n",
        "  for item in A:\n",
        "    if len(item) >= depth:\n",
        "      B[ord(item[depth-1]) - ord('a') + 1].append(item)\n",
        "    else:\n",
        "      B[0].append(item)\n",
        "  for item in B[1:]:\n",
        "    if len(item) > 1:\n",
        "      item = variable_length_string_sort(item, depth + 1)\n",
        "  res = []\n",
        "  for item in B:\n",
        "    res += item\n",
        "  return res\n",
        "  "
      ],
      "execution_count": 0,
      "outputs": []
    },
    {
      "cell_type": "code",
      "metadata": {
        "id": "h0nJgkdtoGLG",
        "colab_type": "code",
        "colab": {
          "base_uri": "https://localhost:8080/",
          "height": 35
        },
        "outputId": "f6bc9163-d5b8-4931-9d7b-cca3681439f3"
      },
      "source": [
        "A = ['z', 'xy', 'a', 'abc', 'ab', 'b', 'cde', 'c', 'za']\n",
        "print(variable_length_string_sort(A))"
      ],
      "execution_count": 88,
      "outputs": [
        {
          "output_type": "stream",
          "text": [
            "['a', 'abc', 'ab', 'b', 'cde', 'c', 'xy', 'z', 'za']\n"
          ],
          "name": "stdout"
        }
      ]
    },
    {
      "cell_type": "code",
      "metadata": {
        "id": "py7BO5y2oG0P",
        "colab_type": "code",
        "colab": {}
      },
      "source": [
        ""
      ],
      "execution_count": 0,
      "outputs": []
    }
  ]
}