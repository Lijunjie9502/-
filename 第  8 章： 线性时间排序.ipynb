{
 "cells": [
  {
   "cell_type": "code",
   "execution_count": 1,
   "metadata": {
    "colab": {},
    "colab_type": "code",
    "id": "D550c0I0xvHF"
   },
   "outputs": [],
   "source": [
    "import random, math\n",
    "from functools import total_ordering"
   ]
  },
  {
   "cell_type": "markdown",
   "metadata": {
    "colab_type": "text",
    "id": "rKkpATYMCwi2"
   },
   "source": [
    "## 8.1 比较排序算法的下界"
   ]
  },
  {
   "cell_type": "markdown",
   "metadata": {
    "colab_type": "text",
    "id": "k5S8ITbyC3Ey"
   },
   "source": [
    "- 比较排序的概念  \n",
    "  + **各元素在排序的最终结果中的次序，依赖于它们之间的比较**\n",
    "  + 除了两个元素相比较之外，不能用其它的方法观察元素的值或者它们之间的次序信息"
   ]
  },
  {
   "cell_type": "markdown",
   "metadata": {
    "colab_type": "text",
    "id": "h-V-t35LD6Fa"
   },
   "source": [
    "### 决策树模型   "
   ]
  },
  {
   "cell_type": "markdown",
   "metadata": {
    "colab_type": "text",
    "id": "lSxUz5v2GIeA"
   },
   "source": [
    "+ 决策树是一颗满二叉树( full binary tree )\n",
    "  * 满二叉树是指二叉树的每个节点，要么有 2 个子节点，要么有 0 个子节点  \n",
    "    - <img src=https://raw.githubusercontent.com/Lijunjie9502/PicBed/master/20191221093327.png>"
   ]
  },
  {
   "cell_type": "markdown",
   "metadata": {
    "colab_type": "text",
    "id": "GQVFsuXrGfU7"
   },
   "source": [
    "- 排序算法的决策树  \n",
    "  - 图示  \n",
    "    -  <img src=https://raw.githubusercontent.com/Lijunjie9502/PicBed/master/20191221093908.png width=400>\n",
    "  - 每个叶结点是输入的一种可能的排列\n",
    "  - 每个叶结点都可由根节点，经由某条路径到达，该路径对应于比较排序的一次实际执行过程"
   ]
  },
  {
   "cell_type": "markdown",
   "metadata": {
    "colab_type": "text",
    "id": "5ZD3WFlSIuU3"
   },
   "source": [
    "### 最坏情况的下界"
   ]
  },
  {
   "cell_type": "markdown",
   "metadata": {
    "colab_type": "text",
    "id": "ZlmxiI48I1Tu"
   },
   "source": [
    "- 一个比较排序算法中最坏情况的比较次数等于其决策树的高度"
   ]
  },
  {
   "cell_type": "markdown",
   "metadata": {
    "colab_type": "text",
    "id": "guA-R0d1JhgD"
   },
   "source": [
    "- **定理 8.1** 在最坏的情况下，任何比较排序算法都需要做 $\\Omega(nlgn)$ 次比较  \n",
    "  - 设叶子节点的数目为 $l$，输入数据的 $n!$ 种可能的排列都是叶结点，一颗高为 $h$ 的二叉树中，叶结点的数目不多于 $2^h$\n",
    "    - $$ n! \\le l \\le 2^h \\rightarrow h \\ge lg(n!) = \\Omega(nlgn)$$\n"
   ]
  },
  {
   "cell_type": "markdown",
   "metadata": {
    "colab_type": "text",
    "id": "HMrnlCaHK7lW"
   },
   "source": [
    "- **推论 8.2** 堆排序和归并排序的运行时间上界为 $O(nlgn)$,都是渐近最优的比较排序算法"
   ]
  },
  {
   "cell_type": "markdown",
   "metadata": {
    "colab_type": "text",
    "id": "go8WOaRvmGPE"
   },
   "source": [
    "## 8.2 计数排序"
   ]
  },
  {
   "cell_type": "markdown",
   "metadata": {
    "colab_type": "text",
    "id": "-zMLnomHsCfm"
   },
   "source": [
    "- 假设 $n$ 个输入元素都是在 $[0, k]$ 区间内的一个整数\n",
    "- 基本思想  \n",
    "  - 假设元素互异，则以于每一个输入 $x$， 只需要确认小于 $x$ 的元素的个数，即可直接将 $x$ 放到输出数组的位置上\n",
    "  - 当几个元素相同时，需要对方案进行相应的修改\n",
    "- 时间复杂度为 $\\Theta(n + k)$\n",
    "- **稳定** 是计数排序的一个重要性质  \n",
    "  - 稳定性是指具有相同值的元素在输出数组中的相对次序与它们在输入数组中的相对次序相同\n",
    "  - 当进和排序的数据，还附带有卫星数据时，稳定性比较重要"
   ]
  },
  {
   "cell_type": "markdown",
   "metadata": {
    "colab_type": "text",
    "id": "BLAAropUuD07"
   },
   "source": [
    "### <span id=\"jump\">代码实现</span>"
   ]
  },
  {
   "cell_type": "code",
   "execution_count": 2,
   "metadata": {
    "colab": {},
    "colab_type": "code",
    "id": "bnTK5L8hv-Hm"
   },
   "outputs": [],
   "source": [
    "def counting_sort(A, k):\n",
    "  C = [0 for i in range(k+1)]\n",
    "  for i in A:\n",
    "    C[i] += 1\n",
    "  for i in range(1, len(C)):\n",
    "    C[i] += C[i-1]\n",
    "  B = [0 for i in range(len(A))]\n",
    "  for i in reversed(A):\n",
    "    B[C[i] - 1] = i\n",
    "    C[i] -= 1\n",
    "  return B"
   ]
  },
  {
   "cell_type": "code",
   "execution_count": 3,
   "metadata": {
    "colab": {
     "base_uri": "https://localhost:8080/"
    },
    "colab_type": "code",
    "id": "kHu0O9NcxpEH",
    "outputId": "d8d180bd-fcc0-4cb7-f4fc-50cf376ca41c"
   },
   "outputs": [
    {
     "name": "stdout",
     "output_type": "stream",
     "text": [
      "排序前：[2, 5, 3, 0, 2, 3, 0, 3]\n",
      "排序后：[0, 0, 2, 2, 3, 3, 3, 5]\n"
     ]
    }
   ],
   "source": [
    "k = 5\n",
    "A = [2, 5, 3, 0, 2, 3, 0, 3]\n",
    "print('排序前：{}'.format(A))\n",
    "print('排序后：{}'.format(counting_sort(A, k)))"
   ]
  },
  {
   "cell_type": "markdown",
   "metadata": {
    "colab_type": "text",
    "id": "CWPFN-sXyAHz"
   },
   "source": [
    "### 执行过程"
   ]
  },
  {
   "cell_type": "markdown",
   "metadata": {
    "colab_type": "text",
    "id": "ySXdG2xs1BQ8"
   },
   "source": [
    "- <img src=https://raw.githubusercontent.com/Lijunjie9502/PicBed/master/20191221174100.png width=600>"
   ]
  },
  {
   "cell_type": "markdown",
   "metadata": {
    "colab_type": "text",
    "id": "YRblnU0a2bIu"
   },
   "source": [
    "## 8.3 基数排序"
   ]
  },
  {
   "cell_type": "markdown",
   "metadata": {
    "colab_type": "text",
    "id": "fAR4X4zi2d2g"
   },
   "source": [
    "- 基数排序是一种用在卡片排序机上的算法\n",
    "- 基数排序是先按最低有效位进行排序来解决卡片排序问题的  \n",
    "  - <img src=https://raw.githubusercontent.com/Lijunjie9502/PicBed/master/20191221175908.png width=300>\n",
    "- 为了确保基数排序的正确性，一位数的排序算法必须是稳定的\n",
    "- 实际应用  \n",
    "  - 按年，月，日对日期进行排序\n"
   ]
  },
  {
   "cell_type": "markdown",
   "metadata": {
    "colab_type": "text",
    "id": "NKht9Rxr5lJt"
   },
   "source": [
    "**引理8-3：** 给定 $n$ 个 $d$ 位数，其中每一个数位有 $k$ 个可能的取值。如果基数排序使用的一位数稳定排序算法耗时 $\\Theta(n+k)$，那么\n",
    "可以在 $\\Theta(d(n+k))$ 的时间内完成排序  \n",
    "  - 当 $d$ 为常数且 $k=O(n)$ 时，基数排序具有线性的时间代价\n",
    "  - 更一般的情况下，可以灵活的决定如何将关键字分解为若干位"
   ]
  },
  {
   "cell_type": "markdown",
   "metadata": {
    "colab_type": "text",
    "id": "hXMsmEN86xha"
   },
   "source": [
    "**引理8.4** 给定 $n$ 个 $b$ 位数(二进制)和任何的正整数 $r \\le b$，如果基数排序使用的对数据取值区间是 $[0, k]$ 的输入进行排序\n",
    "稳定性算法的时间是 $\\Theta(n+k)$，那么它可以在 $\\Theta(b/r)(n+2^r)$ 时间内完成排序  \n",
    "  - $b < \\lfloor lg(n) \\rfloor$ 时，选 $r=b$ 时，运行时间为 $\\Theta(n)$\n",
    "  - $b \\ge \\lfloor lg(n) \\rfloor$ 时，选 $r=\\lfloor lg(n) \\rfloor$ 可以得到最优时间代价为 $\\Theta(bn/lgn)$，如果\n",
    "  $b=O(lg(n))$，则最优的时间代价为 $\\Theta(n)$\n",
    "    - 如果 $r > \\lfloor lg(n) \\rfloor$，由于分子中的 $2^r$ 增加得比分母中的 $r$ 快，所以时间代价为 $\\Omega(bn/lgn)$\n",
    "    - 如果 $ r < \\lfloor lg(n) \\rfloor$, 此时 $n+2^r=\\Theta(n)$，而 $b/r$ 会变大"
   ]
  },
  {
   "cell_type": "markdown",
   "metadata": {
    "colab_type": "text",
    "id": "zSfPVD3q8Vog"
   },
   "source": [
    "- 基数排序与快速排序的对比  \n",
    "  - 基数排序的最优运行时间可达 $\\Theta(n)$ 看上去比快速排序的期望时间 $\\Theta(nlg(n))$ 要好，但是两者隐含在 $\\Theta$ 符号后的常\n",
    "  数项是不相同的  \n",
    "  - 基数排序执行的循环次数会比快速排序少，但是每轮所耗费的时间更长\n",
    "  - 利用计算排序作为中间稳定排序算法的基数排序不是原址排序，会占用更多的缓存空间，而快速排序是原址排序"
   ]
  },
  {
   "cell_type": "markdown",
   "metadata": {
    "colab_type": "text",
    "id": "BIHdX0fZ_uWY"
   },
   "source": [
    "### 代码实现"
   ]
  },
  {
   "cell_type": "code",
   "execution_count": 4,
   "metadata": {
    "colab": {},
    "colab_type": "code",
    "id": "bbdFou74AYK0"
   },
   "outputs": [],
   "source": [
    "class NumberWithIndex():\n",
    "  \"\"\"定义一个含有原下标的类\"\"\"\n",
    "  def __init__(self, num, index):\n",
    "    self.num = num\n",
    "    self.index = index\n",
    "\n",
    "  def __index__(self):\n",
    "    return self.num\n",
    "\n",
    "def sort_digit(A, i):\n",
    "  \"\"\"按照第 i 位对数组进行排序\"\"\"\n",
    "  B = [NumberWithIndex(0, index) for index in range(len(A))]\n",
    "  for index, num in enumerate(A):\n",
    "    B[index].num = num // (10 ** (i-1)) % 10\n",
    "  B = counting_sort(B, 9)\n",
    "  C = list()\n",
    "  for item in B:\n",
    "    C.append(A[item.index])\n",
    "  return C\n",
    "    \n",
    "\n",
    "\n",
    "def radix_sort(A, d):\n",
    "  \"\"\"对于 d 位十进制数进行排序\"\"\"\n",
    "  for i in range(1, d+1):\n",
    "    A = sort_digit(A, i)\n",
    "  return A\n"
   ]
  },
  {
   "cell_type": "code",
   "execution_count": 5,
   "metadata": {
    "colab": {
     "base_uri": "https://localhost:8080/"
    },
    "colab_type": "code",
    "id": "Z_8gfDyEC7Oc",
    "outputId": "77b042f7-bfb6-41e5-c3c2-dd9f530e0240"
   },
   "outputs": [
    {
     "name": "stdout",
     "output_type": "stream",
     "text": [
      "排序前: [769, 177, 730, 594, 338, 689, 635, 344, 700, 637]\n",
      "排序前: [177, 338, 344, 594, 635, 637, 689, 700, 730, 769]\n"
     ]
    }
   ],
   "source": [
    "d = 3\n",
    "A = [random.randint(10 ** (d-1), 10 ** d - 1) for i in range(10)]\n",
    "print(\"排序前: {}\".format(A))\n",
    "print(\"排序前: {}\".format(radix_sort(A, d)))"
   ]
  },
  {
   "cell_type": "markdown",
   "metadata": {
    "colab_type": "text",
    "id": "qR0DLdrcFibx"
   },
   "source": [
    "## 8.4 桶排序"
   ]
  },
  {
   "cell_type": "markdown",
   "metadata": {
    "colab_type": "text",
    "id": "8qnx5khGOyIo"
   },
   "source": [
    "- 桶排序假设输入是由一个随机过程产生，该过程将元素均匀、独立的分布在 $[0, 1)$ 区间上\n",
    "- 实现方法  \n",
    "  - 将 $[0, 1)$ 区间划分为 $n$ 个相同大小的子区间，称为桶。将 $n$ 个输入数分别放入到各个桶中\n",
    "  - 对各个桶中的数进行排序（若为列表，可选用插入排序），然后遍历各个桶，将桶中的元素取出"
   ]
  },
  {
   "cell_type": "markdown",
   "metadata": {
    "colab_type": "text",
    "id": "LHnfg1slRhuZ"
   },
   "source": [
    "### 运行时间分析"
   ]
  },
  {
   "cell_type": "markdown",
   "metadata": {
    "colab_type": "text",
    "id": "i6yr-LzFRntE"
   },
   "source": [
    "- 假设采用的是插入排序，用 $n_i$ 表示桶 $B[i]$ 中的元素个数，则桶排序运行的时间代价为：\n",
    "$$ T(n) = \\Theta(n) + \\sum^{n-1}_{i=0}{O(n^{2}_{i})}$$"
   ]
  },
  {
   "cell_type": "markdown",
   "metadata": {
    "colab_type": "text",
    "id": "hRhRM4tQSLYQ"
   },
   "source": [
    "- 桶排序的期望运行时间：\n",
    "$$E(T(n)) = \\Theta(n) + \\sum^{n-1}_{i=0}{O[n_i^2]}$$  \n",
    "  - 当输入均匀分布时，$E(n_i^2) = 2 - 1/n$，期望运行时间为 $\\Theta(n)$\n",
    "  - 如果输入不是均匀分布，但满足桶的大小的平方和与总的元素数呈线性关系，则桶排序仍然能在线性时间内完成"
   ]
  },
  {
   "cell_type": "markdown",
   "metadata": {
    "colab_type": "text",
    "id": "GI9YVL_aSl5w"
   },
   "source": [
    "### 代码实现"
   ]
  },
  {
   "cell_type": "code",
   "execution_count": 6,
   "metadata": {
    "colab": {},
    "colab_type": "code",
    "id": "9WGFCNj_TXr1"
   },
   "outputs": [],
   "source": [
    "def insertion_sort(A):\n",
    "  \"\"\"插入排序\"\"\"\n",
    "  for j in range(1, len(A)):\n",
    "    key = A[j]\n",
    "    i = j - 1\n",
    "    while i >=0 and A[i] > key:\n",
    "      A[i+1] = A[i]\n",
    "      i -= 1\n",
    "    A[i+1] = key\n",
    "\n",
    "\n",
    "def bucket_sort(A):\n",
    "  \"\"\"借助列表来实现桶排序\"\"\"\n",
    "  B = [[] for index in range(len(A))]\n",
    "  for item in A:\n",
    "    B[math.floor(len(A)*item)].append(item)\n",
    "  for item in B:\n",
    "    insertion_sort(item)\n",
    "  res = list()\n",
    "  for item in B:\n",
    "    res += item\n",
    "  return res\n"
   ]
  },
  {
   "cell_type": "code",
   "execution_count": 7,
   "metadata": {
    "colab": {
     "base_uri": "https://localhost:8080/"
    },
    "colab_type": "code",
    "id": "OlD7lEpLYl0B",
    "outputId": "797d1bcc-69e9-45c5-ccbb-ea15e552f496"
   },
   "outputs": [
    {
     "name": "stdout",
     "output_type": "stream",
     "text": [
      "排序前：[0.78, 0.17, 0.39, 0.26, 0.72, 0.94, 0.21, 0.12, 0.23, 0.68]\n",
      "排序后：[0.12, 0.17, 0.21, 0.23, 0.26, 0.39, 0.68, 0.72, 0.78, 0.94]\n"
     ]
    }
   ],
   "source": [
    "A = [.78, .17, .39, .26, .72, .94, .21, .12, .23, .68]\n",
    "print('排序前：{}'.format(A))\n",
    "print('排序后：{}'.format(bucket_sort(A)))"
   ]
  },
  {
   "cell_type": "markdown",
   "metadata": {
    "colab_type": "text",
    "id": "aoXJr0umY8qR"
   },
   "source": [
    "## 练习题"
   ]
  },
  {
   "cell_type": "markdown",
   "metadata": {
    "colab_type": "text",
    "id": "B9psIWYxb0kY"
   },
   "source": [
    "### 8-3 不定长数据项的排序"
   ]
  },
  {
   "cell_type": "markdown",
   "metadata": {
    "colab_type": "text",
    "id": "xoYUgy5ab5xO"
   },
   "source": [
    "#### a. 不定长整数的排序"
   ]
  },
  {
   "cell_type": "markdown",
   "metadata": {
    "colab_type": "text",
    "id": "RH4WUnIWciWt"
   },
   "source": [
    "基本思路： \n",
    "  - 设最大整数的位数为 $d$，创建 $d$ 个桶，每个桶中装入位数相同的元素\n",
    "  - 对每个桶中的元素进行基数排序"
   ]
  },
  {
   "cell_type": "code",
   "execution_count": 8,
   "metadata": {
    "colab": {},
    "colab_type": "code",
    "id": "Hy7rQW8uc8a9"
   },
   "outputs": [],
   "source": [
    "def get_digits(num):\n",
    "  \"\"\"获取一个整数的最大位数\"\"\"\n",
    "  digits = 0\n",
    "  while num > 0:\n",
    "    digits += 1\n",
    "    num //= 10\n",
    "  return digits\n",
    "\n",
    "def variable_length_num_sort(A):\n",
    "  \"\"\"不定长整数的排序\"\"\"\n",
    "  max_digits = 0\n",
    "  digits_list = []\n",
    "  for item in A:\n",
    "    digits_list.append(get_digits(item)) \n",
    "    if max_digits < digits_list[-1]:\n",
    "      max_digits = digits_list[-1]\n",
    "  B = [[] for item in range(max_digits)]\n",
    "  for index, item in enumerate(digits_list):\n",
    "    B[item-1].append(A[index])\n",
    "  res = []\n",
    "  for index, item in enumerate(B):\n",
    "    res += radix_sort(item, index+1)\n",
    "  return res"
   ]
  },
  {
   "cell_type": "code",
   "execution_count": 9,
   "metadata": {
    "colab": {
     "base_uri": "https://localhost:8080/"
    },
    "colab_type": "code",
    "id": "jl9T_gg_f_VX",
    "outputId": "1db2dd54-45c3-4cb5-fe65-fb187876ce56"
   },
   "outputs": [
    {
     "name": "stdout",
     "output_type": "stream",
     "text": [
      "排序前：[6465, 7769, 2335, 336, 1205, 2356, 6660, 190, 7630, 4522, 45, 1181, 4025, 3206, 6371, 4290, 2772, 4890, 2593, 9225]\n",
      "排序后：[45, 190, 336, 1181, 1205, 2335, 2356, 2593, 2772, 3206, 4025, 4290, 4522, 4890, 6371, 6465, 6660, 7630, 7769, 9225]\n"
     ]
    }
   ],
   "source": [
    "A = [random.randint(0, 10000) for index in range(20)]\n",
    "print('排序前：{}'.format(A))\n",
    "print('排序后：{}'.format(variable_length_num_sort(A)))"
   ]
  },
  {
   "cell_type": "markdown",
   "metadata": {
    "colab_type": "text",
    "id": "5tGL0HHjgQ_p"
   },
   "source": [
    "#### b. 不定长字符串的排序"
   ]
  },
  {
   "cell_type": "markdown",
   "metadata": {
    "colab_type": "text",
    "id": "TFVqNhj6wxbD"
   },
   "source": [
    "- 基本思路\n",
    "  1. 按照首字母将字符串放入 26 个桶中\n",
    "  2. 遍历各个桶，如果每个桶中的元素数目大于1，则去掉每个元素的首字母后，再继续步骤 1 中的操作\n",
    "  3. 实际操作时，可以用递归来简化代码书写。"
   ]
  },
  {
   "cell_type": "code",
   "execution_count": 10,
   "metadata": {
    "colab": {},
    "colab_type": "code",
    "id": "Pt9QLqFYg2eF"
   },
   "outputs": [],
   "source": [
    "def variable_length_string_sort(A, depth=1):\n",
    "  B =[[] for index in range(27)]  # 0 表示长度不符合当前要求\n",
    "  for item in A:\n",
    "    if len(item) >= depth:\n",
    "      B[ord(item[depth-1]) - ord('a') + 1].append(item)\n",
    "    else:\n",
    "      B[0].append(item)\n",
    "  for index in range(1, len(B)):  # python 的切片是浅拷贝，此外不能用 for item in B[1:]\n",
    "    if len(B[index]) > 1:\n",
    "      B[index] = variable_length_string_sort(B[index], depth + 1)\n",
    "  res = []\n",
    "  for item in B:\n",
    "    res += item\n",
    "  return res\n",
    "  "
   ]
  },
  {
   "cell_type": "code",
   "execution_count": 11,
   "metadata": {
    "colab": {
     "base_uri": "https://localhost:8080/"
    },
    "colab_type": "code",
    "id": "h0nJgkdtoGLG",
    "outputId": "01670122-7e87-4b02-d76e-df99fa49e90c"
   },
   "outputs": [
    {
     "name": "stdout",
     "output_type": "stream",
     "text": [
      "['a', 'ab', 'abc', 'b', 'c', 'cde', 'xy', 'z', 'za']\n"
     ]
    }
   ],
   "source": [
    "A = ['z', 'xy', 'a', 'abc', 'ab', 'b', 'cde', 'c', 'za']\n",
    "print(variable_length_string_sort(A))"
   ]
  },
  {
   "cell_type": "markdown",
   "metadata": {
    "colab_type": "text",
    "id": "fhH-1Bp7mim2"
   },
   "source": [
    "### 8-4 水壶"
   ]
  },
  {
   "cell_type": "markdown",
   "metadata": {
    "colab_type": "text",
    "heading_collapsed": true,
    "id": "4WI6c_Otmlzt"
   },
   "source": [
    "#### a 确定性算法, $O(n^2)$ 内完成配对"
   ]
  },
  {
   "cell_type": "markdown",
   "metadata": {
    "colab_type": "text",
    "hidden": true,
    "id": "RQlOS2fcnCRv"
   },
   "source": [
    "- 基本思路  \n",
    "  - 采取暴力解法，即每次选中一个红色水壶，然后遍历蓝色水壶去寻找配对项\n",
    "  - 设共有 $n$ 对水壶，则最坏情况下的需要花费的时间为： $$T(n)=n + (n-1) + (n-2) + \\dots + 2 = O(n^2)$$"
   ]
  },
  {
   "cell_type": "markdown",
   "metadata": {
    "colab_type": "text",
    "hidden": true,
    "id": "URyP0x_LmyC_"
   },
   "source": [
    "- 代码实现  \n",
    "  - $R$ 表示红色水壶， $B$ 表示蓝色水壶，则根据限制条件，$R, B$ 中的元素本身不能相互比较，但是 $R, B$ 中的元素可以互相比较\n",
    "  - $R, B$ 中元素相同，但是顺序不同\n",
    "  - 程序运行结束后，$R$, $B$ 中的元素顺序完全相同，其中 $R$ 中的元素顺序保持不变，可以看做是确性性算法"
   ]
  },
  {
   "cell_type": "code",
   "execution_count": 12,
   "metadata": {
    "colab": {},
    "colab_type": "code",
    "hidden": true,
    "id": "d-4jlyBNn9rK"
   },
   "outputs": [],
   "source": [
    "def water_jugs_pairing_brute(R, B):\n",
    "  for i in range(len(R) - 1):\n",
    "    for j in range(i, len(B)):\n",
    "      if R[i] == B[j]:\n",
    "        B[i], B[j] = B[j], B[i]\n",
    "        break"
   ]
  },
  {
   "cell_type": "code",
   "execution_count": 13,
   "metadata": {
    "colab": {
     "base_uri": "https://localhost:8080/",
     "height": 118
    },
    "colab_type": "code",
    "hidden": true,
    "id": "dM0CfRPgrhdp",
    "outputId": "8bfda7b5-0e71-4637-b5d5-0f665e15a605"
   },
   "outputs": [
    {
     "name": "stdout",
     "output_type": "stream",
     "text": [
      "配对前:\n",
      " R = [88, 26, 75, 52, 0, 90, 43, 70, 42, 2] \n",
      " B = [88, 26, 90, 52, 42, 43, 70, 2, 75, 0]\n",
      "配对后:\n",
      " R = [88, 26, 75, 52, 0, 90, 43, 70, 42, 2] \n",
      " B = [88, 26, 75, 52, 0, 90, 43, 70, 42, 2]\n"
     ]
    }
   ],
   "source": [
    "R = random.sample(range(100), 10)\n",
    "B = random.sample(R, 10)\n",
    "print(\"配对前:\\n R = {} \\n B = {}\".format(R, B))\n",
    "water_jugs_pairing_brute(R, B)\n",
    "print(\"配对后:\\n R = {} \\n B = {}\".format(R, B))"
   ]
  },
  {
   "cell_type": "markdown",
   "metadata": {
    "colab_type": "text",
    "id": "gv8GTVEHrpB4"
   },
   "source": [
    "#### c. 确定性算法， 期望比较次数为 $O(nlgn)$"
   ]
  },
  {
   "cell_type": "markdown",
   "metadata": {
    "colab_type": "text",
    "id": "1RD_6MgUrvfI"
   },
   "source": [
    "- 基本思路  \n",
    "  1. 采用与快速排序类似的方法，从 $R$ 中随机选择主元，然后将 $B$ 中元素分为左右两组，左边的均小于主元，右边的均大于主元。中间位置的是 $B$ 中与 $R$ 中的主元相同的元素\n",
    "  2. 再用 1 中求得的 $B$ 中的主元元素去对 $R$ 中的元素进行分组\n",
    "  3. 递归的对左右数组分别运行1，2 中算法  \n",
    "    - 因为经过 1，2 步后， $R$ 中左边数组对应的匹配项一定会在 $B$ 中的左边数组中\n",
    "- 期望的比较次数是快排的两倍，但是其上界仍然为 $O(nlgn)$"
   ]
  },
  {
   "cell_type": "code",
   "execution_count": 14,
   "metadata": {
    "colab": {},
    "colab_type": "code",
    "id": "yvLwWJyDrMQK"
   },
   "outputs": [],
   "source": [
    "def partition_with_given_key(A, p, r, key):\n",
    "  \"\"\"按照选定的主元对数组分组\"\"\"\n",
    "  q = p - 1\n",
    "  for j in range(p, r+1):\n",
    "    if A[j] < key:\n",
    "      q += 1\n",
    "      A[q], A[j] = A[j], A[q]\n",
    "    elif A[j] == key:\n",
    "      q += 1\n",
    "      foo = A[j]\n",
    "      A[j] = A[q]\n",
    "      A[q] = A[p]\n",
    "      A[p] = foo\n",
    "  A[q], A[p] = A[p], A[q]\n",
    "  return q\n",
    "\n",
    "\n",
    "def water_jugs_pairing_quicksort(R, B, p, r):\n",
    "  \"\"\"按快排的思想寻找所有匹配的水壶\"\"\"\n",
    "  if p < r:\n",
    "    i = random.randint(p, r)\n",
    "    q = partition_with_given_key(B, p, r, R[i])  # 以 R 中的元素为主元对 B 进行分组\n",
    "    q = partition_with_given_key(R, p, r, B[q])  # 以 B 中的元素为主元对 R 进行分组\n",
    "    water_jugs_pairing_quicksort(R, B, p, q-1)\n",
    "    water_jugs_pairing_quicksort(R, B, q+1, r)"
   ]
  },
  {
   "cell_type": "code",
   "execution_count": 15,
   "metadata": {
    "colab": {
     "base_uri": "https://localhost:8080/",
     "height": 125
    },
    "colab_type": "code",
    "id": "XIhvYXhq1Bny",
    "outputId": "33163ca5-85ff-400e-8748-fe7d69a95eef"
   },
   "outputs": [
    {
     "name": "stdout",
     "output_type": "stream",
     "text": [
      "配对前:\n",
      " R = [68, 80, 55, 0, 64, 95, 99, 20, 40, 1] \n",
      " B = [99, 55, 0, 20, 68, 1, 64, 40, 95, 80]\n",
      "配对后:\n",
      " R = [0, 1, 20, 40, 55, 64, 68, 80, 95, 99] \n",
      " B = [0, 1, 20, 40, 55, 64, 68, 80, 95, 99]\n"
     ]
    }
   ],
   "source": [
    "size = 10\n",
    "R = random.sample(range(100), size)\n",
    "B = random.sample(R, size)\n",
    "print(\"配对前:\\n R = {} \\n B = {}\".format(R, B))\n",
    "water_jugs_pairing_quicksort(R, B, 0, len(R)-1)\n",
    "print(\"配对后:\\n R = {} \\n B = {}\".format(R, B))"
   ]
  },
  {
   "cell_type": "markdown",
   "metadata": {
    "colab_type": "text",
    "id": "pR_msImFSlCm"
   },
   "source": [
    "### 8-5 平均排序"
   ]
  },
  {
   "cell_type": "markdown",
   "metadata": {
    "colab_type": "text",
    "id": "gdLDJbyYSqsH"
   },
   "source": [
    "- 平均排序要求数组中的元素在平均情况下是升序的\n",
    "- k 排序的定义  \n",
    "  - $$ {\\sum \\limits ^{i+k-1} \\limits_{j=i}{A[j]} \\over k} \\le  \n",
    "      {\\sum \\limits ^{i+k} \\limits_{j=i+1}{A[j]} \\over k} \\quad\\quad i = 1, 2, \\cdots, n-k\n",
    "  $$  \n",
    "  - 减去左，右累加式中的相同项，可得: $$A[i] \\le A[i+k] \\quad\\quad i = 1, 2, \\cdots, n-k \\tag{8-5, 1}$$"
   ]
  },
  {
   "cell_type": "markdown",
   "metadata": {
    "colab_type": "text",
    "id": "WIkcODc-quxd"
   },
   "source": [
    "#### d. 在 $O(nlg(n/k))$ 的时间内对一个包含 $n$ 个元素的数组进行 $k$ 排序"
   ]
  },
  {
   "cell_type": "markdown",
   "metadata": {
    "colab_type": "text",
    "id": "iiuUMQpErBMY"
   },
   "source": [
    "- 基本思路：\n",
    "  - 借助快速排序，将递归的判断条件由 $p < r$ 改为 $r - p > k$ 即可"
   ]
  },
  {
   "cell_type": "markdown",
   "metadata": {
    "colab_type": "text",
    "id": "S5a2YM7Isang"
   },
   "source": [
    "##### 代码实现"
   ]
  },
  {
   "cell_type": "code",
   "execution_count": 16,
   "metadata": {
    "colab": {},
    "colab_type": "code",
    "id": "73bBNaX1serL"
   },
   "outputs": [],
   "source": [
    "def partition(A, p, r):\n",
    "  i = random.randint(p, r)\n",
    "  A[r], A[i] = A[i], A[r]\n",
    "  q = p - 1\n",
    "  for j in range(p, r):\n",
    "    if A[j] < A[r]:\n",
    "      q += 1\n",
    "      A[q], A[j] = A[j], A[q]\n",
    "  A[q+1], A[r] = A[r], A[q+1]\n",
    "  return q+1\n",
    "\n",
    "def k_sort(A, p, r, k):\n",
    "  while r - p > k:  # 使用尾递归减小栈深度\n",
    "    q = partition(A, p, r)\n",
    "    k_sort(A, p, q-1, k)\n",
    "    p = q + 1"
   ]
  },
  {
   "cell_type": "code",
   "execution_count": 17,
   "metadata": {
    "colab": {
     "base_uri": "https://localhost:8080/",
     "height": 89
    },
    "colab_type": "code",
    "id": "rEFLrLOeulS2",
    "outputId": "003db3a3-4d45-48c0-e3ba-40dcfc3ba838"
   },
   "outputs": [
    {
     "name": "stdout",
     "output_type": "stream",
     "text": [
      "排序前:\n",
      " A = [92, 65, 17, 20, 6, 0, 85, 98, 47, 81, 84, 27, 12, 64, 35]\n",
      "k 排序后:\n",
      " A = [6, 0, 12, 20, 17, 27, 35, 47, 64, 65, 81, 92, 85, 98, 84]\n"
     ]
    }
   ],
   "source": [
    "A = random.sample(range(100), 15)\n",
    "print(\"排序前:\\n A = {}\".format(A))\n",
    "k = 3\n",
    "k_sort(A, 0, len(A)-1, k)\n",
    "print(\"k 排序后:\\n A = {}\".format(A))"
   ]
  },
  {
   "cell_type": "markdown",
   "metadata": {
    "colab_type": "text",
    "id": "h67ewAEvvGwz"
   },
   "source": [
    "#### e. 在 $O(nlg(k))$ 的时间内对一个长度为 $n$ 的 $k$ 排序数组进行全排序"
   ]
  },
  {
   "cell_type": "markdown",
   "metadata": {
    "colab_type": "text",
    "id": "piTLRQ3ev5gX"
   },
   "source": [
    "1. 借助公式 $(8-5,1)$ 中的性质，将 $k$ 排序后的数组 $A$，分为 $k$ 个有序链表  \n",
    "  - 分别为 $$\n",
    "  \\{A[1] \\rightarrow A[k + 1] \\rightarrow A[2k + 1] \\rightarrow \\cdots \\rightarrow A[\\lfloor n/k \\rfloor]k + 1 \\}\\\\\n",
    "  \\{A[2] \\rightarrow A[k + 2] \\rightarrow A[2k + 2] \\rightarrow \\cdots \\rightarrow A[\\lfloor n/k \\rfloor]k + 2 \\}\\\\\n",
    "  \\vdots \\\\\n",
    "  \\{A[k] \\rightarrow A[k + k] \\rightarrow A[2k + k] \\rightarrow \\cdots \\rightarrow A[\\lfloor n/k \\rfloor]k + k \\}\\\\\n",
    "   $$\n",
    "  - 每一个链表的最后一个元素可能不存在，但是 $k$ 个链表总的元素数为 $n$  \n",
    "2. 组合成 $k$ 个有序列表后，即可借助 6.5-9 中堆排序的性质进行合并  \n",
    "- 复杂度分析\n",
    "  - 1 中的时间复杂度为 $O(n)$, 2 中的时间复杂度为 $O(nlg(k))$, 总的时间复杂度为 $O(nlg(k))$"
   ]
  },
  {
   "cell_type": "markdown",
   "metadata": {
    "colab_type": "text",
    "id": "g8_j7MrMwQc0"
   },
   "source": [
    "##### 代码实现"
   ]
  },
  {
   "cell_type": "markdown",
   "metadata": {
    "colab_type": "text",
    "id": "b2alhDQ_7tBo"
   },
   "source": [
    "###### 链表类"
   ]
  },
  {
   "cell_type": "code",
   "execution_count": 18,
   "metadata": {
    "colab": {},
    "colab_type": "code",
    "id": "n8wrdsa47PCU"
   },
   "outputs": [],
   "source": [
    "@total_ordering\n",
    "class LinkedNode():\n",
    "    def __init__(self, value=0, next=None):\n",
    "        self.value = value\n",
    "        self.next = next\n",
    "        \n",
    "    def __eq__(self, other):\n",
    "      try:\n",
    "        return self.value == other.value\n",
    "      except AttributeError:\n",
    "        return self.value == other\n",
    "    \n",
    "    def __lt__(self, other):\n",
    "      try:\n",
    "        return self.value < other.value\n",
    "      except AttributeError:\n",
    "        return self.value < other"
   ]
  },
  {
   "cell_type": "markdown",
   "metadata": {
    "colab_type": "text",
    "heading_collapsed": true,
    "id": "qbF_bJy97wZJ"
   },
   "source": [
    "###### 最小堆的相关函数"
   ]
  },
  {
   "cell_type": "code",
   "execution_count": 19,
   "metadata": {
    "colab": {},
    "colab_type": "code",
    "hidden": true,
    "id": "flxKnSqy70U7"
   },
   "outputs": [],
   "source": [
    "class Heap(list):\n",
    "    \"\"\"继承 python 内置的 list 类型，并添加堆的属性\"\"\"\n",
    "    def __init__(self, array, heap_size=None, d=2):\n",
    "        list.__init__(self, array)\n",
    "        self.heap_size = len(array) if heap_size is None else heap_size\n",
    "        self.d = d  # d 叉堆\n",
    "\n",
    "\n",
    "def parent(i):\n",
    "    return (i-1) >> 1\n",
    "\n",
    "\n",
    "def left(i):\n",
    "    return (i << 1) + 1\n",
    "\n",
    "\n",
    "def right(i):\n",
    "    return (i << 1) + 1\n",
    "\n",
    "\n",
    "def mini_heapify(A, i):\n",
    "    l = left(i)\n",
    "    r = right(i)\n",
    "    smallest = i\n",
    "    if l < A.heap_size and A[l] < A[smallest]:\n",
    "        smallest = l\n",
    "    if r < A.heap_size and A[r] < A[smallest]:\n",
    "        smallest = r\n",
    "    if smallest != i:\n",
    "        A[smallest], A[i] = A[i], A[smallest]\n",
    "        mini_heapify(A, smallest)\n",
    "\n",
    "\n",
    "def heap_extract_min(A):\n",
    "  if A.heap_size < 1:\n",
    "    raise Exception(\"heap underflow\")\n",
    "  mini = A[0]\n",
    "  A.heap_size -= 1\n",
    "  A[0] = A[A.heap_size]\n",
    "  mini_heapify(A, 0)\n",
    "  return mini\n",
    "\n",
    "\n",
    "def build_mini_heap(A):\n",
    "    for i in reversed(range(A.heap_size // 2)):\n",
    "        mini_heapify(A, i)\n",
    "\n",
    "\n",
    "def mini_heap_insert(A, key):\n",
    "  A.heap_size += 1\n",
    "  if A.heap_size > len(A):\n",
    "    A.append(float('inf'))\n",
    "  else:\n",
    "    A[A.heap_size - 1] = float('inf')\n",
    "  heap_decrease_key(A, A.heap_size-1, key)\n",
    "\n",
    "\n",
    "def heap_decrease_key(A, i, key):\n",
    "  if not(0 <= i < A.heap_size):\n",
    "    raise Exception('List out of range!')\n",
    "  if A[i] < key:\n",
    "    raise Exception('new key is bigger than current key!')\n",
    "  A[i] = key\n",
    "  while i > 0 and A[parent(i)] > key:\n",
    "    A[i] = A[parent(i)]\n",
    "    i = parent(i)\n",
    "  A[i] = key"
   ]
  },
  {
   "cell_type": "markdown",
   "metadata": {
    "colab_type": "text",
    "heading_collapsed": true,
    "id": "PIu_ccmM8YNd"
   },
   "source": [
    "###### 合并多个链表"
   ]
  },
  {
   "cell_type": "code",
   "execution_count": 20,
   "metadata": {
    "colab": {},
    "colab_type": "code",
    "hidden": true,
    "id": "mmohwgHk8Z9y"
   },
   "outputs": [],
   "source": [
    "def merge_sorted_linked_list(linked_lists):\n",
    "    \"\"\"\n",
    "    合并多个有序链表，返回结果会打乱原有链表的顺序\n",
    "    \n",
    "    Args:\n",
    "        linked_lists [list]: 多个有序的链表组成的列表\n",
    "    Returns:\n",
    "        sorted_linked_list [LinkedNode]: 排序后的链表\n",
    "    \"\"\"\n",
    "    A = Heap(linked_lists)\n",
    "    build_mini_heap(A)\n",
    "    cur = first = LinkedNode(-float('inf'))\n",
    "    while A.heap_size > 0:\n",
    "        cur.next = heap_extract_min(A)\n",
    "        cur = cur.next\n",
    "        if cur.next is not None:\n",
    "            mini_heap_insert(A, cur.next)\n",
    "    return first.next"
   ]
  },
  {
   "cell_type": "markdown",
   "metadata": {
    "colab_type": "text",
    "heading_collapsed": true,
    "id": "Z9MI-g3D9GRW"
   },
   "source": [
    "###### 将一个 $k$ 排序的数组转换为 $k$ 个已排序的链表组成的列表"
   ]
  },
  {
   "cell_type": "code",
   "execution_count": 21,
   "metadata": {
    "colab": {},
    "colab_type": "code",
    "hidden": true,
    "id": "TO-zpJXT9O7a"
   },
   "outputs": [],
   "source": [
    "def k_sort_array_into_linked_lists(A, k):\n",
    "  \"\"\" 将一个 k　排序的数组，转换为 k 个链表\n",
    "\n",
    "  Args:\n",
    "    A [list]: k 排序的数组\n",
    "  Returns:\n",
    "    linked_lists [List]: 长度为 k 的列表，每个元素表示一个链表\n",
    "  \"\"\"\n",
    "  linked_lists = [LinkedNode(-float('inf')) for i in range(k)]\n",
    "  n = len(A)\n",
    "  for i in range(k):\n",
    "    cursor = linked_lists[i]\n",
    "    for j in range(n//k):\n",
    "      cursor.next = LinkedNode(A[j * k + i])\n",
    "      cursor = cursor.next\n",
    "    if n // k * k + i < n:\n",
    "      cursor.next = LinkedNode(A[n // k * k + i])\n",
    "    linked_lists[i] = linked_lists[i].next\n",
    "  return linked_lists\n"
   ]
  },
  {
   "cell_type": "markdown",
   "metadata": {
    "colab_type": "text",
    "id": "rwY4N0TW99KB"
   },
   "source": [
    "##### 主程序"
   ]
  },
  {
   "cell_type": "code",
   "execution_count": 22,
   "metadata": {
    "colab": {},
    "colab_type": "code",
    "id": "SoTjF0lLBhl5"
   },
   "outputs": [],
   "source": [
    "def sort_k_sort_array(A, k):\n",
    "  linked_lists = k_sort_array_into_linked_lists(A, k)\n",
    "  return merge_sorted_linked_list(linked_lists)"
   ]
  },
  {
   "cell_type": "code",
   "execution_count": 24,
   "metadata": {
    "colab": {
     "base_uri": "https://localhost:8080/",
     "height": 125
    },
    "colab_type": "code",
    "id": "W3T7vDdTB-Q7",
    "outputId": "40e61325-97e7-4ebb-9321-6db980d6d3a4"
   },
   "outputs": [
    {
     "name": "stdout",
     "output_type": "stream",
     "text": [
      "排序前:\n",
      " A = [91, 86, 41, 21, 95, 43, 99, 72, 51, 79, 28, 74, 63, 76, 31]\n",
      "k 排序后:\n",
      " A = [21, 41, 28, 31, 43, 51, 63, 76, 74, 72, 79, 86, 99, 95, 91]\n",
      "完全排序后： \n",
      "21 -> 28 -> 31 -> 41 -> 43 -> 51 -> 63 -> 72 -> 74 -> 76 -> 79 -> 86 -> 91 -> 95 -> 99 -> None\n"
     ]
    }
   ],
   "source": [
    "A = random.sample(range(100), 15)\n",
    "print(\"排序前:\\n A = {}\".format(A))\n",
    "k = 3\n",
    "k_sort(A, 0, len(A)-1, k)\n",
    "print(\"k 排序后:\\n A = {}\".format(A))\n",
    "linked_node = sort_k_sort_array(A, k)\n",
    "print(\"完全排序后： \")\n",
    "cursor = linked_node\n",
    "while cursor is not None:\n",
    "  print(cursor.value, end=\" -> \")\n",
    "  cursor = cursor.next\n",
    "print('None')"
   ]
  },
  {
   "cell_type": "markdown",
   "metadata": {},
   "source": [
    "#### 证明 $k$ 为常数时，对包含 $n$ 个元素的数组 $k$ 排序，需要 $\\Omega(nlgn)$ 的时间"
   ]
  },
  {
   "cell_type": "markdown",
   "metadata": {},
   "source": [
    "- 不妨设数组中元素互异，设对 $n$ 个元素进行 $k$ 排序，共有 $S$ 种可能，则：\n",
    "$$ \\begin{aligned}\n",
    "S &= C_{n}^{k} \\times C_{n-k}^{k} \\times  C_{n-2k}^{k} \\cdots C_{n - (\\lfloor n/k \\rfloor - 1) k }^k \\\\\n",
    "&={n! \\over {k!(n-k)!}} \\times {(n-k)! \\over {k!(n-2k)!}} \\times {(n-2k)! \\over {k!(n-3k)!}} \\times \\cdots \\times\n",
    " {(n-(\\lfloor n/k \\rfloor - 1)k)! \\over {k!(n-(\\lfloor n/k \\rfloor)k)!}} \\\\\n",
    " &={n! \\over{{k!}^{\\lfloor n/k \\rfloor}} (n-(\\lfloor n/k \\rfloor)k)!}\n",
    "\\end{aligned}\n",
    "$$  \n",
    "  - 其中分母中的 $(n-(\\lfloor n/k \\rfloor)k)! \\in [0, k!)$， 设其为常数 $C$\n",
    "- 设比较决策树的高度为 $h$,则根据二叉树性质，可得：  \n",
    "$$\n",
    "2^h \\ge S = {n! \\over{{k!}^{\\lfloor n/k \\rfloor}} C}\n",
    "$$  \n",
    "  - 由此式可得：\n",
    "  $$h \\ge lg({n! \\over{{k!}^{\\lfloor n/k \\rfloor}} C})\n",
    "  = lg(n!) - \\lfloor n/k \\rfloor lg{k!} - lgC  \n",
    "  $$  \n",
    "    - 由于 $k$ 为常数，且 $lg(n!)=\\Omega(nlgn)$, 可得：\n",
    "    $$h=\\Omega(nlgn)$$  \n",
    "- 算法的最差运行时间即为决策树的高度，所以可证得 $k$ 排序需要 $\\Omega(nlgn)$ 的时间"
   ]
  },
  {
   "cell_type": "code",
   "execution_count": null,
   "metadata": {},
   "outputs": [],
   "source": []
  }
 ],
 "metadata": {
  "colab": {
   "name": "第  8 章： 线性时间排序.ipynb",
   "provenance": []
  },
  "kernelspec": {
   "display_name": "Python 3",
   "language": "python",
   "name": "python3"
  },
  "language_info": {
   "codemirror_mode": {
    "name": "ipython",
    "version": 3
   },
   "file_extension": ".py",
   "mimetype": "text/x-python",
   "name": "python",
   "nbconvert_exporter": "python",
   "pygments_lexer": "ipython3",
   "version": "3.7.3"
  }
 },
 "nbformat": 4,
 "nbformat_minor": 1
}
