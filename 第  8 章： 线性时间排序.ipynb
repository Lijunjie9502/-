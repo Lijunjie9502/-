{
 "cells": [
  {
   "cell_type": "code",
   "execution_count": 1,
   "metadata": {
    "colab": {},
    "colab_type": "code",
    "id": "D550c0I0xvHF"
   },
   "outputs": [],
   "source": [
    "import random, math"
   ]
  },
  {
   "cell_type": "markdown",
   "metadata": {
    "colab_type": "text",
    "id": "rKkpATYMCwi2"
   },
   "source": [
    "## 8.1 比较排序算法的下界"
   ]
  },
  {
   "cell_type": "markdown",
   "metadata": {
    "colab_type": "text",
    "id": "k5S8ITbyC3Ey"
   },
   "source": [
    "- 比较排序的概念  \n",
    "  + **各元素在排序的最终结果中的次序，依赖于它们之间的比较**\n",
    "  + 除了两个元素相比较之外，不能用其它的方法观察元素的值或者它们之间的次序信息"
   ]
  },
  {
   "cell_type": "markdown",
   "metadata": {
    "colab_type": "text",
    "id": "h-V-t35LD6Fa"
   },
   "source": [
    "### 决策树模型   "
   ]
  },
  {
   "cell_type": "markdown",
   "metadata": {
    "colab_type": "text",
    "id": "lSxUz5v2GIeA"
   },
   "source": [
    "+ 决策树是一颗满二叉树( full binary tree )\n",
    "  * 满二叉树是指二叉树的每个节点，要么有 2 个子节点，要么有 0 个子节点  \n",
    "    - <img src=https://raw.githubusercontent.com/Lijunjie9502/PicBed/master/20191221093327.png>"
   ]
  },
  {
   "cell_type": "markdown",
   "metadata": {
    "colab_type": "text",
    "id": "GQVFsuXrGfU7"
   },
   "source": [
    "- 排序算法的决策树  \n",
    "  - 图示  \n",
    "    -  <img src=https://raw.githubusercontent.com/Lijunjie9502/PicBed/master/20191221093908.png width=400>\n",
    "  - 每个叶结点是输入的一种可能的排列\n",
    "  - 每个叶结点都可由根节点，经由某条路径到达，该路径对应于比较排序的一次实际执行过程"
   ]
  },
  {
   "cell_type": "markdown",
   "metadata": {
    "colab_type": "text",
    "id": "5ZD3WFlSIuU3"
   },
   "source": [
    "### 最坏情况的下界"
   ]
  },
  {
   "cell_type": "markdown",
   "metadata": {
    "colab_type": "text",
    "id": "ZlmxiI48I1Tu"
   },
   "source": [
    "- 一个比较排序算法中最坏情况的比较次数等于其决策树的高度"
   ]
  },
  {
   "cell_type": "markdown",
   "metadata": {
    "colab_type": "text",
    "id": "guA-R0d1JhgD"
   },
   "source": [
    "- **定理 8.1** 在最坏的情况下，任何比较排序算法都需要做 $\\Omega(nlgn)$ 次比较  \n",
    "  - 设叶子节点的数目为 $l$，输入数据的 $n!$ 种可能的排列都是叶结点，一颗高为 $h$ 的二叉树中，叶结点的数目不多于 $2^h$\n",
    "    - $$ n! \\le l \\le 2^h \\rightarrow h \\ge lg(n!) = \\Omega(nlgn)$$\n"
   ]
  },
  {
   "cell_type": "markdown",
   "metadata": {
    "colab_type": "text",
    "id": "HMrnlCaHK7lW"
   },
   "source": [
    "- **推论 8.2** 堆排序和归并排序的运行时间上界为 $O(nlgn)$,都是渐近最优的比较排序算法"
   ]
  },
  {
   "cell_type": "markdown",
   "metadata": {
    "colab_type": "text",
    "id": "go8WOaRvmGPE"
   },
   "source": [
    "## 8.2 计数排序"
   ]
  },
  {
   "cell_type": "markdown",
   "metadata": {
    "colab_type": "text",
    "id": "-zMLnomHsCfm"
   },
   "source": [
    "- 假设 $n$ 个输入元素都是在 $[0, k]$ 区间内的一个整数\n",
    "- 基本思想  \n",
    "  - 假设元素互异，则以于每一个输入 $x$， 只需要确认小于 $x$ 的元素的个数，即可直接将 $x$ 放到输出数组的位置上\n",
    "  - 当几个元素相同时，需要对方案进行相应的修改\n",
    "- 时间复杂度为 $\\Theta(n + k)$\n",
    "- **稳定** 是计数排序的一个重要性质  \n",
    "  - 稳定性是指具有相同值的元素在输出数组中的相对次序与它们在输入数组中的相对次序相同\n",
    "  - 当进和排序的数据，还附带有卫星数据时，稳定性比较重要"
   ]
  },
  {
   "cell_type": "markdown",
   "metadata": {
    "colab_type": "text",
    "id": "BLAAropUuD07"
   },
   "source": [
    "### <span id=\"jump\">代码实现</span>"
   ]
  },
  {
   "cell_type": "code",
   "execution_count": 2,
   "metadata": {
    "colab": {},
    "colab_type": "code",
    "id": "bnTK5L8hv-Hm"
   },
   "outputs": [],
   "source": [
    "def counting_sort(A, k):\n",
    "  C = [0 for i in range(k+1)]\n",
    "  for i in A:\n",
    "    C[i] += 1\n",
    "  for i in range(1, len(C)):\n",
    "    C[i] += C[i-1]\n",
    "  B = [0 for i in range(len(A))]\n",
    "  for i in reversed(A):\n",
    "    B[C[i] - 1] = i\n",
    "    C[i] -= 1\n",
    "  return B"
   ]
  },
  {
   "cell_type": "code",
   "execution_count": 3,
   "metadata": {
    "colab": {
     "base_uri": "https://localhost:8080/",
     "height": 0
    },
    "colab_type": "code",
    "id": "kHu0O9NcxpEH",
    "outputId": "d8d180bd-fcc0-4cb7-f4fc-50cf376ca41c"
   },
   "outputs": [
    {
     "name": "stdout",
     "output_type": "stream",
     "text": [
      "排序前：[2, 5, 3, 0, 2, 3, 0, 3]\n",
      "排序后：[0, 0, 2, 2, 3, 3, 3, 5]\n"
     ]
    }
   ],
   "source": [
    "k = 5\n",
    "A = [2, 5, 3, 0, 2, 3, 0, 3]\n",
    "print('排序前：{}'.format(A))\n",
    "print('排序后：{}'.format(counting_sort(A, k)))"
   ]
  },
  {
   "cell_type": "markdown",
   "metadata": {
    "colab_type": "text",
    "id": "CWPFN-sXyAHz"
   },
   "source": [
    "### 执行过程"
   ]
  },
  {
   "cell_type": "markdown",
   "metadata": {
    "colab_type": "text",
    "id": "ySXdG2xs1BQ8"
   },
   "source": [
    "- <img src=https://raw.githubusercontent.com/Lijunjie9502/PicBed/master/20191221174100.png width=600>"
   ]
  },
  {
   "cell_type": "markdown",
   "metadata": {
    "colab_type": "text",
    "id": "YRblnU0a2bIu"
   },
   "source": [
    "## 8.3 基数排序"
   ]
  },
  {
   "cell_type": "markdown",
   "metadata": {
    "colab_type": "text",
    "id": "fAR4X4zi2d2g"
   },
   "source": [
    "- 基数排序是一种用在卡片排序机上的算法\n",
    "- 基数排序是先按最低有效位进行排序来解决卡片排序问题的  \n",
    "  - <img src=https://raw.githubusercontent.com/Lijunjie9502/PicBed/master/20191221175908.png width=300>\n",
    "- 为了确保基数排序的正确性，一位数的排序算法必须是稳定的\n",
    "- 实际应用  \n",
    "  - 按年，月，日对日期进行排序\n"
   ]
  },
  {
   "cell_type": "markdown",
   "metadata": {
    "colab_type": "text",
    "id": "NKht9Rxr5lJt"
   },
   "source": [
    "**引理8-3：** 给定 $n$ 个 $d$ 位数，其中每一个数位有 $k$ 个可能的取值。如果基数排序使用的一位数稳定排序算法耗时 $\\Theta(n+k)$，那么\n",
    "可以在 $\\Theta(d(n+k))$ 的时间内完成排序  \n",
    "  - 当 $d$ 为常数且 $k=O(n)$ 时，基数排序具有线性的时间代价\n",
    "  - 更一般的情况下，可以灵活的决定如何将关键字分解为若干位"
   ]
  },
  {
   "cell_type": "markdown",
   "metadata": {
    "colab_type": "text",
    "id": "hXMsmEN86xha"
   },
   "source": [
    "**引理8.4** 给定 $n$ 个 $b$ 位数(二进制)和任何的正整数 $r \\le b$，如果基数排序使用的对数据取值区间是 $[0, k]$ 的输入进行排序\n",
    "稳定性算法的时间是 $\\Theta(n+k)$，那么它可以在 $\\Theta(b/r)(n+2^r)$ 时间内完成排序  \n",
    "  - $b < \\lfloor lg(n) \\rfloor$ 时，选 $r=b$ 时，运行时间为 $\\Theta(n)$\n",
    "  - $b \\ge \\lfloor lg(n) \\rfloor$ 时，选 $r=\\lfloor lg(n) \\rfloor$ 可以得到最优时间代价为 $\\Theta(bn/lgn)$，如果\n",
    "  $b=O(lg(n))$，则最优的时间代价为 $\\Theta(n)$\n",
    "    - 如果 $r > \\lfloor lg(n) \\rfloor$，由于分子中的 $2^r$ 增加得比分母中的 $r$ 快，所以时间代价为 $\\Omega(bn/lgn)$\n",
    "    - 如果 $ r < \\lfloor lg(n) \\rfloor$, 此时 $n+2^r=\\Theta(n)$，而 $b/r$ 会变大"
   ]
  },
  {
   "cell_type": "markdown",
   "metadata": {
    "colab_type": "text",
    "id": "zSfPVD3q8Vog"
   },
   "source": [
    "- 基数排序与快速排序的对比  \n",
    "  - 基数排序的最优运行时间可达 $\\Theta(n)$ 看上去比快速排序的期望时间 $\\Theta(nlg(n))$ 要好，但是两者隐含在 $\\Theta$ 符号后的常\n",
    "  数项是不相同的  \n",
    "  - 基数排序执行的循环次数会比快速排序少，但是每轮所耗费的时间更长\n",
    "  - 利用计算排序作为中间稳定排序算法的基数排序不是原址排序，会占用更多的缓存空间，而快速排序是原址排序"
   ]
  },
  {
   "cell_type": "markdown",
   "metadata": {
    "colab_type": "text",
    "id": "BIHdX0fZ_uWY"
   },
   "source": [
    "### 代码实现"
   ]
  },
  {
   "cell_type": "code",
   "execution_count": 4,
   "metadata": {
    "colab": {},
    "colab_type": "code",
    "id": "bbdFou74AYK0"
   },
   "outputs": [],
   "source": [
    "class NumberWithIndex():\n",
    "  \"\"\"定义一个含有原下标的类\"\"\"\n",
    "  def __init__(self, num, index):\n",
    "    self.num = num\n",
    "    self.index = index\n",
    "\n",
    "  def __index__(self):\n",
    "    return self.num\n",
    "\n",
    "def sort_digit(A, i):\n",
    "  \"\"\"按照第 i 位对数组进行排序\"\"\"\n",
    "  B = [NumberWithIndex(0, index) for index in range(len(A))]\n",
    "  for index, num in enumerate(A):\n",
    "    B[index].num = num // (10 ** (i-1)) % 10\n",
    "  B = counting_sort(B, 9)\n",
    "  C = list()\n",
    "  for item in B:\n",
    "    C.append(A[item.index])\n",
    "  return C\n",
    "    \n",
    "\n",
    "\n",
    "def radix_sort(A, d):\n",
    "  \"\"\"对于 d 位十进制数进行排序\"\"\"\n",
    "  for i in range(1, d+1):\n",
    "    A = sort_digit(A, i)\n",
    "  return A\n"
   ]
  },
  {
   "cell_type": "code",
   "execution_count": 5,
   "metadata": {
    "colab": {
     "base_uri": "https://localhost:8080/",
     "height": 0
    },
    "colab_type": "code",
    "id": "Z_8gfDyEC7Oc",
    "outputId": "77b042f7-bfb6-41e5-c3c2-dd9f530e0240"
   },
   "outputs": [
    {
     "name": "stdout",
     "output_type": "stream",
     "text": [
      "排序前: [660, 564, 785, 659, 295, 898, 602, 496, 402, 861]\n",
      "排序前: [295, 402, 496, 564, 602, 659, 660, 785, 861, 898]\n"
     ]
    }
   ],
   "source": [
    "d = 3\n",
    "A = [random.randint(10 ** (d-1), 10 ** d - 1) for i in range(10)]\n",
    "print(\"排序前: {}\".format(A))\n",
    "print(\"排序前: {}\".format(radix_sort(A, d)))"
   ]
  },
  {
   "cell_type": "markdown",
   "metadata": {
    "colab_type": "text",
    "id": "qR0DLdrcFibx"
   },
   "source": [
    "## 8.4 桶排序"
   ]
  },
  {
   "cell_type": "markdown",
   "metadata": {
    "colab_type": "text",
    "id": "8qnx5khGOyIo"
   },
   "source": [
    "- 桶排序假设输入是由一个随机过程产生，该过程将元素均匀、独立的分布在 $[0, 1)$ 区间上\n",
    "- 实现方法  \n",
    "  - 将 $[0, 1)$ 区间划分为 $n$ 个相同大小的子区间，称为桶。将 $n$ 个输入数分别放入到各个桶中\n",
    "  - 对各个桶中的数进行排序（若为列表，可选用插入排序），然后遍历各个桶，将桶中的元素取出"
   ]
  },
  {
   "cell_type": "markdown",
   "metadata": {
    "colab_type": "text",
    "id": "LHnfg1slRhuZ"
   },
   "source": [
    "### 运行时间分析"
   ]
  },
  {
   "cell_type": "markdown",
   "metadata": {
    "colab_type": "text",
    "id": "i6yr-LzFRntE"
   },
   "source": [
    "- 假设采用的是插入排序，用 $n_i$ 表示桶 $B[i]$ 中的元素个数，则桶排序运行的时间代价为：\n",
    "$$ T(n) = \\Theta(n) + \\sum^{n-1}_{i=0}{O(n^{2}_{i})}$$"
   ]
  },
  {
   "cell_type": "markdown",
   "metadata": {
    "colab_type": "text",
    "id": "hRhRM4tQSLYQ"
   },
   "source": [
    "- 桶排序的期望运行时间：\n",
    "$$E(T(n)) = \\Theta(n) + \\sum^{n-1}_{i=0}{O[n_i^2]}$$  \n",
    "  - 当输入均匀分布时，$E(n_i^2) = 2 - 1/n$，期望运行时间为 $\\Theta(n)$\n",
    "  - 如果输入不是均匀分布，但满足桶的大小的平方和与总的元素数呈线性关系，则桶排序仍然能在线性时间内完成"
   ]
  },
  {
   "cell_type": "markdown",
   "metadata": {
    "colab_type": "text",
    "id": "GI9YVL_aSl5w"
   },
   "source": [
    "### 代码实现"
   ]
  },
  {
   "cell_type": "code",
   "execution_count": 6,
   "metadata": {
    "colab": {},
    "colab_type": "code",
    "id": "9WGFCNj_TXr1"
   },
   "outputs": [],
   "source": [
    "def insertion_sort(A):\n",
    "  \"\"\"插入排序\"\"\"\n",
    "  for j in range(1, len(A)):\n",
    "    key = A[j]\n",
    "    i = j - 1\n",
    "    while i >=0 and A[i] > key:\n",
    "      A[i+1] = A[i]\n",
    "      i -= 1\n",
    "    A[i+1] = key\n",
    "\n",
    "\n",
    "def bucket_sort(A):\n",
    "  \"\"\"借助列表来实现桶排序\"\"\"\n",
    "  B = [[] for index in range(len(A))]\n",
    "  for item in A:\n",
    "    B[math.floor(len(A)*item)].append(item)\n",
    "  for item in B:\n",
    "    insertion_sort(item)\n",
    "  res = list()\n",
    "  for item in B:\n",
    "    res += item\n",
    "  return res\n"
   ]
  },
  {
   "cell_type": "code",
   "execution_count": 7,
   "metadata": {
    "colab": {
     "base_uri": "https://localhost:8080/",
     "height": 0
    },
    "colab_type": "code",
    "id": "OlD7lEpLYl0B",
    "outputId": "797d1bcc-69e9-45c5-ccbb-ea15e552f496"
   },
   "outputs": [
    {
     "name": "stdout",
     "output_type": "stream",
     "text": [
      "排序前：[0.78, 0.17, 0.39, 0.26, 0.72, 0.94, 0.21, 0.12, 0.23, 0.68]\n",
      "排序后：[0.12, 0.17, 0.21, 0.23, 0.26, 0.39, 0.68, 0.72, 0.78, 0.94]\n"
     ]
    }
   ],
   "source": [
    "A = [.78, .17, .39, .26, .72, .94, .21, .12, .23, .68]\n",
    "print('排序前：{}'.format(A))\n",
    "print('排序后：{}'.format(bucket_sort(A)))"
   ]
  },
  {
   "cell_type": "markdown",
   "metadata": {
    "colab_type": "text",
    "id": "aoXJr0umY8qR"
   },
   "source": [
    "## 练习题"
   ]
  },
  {
   "cell_type": "markdown",
   "metadata": {
    "colab_type": "text",
    "id": "B9psIWYxb0kY"
   },
   "source": [
    "### 8-3 不定长数据项的排序"
   ]
  },
  {
   "cell_type": "markdown",
   "metadata": {
    "colab_type": "text",
    "id": "xoYUgy5ab5xO"
   },
   "source": [
    "#### a. 不定长整数的排序"
   ]
  },
  {
   "cell_type": "markdown",
   "metadata": {
    "colab_type": "text",
    "id": "RH4WUnIWciWt"
   },
   "source": [
    "基本思路： \n",
    "  - 设最大整数的位数为 $d$，创建 $d$ 个桶，每个桶中装入位数相同的元素\n",
    "  - 对每个桶中的元素进行基数排序"
   ]
  },
  {
   "cell_type": "code",
   "execution_count": 8,
   "metadata": {
    "colab": {},
    "colab_type": "code",
    "id": "Hy7rQW8uc8a9"
   },
   "outputs": [],
   "source": [
    "def get_digits(num):\n",
    "  \"\"\"获取一个整数的最大位数\"\"\"\n",
    "  digits = 0\n",
    "  while num > 0:\n",
    "    digits += 1\n",
    "    num //= 10\n",
    "  return digits\n",
    "\n",
    "def variable_length_num_sort(A):\n",
    "  \"\"\"不定长整数的排序\"\"\"\n",
    "  max_digits = 0\n",
    "  digits_list = []\n",
    "  for item in A:\n",
    "    digits_list.append(get_digits(item)) \n",
    "    if max_digits < digits_list[-1]:\n",
    "      max_digits = digits_list[-1]\n",
    "  B = [[] for item in range(max_digits)]\n",
    "  for index, item in enumerate(digits_list):\n",
    "    B[item-1].append(A[index])\n",
    "  res = []\n",
    "  for index, item in enumerate(B):\n",
    "    res += radix_sort(item, index+1)\n",
    "  return res"
   ]
  },
  {
   "cell_type": "code",
   "execution_count": 9,
   "metadata": {
    "colab": {
     "base_uri": "https://localhost:8080/",
     "height": 0
    },
    "colab_type": "code",
    "id": "jl9T_gg_f_VX",
    "outputId": "1db2dd54-45c3-4cb5-fe65-fb187876ce56"
   },
   "outputs": [
    {
     "name": "stdout",
     "output_type": "stream",
     "text": [
      "排序前：[2028, 5193, 4273, 980, 7399, 6883, 7551, 1512, 6290, 9954, 2137, 5986, 6136, 3922, 9450, 9938, 6393, 6854, 423, 8194]\n",
      "排序后：[423, 980, 1512, 2028, 2137, 3922, 4273, 5193, 5986, 6136, 6290, 6393, 6854, 6883, 7399, 7551, 8194, 9450, 9938, 9954]\n"
     ]
    }
   ],
   "source": [
    "A = [random.randint(0, 10000) for index in range(20)]\n",
    "print('排序前：{}'.format(A))\n",
    "print('排序后：{}'.format(variable_length_num_sort(A)))"
   ]
  },
  {
   "cell_type": "markdown",
   "metadata": {
    "colab_type": "text",
    "id": "5tGL0HHjgQ_p"
   },
   "source": [
    "#### b. 不定长字符串的排序"
   ]
  },
  {
   "cell_type": "markdown",
   "metadata": {
    "colab_type": "text",
    "id": "TFVqNhj6wxbD"
   },
   "source": [
    "- 基本思路\n",
    "  1. 按照首字母将字符串放入 26 个桶中\n",
    "  2. 遍历各个桶，如果每个桶中的元素数目大于1，则去掉每个元素的首字母后，再继续步骤 1 中的操作\n",
    "  3. 实际操作时，可以用递归来简化代码书写。"
   ]
  },
  {
   "cell_type": "code",
   "execution_count": 10,
   "metadata": {
    "colab": {},
    "colab_type": "code",
    "id": "Pt9QLqFYg2eF"
   },
   "outputs": [],
   "source": [
    "def variable_length_string_sort(A, depth=1):\n",
    "  B =[[] for index in range(27)]  # 0 表示长度不符合当前要求\n",
    "  for item in A:\n",
    "    if len(item) >= depth:\n",
    "      B[ord(item[depth-1]) - ord('a') + 1].append(item)\n",
    "    else:\n",
    "      B[0].append(item)\n",
    "  for index in range(1, len(B)):  # python 的切片是浅拷贝，此外不能用 for item in B[1:]\n",
    "    if len(B[index]) > 1:\n",
    "      B[index] = variable_length_string_sort(B[index], depth + 1)\n",
    "  res = []\n",
    "  for item in B:\n",
    "    res += item\n",
    "  return res\n",
    "  "
   ]
  },
  {
   "cell_type": "code",
   "execution_count": 11,
   "metadata": {
    "colab": {
     "base_uri": "https://localhost:8080/",
     "height": 0
    },
    "colab_type": "code",
    "id": "h0nJgkdtoGLG",
    "outputId": "01670122-7e87-4b02-d76e-df99fa49e90c"
   },
   "outputs": [
    {
     "name": "stdout",
     "output_type": "stream",
     "text": [
      "['a', 'ab', 'abc', 'b', 'c', 'cde', 'xy', 'z', 'za']\n"
     ]
    }
   ],
   "source": [
    "A = ['z', 'xy', 'a', 'abc', 'ab', 'b', 'cde', 'c', 'za']\n",
    "print(variable_length_string_sort(A))"
   ]
  },
  {
   "cell_type": "markdown",
   "metadata": {
    "colab_type": "text",
    "id": "fhH-1Bp7mim2"
   },
   "source": [
    "### 8-4 水壶"
   ]
  },
  {
   "cell_type": "markdown",
   "metadata": {
    "colab_type": "text",
    "heading_collapsed": true,
    "id": "4WI6c_Otmlzt"
   },
   "source": [
    "#### a 确定性算法, $O(n^2)$ 内完成配对"
   ]
  },
  {
   "cell_type": "markdown",
   "metadata": {
    "colab_type": "text",
    "hidden": true,
    "id": "RQlOS2fcnCRv"
   },
   "source": [
    "- 基本思路  \n",
    "  - 采取暴力解法，即每次选中一个红色水壶，然后遍历蓝色水壶去寻找配对项\n",
    "  - 设共有 $n$ 对水壶，则最坏情况下的需要花费的时间为： $$T(n)=n + (n-1) + (n-2) + \\dots + 2 = O(n^2)$$"
   ]
  },
  {
   "cell_type": "markdown",
   "metadata": {
    "colab_type": "text",
    "hidden": true,
    "id": "URyP0x_LmyC_"
   },
   "source": [
    "- 代码实现  \n",
    "  - $R$ 表示红色水壶， $B$ 表示蓝色水壶，则根据限制条件，$R, B$ 中的元素本身不能相互比较，但是 $R, B$ 中的元素可以互相比较\n",
    "  - $R, B$ 中元素相同，但是顺序不同\n",
    "  - 程序运行结束后，$R$, $B$ 中的元素顺序完全相同，其中 $R$ 中的元素顺序保持不变，可以看做是确性性算法"
   ]
  },
  {
   "cell_type": "code",
   "execution_count": 12,
   "metadata": {
    "colab": {},
    "colab_type": "code",
    "hidden": true,
    "id": "d-4jlyBNn9rK"
   },
   "outputs": [],
   "source": [
    "def water_jugs_pairing_brute(R, B):\n",
    "  for i in range(len(R) - 1):\n",
    "    for j in range(i, len(B)):\n",
    "      if R[i] == B[j]:\n",
    "        B[i], B[j] = B[j], B[i]\n",
    "        break"
   ]
  },
  {
   "cell_type": "code",
   "execution_count": 13,
   "metadata": {
    "colab": {
     "base_uri": "https://localhost:8080/",
     "height": 118
    },
    "colab_type": "code",
    "hidden": true,
    "id": "dM0CfRPgrhdp",
    "outputId": "8bfda7b5-0e71-4637-b5d5-0f665e15a605"
   },
   "outputs": [
    {
     "name": "stdout",
     "output_type": "stream",
     "text": [
      "配对前:\n",
      " R = [70, 11, 57, 66, 47, 82, 98, 29, 87, 53] \n",
      " B = [29, 66, 11, 47, 82, 87, 98, 70, 53, 57]\n",
      "配对后:\n",
      " R = [70, 11, 57, 66, 47, 82, 98, 29, 87, 53] \n",
      " B = [70, 11, 57, 66, 47, 82, 98, 29, 87, 53]\n"
     ]
    }
   ],
   "source": [
    "R = random.sample(range(100), 10)\n",
    "B = random.sample(R, 10)\n",
    "print(\"配对前:\\n R = {} \\n B = {}\".format(R, B))\n",
    "water_jugs_pairing_brute(R, B)\n",
    "print(\"配对后:\\n R = {} \\n B = {}\".format(R, B))"
   ]
  },
  {
   "cell_type": "markdown",
   "metadata": {
    "colab_type": "text",
    "id": "gv8GTVEHrpB4"
   },
   "source": [
    "#### c. 确定性算法， 期望比较次数为 $O(nlgn)$"
   ]
  },
  {
   "cell_type": "markdown",
   "metadata": {
    "colab_type": "text",
    "id": "1RD_6MgUrvfI"
   },
   "source": [
    "- 基本思路  \n",
    "  1. 采用与快速排序类似的方法，从 $R$ 中随机选择主元，然后将 $B$ 中元素分为左右两组，左边的均小于主元，右边的均大于主元。中间位置的是 $B$ 中与 $R$ 中的主元相同的元素\n",
    "  2. 再用 1 中求得的 $B$ 中的主元元素去对 $R$ 中的元素进行分组\n",
    "  3. 递归的对左右数组分别运行1，2 中算法  \n",
    "    - 因为经过 1，2 步后， $R$ 中左边数组对应的匹配项一定会在 $B$ 中的左边数组中\n",
    "- 期望的比较次数是快排的两倍，但是其上界仍然为 $O(nlgn)$"
   ]
  },
  {
   "cell_type": "code",
   "execution_count": 16,
   "metadata": {
    "colab": {},
    "colab_type": "code",
    "id": "yvLwWJyDrMQK"
   },
   "outputs": [],
   "source": [
    "def partition(A, p, r, key):\n",
    "  \"\"\"按照选定的主元对数组分组\"\"\"\n",
    "  q = p - 1\n",
    "  for j in range(p, r+1):\n",
    "    if A[j] < key:\n",
    "      q += 1\n",
    "      A[q], A[j] = A[j], A[q]\n",
    "    elif A[j] == key:\n",
    "      q += 1\n",
    "      foo = A[j]\n",
    "      A[j] = A[q]\n",
    "      A[q] = A[p]\n",
    "      A[p] = foo\n",
    "  A[q], A[p] = A[p], A[q]\n",
    "  return q\n",
    "\n",
    "\n",
    "def water_jugs_pairing_quicksort(R, B, p, r):\n",
    "  \"\"\"按快排的思想寻找所有匹配的水壶\"\"\"\n",
    "  if p < r:\n",
    "    i = random.randint(p, r)\n",
    "    q = partition(B, p, r, R[i])  # 以 R 中的元素为主元对 B 进行分组\n",
    "    q = partition(R, p, r, B[q])  # 以 B 中的元素为主元对 R 进行分组\n",
    "    water_jugs_pairing_quicksort(R, B, p, q-1)\n",
    "    water_jugs_pairing_quicksort(R, B, q+1, r)"
   ]
  },
  {
   "cell_type": "code",
   "execution_count": 17,
   "metadata": {
    "colab": {
     "base_uri": "https://localhost:8080/",
     "height": 118
    },
    "colab_type": "code",
    "id": "XIhvYXhq1Bny",
    "outputId": "085dd96f-8c3b-42fb-e207-1298fa4ec03b"
   },
   "outputs": [
    {
     "name": "stdout",
     "output_type": "stream",
     "text": [
      "配对前:\n",
      " R = [99, 23, 93, 59, 35, 3, 56, 63, 50, 42] \n",
      " B = [93, 59, 42, 23, 35, 56, 50, 63, 99, 3]\n",
      "配对后:\n",
      " R = [3, 23, 35, 42, 50, 56, 59, 63, 93, 99] \n",
      " B = [3, 23, 35, 42, 50, 56, 59, 63, 93, 99]\n"
     ]
    }
   ],
   "source": [
    "size = 10\n",
    "R = random.sample(range(100), size)\n",
    "B = random.sample(R, size)\n",
    "print(\"配对前:\\n R = {} \\n B = {}\".format(R, B))\n",
    "water_jugs_pairing_quicksort(R, B, 0, len(R)-1)\n",
    "print(\"配对后:\\n R = {} \\n B = {}\".format(R, B))"
   ]
  },
  {
   "cell_type": "code",
   "execution_count": null,
   "metadata": {
    "colab": {},
    "colab_type": "code",
    "id": "LMSzmz9P1IAR"
   },
   "outputs": [],
   "source": []
  }
 ],
 "metadata": {
  "colab": {
   "name": "第  8 章： 线性时间排序.ipynb",
   "provenance": []
  },
  "kernelspec": {
   "display_name": "Python 3",
   "language": "python",
   "name": "python3"
  },
  "language_info": {
   "codemirror_mode": {
    "name": "ipython",
    "version": 3
   },
   "file_extension": ".py",
   "mimetype": "text/x-python",
   "name": "python",
   "nbconvert_exporter": "python",
   "pygments_lexer": "ipython3",
   "version": "3.7.3"
  }
 },
 "nbformat": 4,
 "nbformat_minor": 1
}
